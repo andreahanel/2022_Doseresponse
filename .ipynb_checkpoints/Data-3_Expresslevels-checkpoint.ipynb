{
 "cells": [
  {
   "cell_type": "code",
   "execution_count": 1,
   "id": "naval-rebel",
   "metadata": {},
   "outputs": [
    {
     "name": "stderr",
     "output_type": "stream",
     "text": [
      "Loading required package: limma\n",
      "\n",
      "── \u001b[1mAttaching packages\u001b[22m ────────────────────────────────────────────────────── tidyverse 1.3.1 ──\n",
      "\n",
      "\u001b[32m✔\u001b[39m \u001b[34mggplot2\u001b[39m 3.3.5     \u001b[32m✔\u001b[39m \u001b[34mpurrr  \u001b[39m 0.3.4\n",
      "\u001b[32m✔\u001b[39m \u001b[34mtibble \u001b[39m 3.1.6     \u001b[32m✔\u001b[39m \u001b[34mdplyr  \u001b[39m 1.0.7\n",
      "\u001b[32m✔\u001b[39m \u001b[34mtidyr  \u001b[39m 1.1.4     \u001b[32m✔\u001b[39m \u001b[34mstringr\u001b[39m 1.4.0\n",
      "\u001b[32m✔\u001b[39m \u001b[34mreadr  \u001b[39m 2.1.1     \u001b[32m✔\u001b[39m \u001b[34mforcats\u001b[39m 0.5.1\n",
      "\n",
      "── \u001b[1mConflicts\u001b[22m ───────────────────────────────────────────────────────── tidyverse_conflicts() ──\n",
      "\u001b[31m✖\u001b[39m \u001b[34mdplyr\u001b[39m::\u001b[32mfilter()\u001b[39m masks \u001b[34mstats\u001b[39m::filter()\n",
      "\u001b[31m✖\u001b[39m \u001b[34mdplyr\u001b[39m::\u001b[32mlag()\u001b[39m    masks \u001b[34mstats\u001b[39m::lag()\n",
      "\n",
      "\n",
      "Attaching package: ‘reshape2’\n",
      "\n",
      "\n",
      "The following object is masked from ‘package:tidyr’:\n",
      "\n",
      "    smiths\n",
      "\n",
      "\n"
     ]
    }
   ],
   "source": [
    "library (edgeR)\n",
    "library (tidyverse)\n",
    "library (openxlsx)\n",
    "library (ggrepel)\n",
    "library (reshape2)\n",
    "library (readr)\n",
    "library (eulerr)"
   ]
  },
  {
   "cell_type": "code",
   "execution_count": 2,
   "id": "lightweight-blade",
   "metadata": {},
   "outputs": [],
   "source": [
    "load(\"./data/workspace_stats.RData\")"
   ]
  },
  {
   "cell_type": "code",
   "execution_count": 3,
   "id": "ecological-parliament",
   "metadata": {},
   "outputs": [
    {
     "data": {
      "text/html": [
       "<table class=\"dataframe\">\n",
       "<caption>A data.frame: 6 × 72</caption>\n",
       "<thead>\n",
       "\t<tr><th></th><th scope=col>EtOH_x_04h_R1</th><th scope=col>EtOH_x_04h_R2</th><th scope=col>EtOH_x_04h_R3</th><th scope=col>EtOH_x_08h_R1</th><th scope=col>EtOH_x_08h_R2</th><th scope=col>EtOH_x_08h_R3</th><th scope=col>EtOH_x_24h_R1</th><th scope=col>EtOH_x_24h_R2</th><th scope=col>EtOH_x_24h_R3</th><th scope=col>V125D3_0.1nM_24h_R1</th><th scope=col>⋯</th><th scope=col>V25D3_100nM_24h_R3</th><th scope=col>V25D3_250nM_24h_R1</th><th scope=col>V25D3_250nM_24h_R2</th><th scope=col>V25D3_250nM_24h_R3</th><th scope=col>V25D3_500nM_24h_R1</th><th scope=col>V25D3_500nM_24h_R2</th><th scope=col>V25D3_500nM_24h_R3</th><th scope=col>V25D3_750nM_24h_R1</th><th scope=col>V25D3_750nM_24h_R2</th><th scope=col>V25D3_750nM_24h_R3</th></tr>\n",
       "\t<tr><th></th><th scope=col>&lt;dbl&gt;</th><th scope=col>&lt;dbl&gt;</th><th scope=col>&lt;dbl&gt;</th><th scope=col>&lt;dbl&gt;</th><th scope=col>&lt;dbl&gt;</th><th scope=col>&lt;dbl&gt;</th><th scope=col>&lt;dbl&gt;</th><th scope=col>&lt;dbl&gt;</th><th scope=col>&lt;dbl&gt;</th><th scope=col>&lt;dbl&gt;</th><th scope=col>⋯</th><th scope=col>&lt;dbl&gt;</th><th scope=col>&lt;dbl&gt;</th><th scope=col>&lt;dbl&gt;</th><th scope=col>&lt;dbl&gt;</th><th scope=col>&lt;dbl&gt;</th><th scope=col>&lt;dbl&gt;</th><th scope=col>&lt;dbl&gt;</th><th scope=col>&lt;dbl&gt;</th><th scope=col>&lt;dbl&gt;</th><th scope=col>&lt;dbl&gt;</th></tr>\n",
       "</thead>\n",
       "<tbody>\n",
       "\t<tr><th scope=row>EEF1A1</th><td> 9406.359</td><td> 9434.708</td><td>9694.522</td><td> 7952.811</td><td> 8018.488</td><td>8499.660</td><td>8472.716</td><td>7972.028</td><td>7498.353</td><td>7350.706</td><td>⋯</td><td>7757.838</td><td>7344.551</td><td>7178.236</td><td>7443.314</td><td>7575.4688</td><td>7071.0996</td><td>6996.4823</td><td>7302.5464</td><td>7879.8031</td><td>6830.0894</td></tr>\n",
       "\t<tr><th scope=row>THBS1</th><td>10449.743</td><td>10368.835</td><td>9228.114</td><td>10843.912</td><td>10759.947</td><td>8911.139</td><td>3017.506</td><td>2423.101</td><td>3250.649</td><td>7669.821</td><td>⋯</td><td>4613.187</td><td>5532.477</td><td>3188.302</td><td>4189.775</td><td> 237.0431</td><td> 362.8622</td><td> 321.1234</td><td> 226.9244</td><td> 252.4113</td><td> 192.5633</td></tr>\n",
       "\t<tr><th scope=row>AHNAK</th><td> 4732.508</td><td> 4709.171</td><td>4679.991</td><td> 4625.838</td><td> 4638.687</td><td>5128.177</td><td>4512.248</td><td>4348.221</td><td>5086.524</td><td>4491.237</td><td>⋯</td><td>4056.522</td><td>4020.729</td><td>3783.163</td><td>3839.254</td><td>3313.4445</td><td>3127.9643</td><td>2977.3144</td><td>2909.2575</td><td>3036.0181</td><td>3003.6327</td></tr>\n",
       "\t<tr><th scope=row>ACTB</th><td> 3344.395</td><td> 3218.897</td><td>3382.429</td><td> 3623.009</td><td> 3591.972</td><td>3505.324</td><td>7655.780</td><td>6276.812</td><td>5684.049</td><td>5302.296</td><td>⋯</td><td>7618.311</td><td>6615.848</td><td>4906.893</td><td>5964.563</td><td>2823.2025</td><td>2602.1646</td><td>2593.3126</td><td>2584.2205</td><td>2559.3665</td><td>2488.2601</td></tr>\n",
       "\t<tr><th scope=row>HLA-B</th><td> 3802.211</td><td> 3941.598</td><td>4111.597</td><td> 3308.899</td><td> 3315.666</td><td>3631.351</td><td>3847.686</td><td>3522.085</td><td>3307.955</td><td>3142.012</td><td>⋯</td><td>3814.017</td><td>3511.129</td><td>3432.468</td><td>3703.041</td><td>3400.6047</td><td>3305.1649</td><td>3220.2605</td><td>3397.7464</td><td>3405.2983</td><td>3346.8206</td></tr>\n",
       "\t<tr><th scope=row>FTH1</th><td> 3609.342</td><td> 3499.742</td><td>3623.428</td><td> 3772.929</td><td> 3783.854</td><td>3951.460</td><td>6351.330</td><td>5299.286</td><td>5212.725</td><td>4705.209</td><td>⋯</td><td>5608.774</td><td>5062.477</td><td>4009.103</td><td>5170.766</td><td>2065.9135</td><td>2115.5279</td><td>2033.6797</td><td>1751.5076</td><td>1937.5140</td><td>1619.3626</td></tr>\n",
       "</tbody>\n",
       "</table>\n"
      ],
      "text/latex": [
       "A data.frame: 6 × 72\n",
       "\\begin{tabular}{r|lllllllllllllllllllll}\n",
       "  & EtOH\\_x\\_04h\\_R1 & EtOH\\_x\\_04h\\_R2 & EtOH\\_x\\_04h\\_R3 & EtOH\\_x\\_08h\\_R1 & EtOH\\_x\\_08h\\_R2 & EtOH\\_x\\_08h\\_R3 & EtOH\\_x\\_24h\\_R1 & EtOH\\_x\\_24h\\_R2 & EtOH\\_x\\_24h\\_R3 & V125D3\\_0.1nM\\_24h\\_R1 & ⋯ & V25D3\\_100nM\\_24h\\_R3 & V25D3\\_250nM\\_24h\\_R1 & V25D3\\_250nM\\_24h\\_R2 & V25D3\\_250nM\\_24h\\_R3 & V25D3\\_500nM\\_24h\\_R1 & V25D3\\_500nM\\_24h\\_R2 & V25D3\\_500nM\\_24h\\_R3 & V25D3\\_750nM\\_24h\\_R1 & V25D3\\_750nM\\_24h\\_R2 & V25D3\\_750nM\\_24h\\_R3\\\\\n",
       "  & <dbl> & <dbl> & <dbl> & <dbl> & <dbl> & <dbl> & <dbl> & <dbl> & <dbl> & <dbl> & ⋯ & <dbl> & <dbl> & <dbl> & <dbl> & <dbl> & <dbl> & <dbl> & <dbl> & <dbl> & <dbl>\\\\\n",
       "\\hline\n",
       "\tEEF1A1 &  9406.359 &  9434.708 & 9694.522 &  7952.811 &  8018.488 & 8499.660 & 8472.716 & 7972.028 & 7498.353 & 7350.706 & ⋯ & 7757.838 & 7344.551 & 7178.236 & 7443.314 & 7575.4688 & 7071.0996 & 6996.4823 & 7302.5464 & 7879.8031 & 6830.0894\\\\\n",
       "\tTHBS1 & 10449.743 & 10368.835 & 9228.114 & 10843.912 & 10759.947 & 8911.139 & 3017.506 & 2423.101 & 3250.649 & 7669.821 & ⋯ & 4613.187 & 5532.477 & 3188.302 & 4189.775 &  237.0431 &  362.8622 &  321.1234 &  226.9244 &  252.4113 &  192.5633\\\\\n",
       "\tAHNAK &  4732.508 &  4709.171 & 4679.991 &  4625.838 &  4638.687 & 5128.177 & 4512.248 & 4348.221 & 5086.524 & 4491.237 & ⋯ & 4056.522 & 4020.729 & 3783.163 & 3839.254 & 3313.4445 & 3127.9643 & 2977.3144 & 2909.2575 & 3036.0181 & 3003.6327\\\\\n",
       "\tACTB &  3344.395 &  3218.897 & 3382.429 &  3623.009 &  3591.972 & 3505.324 & 7655.780 & 6276.812 & 5684.049 & 5302.296 & ⋯ & 7618.311 & 6615.848 & 4906.893 & 5964.563 & 2823.2025 & 2602.1646 & 2593.3126 & 2584.2205 & 2559.3665 & 2488.2601\\\\\n",
       "\tHLA-B &  3802.211 &  3941.598 & 4111.597 &  3308.899 &  3315.666 & 3631.351 & 3847.686 & 3522.085 & 3307.955 & 3142.012 & ⋯ & 3814.017 & 3511.129 & 3432.468 & 3703.041 & 3400.6047 & 3305.1649 & 3220.2605 & 3397.7464 & 3405.2983 & 3346.8206\\\\\n",
       "\tFTH1 &  3609.342 &  3499.742 & 3623.428 &  3772.929 &  3783.854 & 3951.460 & 6351.330 & 5299.286 & 5212.725 & 4705.209 & ⋯ & 5608.774 & 5062.477 & 4009.103 & 5170.766 & 2065.9135 & 2115.5279 & 2033.6797 & 1751.5076 & 1937.5140 & 1619.3626\\\\\n",
       "\\end{tabular}\n"
      ],
      "text/markdown": [
       "\n",
       "A data.frame: 6 × 72\n",
       "\n",
       "| <!--/--> | EtOH_x_04h_R1 &lt;dbl&gt; | EtOH_x_04h_R2 &lt;dbl&gt; | EtOH_x_04h_R3 &lt;dbl&gt; | EtOH_x_08h_R1 &lt;dbl&gt; | EtOH_x_08h_R2 &lt;dbl&gt; | EtOH_x_08h_R3 &lt;dbl&gt; | EtOH_x_24h_R1 &lt;dbl&gt; | EtOH_x_24h_R2 &lt;dbl&gt; | EtOH_x_24h_R3 &lt;dbl&gt; | V125D3_0.1nM_24h_R1 &lt;dbl&gt; | ⋯ ⋯ | V25D3_100nM_24h_R3 &lt;dbl&gt; | V25D3_250nM_24h_R1 &lt;dbl&gt; | V25D3_250nM_24h_R2 &lt;dbl&gt; | V25D3_250nM_24h_R3 &lt;dbl&gt; | V25D3_500nM_24h_R1 &lt;dbl&gt; | V25D3_500nM_24h_R2 &lt;dbl&gt; | V25D3_500nM_24h_R3 &lt;dbl&gt; | V25D3_750nM_24h_R1 &lt;dbl&gt; | V25D3_750nM_24h_R2 &lt;dbl&gt; | V25D3_750nM_24h_R3 &lt;dbl&gt; |\n",
       "|---|---|---|---|---|---|---|---|---|---|---|---|---|---|---|---|---|---|---|---|---|---|\n",
       "| EEF1A1 |  9406.359 |  9434.708 | 9694.522 |  7952.811 |  8018.488 | 8499.660 | 8472.716 | 7972.028 | 7498.353 | 7350.706 | ⋯ | 7757.838 | 7344.551 | 7178.236 | 7443.314 | 7575.4688 | 7071.0996 | 6996.4823 | 7302.5464 | 7879.8031 | 6830.0894 |\n",
       "| THBS1 | 10449.743 | 10368.835 | 9228.114 | 10843.912 | 10759.947 | 8911.139 | 3017.506 | 2423.101 | 3250.649 | 7669.821 | ⋯ | 4613.187 | 5532.477 | 3188.302 | 4189.775 |  237.0431 |  362.8622 |  321.1234 |  226.9244 |  252.4113 |  192.5633 |\n",
       "| AHNAK |  4732.508 |  4709.171 | 4679.991 |  4625.838 |  4638.687 | 5128.177 | 4512.248 | 4348.221 | 5086.524 | 4491.237 | ⋯ | 4056.522 | 4020.729 | 3783.163 | 3839.254 | 3313.4445 | 3127.9643 | 2977.3144 | 2909.2575 | 3036.0181 | 3003.6327 |\n",
       "| ACTB |  3344.395 |  3218.897 | 3382.429 |  3623.009 |  3591.972 | 3505.324 | 7655.780 | 6276.812 | 5684.049 | 5302.296 | ⋯ | 7618.311 | 6615.848 | 4906.893 | 5964.563 | 2823.2025 | 2602.1646 | 2593.3126 | 2584.2205 | 2559.3665 | 2488.2601 |\n",
       "| HLA-B |  3802.211 |  3941.598 | 4111.597 |  3308.899 |  3315.666 | 3631.351 | 3847.686 | 3522.085 | 3307.955 | 3142.012 | ⋯ | 3814.017 | 3511.129 | 3432.468 | 3703.041 | 3400.6047 | 3305.1649 | 3220.2605 | 3397.7464 | 3405.2983 | 3346.8206 |\n",
       "| FTH1 |  3609.342 |  3499.742 | 3623.428 |  3772.929 |  3783.854 | 3951.460 | 6351.330 | 5299.286 | 5212.725 | 4705.209 | ⋯ | 5608.774 | 5062.477 | 4009.103 | 5170.766 | 2065.9135 | 2115.5279 | 2033.6797 | 1751.5076 | 1937.5140 | 1619.3626 |\n",
       "\n"
      ],
      "text/plain": [
       "       EtOH_x_04h_R1 EtOH_x_04h_R2 EtOH_x_04h_R3 EtOH_x_08h_R1 EtOH_x_08h_R2\n",
       "EEF1A1  9406.359      9434.708     9694.522       7952.811      8018.488    \n",
       "THBS1  10449.743     10368.835     9228.114      10843.912     10759.947    \n",
       "AHNAK   4732.508      4709.171     4679.991       4625.838      4638.687    \n",
       "ACTB    3344.395      3218.897     3382.429       3623.009      3591.972    \n",
       "HLA-B   3802.211      3941.598     4111.597       3308.899      3315.666    \n",
       "FTH1    3609.342      3499.742     3623.428       3772.929      3783.854    \n",
       "       EtOH_x_08h_R3 EtOH_x_24h_R1 EtOH_x_24h_R2 EtOH_x_24h_R3\n",
       "EEF1A1 8499.660      8472.716      7972.028      7498.353     \n",
       "THBS1  8911.139      3017.506      2423.101      3250.649     \n",
       "AHNAK  5128.177      4512.248      4348.221      5086.524     \n",
       "ACTB   3505.324      7655.780      6276.812      5684.049     \n",
       "HLA-B  3631.351      3847.686      3522.085      3307.955     \n",
       "FTH1   3951.460      6351.330      5299.286      5212.725     \n",
       "       V125D3_0.1nM_24h_R1 ⋯ V25D3_100nM_24h_R3 V25D3_250nM_24h_R1\n",
       "EEF1A1 7350.706            ⋯ 7757.838           7344.551          \n",
       "THBS1  7669.821            ⋯ 4613.187           5532.477          \n",
       "AHNAK  4491.237            ⋯ 4056.522           4020.729          \n",
       "ACTB   5302.296            ⋯ 7618.311           6615.848          \n",
       "HLA-B  3142.012            ⋯ 3814.017           3511.129          \n",
       "FTH1   4705.209            ⋯ 5608.774           5062.477          \n",
       "       V25D3_250nM_24h_R2 V25D3_250nM_24h_R3 V25D3_500nM_24h_R1\n",
       "EEF1A1 7178.236           7443.314           7575.4688         \n",
       "THBS1  3188.302           4189.775            237.0431         \n",
       "AHNAK  3783.163           3839.254           3313.4445         \n",
       "ACTB   4906.893           5964.563           2823.2025         \n",
       "HLA-B  3432.468           3703.041           3400.6047         \n",
       "FTH1   4009.103           5170.766           2065.9135         \n",
       "       V25D3_500nM_24h_R2 V25D3_500nM_24h_R3 V25D3_750nM_24h_R1\n",
       "EEF1A1 7071.0996          6996.4823          7302.5464         \n",
       "THBS1   362.8622           321.1234           226.9244         \n",
       "AHNAK  3127.9643          2977.3144          2909.2575         \n",
       "ACTB   2602.1646          2593.3126          2584.2205         \n",
       "HLA-B  3305.1649          3220.2605          3397.7464         \n",
       "FTH1   2115.5279          2033.6797          1751.5076         \n",
       "       V25D3_750nM_24h_R2 V25D3_750nM_24h_R3\n",
       "EEF1A1 7879.8031          6830.0894         \n",
       "THBS1   252.4113           192.5633         \n",
       "AHNAK  3036.0181          3003.6327         \n",
       "ACTB   2559.3665          2488.2601         \n",
       "HLA-B  3405.2983          3346.8206         \n",
       "FTH1   1937.5140          1619.3626         "
      ]
     },
     "metadata": {},
     "output_type": "display_data"
    },
    {
     "data": {
      "text/html": [
       "<style>\n",
       ".list-inline {list-style: none; margin:0; padding: 0}\n",
       ".list-inline>li {display: inline-block}\n",
       ".list-inline>li:not(:last-child)::after {content: \"\\00b7\"; padding: 0 .5ex}\n",
       "</style>\n",
       "<ol class=list-inline><li>12939</li><li>72</li></ol>\n"
      ],
      "text/latex": [
       "\\begin{enumerate*}\n",
       "\\item 12939\n",
       "\\item 72\n",
       "\\end{enumerate*}\n"
      ],
      "text/markdown": [
       "1. 12939\n",
       "2. 72\n",
       "\n",
       "\n"
      ],
      "text/plain": [
       "[1] 12939    72"
      ]
     },
     "metadata": {},
     "output_type": "display_data"
    }
   ],
   "source": [
    "z3 <- as.data.frame(a)\n",
    "head (z3)\n",
    "\n",
    "dim (z3)"
   ]
  },
  {
   "cell_type": "code",
   "execution_count": 4,
   "id": "thick-contrary",
   "metadata": {},
   "outputs": [],
   "source": [
    "z31 = z3 %>%\n",
    "rownames_to_column (\"symbol\")"
   ]
  },
  {
   "cell_type": "code",
   "execution_count": 5,
   "id": "laden-complex",
   "metadata": {},
   "outputs": [
    {
     "data": {
      "text/html": [
       "<table class=\"dataframe\">\n",
       "<caption>A data.frame: 6 × 73</caption>\n",
       "<thead>\n",
       "\t<tr><th></th><th scope=col>symbol</th><th scope=col>EtOH_x_04h_R1</th><th scope=col>EtOH_x_04h_R2</th><th scope=col>EtOH_x_04h_R3</th><th scope=col>EtOH_x_08h_R1</th><th scope=col>EtOH_x_08h_R2</th><th scope=col>EtOH_x_08h_R3</th><th scope=col>EtOH_x_24h_R1</th><th scope=col>EtOH_x_24h_R2</th><th scope=col>EtOH_x_24h_R3</th><th scope=col>⋯</th><th scope=col>V25D3_100nM_24h_R3</th><th scope=col>V25D3_250nM_24h_R1</th><th scope=col>V25D3_250nM_24h_R2</th><th scope=col>V25D3_250nM_24h_R3</th><th scope=col>V25D3_500nM_24h_R1</th><th scope=col>V25D3_500nM_24h_R2</th><th scope=col>V25D3_500nM_24h_R3</th><th scope=col>V25D3_750nM_24h_R1</th><th scope=col>V25D3_750nM_24h_R2</th><th scope=col>V25D3_750nM_24h_R3</th></tr>\n",
       "\t<tr><th></th><th scope=col>&lt;chr&gt;</th><th scope=col>&lt;dbl&gt;</th><th scope=col>&lt;dbl&gt;</th><th scope=col>&lt;dbl&gt;</th><th scope=col>&lt;dbl&gt;</th><th scope=col>&lt;dbl&gt;</th><th scope=col>&lt;dbl&gt;</th><th scope=col>&lt;dbl&gt;</th><th scope=col>&lt;dbl&gt;</th><th scope=col>&lt;dbl&gt;</th><th scope=col>⋯</th><th scope=col>&lt;dbl&gt;</th><th scope=col>&lt;dbl&gt;</th><th scope=col>&lt;dbl&gt;</th><th scope=col>&lt;dbl&gt;</th><th scope=col>&lt;dbl&gt;</th><th scope=col>&lt;dbl&gt;</th><th scope=col>&lt;dbl&gt;</th><th scope=col>&lt;dbl&gt;</th><th scope=col>&lt;dbl&gt;</th><th scope=col>&lt;dbl&gt;</th></tr>\n",
       "</thead>\n",
       "<tbody>\n",
       "\t<tr><th scope=row>1</th><td>EEF1A1</td><td> 9406.359</td><td> 9434.708</td><td>9694.522</td><td> 7952.811</td><td> 8018.488</td><td>8499.660</td><td>8472.716</td><td>7972.028</td><td>7498.353</td><td>⋯</td><td>7757.838</td><td>7344.551</td><td>7178.236</td><td>7443.314</td><td>7575.4688</td><td>7071.0996</td><td>6996.4823</td><td>7302.5464</td><td>7879.8031</td><td>6830.0894</td></tr>\n",
       "\t<tr><th scope=row>2</th><td>THBS1 </td><td>10449.743</td><td>10368.835</td><td>9228.114</td><td>10843.912</td><td>10759.947</td><td>8911.139</td><td>3017.506</td><td>2423.101</td><td>3250.649</td><td>⋯</td><td>4613.187</td><td>5532.477</td><td>3188.302</td><td>4189.775</td><td> 237.0431</td><td> 362.8622</td><td> 321.1234</td><td> 226.9244</td><td> 252.4113</td><td> 192.5633</td></tr>\n",
       "\t<tr><th scope=row>3</th><td>AHNAK </td><td> 4732.508</td><td> 4709.171</td><td>4679.991</td><td> 4625.838</td><td> 4638.687</td><td>5128.177</td><td>4512.248</td><td>4348.221</td><td>5086.524</td><td>⋯</td><td>4056.522</td><td>4020.729</td><td>3783.163</td><td>3839.254</td><td>3313.4445</td><td>3127.9643</td><td>2977.3144</td><td>2909.2575</td><td>3036.0181</td><td>3003.6327</td></tr>\n",
       "\t<tr><th scope=row>4</th><td>ACTB  </td><td> 3344.395</td><td> 3218.897</td><td>3382.429</td><td> 3623.009</td><td> 3591.972</td><td>3505.324</td><td>7655.780</td><td>6276.812</td><td>5684.049</td><td>⋯</td><td>7618.311</td><td>6615.848</td><td>4906.893</td><td>5964.563</td><td>2823.2025</td><td>2602.1646</td><td>2593.3126</td><td>2584.2205</td><td>2559.3665</td><td>2488.2601</td></tr>\n",
       "\t<tr><th scope=row>5</th><td>HLA-B </td><td> 3802.211</td><td> 3941.598</td><td>4111.597</td><td> 3308.899</td><td> 3315.666</td><td>3631.351</td><td>3847.686</td><td>3522.085</td><td>3307.955</td><td>⋯</td><td>3814.017</td><td>3511.129</td><td>3432.468</td><td>3703.041</td><td>3400.6047</td><td>3305.1649</td><td>3220.2605</td><td>3397.7464</td><td>3405.2983</td><td>3346.8206</td></tr>\n",
       "\t<tr><th scope=row>6</th><td>FTH1  </td><td> 3609.342</td><td> 3499.742</td><td>3623.428</td><td> 3772.929</td><td> 3783.854</td><td>3951.460</td><td>6351.330</td><td>5299.286</td><td>5212.725</td><td>⋯</td><td>5608.774</td><td>5062.477</td><td>4009.103</td><td>5170.766</td><td>2065.9135</td><td>2115.5279</td><td>2033.6797</td><td>1751.5076</td><td>1937.5140</td><td>1619.3626</td></tr>\n",
       "</tbody>\n",
       "</table>\n"
      ],
      "text/latex": [
       "A data.frame: 6 × 73\n",
       "\\begin{tabular}{r|lllllllllllllllllllll}\n",
       "  & symbol & EtOH\\_x\\_04h\\_R1 & EtOH\\_x\\_04h\\_R2 & EtOH\\_x\\_04h\\_R3 & EtOH\\_x\\_08h\\_R1 & EtOH\\_x\\_08h\\_R2 & EtOH\\_x\\_08h\\_R3 & EtOH\\_x\\_24h\\_R1 & EtOH\\_x\\_24h\\_R2 & EtOH\\_x\\_24h\\_R3 & ⋯ & V25D3\\_100nM\\_24h\\_R3 & V25D3\\_250nM\\_24h\\_R1 & V25D3\\_250nM\\_24h\\_R2 & V25D3\\_250nM\\_24h\\_R3 & V25D3\\_500nM\\_24h\\_R1 & V25D3\\_500nM\\_24h\\_R2 & V25D3\\_500nM\\_24h\\_R3 & V25D3\\_750nM\\_24h\\_R1 & V25D3\\_750nM\\_24h\\_R2 & V25D3\\_750nM\\_24h\\_R3\\\\\n",
       "  & <chr> & <dbl> & <dbl> & <dbl> & <dbl> & <dbl> & <dbl> & <dbl> & <dbl> & <dbl> & ⋯ & <dbl> & <dbl> & <dbl> & <dbl> & <dbl> & <dbl> & <dbl> & <dbl> & <dbl> & <dbl>\\\\\n",
       "\\hline\n",
       "\t1 & EEF1A1 &  9406.359 &  9434.708 & 9694.522 &  7952.811 &  8018.488 & 8499.660 & 8472.716 & 7972.028 & 7498.353 & ⋯ & 7757.838 & 7344.551 & 7178.236 & 7443.314 & 7575.4688 & 7071.0996 & 6996.4823 & 7302.5464 & 7879.8031 & 6830.0894\\\\\n",
       "\t2 & THBS1  & 10449.743 & 10368.835 & 9228.114 & 10843.912 & 10759.947 & 8911.139 & 3017.506 & 2423.101 & 3250.649 & ⋯ & 4613.187 & 5532.477 & 3188.302 & 4189.775 &  237.0431 &  362.8622 &  321.1234 &  226.9244 &  252.4113 &  192.5633\\\\\n",
       "\t3 & AHNAK  &  4732.508 &  4709.171 & 4679.991 &  4625.838 &  4638.687 & 5128.177 & 4512.248 & 4348.221 & 5086.524 & ⋯ & 4056.522 & 4020.729 & 3783.163 & 3839.254 & 3313.4445 & 3127.9643 & 2977.3144 & 2909.2575 & 3036.0181 & 3003.6327\\\\\n",
       "\t4 & ACTB   &  3344.395 &  3218.897 & 3382.429 &  3623.009 &  3591.972 & 3505.324 & 7655.780 & 6276.812 & 5684.049 & ⋯ & 7618.311 & 6615.848 & 4906.893 & 5964.563 & 2823.2025 & 2602.1646 & 2593.3126 & 2584.2205 & 2559.3665 & 2488.2601\\\\\n",
       "\t5 & HLA-B  &  3802.211 &  3941.598 & 4111.597 &  3308.899 &  3315.666 & 3631.351 & 3847.686 & 3522.085 & 3307.955 & ⋯ & 3814.017 & 3511.129 & 3432.468 & 3703.041 & 3400.6047 & 3305.1649 & 3220.2605 & 3397.7464 & 3405.2983 & 3346.8206\\\\\n",
       "\t6 & FTH1   &  3609.342 &  3499.742 & 3623.428 &  3772.929 &  3783.854 & 3951.460 & 6351.330 & 5299.286 & 5212.725 & ⋯ & 5608.774 & 5062.477 & 4009.103 & 5170.766 & 2065.9135 & 2115.5279 & 2033.6797 & 1751.5076 & 1937.5140 & 1619.3626\\\\\n",
       "\\end{tabular}\n"
      ],
      "text/markdown": [
       "\n",
       "A data.frame: 6 × 73\n",
       "\n",
       "| <!--/--> | symbol &lt;chr&gt; | EtOH_x_04h_R1 &lt;dbl&gt; | EtOH_x_04h_R2 &lt;dbl&gt; | EtOH_x_04h_R3 &lt;dbl&gt; | EtOH_x_08h_R1 &lt;dbl&gt; | EtOH_x_08h_R2 &lt;dbl&gt; | EtOH_x_08h_R3 &lt;dbl&gt; | EtOH_x_24h_R1 &lt;dbl&gt; | EtOH_x_24h_R2 &lt;dbl&gt; | EtOH_x_24h_R3 &lt;dbl&gt; | ⋯ ⋯ | V25D3_100nM_24h_R3 &lt;dbl&gt; | V25D3_250nM_24h_R1 &lt;dbl&gt; | V25D3_250nM_24h_R2 &lt;dbl&gt; | V25D3_250nM_24h_R3 &lt;dbl&gt; | V25D3_500nM_24h_R1 &lt;dbl&gt; | V25D3_500nM_24h_R2 &lt;dbl&gt; | V25D3_500nM_24h_R3 &lt;dbl&gt; | V25D3_750nM_24h_R1 &lt;dbl&gt; | V25D3_750nM_24h_R2 &lt;dbl&gt; | V25D3_750nM_24h_R3 &lt;dbl&gt; |\n",
       "|---|---|---|---|---|---|---|---|---|---|---|---|---|---|---|---|---|---|---|---|---|---|\n",
       "| 1 | EEF1A1 |  9406.359 |  9434.708 | 9694.522 |  7952.811 |  8018.488 | 8499.660 | 8472.716 | 7972.028 | 7498.353 | ⋯ | 7757.838 | 7344.551 | 7178.236 | 7443.314 | 7575.4688 | 7071.0996 | 6996.4823 | 7302.5464 | 7879.8031 | 6830.0894 |\n",
       "| 2 | THBS1  | 10449.743 | 10368.835 | 9228.114 | 10843.912 | 10759.947 | 8911.139 | 3017.506 | 2423.101 | 3250.649 | ⋯ | 4613.187 | 5532.477 | 3188.302 | 4189.775 |  237.0431 |  362.8622 |  321.1234 |  226.9244 |  252.4113 |  192.5633 |\n",
       "| 3 | AHNAK  |  4732.508 |  4709.171 | 4679.991 |  4625.838 |  4638.687 | 5128.177 | 4512.248 | 4348.221 | 5086.524 | ⋯ | 4056.522 | 4020.729 | 3783.163 | 3839.254 | 3313.4445 | 3127.9643 | 2977.3144 | 2909.2575 | 3036.0181 | 3003.6327 |\n",
       "| 4 | ACTB   |  3344.395 |  3218.897 | 3382.429 |  3623.009 |  3591.972 | 3505.324 | 7655.780 | 6276.812 | 5684.049 | ⋯ | 7618.311 | 6615.848 | 4906.893 | 5964.563 | 2823.2025 | 2602.1646 | 2593.3126 | 2584.2205 | 2559.3665 | 2488.2601 |\n",
       "| 5 | HLA-B  |  3802.211 |  3941.598 | 4111.597 |  3308.899 |  3315.666 | 3631.351 | 3847.686 | 3522.085 | 3307.955 | ⋯ | 3814.017 | 3511.129 | 3432.468 | 3703.041 | 3400.6047 | 3305.1649 | 3220.2605 | 3397.7464 | 3405.2983 | 3346.8206 |\n",
       "| 6 | FTH1   |  3609.342 |  3499.742 | 3623.428 |  3772.929 |  3783.854 | 3951.460 | 6351.330 | 5299.286 | 5212.725 | ⋯ | 5608.774 | 5062.477 | 4009.103 | 5170.766 | 2065.9135 | 2115.5279 | 2033.6797 | 1751.5076 | 1937.5140 | 1619.3626 |\n",
       "\n"
      ],
      "text/plain": [
       "  symbol EtOH_x_04h_R1 EtOH_x_04h_R2 EtOH_x_04h_R3 EtOH_x_08h_R1 EtOH_x_08h_R2\n",
       "1 EEF1A1  9406.359      9434.708     9694.522       7952.811      8018.488    \n",
       "2 THBS1  10449.743     10368.835     9228.114      10843.912     10759.947    \n",
       "3 AHNAK   4732.508      4709.171     4679.991       4625.838      4638.687    \n",
       "4 ACTB    3344.395      3218.897     3382.429       3623.009      3591.972    \n",
       "5 HLA-B   3802.211      3941.598     4111.597       3308.899      3315.666    \n",
       "6 FTH1    3609.342      3499.742     3623.428       3772.929      3783.854    \n",
       "  EtOH_x_08h_R3 EtOH_x_24h_R1 EtOH_x_24h_R2 EtOH_x_24h_R3 ⋯ V25D3_100nM_24h_R3\n",
       "1 8499.660      8472.716      7972.028      7498.353      ⋯ 7757.838          \n",
       "2 8911.139      3017.506      2423.101      3250.649      ⋯ 4613.187          \n",
       "3 5128.177      4512.248      4348.221      5086.524      ⋯ 4056.522          \n",
       "4 3505.324      7655.780      6276.812      5684.049      ⋯ 7618.311          \n",
       "5 3631.351      3847.686      3522.085      3307.955      ⋯ 3814.017          \n",
       "6 3951.460      6351.330      5299.286      5212.725      ⋯ 5608.774          \n",
       "  V25D3_250nM_24h_R1 V25D3_250nM_24h_R2 V25D3_250nM_24h_R3 V25D3_500nM_24h_R1\n",
       "1 7344.551           7178.236           7443.314           7575.4688         \n",
       "2 5532.477           3188.302           4189.775            237.0431         \n",
       "3 4020.729           3783.163           3839.254           3313.4445         \n",
       "4 6615.848           4906.893           5964.563           2823.2025         \n",
       "5 3511.129           3432.468           3703.041           3400.6047         \n",
       "6 5062.477           4009.103           5170.766           2065.9135         \n",
       "  V25D3_500nM_24h_R2 V25D3_500nM_24h_R3 V25D3_750nM_24h_R1 V25D3_750nM_24h_R2\n",
       "1 7071.0996          6996.4823          7302.5464          7879.8031         \n",
       "2  362.8622           321.1234           226.9244           252.4113         \n",
       "3 3127.9643          2977.3144          2909.2575          3036.0181         \n",
       "4 2602.1646          2593.3126          2584.2205          2559.3665         \n",
       "5 3305.1649          3220.2605          3397.7464          3405.2983         \n",
       "6 2115.5279          2033.6797          1751.5076          1937.5140         \n",
       "  V25D3_750nM_24h_R3\n",
       "1 6830.0894         \n",
       "2  192.5633         \n",
       "3 3003.6327         \n",
       "4 2488.2601         \n",
       "5 3346.8206         \n",
       "6 1619.3626         "
      ]
     },
     "metadata": {},
     "output_type": "display_data"
    }
   ],
   "source": [
    "head (z31)"
   ]
  },
  {
   "cell_type": "code",
   "execution_count": 6,
   "id": "f8978010-138e-4bb9-80dc-d6586b328c78",
   "metadata": {},
   "outputs": [],
   "source": [
    "#str(z31, list.len=ncol(z31))"
   ]
  },
  {
   "cell_type": "code",
   "execution_count": 7,
   "id": "choice-marijuana",
   "metadata": {},
   "outputs": [],
   "source": [
    "#write.table (z31, \"./data/expressiontable_nonlog.tsv\", sep = '\\t', row.names =F)"
   ]
  },
  {
   "cell_type": "code",
   "execution_count": 8,
   "id": "lonely-greensboro",
   "metadata": {},
   "outputs": [],
   "source": [
    "colnames(z3) <- paste(sampleinfo$compound, sampleinfo$concentration, sampleinfo$time, sampleinfo$replicate, sep = \"_\" )\n",
    "colnames(z3) <- gsub(\"_x\",\"\",as.character(colnames(z3)))\n",
    "#colnames(z3)"
   ]
  },
  {
   "cell_type": "code",
   "execution_count": 9,
   "id": "5c899ab5-9873-41e8-8b51-355bcbb862dc",
   "metadata": {},
   "outputs": [],
   "source": [
    "reihenfolge = read.table (\"./data/reihenfolge_samples.txt\", sep = \"\\t\", header = T)"
   ]
  },
  {
   "cell_type": "code",
   "execution_count": 10,
   "id": "36382d0b-7b50-46a4-8274-91f437755635",
   "metadata": {},
   "outputs": [
    {
     "data": {
      "text/html": [
       "<table class=\"dataframe\">\n",
       "<caption>A data.frame: 6 × 2</caption>\n",
       "<thead>\n",
       "\t<tr><th></th><th scope=col>sample</th><th scope=col>sample_final</th></tr>\n",
       "\t<tr><th></th><th scope=col>&lt;chr&gt;</th><th scope=col>&lt;chr&gt;</th></tr>\n",
       "</thead>\n",
       "<tbody>\n",
       "\t<tr><th scope=row>1</th><td>EtOH_04h_R1</td><td>EtOH_04h_R1</td></tr>\n",
       "\t<tr><th scope=row>2</th><td>EtOH_04h_R2</td><td>EtOH_04h_R2</td></tr>\n",
       "\t<tr><th scope=row>3</th><td>EtOH_04h_R3</td><td>EtOH_04h_R3</td></tr>\n",
       "\t<tr><th scope=row>4</th><td>EtOH_08h_R1</td><td>EtOH_08h_R1</td></tr>\n",
       "\t<tr><th scope=row>5</th><td>EtOH_08h_R2</td><td>EtOH_08h_R2</td></tr>\n",
       "\t<tr><th scope=row>6</th><td>EtOH_08h_R3</td><td>EtOH_08h_R3</td></tr>\n",
       "</tbody>\n",
       "</table>\n"
      ],
      "text/latex": [
       "A data.frame: 6 × 2\n",
       "\\begin{tabular}{r|ll}\n",
       "  & sample & sample\\_final\\\\\n",
       "  & <chr> & <chr>\\\\\n",
       "\\hline\n",
       "\t1 & EtOH\\_04h\\_R1 & EtOH\\_04h\\_R1\\\\\n",
       "\t2 & EtOH\\_04h\\_R2 & EtOH\\_04h\\_R2\\\\\n",
       "\t3 & EtOH\\_04h\\_R3 & EtOH\\_04h\\_R3\\\\\n",
       "\t4 & EtOH\\_08h\\_R1 & EtOH\\_08h\\_R1\\\\\n",
       "\t5 & EtOH\\_08h\\_R2 & EtOH\\_08h\\_R2\\\\\n",
       "\t6 & EtOH\\_08h\\_R3 & EtOH\\_08h\\_R3\\\\\n",
       "\\end{tabular}\n"
      ],
      "text/markdown": [
       "\n",
       "A data.frame: 6 × 2\n",
       "\n",
       "| <!--/--> | sample &lt;chr&gt; | sample_final &lt;chr&gt; |\n",
       "|---|---|---|\n",
       "| 1 | EtOH_04h_R1 | EtOH_04h_R1 |\n",
       "| 2 | EtOH_04h_R2 | EtOH_04h_R2 |\n",
       "| 3 | EtOH_04h_R3 | EtOH_04h_R3 |\n",
       "| 4 | EtOH_08h_R1 | EtOH_08h_R1 |\n",
       "| 5 | EtOH_08h_R2 | EtOH_08h_R2 |\n",
       "| 6 | EtOH_08h_R3 | EtOH_08h_R3 |\n",
       "\n"
      ],
      "text/plain": [
       "  sample      sample_final\n",
       "1 EtOH_04h_R1 EtOH_04h_R1 \n",
       "2 EtOH_04h_R2 EtOH_04h_R2 \n",
       "3 EtOH_04h_R3 EtOH_04h_R3 \n",
       "4 EtOH_08h_R1 EtOH_08h_R1 \n",
       "5 EtOH_08h_R2 EtOH_08h_R2 \n",
       "6 EtOH_08h_R3 EtOH_08h_R3 "
      ]
     },
     "metadata": {},
     "output_type": "display_data"
    }
   ],
   "source": [
    "head (reihenfolge)"
   ]
  },
  {
   "cell_type": "code",
   "execution_count": 11,
   "id": "168fc916-e5d7-4bb2-b918-5170c3d0b1d8",
   "metadata": {},
   "outputs": [],
   "source": [
    "col_order = reihenfolge$sample"
   ]
  },
  {
   "cell_type": "code",
   "execution_count": 12,
   "id": "880d524f-63e2-45a3-ba3f-db48e5665ace",
   "metadata": {},
   "outputs": [],
   "source": [
    "z3 = z3[, col_order] "
   ]
  },
  {
   "cell_type": "code",
   "execution_count": 13,
   "id": "3cb1c31b-4fa3-43f3-b28d-6c4208b9e06b",
   "metadata": {},
   "outputs": [],
   "source": [
    "#str(z3, list.len=ncol(z3))"
   ]
  },
  {
   "cell_type": "markdown",
   "id": "7cec6a91-5671-4066-bf13-ef4dd7bcd65e",
   "metadata": {},
   "source": [
    "### prepare for GEO submission"
   ]
  },
  {
   "cell_type": "code",
   "execution_count": 14,
   "id": "29a2727e-f85c-46ba-9885-489559934834",
   "metadata": {},
   "outputs": [
    {
     "data": {
      "text/html": [
       "<table class=\"dataframe\">\n",
       "<caption>A data.frame: 6 × 67</caption>\n",
       "<thead>\n",
       "\t<tr><th></th><th scope=col>hgnc_symbol</th><th scope=col>EtOH_04h_R1</th><th scope=col>EtOH_04h_R2</th><th scope=col>EtOH_04h_R3</th><th scope=col>EtOH_08h_R1</th><th scope=col>EtOH_08h_R2</th><th scope=col>EtOH_08h_R3</th><th scope=col>EtOH_24h_R1</th><th scope=col>EtOH_24h_R2</th><th scope=col>EtOH_24h_R3</th><th scope=col>⋯</th><th scope=col>V25D2_250nM_24h_R3</th><th scope=col>V25D2_500nM_24h_R1</th><th scope=col>V25D2_500nM_24h_R2</th><th scope=col>V25D2_500nM_24h_R3</th><th scope=col>V25D2_750nM_24h_R1</th><th scope=col>V25D2_750nM_24h_R2</th><th scope=col>V25D2_750nM_24h_R3</th><th scope=col>V25D2_1000nM_24h_R1</th><th scope=col>V25D2_1000nM_24h_R2</th><th scope=col>V25D2_1000nM_24h_R3</th></tr>\n",
       "\t<tr><th></th><th scope=col>&lt;chr&gt;</th><th scope=col>&lt;dbl&gt;</th><th scope=col>&lt;dbl&gt;</th><th scope=col>&lt;dbl&gt;</th><th scope=col>&lt;dbl&gt;</th><th scope=col>&lt;dbl&gt;</th><th scope=col>&lt;dbl&gt;</th><th scope=col>&lt;dbl&gt;</th><th scope=col>&lt;dbl&gt;</th><th scope=col>&lt;dbl&gt;</th><th scope=col>⋯</th><th scope=col>&lt;dbl&gt;</th><th scope=col>&lt;dbl&gt;</th><th scope=col>&lt;dbl&gt;</th><th scope=col>&lt;dbl&gt;</th><th scope=col>&lt;dbl&gt;</th><th scope=col>&lt;dbl&gt;</th><th scope=col>&lt;dbl&gt;</th><th scope=col>&lt;dbl&gt;</th><th scope=col>&lt;dbl&gt;</th><th scope=col>&lt;dbl&gt;</th></tr>\n",
       "</thead>\n",
       "<tbody>\n",
       "\t<tr><th scope=row>1</th><td>EEF1A1</td><td> 9406.359</td><td> 9434.708</td><td>9694.522</td><td> 7952.811</td><td> 8018.488</td><td>8499.660</td><td>8472.716</td><td>7972.028</td><td>7498.353</td><td>⋯</td><td>7125.594</td><td>7061.5048</td><td>7131.0066</td><td>7243.0065</td><td>7562.3538</td><td>6920.8326</td><td>7556.1080</td><td>7370.6012</td><td>7190.8268</td><td>7454.798</td></tr>\n",
       "\t<tr><th scope=row>2</th><td>THBS1 </td><td>10449.743</td><td>10368.835</td><td>9228.114</td><td>10843.912</td><td>10759.947</td><td>8911.139</td><td>3017.506</td><td>2423.101</td><td>3250.649</td><td>⋯</td><td>7698.590</td><td> 382.0099</td><td> 377.7005</td><td> 312.2533</td><td> 355.2605</td><td> 330.0512</td><td> 336.3535</td><td> 223.3743</td><td> 192.6282</td><td> 166.080</td></tr>\n",
       "\t<tr><th scope=row>3</th><td>AHNAK </td><td> 4732.508</td><td> 4709.171</td><td>4679.991</td><td> 4625.838</td><td> 4638.687</td><td>5128.177</td><td>4512.248</td><td>4348.221</td><td>5086.524</td><td>⋯</td><td>4293.511</td><td>3115.4457</td><td>3187.8537</td><td>3086.7350</td><td>3232.4011</td><td>3066.9319</td><td>3091.6782</td><td>3209.6447</td><td>3103.1493</td><td>3234.047</td></tr>\n",
       "\t<tr><th scope=row>4</th><td>ACTB  </td><td> 3344.395</td><td> 3218.897</td><td>3382.429</td><td> 3623.009</td><td> 3591.972</td><td>3505.324</td><td>7655.780</td><td>6276.812</td><td>5684.049</td><td>⋯</td><td>5127.070</td><td>2558.3049</td><td>2603.7922</td><td>2548.1428</td><td>2361.6216</td><td>2290.2049</td><td>2500.2751</td><td>2174.4268</td><td>2308.2148</td><td>2256.260</td></tr>\n",
       "\t<tr><th scope=row>5</th><td>HLA-B </td><td> 3802.211</td><td> 3941.598</td><td>4111.597</td><td> 3308.899</td><td> 3315.666</td><td>3631.351</td><td>3847.686</td><td>3522.085</td><td>3307.955</td><td>⋯</td><td>3374.460</td><td>3167.3268</td><td>3119.0328</td><td>3150.3572</td><td>3223.0110</td><td>3140.2766</td><td>3253.0711</td><td>2925.2648</td><td>3019.0461</td><td>2952.807</td></tr>\n",
       "\t<tr><th scope=row>6</th><td>FTH1  </td><td> 3609.342</td><td> 3499.742</td><td>3623.428</td><td> 3772.929</td><td> 3783.854</td><td>3951.460</td><td>6351.330</td><td>5299.286</td><td>5212.725</td><td>⋯</td><td>4676.550</td><td>2207.6559</td><td>2182.8241</td><td>1993.7672</td><td>2101.0451</td><td>2166.4770</td><td>2167.6678</td><td>1707.0302</td><td>1670.6487</td><td>1505.677</td></tr>\n",
       "</tbody>\n",
       "</table>\n"
      ],
      "text/latex": [
       "A data.frame: 6 × 67\n",
       "\\begin{tabular}{r|lllllllllllllllllllll}\n",
       "  & hgnc\\_symbol & EtOH\\_04h\\_R1 & EtOH\\_04h\\_R2 & EtOH\\_04h\\_R3 & EtOH\\_08h\\_R1 & EtOH\\_08h\\_R2 & EtOH\\_08h\\_R3 & EtOH\\_24h\\_R1 & EtOH\\_24h\\_R2 & EtOH\\_24h\\_R3 & ⋯ & V25D2\\_250nM\\_24h\\_R3 & V25D2\\_500nM\\_24h\\_R1 & V25D2\\_500nM\\_24h\\_R2 & V25D2\\_500nM\\_24h\\_R3 & V25D2\\_750nM\\_24h\\_R1 & V25D2\\_750nM\\_24h\\_R2 & V25D2\\_750nM\\_24h\\_R3 & V25D2\\_1000nM\\_24h\\_R1 & V25D2\\_1000nM\\_24h\\_R2 & V25D2\\_1000nM\\_24h\\_R3\\\\\n",
       "  & <chr> & <dbl> & <dbl> & <dbl> & <dbl> & <dbl> & <dbl> & <dbl> & <dbl> & <dbl> & ⋯ & <dbl> & <dbl> & <dbl> & <dbl> & <dbl> & <dbl> & <dbl> & <dbl> & <dbl> & <dbl>\\\\\n",
       "\\hline\n",
       "\t1 & EEF1A1 &  9406.359 &  9434.708 & 9694.522 &  7952.811 &  8018.488 & 8499.660 & 8472.716 & 7972.028 & 7498.353 & ⋯ & 7125.594 & 7061.5048 & 7131.0066 & 7243.0065 & 7562.3538 & 6920.8326 & 7556.1080 & 7370.6012 & 7190.8268 & 7454.798\\\\\n",
       "\t2 & THBS1  & 10449.743 & 10368.835 & 9228.114 & 10843.912 & 10759.947 & 8911.139 & 3017.506 & 2423.101 & 3250.649 & ⋯ & 7698.590 &  382.0099 &  377.7005 &  312.2533 &  355.2605 &  330.0512 &  336.3535 &  223.3743 &  192.6282 &  166.080\\\\\n",
       "\t3 & AHNAK  &  4732.508 &  4709.171 & 4679.991 &  4625.838 &  4638.687 & 5128.177 & 4512.248 & 4348.221 & 5086.524 & ⋯ & 4293.511 & 3115.4457 & 3187.8537 & 3086.7350 & 3232.4011 & 3066.9319 & 3091.6782 & 3209.6447 & 3103.1493 & 3234.047\\\\\n",
       "\t4 & ACTB   &  3344.395 &  3218.897 & 3382.429 &  3623.009 &  3591.972 & 3505.324 & 7655.780 & 6276.812 & 5684.049 & ⋯ & 5127.070 & 2558.3049 & 2603.7922 & 2548.1428 & 2361.6216 & 2290.2049 & 2500.2751 & 2174.4268 & 2308.2148 & 2256.260\\\\\n",
       "\t5 & HLA-B  &  3802.211 &  3941.598 & 4111.597 &  3308.899 &  3315.666 & 3631.351 & 3847.686 & 3522.085 & 3307.955 & ⋯ & 3374.460 & 3167.3268 & 3119.0328 & 3150.3572 & 3223.0110 & 3140.2766 & 3253.0711 & 2925.2648 & 3019.0461 & 2952.807\\\\\n",
       "\t6 & FTH1   &  3609.342 &  3499.742 & 3623.428 &  3772.929 &  3783.854 & 3951.460 & 6351.330 & 5299.286 & 5212.725 & ⋯ & 4676.550 & 2207.6559 & 2182.8241 & 1993.7672 & 2101.0451 & 2166.4770 & 2167.6678 & 1707.0302 & 1670.6487 & 1505.677\\\\\n",
       "\\end{tabular}\n"
      ],
      "text/markdown": [
       "\n",
       "A data.frame: 6 × 67\n",
       "\n",
       "| <!--/--> | hgnc_symbol &lt;chr&gt; | EtOH_04h_R1 &lt;dbl&gt; | EtOH_04h_R2 &lt;dbl&gt; | EtOH_04h_R3 &lt;dbl&gt; | EtOH_08h_R1 &lt;dbl&gt; | EtOH_08h_R2 &lt;dbl&gt; | EtOH_08h_R3 &lt;dbl&gt; | EtOH_24h_R1 &lt;dbl&gt; | EtOH_24h_R2 &lt;dbl&gt; | EtOH_24h_R3 &lt;dbl&gt; | ⋯ ⋯ | V25D2_250nM_24h_R3 &lt;dbl&gt; | V25D2_500nM_24h_R1 &lt;dbl&gt; | V25D2_500nM_24h_R2 &lt;dbl&gt; | V25D2_500nM_24h_R3 &lt;dbl&gt; | V25D2_750nM_24h_R1 &lt;dbl&gt; | V25D2_750nM_24h_R2 &lt;dbl&gt; | V25D2_750nM_24h_R3 &lt;dbl&gt; | V25D2_1000nM_24h_R1 &lt;dbl&gt; | V25D2_1000nM_24h_R2 &lt;dbl&gt; | V25D2_1000nM_24h_R3 &lt;dbl&gt; |\n",
       "|---|---|---|---|---|---|---|---|---|---|---|---|---|---|---|---|---|---|---|---|---|---|\n",
       "| 1 | EEF1A1 |  9406.359 |  9434.708 | 9694.522 |  7952.811 |  8018.488 | 8499.660 | 8472.716 | 7972.028 | 7498.353 | ⋯ | 7125.594 | 7061.5048 | 7131.0066 | 7243.0065 | 7562.3538 | 6920.8326 | 7556.1080 | 7370.6012 | 7190.8268 | 7454.798 |\n",
       "| 2 | THBS1  | 10449.743 | 10368.835 | 9228.114 | 10843.912 | 10759.947 | 8911.139 | 3017.506 | 2423.101 | 3250.649 | ⋯ | 7698.590 |  382.0099 |  377.7005 |  312.2533 |  355.2605 |  330.0512 |  336.3535 |  223.3743 |  192.6282 |  166.080 |\n",
       "| 3 | AHNAK  |  4732.508 |  4709.171 | 4679.991 |  4625.838 |  4638.687 | 5128.177 | 4512.248 | 4348.221 | 5086.524 | ⋯ | 4293.511 | 3115.4457 | 3187.8537 | 3086.7350 | 3232.4011 | 3066.9319 | 3091.6782 | 3209.6447 | 3103.1493 | 3234.047 |\n",
       "| 4 | ACTB   |  3344.395 |  3218.897 | 3382.429 |  3623.009 |  3591.972 | 3505.324 | 7655.780 | 6276.812 | 5684.049 | ⋯ | 5127.070 | 2558.3049 | 2603.7922 | 2548.1428 | 2361.6216 | 2290.2049 | 2500.2751 | 2174.4268 | 2308.2148 | 2256.260 |\n",
       "| 5 | HLA-B  |  3802.211 |  3941.598 | 4111.597 |  3308.899 |  3315.666 | 3631.351 | 3847.686 | 3522.085 | 3307.955 | ⋯ | 3374.460 | 3167.3268 | 3119.0328 | 3150.3572 | 3223.0110 | 3140.2766 | 3253.0711 | 2925.2648 | 3019.0461 | 2952.807 |\n",
       "| 6 | FTH1   |  3609.342 |  3499.742 | 3623.428 |  3772.929 |  3783.854 | 3951.460 | 6351.330 | 5299.286 | 5212.725 | ⋯ | 4676.550 | 2207.6559 | 2182.8241 | 1993.7672 | 2101.0451 | 2166.4770 | 2167.6678 | 1707.0302 | 1670.6487 | 1505.677 |\n",
       "\n"
      ],
      "text/plain": [
       "  hgnc_symbol EtOH_04h_R1 EtOH_04h_R2 EtOH_04h_R3 EtOH_08h_R1 EtOH_08h_R2\n",
       "1 EEF1A1       9406.359    9434.708   9694.522     7952.811    8018.488  \n",
       "2 THBS1       10449.743   10368.835   9228.114    10843.912   10759.947  \n",
       "3 AHNAK        4732.508    4709.171   4679.991     4625.838    4638.687  \n",
       "4 ACTB         3344.395    3218.897   3382.429     3623.009    3591.972  \n",
       "5 HLA-B        3802.211    3941.598   4111.597     3308.899    3315.666  \n",
       "6 FTH1         3609.342    3499.742   3623.428     3772.929    3783.854  \n",
       "  EtOH_08h_R3 EtOH_24h_R1 EtOH_24h_R2 EtOH_24h_R3 ⋯ V25D2_250nM_24h_R3\n",
       "1 8499.660    8472.716    7972.028    7498.353    ⋯ 7125.594          \n",
       "2 8911.139    3017.506    2423.101    3250.649    ⋯ 7698.590          \n",
       "3 5128.177    4512.248    4348.221    5086.524    ⋯ 4293.511          \n",
       "4 3505.324    7655.780    6276.812    5684.049    ⋯ 5127.070          \n",
       "5 3631.351    3847.686    3522.085    3307.955    ⋯ 3374.460          \n",
       "6 3951.460    6351.330    5299.286    5212.725    ⋯ 4676.550          \n",
       "  V25D2_500nM_24h_R1 V25D2_500nM_24h_R2 V25D2_500nM_24h_R3 V25D2_750nM_24h_R1\n",
       "1 7061.5048          7131.0066          7243.0065          7562.3538         \n",
       "2  382.0099           377.7005           312.2533           355.2605         \n",
       "3 3115.4457          3187.8537          3086.7350          3232.4011         \n",
       "4 2558.3049          2603.7922          2548.1428          2361.6216         \n",
       "5 3167.3268          3119.0328          3150.3572          3223.0110         \n",
       "6 2207.6559          2182.8241          1993.7672          2101.0451         \n",
       "  V25D2_750nM_24h_R2 V25D2_750nM_24h_R3 V25D2_1000nM_24h_R1 V25D2_1000nM_24h_R2\n",
       "1 6920.8326          7556.1080          7370.6012           7190.8268          \n",
       "2  330.0512           336.3535           223.3743            192.6282          \n",
       "3 3066.9319          3091.6782          3209.6447           3103.1493          \n",
       "4 2290.2049          2500.2751          2174.4268           2308.2148          \n",
       "5 3140.2766          3253.0711          2925.2648           3019.0461          \n",
       "6 2166.4770          2167.6678          1707.0302           1670.6487          \n",
       "  V25D2_1000nM_24h_R3\n",
       "1 7454.798           \n",
       "2  166.080           \n",
       "3 3234.047           \n",
       "4 2256.260           \n",
       "5 2952.807           \n",
       "6 1505.677           "
      ]
     },
     "metadata": {},
     "output_type": "display_data"
    }
   ],
   "source": [
    "geo_expr = z3\n",
    "geo_expr = geo_expr %>%\n",
    "#select (., -c(V125D3_1nM_04h_R1:V125D3_1nM_08h_R3)) %>%\n",
    "rownames_to_column (\"hgnc_symbol\")\n",
    "\n",
    "head (geo_expr)"
   ]
  },
  {
   "cell_type": "code",
   "execution_count": 15,
   "id": "dee813f9-2564-4717-9d6d-7ef2cd78acd9",
   "metadata": {},
   "outputs": [],
   "source": [
    "mrg = merge(x=geo_expr,y=annotation,by.x =\"hgnc_symbol\",all.x=TRUE)"
   ]
  },
  {
   "cell_type": "code",
   "execution_count": 16,
   "id": "d00ffcca-12e5-46f7-846f-1d692f24893b",
   "metadata": {},
   "outputs": [],
   "source": [
    "#str(mrg, list.len=ncol(mrg))"
   ]
  },
  {
   "cell_type": "code",
   "execution_count": 17,
   "id": "df9a3e7b-7a4a-450d-a15f-8eb41bedbb4d",
   "metadata": {},
   "outputs": [],
   "source": [
    "mrg = mrg %>%\n",
    "select (., -c(external_gene_name, gene_biotype))\n",
    "\n",
    "colnames(mrg) <- gsub(\"V\",\"\",as.character(colnames(mrg)))\n",
    "\n",
    "#str(mrg, list.len=ncol(mrg))"
   ]
  },
  {
   "cell_type": "code",
   "execution_count": 18,
   "id": "b92a6d34-5b76-4c7d-a061-84dab24fc5a4",
   "metadata": {},
   "outputs": [],
   "source": [
    "#write.xlsx (mrg, \"./data/geo_normalized_counts.xlsx\")"
   ]
  },
  {
   "cell_type": "code",
   "execution_count": 19,
   "id": "joined-governor",
   "metadata": {},
   "outputs": [],
   "source": [
    "z4 <- z3 %>%\n",
    "  rownames_to_column(\"genes\") %>%\n",
    "  \n",
    "mutate(EtOH_04h.Avg = rowMeans(select(., matches(\"EtOH_04h\"))) ) %>%\n",
    "mutate(EtOH_08h.Avg = rowMeans(select(., matches(\"EtOH_08h\"))) ) %>% \n",
    "mutate(EtOH_24h.Avg = rowMeans(select(., matches(\"EtOH_24h\"))) ) %>% \n",
    "\n",
    "mutate(V125D3_1nM_24h.Avg = rowMeans(select(., matches(\"V125D3_1nM_24h\"))) ) %>% \n",
    "\n",
    "mutate(V125D3_10nM_04h.Avg = rowMeans(select(., matches(\"V125D3_10nM_04h\"))) ) %>% \n",
    "mutate(V125D3_10nM_08h.Avg = rowMeans(select(., matches(\"V125D3_10nM_08h\"))) ) %>% \n",
    "mutate(V125D3_10nM_24h.Avg = rowMeans(select(., matches(\"V125D3_10nM_24h\"))) ) %>% \n",
    "    \n",
    "mutate(V25D3_1000nM_04h.Avg = rowMeans(select(., matches(\"V25D3_1000nM_04h\"))) ) %>% \n",
    "mutate(V25D3_1000nM_08h.Avg = rowMeans(select(., matches(\"V25D3_1000nM_08h\"))) ) %>% \n",
    "mutate(V25D3_1000nM_24h.Avg = rowMeans(select(., matches(\"V25D3_1000nM_24h\"))) ) %>% \n",
    "\n",
    "mutate(V25D2_1000nM_04h.Avg = rowMeans(select(., matches(\"V25D2_1000nM_04h\"))) ) %>% \n",
    "mutate(V25D2_1000nM_08h.Avg = rowMeans(select(., matches(\"V25D2_1000nM_08h\"))) ) %>% \n",
    "mutate(V25D2_1000nM_24h.Avg = rowMeans(select(., matches(\"V25D2_1000nM_24h\"))) ) %>% \n",
    "\n",
    "mutate(V125D3_0.1nM_24h.Avg = rowMeans(select(., matches(\"V125D3_0.1nM_24h\"))) ) %>% \n",
    "\n",
    "mutate(V25D3_100nM_24h.Avg = rowMeans(select(., matches(\"V25D3_100nM_24h\"))) ) %>% \n",
    "mutate(V25D3_250nM_24h.Avg = rowMeans(select(., matches(\"V25D3_250nM_24h\"))) ) %>% \n",
    "mutate(V25D3_500nM_24h.Avg = rowMeans(select(., matches(\"V25D3_500nM_24h\"))) ) %>% \n",
    "mutate(V25D3_750nM_24h.Avg = rowMeans(select(., matches(\"V25D3_750nM_24h\"))) ) %>% \n",
    "\n",
    "mutate(V25D2_100nM_24h.Avg = rowMeans(select(., matches(\"V25D2_100nM_24h\"))) ) %>% \n",
    "mutate(V25D2_250nM_24h.Avg = rowMeans(select(., matches(\"V25D2_250nM_24h\"))) ) %>% \n",
    "mutate(V25D2_500nM_24h.Avg = rowMeans(select(., matches(\"V25D2_500nM_24h\"))) ) %>% \n",
    "mutate(V25D2_750nM_24h.Avg = rowMeans(select(., matches(\"V25D2_750nM_24h\"))) ) %>% \n",
    "as.data.frame ()\n",
    "\n",
    "#str (z4)"
   ]
  },
  {
   "cell_type": "code",
   "execution_count": 20,
   "id": "83e6c2ea-1167-43ac-9594-2ab9b7d5a255",
   "metadata": {},
   "outputs": [
    {
     "data": {
      "text/html": [
       "<table class=\"dataframe\">\n",
       "<caption>A data.frame: 23 × 1</caption>\n",
       "<thead>\n",
       "\t<tr><th scope=col>avg_order</th></tr>\n",
       "\t<tr><th scope=col>&lt;chr&gt;</th></tr>\n",
       "</thead>\n",
       "<tbody>\n",
       "\t<tr><td>genes               </td></tr>\n",
       "\t<tr><td>EtOH_04h.Avg        </td></tr>\n",
       "\t<tr><td>EtOH_08h.Avg        </td></tr>\n",
       "\t<tr><td>EtOH_24h.Avg        </td></tr>\n",
       "\t<tr><td>V125D3_10nM_04h.Avg </td></tr>\n",
       "\t<tr><td>V125D3_10nM_08h.Avg </td></tr>\n",
       "\t<tr><td>V25D3_1000nM_04h.Avg</td></tr>\n",
       "\t<tr><td>V25D3_1000nM_08h.Avg</td></tr>\n",
       "\t<tr><td>V25D2_1000nM_04h.Avg</td></tr>\n",
       "\t<tr><td>V25D2_1000nM_08h.Avg</td></tr>\n",
       "\t<tr><td>V125D3_0.1nM_24h.Avg</td></tr>\n",
       "\t<tr><td>V125D3_1nM_24h.Avg  </td></tr>\n",
       "\t<tr><td>V125D3_10nM_24h.Avg </td></tr>\n",
       "\t<tr><td>V25D3_100nM_24h.Avg </td></tr>\n",
       "\t<tr><td>V25D3_250nM_24h.Avg </td></tr>\n",
       "\t<tr><td>V25D3_500nM_24h.Avg </td></tr>\n",
       "\t<tr><td>V25D3_750nM_24h.Avg </td></tr>\n",
       "\t<tr><td>V25D3_1000nM_24h.Avg</td></tr>\n",
       "\t<tr><td>V25D2_100nM_24h.Avg </td></tr>\n",
       "\t<tr><td>V25D2_250nM_24h.Avg </td></tr>\n",
       "\t<tr><td>V25D2_500nM_24h.Avg </td></tr>\n",
       "\t<tr><td>V25D2_750nM_24h.Avg </td></tr>\n",
       "\t<tr><td>V25D2_1000nM_24h.Avg</td></tr>\n",
       "</tbody>\n",
       "</table>\n"
      ],
      "text/latex": [
       "A data.frame: 23 × 1\n",
       "\\begin{tabular}{l}\n",
       " avg\\_order\\\\\n",
       " <chr>\\\\\n",
       "\\hline\n",
       "\t genes               \\\\\n",
       "\t EtOH\\_04h.Avg        \\\\\n",
       "\t EtOH\\_08h.Avg        \\\\\n",
       "\t EtOH\\_24h.Avg        \\\\\n",
       "\t V125D3\\_10nM\\_04h.Avg \\\\\n",
       "\t V125D3\\_10nM\\_08h.Avg \\\\\n",
       "\t V25D3\\_1000nM\\_04h.Avg\\\\\n",
       "\t V25D3\\_1000nM\\_08h.Avg\\\\\n",
       "\t V25D2\\_1000nM\\_04h.Avg\\\\\n",
       "\t V25D2\\_1000nM\\_08h.Avg\\\\\n",
       "\t V125D3\\_0.1nM\\_24h.Avg\\\\\n",
       "\t V125D3\\_1nM\\_24h.Avg  \\\\\n",
       "\t V125D3\\_10nM\\_24h.Avg \\\\\n",
       "\t V25D3\\_100nM\\_24h.Avg \\\\\n",
       "\t V25D3\\_250nM\\_24h.Avg \\\\\n",
       "\t V25D3\\_500nM\\_24h.Avg \\\\\n",
       "\t V25D3\\_750nM\\_24h.Avg \\\\\n",
       "\t V25D3\\_1000nM\\_24h.Avg\\\\\n",
       "\t V25D2\\_100nM\\_24h.Avg \\\\\n",
       "\t V25D2\\_250nM\\_24h.Avg \\\\\n",
       "\t V25D2\\_500nM\\_24h.Avg \\\\\n",
       "\t V25D2\\_750nM\\_24h.Avg \\\\\n",
       "\t V25D2\\_1000nM\\_24h.Avg\\\\\n",
       "\\end{tabular}\n"
      ],
      "text/markdown": [
       "\n",
       "A data.frame: 23 × 1\n",
       "\n",
       "| avg_order &lt;chr&gt; |\n",
       "|---|\n",
       "| genes                |\n",
       "| EtOH_04h.Avg         |\n",
       "| EtOH_08h.Avg         |\n",
       "| EtOH_24h.Avg         |\n",
       "| V125D3_10nM_04h.Avg  |\n",
       "| V125D3_10nM_08h.Avg  |\n",
       "| V25D3_1000nM_04h.Avg |\n",
       "| V25D3_1000nM_08h.Avg |\n",
       "| V25D2_1000nM_04h.Avg |\n",
       "| V25D2_1000nM_08h.Avg |\n",
       "| V125D3_0.1nM_24h.Avg |\n",
       "| V125D3_1nM_24h.Avg   |\n",
       "| V125D3_10nM_24h.Avg  |\n",
       "| V25D3_100nM_24h.Avg  |\n",
       "| V25D3_250nM_24h.Avg  |\n",
       "| V25D3_500nM_24h.Avg  |\n",
       "| V25D3_750nM_24h.Avg  |\n",
       "| V25D3_1000nM_24h.Avg |\n",
       "| V25D2_100nM_24h.Avg  |\n",
       "| V25D2_250nM_24h.Avg  |\n",
       "| V25D2_500nM_24h.Avg  |\n",
       "| V25D2_750nM_24h.Avg  |\n",
       "| V25D2_1000nM_24h.Avg |\n",
       "\n"
      ],
      "text/plain": [
       "   avg_order           \n",
       "1  genes               \n",
       "2  EtOH_04h.Avg        \n",
       "3  EtOH_08h.Avg        \n",
       "4  EtOH_24h.Avg        \n",
       "5  V125D3_10nM_04h.Avg \n",
       "6  V125D3_10nM_08h.Avg \n",
       "7  V25D3_1000nM_04h.Avg\n",
       "8  V25D3_1000nM_08h.Avg\n",
       "9  V25D2_1000nM_04h.Avg\n",
       "10 V25D2_1000nM_08h.Avg\n",
       "11 V125D3_0.1nM_24h.Avg\n",
       "12 V125D3_1nM_24h.Avg  \n",
       "13 V125D3_10nM_24h.Avg \n",
       "14 V25D3_100nM_24h.Avg \n",
       "15 V25D3_250nM_24h.Avg \n",
       "16 V25D3_500nM_24h.Avg \n",
       "17 V25D3_750nM_24h.Avg \n",
       "18 V25D3_1000nM_24h.Avg\n",
       "19 V25D2_100nM_24h.Avg \n",
       "20 V25D2_250nM_24h.Avg \n",
       "21 V25D2_500nM_24h.Avg \n",
       "22 V25D2_750nM_24h.Avg \n",
       "23 V25D2_1000nM_24h.Avg"
      ]
     },
     "metadata": {},
     "output_type": "display_data"
    }
   ],
   "source": [
    "avg_template = read.table (\"./data/template_avg_headers.txt\", sep = \"\\t\",  header = T)\n",
    "avg_template"
   ]
  },
  {
   "cell_type": "code",
   "execution_count": 21,
   "id": "422afbea-3bca-4310-8f75-bf3b731bc6b8",
   "metadata": {},
   "outputs": [],
   "source": [
    "avg_order = avg_template$avg_order"
   ]
  },
  {
   "cell_type": "code",
   "execution_count": 22,
   "id": "328ae752-f88b-486b-a4d1-9a4997bbcb07",
   "metadata": {},
   "outputs": [],
   "source": [
    "z4 = z4[ ,avg_order]"
   ]
  },
  {
   "cell_type": "code",
   "execution_count": 23,
   "id": "adjacent-principal",
   "metadata": {},
   "outputs": [
    {
     "data": {
      "text/html": [
       "<table class=\"dataframe\">\n",
       "<caption>A data.frame: 6 × 24</caption>\n",
       "<thead>\n",
       "\t<tr><th></th><th scope=col>genes</th><th scope=col>EtOH_04h.Avg</th><th scope=col>EtOH_08h.Avg</th><th scope=col>EtOH_24h.Avg</th><th scope=col>V125D3_10nM_04h.Avg</th><th scope=col>V125D3_10nM_08h.Avg</th><th scope=col>V25D3_1000nM_04h.Avg</th><th scope=col>V25D3_1000nM_08h.Avg</th><th scope=col>V25D2_1000nM_04h.Avg</th><th scope=col>V25D2_1000nM_08h.Avg</th><th scope=col>⋯</th><th scope=col>V25D3_250nM_24h.Avg</th><th scope=col>V25D3_500nM_24h.Avg</th><th scope=col>V25D3_750nM_24h.Avg</th><th scope=col>V25D3_1000nM_24h.Avg</th><th scope=col>V25D2_100nM_24h.Avg</th><th scope=col>V25D2_250nM_24h.Avg</th><th scope=col>V25D2_500nM_24h.Avg</th><th scope=col>V25D2_750nM_24h.Avg</th><th scope=col>V25D2_1000nM_24h.Avg</th><th scope=col>sum_avg_expr</th></tr>\n",
       "\t<tr><th></th><th scope=col>&lt;chr&gt;</th><th scope=col>&lt;dbl&gt;</th><th scope=col>&lt;dbl&gt;</th><th scope=col>&lt;dbl&gt;</th><th scope=col>&lt;dbl&gt;</th><th scope=col>&lt;dbl&gt;</th><th scope=col>&lt;dbl&gt;</th><th scope=col>&lt;dbl&gt;</th><th scope=col>&lt;dbl&gt;</th><th scope=col>&lt;dbl&gt;</th><th scope=col>⋯</th><th scope=col>&lt;dbl&gt;</th><th scope=col>&lt;dbl&gt;</th><th scope=col>&lt;dbl&gt;</th><th scope=col>&lt;dbl&gt;</th><th scope=col>&lt;dbl&gt;</th><th scope=col>&lt;dbl&gt;</th><th scope=col>&lt;dbl&gt;</th><th scope=col>&lt;dbl&gt;</th><th scope=col>&lt;dbl&gt;</th><th scope=col>&lt;dbl&gt;</th></tr>\n",
       "</thead>\n",
       "<tbody>\n",
       "\t<tr><th scope=row>1</th><td>EEF1A1</td><td> 9511.863</td><td> 8156.986</td><td>7981.032</td><td>9030.484</td><td>7689.327</td><td>9357.482</td><td>8085.816</td><td>9618.236</td><td>8444.069</td><td>⋯</td><td>7322.034</td><td>7214.3502</td><td>7337.4796</td><td>7380.9644</td><td>7182.707</td><td>7207.921</td><td>7145.1727</td><td>7346.4315</td><td>7338.7421</td><td>49348.40</td></tr>\n",
       "\t<tr><th scope=row>2</th><td>THBS1 </td><td>10015.564</td><td>10171.666</td><td>2897.085</td><td>5661.667</td><td>4404.470</td><td>8766.962</td><td>5053.088</td><td>8407.375</td><td>6702.251</td><td>⋯</td><td>4303.518</td><td> 307.0096</td><td> 223.9663</td><td> 210.7422</td><td>5206.591</td><td>6798.867</td><td> 357.3212</td><td> 340.5551</td><td> 194.0275</td><td>33427.23</td></tr>\n",
       "\t<tr><th scope=row>3</th><td>AHNAK </td><td> 4707.223</td><td> 4797.567</td><td>4648.998</td><td>5360.808</td><td>3881.601</td><td>4410.905</td><td>4029.688</td><td>4580.094</td><td>3939.010</td><td>⋯</td><td>3881.049</td><td>3139.5744</td><td>2982.9694</td><td>3099.2207</td><td>4196.671</td><td>4017.133</td><td>3130.0114</td><td>3130.3371</td><td>3182.2804</td><td>26540.14</td></tr>\n",
       "\t<tr><th scope=row>4</th><td>ACTB  </td><td> 3315.240</td><td> 3573.435</td><td>6538.880</td><td>2774.664</td><td>2570.414</td><td>2671.880</td><td>2581.303</td><td>2673.691</td><td>2888.500</td><td>⋯</td><td>5829.101</td><td>2672.8932</td><td>2543.9490</td><td>2364.9693</td><td>5763.529</td><td>4603.344</td><td>2570.0800</td><td>2384.0339</td><td>2246.3004</td><td>21410.42</td></tr>\n",
       "\t<tr><th scope=row>5</th><td>HLA-B </td><td> 3951.802</td><td> 3418.639</td><td>3559.242</td><td>3628.200</td><td>3156.379</td><td>3477.364</td><td>3449.185</td><td>3712.657</td><td>3768.545</td><td>⋯</td><td>3548.879</td><td>3308.6767</td><td>3383.2885</td><td>3017.6543</td><td>3356.302</td><td>3328.082</td><td>3145.5722</td><td>3205.4529</td><td>2965.7060</td><td>20727.32</td></tr>\n",
       "\t<tr><th scope=row>6</th><td>FTH1  </td><td> 3577.504</td><td> 3836.081</td><td>5621.114</td><td>2840.856</td><td>2732.822</td><td>2995.232</td><td>2826.533</td><td>2756.474</td><td>3143.455</td><td>⋯</td><td>4747.449</td><td>2071.7070</td><td>1769.4614</td><td>1854.7977</td><td>4645.571</td><td>4405.002</td><td>2128.0824</td><td>2145.0633</td><td>1627.7853</td><td>20696.31</td></tr>\n",
       "</tbody>\n",
       "</table>\n"
      ],
      "text/latex": [
       "A data.frame: 6 × 24\n",
       "\\begin{tabular}{r|lllllllllllllllllllll}\n",
       "  & genes & EtOH\\_04h.Avg & EtOH\\_08h.Avg & EtOH\\_24h.Avg & V125D3\\_10nM\\_04h.Avg & V125D3\\_10nM\\_08h.Avg & V25D3\\_1000nM\\_04h.Avg & V25D3\\_1000nM\\_08h.Avg & V25D2\\_1000nM\\_04h.Avg & V25D2\\_1000nM\\_08h.Avg & ⋯ & V25D3\\_250nM\\_24h.Avg & V25D3\\_500nM\\_24h.Avg & V25D3\\_750nM\\_24h.Avg & V25D3\\_1000nM\\_24h.Avg & V25D2\\_100nM\\_24h.Avg & V25D2\\_250nM\\_24h.Avg & V25D2\\_500nM\\_24h.Avg & V25D2\\_750nM\\_24h.Avg & V25D2\\_1000nM\\_24h.Avg & sum\\_avg\\_expr\\\\\n",
       "  & <chr> & <dbl> & <dbl> & <dbl> & <dbl> & <dbl> & <dbl> & <dbl> & <dbl> & <dbl> & ⋯ & <dbl> & <dbl> & <dbl> & <dbl> & <dbl> & <dbl> & <dbl> & <dbl> & <dbl> & <dbl>\\\\\n",
       "\\hline\n",
       "\t1 & EEF1A1 &  9511.863 &  8156.986 & 7981.032 & 9030.484 & 7689.327 & 9357.482 & 8085.816 & 9618.236 & 8444.069 & ⋯ & 7322.034 & 7214.3502 & 7337.4796 & 7380.9644 & 7182.707 & 7207.921 & 7145.1727 & 7346.4315 & 7338.7421 & 49348.40\\\\\n",
       "\t2 & THBS1  & 10015.564 & 10171.666 & 2897.085 & 5661.667 & 4404.470 & 8766.962 & 5053.088 & 8407.375 & 6702.251 & ⋯ & 4303.518 &  307.0096 &  223.9663 &  210.7422 & 5206.591 & 6798.867 &  357.3212 &  340.5551 &  194.0275 & 33427.23\\\\\n",
       "\t3 & AHNAK  &  4707.223 &  4797.567 & 4648.998 & 5360.808 & 3881.601 & 4410.905 & 4029.688 & 4580.094 & 3939.010 & ⋯ & 3881.049 & 3139.5744 & 2982.9694 & 3099.2207 & 4196.671 & 4017.133 & 3130.0114 & 3130.3371 & 3182.2804 & 26540.14\\\\\n",
       "\t4 & ACTB   &  3315.240 &  3573.435 & 6538.880 & 2774.664 & 2570.414 & 2671.880 & 2581.303 & 2673.691 & 2888.500 & ⋯ & 5829.101 & 2672.8932 & 2543.9490 & 2364.9693 & 5763.529 & 4603.344 & 2570.0800 & 2384.0339 & 2246.3004 & 21410.42\\\\\n",
       "\t5 & HLA-B  &  3951.802 &  3418.639 & 3559.242 & 3628.200 & 3156.379 & 3477.364 & 3449.185 & 3712.657 & 3768.545 & ⋯ & 3548.879 & 3308.6767 & 3383.2885 & 3017.6543 & 3356.302 & 3328.082 & 3145.5722 & 3205.4529 & 2965.7060 & 20727.32\\\\\n",
       "\t6 & FTH1   &  3577.504 &  3836.081 & 5621.114 & 2840.856 & 2732.822 & 2995.232 & 2826.533 & 2756.474 & 3143.455 & ⋯ & 4747.449 & 2071.7070 & 1769.4614 & 1854.7977 & 4645.571 & 4405.002 & 2128.0824 & 2145.0633 & 1627.7853 & 20696.31\\\\\n",
       "\\end{tabular}\n"
      ],
      "text/markdown": [
       "\n",
       "A data.frame: 6 × 24\n",
       "\n",
       "| <!--/--> | genes &lt;chr&gt; | EtOH_04h.Avg &lt;dbl&gt; | EtOH_08h.Avg &lt;dbl&gt; | EtOH_24h.Avg &lt;dbl&gt; | V125D3_10nM_04h.Avg &lt;dbl&gt; | V125D3_10nM_08h.Avg &lt;dbl&gt; | V25D3_1000nM_04h.Avg &lt;dbl&gt; | V25D3_1000nM_08h.Avg &lt;dbl&gt; | V25D2_1000nM_04h.Avg &lt;dbl&gt; | V25D2_1000nM_08h.Avg &lt;dbl&gt; | ⋯ ⋯ | V25D3_250nM_24h.Avg &lt;dbl&gt; | V25D3_500nM_24h.Avg &lt;dbl&gt; | V25D3_750nM_24h.Avg &lt;dbl&gt; | V25D3_1000nM_24h.Avg &lt;dbl&gt; | V25D2_100nM_24h.Avg &lt;dbl&gt; | V25D2_250nM_24h.Avg &lt;dbl&gt; | V25D2_500nM_24h.Avg &lt;dbl&gt; | V25D2_750nM_24h.Avg &lt;dbl&gt; | V25D2_1000nM_24h.Avg &lt;dbl&gt; | sum_avg_expr &lt;dbl&gt; |\n",
       "|---|---|---|---|---|---|---|---|---|---|---|---|---|---|---|---|---|---|---|---|---|---|\n",
       "| 1 | EEF1A1 |  9511.863 |  8156.986 | 7981.032 | 9030.484 | 7689.327 | 9357.482 | 8085.816 | 9618.236 | 8444.069 | ⋯ | 7322.034 | 7214.3502 | 7337.4796 | 7380.9644 | 7182.707 | 7207.921 | 7145.1727 | 7346.4315 | 7338.7421 | 49348.40 |\n",
       "| 2 | THBS1  | 10015.564 | 10171.666 | 2897.085 | 5661.667 | 4404.470 | 8766.962 | 5053.088 | 8407.375 | 6702.251 | ⋯ | 4303.518 |  307.0096 |  223.9663 |  210.7422 | 5206.591 | 6798.867 |  357.3212 |  340.5551 |  194.0275 | 33427.23 |\n",
       "| 3 | AHNAK  |  4707.223 |  4797.567 | 4648.998 | 5360.808 | 3881.601 | 4410.905 | 4029.688 | 4580.094 | 3939.010 | ⋯ | 3881.049 | 3139.5744 | 2982.9694 | 3099.2207 | 4196.671 | 4017.133 | 3130.0114 | 3130.3371 | 3182.2804 | 26540.14 |\n",
       "| 4 | ACTB   |  3315.240 |  3573.435 | 6538.880 | 2774.664 | 2570.414 | 2671.880 | 2581.303 | 2673.691 | 2888.500 | ⋯ | 5829.101 | 2672.8932 | 2543.9490 | 2364.9693 | 5763.529 | 4603.344 | 2570.0800 | 2384.0339 | 2246.3004 | 21410.42 |\n",
       "| 5 | HLA-B  |  3951.802 |  3418.639 | 3559.242 | 3628.200 | 3156.379 | 3477.364 | 3449.185 | 3712.657 | 3768.545 | ⋯ | 3548.879 | 3308.6767 | 3383.2885 | 3017.6543 | 3356.302 | 3328.082 | 3145.5722 | 3205.4529 | 2965.7060 | 20727.32 |\n",
       "| 6 | FTH1   |  3577.504 |  3836.081 | 5621.114 | 2840.856 | 2732.822 | 2995.232 | 2826.533 | 2756.474 | 3143.455 | ⋯ | 4747.449 | 2071.7070 | 1769.4614 | 1854.7977 | 4645.571 | 4405.002 | 2128.0824 | 2145.0633 | 1627.7853 | 20696.31 |\n",
       "\n"
      ],
      "text/plain": [
       "  genes  EtOH_04h.Avg EtOH_08h.Avg EtOH_24h.Avg V125D3_10nM_04h.Avg\n",
       "1 EEF1A1  9511.863     8156.986    7981.032     9030.484           \n",
       "2 THBS1  10015.564    10171.666    2897.085     5661.667           \n",
       "3 AHNAK   4707.223     4797.567    4648.998     5360.808           \n",
       "4 ACTB    3315.240     3573.435    6538.880     2774.664           \n",
       "5 HLA-B   3951.802     3418.639    3559.242     3628.200           \n",
       "6 FTH1    3577.504     3836.081    5621.114     2840.856           \n",
       "  V125D3_10nM_08h.Avg V25D3_1000nM_04h.Avg V25D3_1000nM_08h.Avg\n",
       "1 7689.327            9357.482             8085.816            \n",
       "2 4404.470            8766.962             5053.088            \n",
       "3 3881.601            4410.905             4029.688            \n",
       "4 2570.414            2671.880             2581.303            \n",
       "5 3156.379            3477.364             3449.185            \n",
       "6 2732.822            2995.232             2826.533            \n",
       "  V25D2_1000nM_04h.Avg V25D2_1000nM_08h.Avg ⋯ V25D3_250nM_24h.Avg\n",
       "1 9618.236             8444.069             ⋯ 7322.034           \n",
       "2 8407.375             6702.251             ⋯ 4303.518           \n",
       "3 4580.094             3939.010             ⋯ 3881.049           \n",
       "4 2673.691             2888.500             ⋯ 5829.101           \n",
       "5 3712.657             3768.545             ⋯ 3548.879           \n",
       "6 2756.474             3143.455             ⋯ 4747.449           \n",
       "  V25D3_500nM_24h.Avg V25D3_750nM_24h.Avg V25D3_1000nM_24h.Avg\n",
       "1 7214.3502           7337.4796           7380.9644           \n",
       "2  307.0096            223.9663            210.7422           \n",
       "3 3139.5744           2982.9694           3099.2207           \n",
       "4 2672.8932           2543.9490           2364.9693           \n",
       "5 3308.6767           3383.2885           3017.6543           \n",
       "6 2071.7070           1769.4614           1854.7977           \n",
       "  V25D2_100nM_24h.Avg V25D2_250nM_24h.Avg V25D2_500nM_24h.Avg\n",
       "1 7182.707            7207.921            7145.1727          \n",
       "2 5206.591            6798.867             357.3212          \n",
       "3 4196.671            4017.133            3130.0114          \n",
       "4 5763.529            4603.344            2570.0800          \n",
       "5 3356.302            3328.082            3145.5722          \n",
       "6 4645.571            4405.002            2128.0824          \n",
       "  V25D2_750nM_24h.Avg V25D2_1000nM_24h.Avg sum_avg_expr\n",
       "1 7346.4315           7338.7421            49348.40    \n",
       "2  340.5551            194.0275            33427.23    \n",
       "3 3130.3371           3182.2804            26540.14    \n",
       "4 2384.0339           2246.3004            21410.42    \n",
       "5 3205.4529           2965.7060            20727.32    \n",
       "6 2145.0633           1627.7853            20696.31    "
      ]
     },
     "metadata": {},
     "output_type": "display_data"
    }
   ],
   "source": [
    "z4$sum_avg_expr = (z4$EtOH_04h.Avg+z4$EtOH_08h.Avg+z4$EtOH_24h.Avg+z4$V125D3_10nM_04h.Avg+z4$V125D3_10nM_08h.Avg+z4$V125D3_10nM_24h.Avg)\n",
    "head (z4)"
   ]
  },
  {
   "cell_type": "code",
   "execution_count": 24,
   "id": "respective-mechanics",
   "metadata": {},
   "outputs": [],
   "source": [
    "z4$evidence_threshold = \n",
    "  case_when(\n",
    "  z4$sum_avg_expr < 10 ~ \"no\",\n",
    "  z4$sum_avg_expr >= 10 ~ \"yes\"\n",
    "  )"
   ]
  },
  {
   "cell_type": "code",
   "execution_count": 25,
   "id": "yellow-criticism",
   "metadata": {},
   "outputs": [],
   "source": [
    "CCCA <- z4 %>%\n",
    "\n",
    "add_column (V125D3_1nM_24h) %>%\n",
    "\n",
    "add_column (V125D3_10nM_04h) %>%\n",
    "add_column (V125D3_10nM_08h) %>%\n",
    "add_column (V125D3_10nM_24h) %>%\n",
    "\n",
    "add_column (V125D3_0.1nM_24h) %>%\n",
    "\n",
    "add_column (V25D3_1000nM_04h) %>%\n",
    "add_column (V25D3_1000nM_08h) %>%\n",
    "add_column (V25D3_1000nM_24h) %>%\n",
    "\n",
    "add_column (V25D2_1000nM_04h) %>%\n",
    "add_column (V25D2_1000nM_08h) %>%\n",
    "add_column (V25D2_1000nM_24h) %>%\n",
    "\n",
    "add_column (V25D3_100nM_24h) %>%\n",
    "add_column (V25D3_250nM_24h) %>%\n",
    "add_column (V25D3_500nM_24h) %>%\n",
    "add_column (V25D3_750nM_24h) %>%\n",
    "\n",
    "add_column (V25D2_100nM_24h) %>%\n",
    "add_column (V25D2_250nM_24h) %>%\n",
    "add_column (V25D2_500nM_24h) %>%\n",
    "add_column (V25D2_750nM_24h) #%>%"
   ]
  },
  {
   "cell_type": "code",
   "execution_count": 26,
   "id": "revised-offense",
   "metadata": {},
   "outputs": [
    {
     "data": {
      "text/html": [
       "<table class=\"dataframe\">\n",
       "<caption>A data.frame: 6 × 101</caption>\n",
       "<thead>\n",
       "\t<tr><th></th><th scope=col>genes</th><th scope=col>EtOH_04h.Avg</th><th scope=col>EtOH_08h.Avg</th><th scope=col>EtOH_24h.Avg</th><th scope=col>V125D3_10nM_04h.Avg</th><th scope=col>V125D3_10nM_08h.Avg</th><th scope=col>V25D3_1000nM_04h.Avg</th><th scope=col>V25D3_1000nM_08h.Avg</th><th scope=col>V25D2_1000nM_04h.Avg</th><th scope=col>V25D2_1000nM_08h.Avg</th><th scope=col>⋯</th><th scope=col>logCPM_V25D2_250nM_24h</th><th scope=col>FDR_V25D2_250nM_24h</th><th scope=col>genes.18</th><th scope=col>logFC_V25D2_500nM_24h</th><th scope=col>logCPM_V25D2_500nM_24h</th><th scope=col>FDR_V25D2_500nM_24h</th><th scope=col>genes.19</th><th scope=col>logFC_V25D2_750nM_24h</th><th scope=col>logCPM_V25D2_750nM_24h</th><th scope=col>FDR_V25D2_750nM_24h</th></tr>\n",
       "\t<tr><th></th><th scope=col>&lt;chr&gt;</th><th scope=col>&lt;dbl&gt;</th><th scope=col>&lt;dbl&gt;</th><th scope=col>&lt;dbl&gt;</th><th scope=col>&lt;dbl&gt;</th><th scope=col>&lt;dbl&gt;</th><th scope=col>&lt;dbl&gt;</th><th scope=col>&lt;dbl&gt;</th><th scope=col>&lt;dbl&gt;</th><th scope=col>&lt;dbl&gt;</th><th scope=col>⋯</th><th scope=col>&lt;dbl&gt;</th><th scope=col>&lt;dbl&gt;</th><th scope=col>&lt;chr&gt;</th><th scope=col>&lt;dbl&gt;</th><th scope=col>&lt;dbl&gt;</th><th scope=col>&lt;dbl&gt;</th><th scope=col>&lt;chr&gt;</th><th scope=col>&lt;dbl&gt;</th><th scope=col>&lt;dbl&gt;</th><th scope=col>&lt;dbl&gt;</th></tr>\n",
       "</thead>\n",
       "<tbody>\n",
       "\t<tr><th scope=row>1</th><td>EEF1A1</td><td> 9511.863</td><td> 8156.986</td><td>7981.032</td><td>9030.484</td><td>7689.327</td><td>9357.482</td><td>8085.816</td><td>9618.236</td><td>8444.069</td><td>⋯</td><td>12.95125</td><td>1</td><td>EEF1A1</td><td>-0.1596433</td><td>12.95125</td><td>1.000000e+00</td><td>EEF1A1</td><td>-0.1195150</td><td>12.95125</td><td>1.000000e+00</td></tr>\n",
       "\t<tr><th scope=row>2</th><td>THBS1 </td><td>10015.564</td><td>10171.666</td><td>2897.085</td><td>5661.667</td><td>4404.470</td><td>8766.962</td><td>5053.088</td><td>8407.375</td><td>6702.251</td><td>⋯</td><td>12.16559</td><td>1</td><td>THBS1 </td><td>-3.0175467</td><td>12.16559</td><td>8.421295e-12</td><td>THBS1 </td><td>-3.0892559</td><td>12.16559</td><td>2.996962e-12</td></tr>\n",
       "\t<tr><th scope=row>3</th><td>AHNAK </td><td> 4707.223</td><td> 4797.567</td><td>4648.998</td><td>5360.808</td><td>3881.601</td><td>4410.905</td><td>4029.688</td><td>4580.094</td><td>3939.010</td><td>⋯</td><td>11.96560</td><td>1</td><td>AHNAK </td><td>-0.5707989</td><td>11.96560</td><td>1.000000e+00</td><td>AHNAK </td><td>-0.5707206</td><td>11.96560</td><td>1.000000e+00</td></tr>\n",
       "\t<tr><th scope=row>4</th><td>ACTB  </td><td> 3315.240</td><td> 3573.435</td><td>6538.880</td><td>2774.664</td><td>2570.414</td><td>2671.880</td><td>2581.303</td><td>2673.691</td><td>2888.500</td><td>⋯</td><td>11.79834</td><td>1</td><td>ACTB  </td><td>-1.3473236</td><td>11.79834</td><td>7.694533e-03</td><td>ACTB  </td><td>-1.4555758</td><td>11.79834</td><td>3.116148e-04</td></tr>\n",
       "\t<tr><th scope=row>5</th><td>HLA-B </td><td> 3951.802</td><td> 3418.639</td><td>3559.242</td><td>3628.200</td><td>3156.379</td><td>3477.364</td><td>3449.185</td><td>3712.657</td><td>3768.545</td><td>⋯</td><td>11.73555</td><td>1</td><td>HLA-B </td><td>-0.1783601</td><td>11.73555</td><td>1.000000e+00</td><td>HLA-B </td><td>-0.1510933</td><td>11.73555</td><td>1.000000e+00</td></tr>\n",
       "\t<tr><th scope=row>6</th><td>FTH1  </td><td> 3577.504</td><td> 3836.081</td><td>5621.114</td><td>2840.856</td><td>2732.822</td><td>2995.232</td><td>2826.533</td><td>2756.474</td><td>3143.455</td><td>⋯</td><td>11.66557</td><td>1</td><td>FTH1  </td><td>-1.4012554</td><td>11.66557</td><td>1.795040e-03</td><td>FTH1  </td><td>-1.3899553</td><td>11.66557</td><td>2.145894e-03</td></tr>\n",
       "</tbody>\n",
       "</table>\n"
      ],
      "text/latex": [
       "A data.frame: 6 × 101\n",
       "\\begin{tabular}{r|lllllllllllllllllllll}\n",
       "  & genes & EtOH\\_04h.Avg & EtOH\\_08h.Avg & EtOH\\_24h.Avg & V125D3\\_10nM\\_04h.Avg & V125D3\\_10nM\\_08h.Avg & V25D3\\_1000nM\\_04h.Avg & V25D3\\_1000nM\\_08h.Avg & V25D2\\_1000nM\\_04h.Avg & V25D2\\_1000nM\\_08h.Avg & ⋯ & logCPM\\_V25D2\\_250nM\\_24h & FDR\\_V25D2\\_250nM\\_24h & genes.18 & logFC\\_V25D2\\_500nM\\_24h & logCPM\\_V25D2\\_500nM\\_24h & FDR\\_V25D2\\_500nM\\_24h & genes.19 & logFC\\_V25D2\\_750nM\\_24h & logCPM\\_V25D2\\_750nM\\_24h & FDR\\_V25D2\\_750nM\\_24h\\\\\n",
       "  & <chr> & <dbl> & <dbl> & <dbl> & <dbl> & <dbl> & <dbl> & <dbl> & <dbl> & <dbl> & ⋯ & <dbl> & <dbl> & <chr> & <dbl> & <dbl> & <dbl> & <chr> & <dbl> & <dbl> & <dbl>\\\\\n",
       "\\hline\n",
       "\t1 & EEF1A1 &  9511.863 &  8156.986 & 7981.032 & 9030.484 & 7689.327 & 9357.482 & 8085.816 & 9618.236 & 8444.069 & ⋯ & 12.95125 & 1 & EEF1A1 & -0.1596433 & 12.95125 & 1.000000e+00 & EEF1A1 & -0.1195150 & 12.95125 & 1.000000e+00\\\\\n",
       "\t2 & THBS1  & 10015.564 & 10171.666 & 2897.085 & 5661.667 & 4404.470 & 8766.962 & 5053.088 & 8407.375 & 6702.251 & ⋯ & 12.16559 & 1 & THBS1  & -3.0175467 & 12.16559 & 8.421295e-12 & THBS1  & -3.0892559 & 12.16559 & 2.996962e-12\\\\\n",
       "\t3 & AHNAK  &  4707.223 &  4797.567 & 4648.998 & 5360.808 & 3881.601 & 4410.905 & 4029.688 & 4580.094 & 3939.010 & ⋯ & 11.96560 & 1 & AHNAK  & -0.5707989 & 11.96560 & 1.000000e+00 & AHNAK  & -0.5707206 & 11.96560 & 1.000000e+00\\\\\n",
       "\t4 & ACTB   &  3315.240 &  3573.435 & 6538.880 & 2774.664 & 2570.414 & 2671.880 & 2581.303 & 2673.691 & 2888.500 & ⋯ & 11.79834 & 1 & ACTB   & -1.3473236 & 11.79834 & 7.694533e-03 & ACTB   & -1.4555758 & 11.79834 & 3.116148e-04\\\\\n",
       "\t5 & HLA-B  &  3951.802 &  3418.639 & 3559.242 & 3628.200 & 3156.379 & 3477.364 & 3449.185 & 3712.657 & 3768.545 & ⋯ & 11.73555 & 1 & HLA-B  & -0.1783601 & 11.73555 & 1.000000e+00 & HLA-B  & -0.1510933 & 11.73555 & 1.000000e+00\\\\\n",
       "\t6 & FTH1   &  3577.504 &  3836.081 & 5621.114 & 2840.856 & 2732.822 & 2995.232 & 2826.533 & 2756.474 & 3143.455 & ⋯ & 11.66557 & 1 & FTH1   & -1.4012554 & 11.66557 & 1.795040e-03 & FTH1   & -1.3899553 & 11.66557 & 2.145894e-03\\\\\n",
       "\\end{tabular}\n"
      ],
      "text/markdown": [
       "\n",
       "A data.frame: 6 × 101\n",
       "\n",
       "| <!--/--> | genes &lt;chr&gt; | EtOH_04h.Avg &lt;dbl&gt; | EtOH_08h.Avg &lt;dbl&gt; | EtOH_24h.Avg &lt;dbl&gt; | V125D3_10nM_04h.Avg &lt;dbl&gt; | V125D3_10nM_08h.Avg &lt;dbl&gt; | V25D3_1000nM_04h.Avg &lt;dbl&gt; | V25D3_1000nM_08h.Avg &lt;dbl&gt; | V25D2_1000nM_04h.Avg &lt;dbl&gt; | V25D2_1000nM_08h.Avg &lt;dbl&gt; | ⋯ ⋯ | logCPM_V25D2_250nM_24h &lt;dbl&gt; | FDR_V25D2_250nM_24h &lt;dbl&gt; | genes.18 &lt;chr&gt; | logFC_V25D2_500nM_24h &lt;dbl&gt; | logCPM_V25D2_500nM_24h &lt;dbl&gt; | FDR_V25D2_500nM_24h &lt;dbl&gt; | genes.19 &lt;chr&gt; | logFC_V25D2_750nM_24h &lt;dbl&gt; | logCPM_V25D2_750nM_24h &lt;dbl&gt; | FDR_V25D2_750nM_24h &lt;dbl&gt; |\n",
       "|---|---|---|---|---|---|---|---|---|---|---|---|---|---|---|---|---|---|---|---|---|---|\n",
       "| 1 | EEF1A1 |  9511.863 |  8156.986 | 7981.032 | 9030.484 | 7689.327 | 9357.482 | 8085.816 | 9618.236 | 8444.069 | ⋯ | 12.95125 | 1 | EEF1A1 | -0.1596433 | 12.95125 | 1.000000e+00 | EEF1A1 | -0.1195150 | 12.95125 | 1.000000e+00 |\n",
       "| 2 | THBS1  | 10015.564 | 10171.666 | 2897.085 | 5661.667 | 4404.470 | 8766.962 | 5053.088 | 8407.375 | 6702.251 | ⋯ | 12.16559 | 1 | THBS1  | -3.0175467 | 12.16559 | 8.421295e-12 | THBS1  | -3.0892559 | 12.16559 | 2.996962e-12 |\n",
       "| 3 | AHNAK  |  4707.223 |  4797.567 | 4648.998 | 5360.808 | 3881.601 | 4410.905 | 4029.688 | 4580.094 | 3939.010 | ⋯ | 11.96560 | 1 | AHNAK  | -0.5707989 | 11.96560 | 1.000000e+00 | AHNAK  | -0.5707206 | 11.96560 | 1.000000e+00 |\n",
       "| 4 | ACTB   |  3315.240 |  3573.435 | 6538.880 | 2774.664 | 2570.414 | 2671.880 | 2581.303 | 2673.691 | 2888.500 | ⋯ | 11.79834 | 1 | ACTB   | -1.3473236 | 11.79834 | 7.694533e-03 | ACTB   | -1.4555758 | 11.79834 | 3.116148e-04 |\n",
       "| 5 | HLA-B  |  3951.802 |  3418.639 | 3559.242 | 3628.200 | 3156.379 | 3477.364 | 3449.185 | 3712.657 | 3768.545 | ⋯ | 11.73555 | 1 | HLA-B  | -0.1783601 | 11.73555 | 1.000000e+00 | HLA-B  | -0.1510933 | 11.73555 | 1.000000e+00 |\n",
       "| 6 | FTH1   |  3577.504 |  3836.081 | 5621.114 | 2840.856 | 2732.822 | 2995.232 | 2826.533 | 2756.474 | 3143.455 | ⋯ | 11.66557 | 1 | FTH1   | -1.4012554 | 11.66557 | 1.795040e-03 | FTH1   | -1.3899553 | 11.66557 | 2.145894e-03 |\n",
       "\n"
      ],
      "text/plain": [
       "  genes  EtOH_04h.Avg EtOH_08h.Avg EtOH_24h.Avg V125D3_10nM_04h.Avg\n",
       "1 EEF1A1  9511.863     8156.986    7981.032     9030.484           \n",
       "2 THBS1  10015.564    10171.666    2897.085     5661.667           \n",
       "3 AHNAK   4707.223     4797.567    4648.998     5360.808           \n",
       "4 ACTB    3315.240     3573.435    6538.880     2774.664           \n",
       "5 HLA-B   3951.802     3418.639    3559.242     3628.200           \n",
       "6 FTH1    3577.504     3836.081    5621.114     2840.856           \n",
       "  V125D3_10nM_08h.Avg V25D3_1000nM_04h.Avg V25D3_1000nM_08h.Avg\n",
       "1 7689.327            9357.482             8085.816            \n",
       "2 4404.470            8766.962             5053.088            \n",
       "3 3881.601            4410.905             4029.688            \n",
       "4 2570.414            2671.880             2581.303            \n",
       "5 3156.379            3477.364             3449.185            \n",
       "6 2732.822            2995.232             2826.533            \n",
       "  V25D2_1000nM_04h.Avg V25D2_1000nM_08h.Avg ⋯ logCPM_V25D2_250nM_24h\n",
       "1 9618.236             8444.069             ⋯ 12.95125              \n",
       "2 8407.375             6702.251             ⋯ 12.16559              \n",
       "3 4580.094             3939.010             ⋯ 11.96560              \n",
       "4 2673.691             2888.500             ⋯ 11.79834              \n",
       "5 3712.657             3768.545             ⋯ 11.73555              \n",
       "6 2756.474             3143.455             ⋯ 11.66557              \n",
       "  FDR_V25D2_250nM_24h genes.18 logFC_V25D2_500nM_24h logCPM_V25D2_500nM_24h\n",
       "1 1                   EEF1A1   -0.1596433            12.95125              \n",
       "2 1                   THBS1    -3.0175467            12.16559              \n",
       "3 1                   AHNAK    -0.5707989            11.96560              \n",
       "4 1                   ACTB     -1.3473236            11.79834              \n",
       "5 1                   HLA-B    -0.1783601            11.73555              \n",
       "6 1                   FTH1     -1.4012554            11.66557              \n",
       "  FDR_V25D2_500nM_24h genes.19 logFC_V25D2_750nM_24h logCPM_V25D2_750nM_24h\n",
       "1 1.000000e+00        EEF1A1   -0.1195150            12.95125              \n",
       "2 8.421295e-12        THBS1    -3.0892559            12.16559              \n",
       "3 1.000000e+00        AHNAK    -0.5707206            11.96560              \n",
       "4 7.694533e-03        ACTB     -1.4555758            11.79834              \n",
       "5 1.000000e+00        HLA-B    -0.1510933            11.73555              \n",
       "6 1.795040e-03        FTH1     -1.3899553            11.66557              \n",
       "  FDR_V25D2_750nM_24h\n",
       "1 1.000000e+00       \n",
       "2 2.996962e-12       \n",
       "3 1.000000e+00       \n",
       "4 3.116148e-04       \n",
       "5 1.000000e+00       \n",
       "6 2.145894e-03       "
      ]
     },
     "metadata": {},
     "output_type": "display_data"
    }
   ],
   "source": [
    "#str(CCCA, list.len=ncol(CCCA))\n",
    "head(CCCA)"
   ]
  },
  {
   "cell_type": "code",
   "execution_count": 27,
   "id": "massive-credit",
   "metadata": {},
   "outputs": [],
   "source": [
    "xs = CCCA %>%\n",
    "column_to_rownames (\"genes\")  %>%\n",
    "select (., -starts_with (\"genes\")) %>%\n",
    "rownames_to_column (\"hgnc_symbol\") #%>%"
   ]
  },
  {
   "cell_type": "code",
   "execution_count": 28,
   "id": "super-beaver",
   "metadata": {},
   "outputs": [
    {
     "data": {
      "text/html": [
       "<table class=\"dataframe\">\n",
       "<caption>A data.frame: 6 × 82</caption>\n",
       "<thead>\n",
       "\t<tr><th></th><th scope=col>hgnc_symbol</th><th scope=col>EtOH_04h.Avg</th><th scope=col>EtOH_08h.Avg</th><th scope=col>EtOH_24h.Avg</th><th scope=col>V125D3_10nM_04h.Avg</th><th scope=col>V125D3_10nM_08h.Avg</th><th scope=col>V25D3_1000nM_04h.Avg</th><th scope=col>V25D3_1000nM_08h.Avg</th><th scope=col>V25D2_1000nM_04h.Avg</th><th scope=col>V25D2_1000nM_08h.Avg</th><th scope=col>⋯</th><th scope=col>FDR_V25D2_100nM_24h</th><th scope=col>logFC_V25D2_250nM_24h</th><th scope=col>logCPM_V25D2_250nM_24h</th><th scope=col>FDR_V25D2_250nM_24h</th><th scope=col>logFC_V25D2_500nM_24h</th><th scope=col>logCPM_V25D2_500nM_24h</th><th scope=col>FDR_V25D2_500nM_24h</th><th scope=col>logFC_V25D2_750nM_24h</th><th scope=col>logCPM_V25D2_750nM_24h</th><th scope=col>FDR_V25D2_750nM_24h</th></tr>\n",
       "\t<tr><th></th><th scope=col>&lt;chr&gt;</th><th scope=col>&lt;dbl&gt;</th><th scope=col>&lt;dbl&gt;</th><th scope=col>&lt;dbl&gt;</th><th scope=col>&lt;dbl&gt;</th><th scope=col>&lt;dbl&gt;</th><th scope=col>&lt;dbl&gt;</th><th scope=col>&lt;dbl&gt;</th><th scope=col>&lt;dbl&gt;</th><th scope=col>&lt;dbl&gt;</th><th scope=col>⋯</th><th scope=col>&lt;dbl&gt;</th><th scope=col>&lt;dbl&gt;</th><th scope=col>&lt;dbl&gt;</th><th scope=col>&lt;dbl&gt;</th><th scope=col>&lt;dbl&gt;</th><th scope=col>&lt;dbl&gt;</th><th scope=col>&lt;dbl&gt;</th><th scope=col>&lt;dbl&gt;</th><th scope=col>&lt;dbl&gt;</th><th scope=col>&lt;dbl&gt;</th></tr>\n",
       "</thead>\n",
       "<tbody>\n",
       "\t<tr><th scope=row>1</th><td>EEF1A1</td><td> 9511.863</td><td> 8156.986</td><td>7981.032</td><td>9030.484</td><td>7689.327</td><td>9357.482</td><td>8085.816</td><td>9618.236</td><td>8444.069</td><td>⋯</td><td>1</td><td>-0.14703448</td><td>12.95125</td><td>1</td><td>-0.1596433</td><td>12.95125</td><td>1.000000e+00</td><td>-0.1195150</td><td>12.95125</td><td>1.000000e+00</td></tr>\n",
       "\t<tr><th scope=row>2</th><td>THBS1 </td><td>10015.564</td><td>10171.666</td><td>2897.085</td><td>5661.667</td><td>4404.470</td><td>8766.962</td><td>5053.088</td><td>8407.375</td><td>6702.251</td><td>⋯</td><td>1</td><td> 1.23034273</td><td>12.16559</td><td>1</td><td>-3.0175467</td><td>12.16559</td><td>8.421295e-12</td><td>-3.0892559</td><td>12.16559</td><td>2.996962e-12</td></tr>\n",
       "\t<tr><th scope=row>3</th><td>AHNAK </td><td> 4707.223</td><td> 4797.567</td><td>4648.998</td><td>5360.808</td><td>3881.601</td><td>4410.905</td><td>4029.688</td><td>4580.094</td><td>3939.010</td><td>⋯</td><td>1</td><td>-0.21068044</td><td>11.96560</td><td>1</td><td>-0.5707989</td><td>11.96560</td><td>1.000000e+00</td><td>-0.5707206</td><td>11.96560</td><td>1.000000e+00</td></tr>\n",
       "\t<tr><th scope=row>4</th><td>ACTB  </td><td> 3315.240</td><td> 3573.435</td><td>6538.880</td><td>2774.664</td><td>2570.414</td><td>2671.880</td><td>2581.303</td><td>2673.691</td><td>2888.500</td><td>⋯</td><td>1</td><td>-0.50626141</td><td>11.79834</td><td>1</td><td>-1.3473236</td><td>11.79834</td><td>7.694533e-03</td><td>-1.4555758</td><td>11.79834</td><td>3.116148e-04</td></tr>\n",
       "\t<tr><th scope=row>5</th><td>HLA-B </td><td> 3951.802</td><td> 3418.639</td><td>3559.242</td><td>3628.200</td><td>3156.379</td><td>3477.364</td><td>3449.185</td><td>3712.657</td><td>3768.545</td><td>⋯</td><td>1</td><td>-0.09694076</td><td>11.73555</td><td>1</td><td>-0.1783601</td><td>11.73555</td><td>1.000000e+00</td><td>-0.1510933</td><td>11.73555</td><td>1.000000e+00</td></tr>\n",
       "\t<tr><th scope=row>6</th><td>FTH1  </td><td> 3577.504</td><td> 3836.081</td><td>5621.114</td><td>2840.856</td><td>2732.822</td><td>2995.232</td><td>2826.533</td><td>2756.474</td><td>3143.455</td><td>⋯</td><td>1</td><td>-0.35174641</td><td>11.66557</td><td>1</td><td>-1.4012554</td><td>11.66557</td><td>1.795040e-03</td><td>-1.3899553</td><td>11.66557</td><td>2.145894e-03</td></tr>\n",
       "</tbody>\n",
       "</table>\n"
      ],
      "text/latex": [
       "A data.frame: 6 × 82\n",
       "\\begin{tabular}{r|lllllllllllllllllllll}\n",
       "  & hgnc\\_symbol & EtOH\\_04h.Avg & EtOH\\_08h.Avg & EtOH\\_24h.Avg & V125D3\\_10nM\\_04h.Avg & V125D3\\_10nM\\_08h.Avg & V25D3\\_1000nM\\_04h.Avg & V25D3\\_1000nM\\_08h.Avg & V25D2\\_1000nM\\_04h.Avg & V25D2\\_1000nM\\_08h.Avg & ⋯ & FDR\\_V25D2\\_100nM\\_24h & logFC\\_V25D2\\_250nM\\_24h & logCPM\\_V25D2\\_250nM\\_24h & FDR\\_V25D2\\_250nM\\_24h & logFC\\_V25D2\\_500nM\\_24h & logCPM\\_V25D2\\_500nM\\_24h & FDR\\_V25D2\\_500nM\\_24h & logFC\\_V25D2\\_750nM\\_24h & logCPM\\_V25D2\\_750nM\\_24h & FDR\\_V25D2\\_750nM\\_24h\\\\\n",
       "  & <chr> & <dbl> & <dbl> & <dbl> & <dbl> & <dbl> & <dbl> & <dbl> & <dbl> & <dbl> & ⋯ & <dbl> & <dbl> & <dbl> & <dbl> & <dbl> & <dbl> & <dbl> & <dbl> & <dbl> & <dbl>\\\\\n",
       "\\hline\n",
       "\t1 & EEF1A1 &  9511.863 &  8156.986 & 7981.032 & 9030.484 & 7689.327 & 9357.482 & 8085.816 & 9618.236 & 8444.069 & ⋯ & 1 & -0.14703448 & 12.95125 & 1 & -0.1596433 & 12.95125 & 1.000000e+00 & -0.1195150 & 12.95125 & 1.000000e+00\\\\\n",
       "\t2 & THBS1  & 10015.564 & 10171.666 & 2897.085 & 5661.667 & 4404.470 & 8766.962 & 5053.088 & 8407.375 & 6702.251 & ⋯ & 1 &  1.23034273 & 12.16559 & 1 & -3.0175467 & 12.16559 & 8.421295e-12 & -3.0892559 & 12.16559 & 2.996962e-12\\\\\n",
       "\t3 & AHNAK  &  4707.223 &  4797.567 & 4648.998 & 5360.808 & 3881.601 & 4410.905 & 4029.688 & 4580.094 & 3939.010 & ⋯ & 1 & -0.21068044 & 11.96560 & 1 & -0.5707989 & 11.96560 & 1.000000e+00 & -0.5707206 & 11.96560 & 1.000000e+00\\\\\n",
       "\t4 & ACTB   &  3315.240 &  3573.435 & 6538.880 & 2774.664 & 2570.414 & 2671.880 & 2581.303 & 2673.691 & 2888.500 & ⋯ & 1 & -0.50626141 & 11.79834 & 1 & -1.3473236 & 11.79834 & 7.694533e-03 & -1.4555758 & 11.79834 & 3.116148e-04\\\\\n",
       "\t5 & HLA-B  &  3951.802 &  3418.639 & 3559.242 & 3628.200 & 3156.379 & 3477.364 & 3449.185 & 3712.657 & 3768.545 & ⋯ & 1 & -0.09694076 & 11.73555 & 1 & -0.1783601 & 11.73555 & 1.000000e+00 & -0.1510933 & 11.73555 & 1.000000e+00\\\\\n",
       "\t6 & FTH1   &  3577.504 &  3836.081 & 5621.114 & 2840.856 & 2732.822 & 2995.232 & 2826.533 & 2756.474 & 3143.455 & ⋯ & 1 & -0.35174641 & 11.66557 & 1 & -1.4012554 & 11.66557 & 1.795040e-03 & -1.3899553 & 11.66557 & 2.145894e-03\\\\\n",
       "\\end{tabular}\n"
      ],
      "text/markdown": [
       "\n",
       "A data.frame: 6 × 82\n",
       "\n",
       "| <!--/--> | hgnc_symbol &lt;chr&gt; | EtOH_04h.Avg &lt;dbl&gt; | EtOH_08h.Avg &lt;dbl&gt; | EtOH_24h.Avg &lt;dbl&gt; | V125D3_10nM_04h.Avg &lt;dbl&gt; | V125D3_10nM_08h.Avg &lt;dbl&gt; | V25D3_1000nM_04h.Avg &lt;dbl&gt; | V25D3_1000nM_08h.Avg &lt;dbl&gt; | V25D2_1000nM_04h.Avg &lt;dbl&gt; | V25D2_1000nM_08h.Avg &lt;dbl&gt; | ⋯ ⋯ | FDR_V25D2_100nM_24h &lt;dbl&gt; | logFC_V25D2_250nM_24h &lt;dbl&gt; | logCPM_V25D2_250nM_24h &lt;dbl&gt; | FDR_V25D2_250nM_24h &lt;dbl&gt; | logFC_V25D2_500nM_24h &lt;dbl&gt; | logCPM_V25D2_500nM_24h &lt;dbl&gt; | FDR_V25D2_500nM_24h &lt;dbl&gt; | logFC_V25D2_750nM_24h &lt;dbl&gt; | logCPM_V25D2_750nM_24h &lt;dbl&gt; | FDR_V25D2_750nM_24h &lt;dbl&gt; |\n",
       "|---|---|---|---|---|---|---|---|---|---|---|---|---|---|---|---|---|---|---|---|---|---|\n",
       "| 1 | EEF1A1 |  9511.863 |  8156.986 | 7981.032 | 9030.484 | 7689.327 | 9357.482 | 8085.816 | 9618.236 | 8444.069 | ⋯ | 1 | -0.14703448 | 12.95125 | 1 | -0.1596433 | 12.95125 | 1.000000e+00 | -0.1195150 | 12.95125 | 1.000000e+00 |\n",
       "| 2 | THBS1  | 10015.564 | 10171.666 | 2897.085 | 5661.667 | 4404.470 | 8766.962 | 5053.088 | 8407.375 | 6702.251 | ⋯ | 1 |  1.23034273 | 12.16559 | 1 | -3.0175467 | 12.16559 | 8.421295e-12 | -3.0892559 | 12.16559 | 2.996962e-12 |\n",
       "| 3 | AHNAK  |  4707.223 |  4797.567 | 4648.998 | 5360.808 | 3881.601 | 4410.905 | 4029.688 | 4580.094 | 3939.010 | ⋯ | 1 | -0.21068044 | 11.96560 | 1 | -0.5707989 | 11.96560 | 1.000000e+00 | -0.5707206 | 11.96560 | 1.000000e+00 |\n",
       "| 4 | ACTB   |  3315.240 |  3573.435 | 6538.880 | 2774.664 | 2570.414 | 2671.880 | 2581.303 | 2673.691 | 2888.500 | ⋯ | 1 | -0.50626141 | 11.79834 | 1 | -1.3473236 | 11.79834 | 7.694533e-03 | -1.4555758 | 11.79834 | 3.116148e-04 |\n",
       "| 5 | HLA-B  |  3951.802 |  3418.639 | 3559.242 | 3628.200 | 3156.379 | 3477.364 | 3449.185 | 3712.657 | 3768.545 | ⋯ | 1 | -0.09694076 | 11.73555 | 1 | -0.1783601 | 11.73555 | 1.000000e+00 | -0.1510933 | 11.73555 | 1.000000e+00 |\n",
       "| 6 | FTH1   |  3577.504 |  3836.081 | 5621.114 | 2840.856 | 2732.822 | 2995.232 | 2826.533 | 2756.474 | 3143.455 | ⋯ | 1 | -0.35174641 | 11.66557 | 1 | -1.4012554 | 11.66557 | 1.795040e-03 | -1.3899553 | 11.66557 | 2.145894e-03 |\n",
       "\n"
      ],
      "text/plain": [
       "  hgnc_symbol EtOH_04h.Avg EtOH_08h.Avg EtOH_24h.Avg V125D3_10nM_04h.Avg\n",
       "1 EEF1A1       9511.863     8156.986    7981.032     9030.484           \n",
       "2 THBS1       10015.564    10171.666    2897.085     5661.667           \n",
       "3 AHNAK        4707.223     4797.567    4648.998     5360.808           \n",
       "4 ACTB         3315.240     3573.435    6538.880     2774.664           \n",
       "5 HLA-B        3951.802     3418.639    3559.242     3628.200           \n",
       "6 FTH1         3577.504     3836.081    5621.114     2840.856           \n",
       "  V125D3_10nM_08h.Avg V25D3_1000nM_04h.Avg V25D3_1000nM_08h.Avg\n",
       "1 7689.327            9357.482             8085.816            \n",
       "2 4404.470            8766.962             5053.088            \n",
       "3 3881.601            4410.905             4029.688            \n",
       "4 2570.414            2671.880             2581.303            \n",
       "5 3156.379            3477.364             3449.185            \n",
       "6 2732.822            2995.232             2826.533            \n",
       "  V25D2_1000nM_04h.Avg V25D2_1000nM_08h.Avg ⋯ FDR_V25D2_100nM_24h\n",
       "1 9618.236             8444.069             ⋯ 1                  \n",
       "2 8407.375             6702.251             ⋯ 1                  \n",
       "3 4580.094             3939.010             ⋯ 1                  \n",
       "4 2673.691             2888.500             ⋯ 1                  \n",
       "5 3712.657             3768.545             ⋯ 1                  \n",
       "6 2756.474             3143.455             ⋯ 1                  \n",
       "  logFC_V25D2_250nM_24h logCPM_V25D2_250nM_24h FDR_V25D2_250nM_24h\n",
       "1 -0.14703448           12.95125               1                  \n",
       "2  1.23034273           12.16559               1                  \n",
       "3 -0.21068044           11.96560               1                  \n",
       "4 -0.50626141           11.79834               1                  \n",
       "5 -0.09694076           11.73555               1                  \n",
       "6 -0.35174641           11.66557               1                  \n",
       "  logFC_V25D2_500nM_24h logCPM_V25D2_500nM_24h FDR_V25D2_500nM_24h\n",
       "1 -0.1596433            12.95125               1.000000e+00       \n",
       "2 -3.0175467            12.16559               8.421295e-12       \n",
       "3 -0.5707989            11.96560               1.000000e+00       \n",
       "4 -1.3473236            11.79834               7.694533e-03       \n",
       "5 -0.1783601            11.73555               1.000000e+00       \n",
       "6 -1.4012554            11.66557               1.795040e-03       \n",
       "  logFC_V25D2_750nM_24h logCPM_V25D2_750nM_24h FDR_V25D2_750nM_24h\n",
       "1 -0.1195150            12.95125               1.000000e+00       \n",
       "2 -3.0892559            12.16559               2.996962e-12       \n",
       "3 -0.5707206            11.96560               1.000000e+00       \n",
       "4 -1.4555758            11.79834               3.116148e-04       \n",
       "5 -0.1510933            11.73555               1.000000e+00       \n",
       "6 -1.3899553            11.66557               2.145894e-03       "
      ]
     },
     "metadata": {},
     "output_type": "display_data"
    }
   ],
   "source": [
    "head (xs)"
   ]
  },
  {
   "cell_type": "code",
   "execution_count": 29,
   "id": "extended-flight",
   "metadata": {},
   "outputs": [],
   "source": [
    "xs2 = xs %>%\n",
    "\n",
    "mutate(Target_V125D3_1nM_24h= ifelse(FDR_V125D3_1nM_24h <0.05 & evidence_threshold == \"yes\", 1,0)) %>%\n",
    "\n",
    "mutate(Target_V125D3_10nM_04h = ifelse(FDR_V125D3_10nM_04h <0.05 & evidence_threshold == \"yes\", 1,0)) %>%\n",
    "mutate(Target_V125D3_10nM_08h = ifelse(FDR_V125D3_10nM_08h <0.05 & evidence_threshold == \"yes\", 1,0)) %>%\n",
    "mutate(Target_V125D3_10nM_24h= ifelse(FDR_V125D3_10nM_24h <0.05 & evidence_threshold == \"yes\", 1,0)) %>%\n",
    "\n",
    "mutate(Target_V125D3_0.1nM_24h= ifelse(FDR_V125D3_0.1nM_24h <0.05 & evidence_threshold == \"yes\", 1,0)) %>%\n",
    "\n",
    "mutate(Target_V25D3_1000nM_04h = ifelse(FDR_V25D3_1000nM_04h <0.05 & evidence_threshold == \"yes\", 1,0)) %>%\n",
    "mutate(Target_V25D3_1000nM_08h = ifelse(FDR_V25D3_1000nM_08h <0.05 & evidence_threshold == \"yes\", 1,0)) %>%\n",
    "mutate(Target_V25D3_1000nM_24h = ifelse(FDR_V25D3_1000nM_24h <0.05 & evidence_threshold == \"yes\", 1,0)) %>%\n",
    "\n",
    "mutate(Target_V25D2_1000nM_04h = ifelse(FDR_V25D2_1000nM_04h <0.05 & evidence_threshold == \"yes\", 1,0)) %>%\n",
    "mutate(Target_V25D2_1000nM_08h = ifelse(FDR_V25D2_1000nM_08h <0.05 & evidence_threshold == \"yes\", 1,0)) %>%\n",
    "mutate(Target_V25D2_1000nM_24h = ifelse(FDR_V25D2_1000nM_24h <0.05 & evidence_threshold == \"yes\", 1,0)) %>%\n",
    "\n",
    "mutate(Target_V25D3_100nM_24h= ifelse(FDR_V25D3_100nM_24h <0.05 & evidence_threshold == \"yes\", 1,0)) %>%\n",
    "mutate(Target_V25D3_250nM_24h= ifelse(FDR_V25D3_250nM_24h <0.05 & evidence_threshold == \"yes\", 1,0)) %>%\n",
    "mutate(Target_V25D3_500nM_24h= ifelse(FDR_V25D3_500nM_24h <0.05 & evidence_threshold == \"yes\", 1,0)) %>%\n",
    "mutate(Target_V25D3_750nM_24h= ifelse(FDR_V25D3_750nM_24h <0.05 & evidence_threshold == \"yes\", 1,0)) %>%\n",
    "\n",
    "mutate(Target_V25D2_100nM_24h= ifelse(FDR_V25D2_100nM_24h <0.05 & evidence_threshold == \"yes\", 1,0)) %>%\n",
    "mutate(Target_V25D2_250nM_24h= ifelse(FDR_V25D2_250nM_24h <0.05 & evidence_threshold == \"yes\", 1,0)) %>%\n",
    "mutate(Target_V25D2_500nM_24h= ifelse(FDR_V25D2_500nM_24h <0.05 & evidence_threshold == \"yes\", 1,0)) %>%\n",
    "mutate(Target_V25D2_750nM_24h= ifelse(FDR_V25D2_750nM_24h <0.05 & evidence_threshold == \"yes\", 1,0)) "
   ]
  },
  {
   "cell_type": "code",
   "execution_count": 30,
   "id": "dense-timber",
   "metadata": {},
   "outputs": [],
   "source": [
    "xs3 = xs2 %>%\n",
    "\n",
    "mutate(Up_Target_V125D3_1nM_24h= ifelse(Target_V125D3_1nM_24h ==1 & logFC_V125D3_1nM_24h >0, 1,0)) %>%\n",
    "\n",
    "mutate(Up_Target_V125D3_10nM_04h= ifelse(Target_V125D3_10nM_04h ==1 & logFC_V125D3_10nM_04h >0, 1,0)) %>%\n",
    "mutate(Up_Target_V125D3_10nM_08h= ifelse(Target_V125D3_10nM_08h ==1 & logFC_V125D3_10nM_08h >0, 1,0)) %>%\n",
    "mutate(Up_Target_V125D3_10nM_24h= ifelse(Target_V125D3_10nM_24h ==1 & logFC_V125D3_10nM_24h >0, 1,0)) %>%\n",
    "\n",
    "mutate(Up_Target_V125D3_0.1nM_24h= ifelse(Target_V125D3_0.1nM_24h ==1 & logFC_V125D3_0.1nM_24h >0, 1,0)) %>%\n",
    "\n",
    "mutate(Up_Target_V25D3_1000nM_04h= ifelse(Target_V25D3_1000nM_04h ==1 & logFC_V25D3_1000nM_04h >0, 1,0)) %>%\n",
    "mutate(Up_Target_V25D3_1000nM_08h= ifelse(Target_V25D3_1000nM_08h ==1 & logFC_V25D3_1000nM_08h >0, 1,0)) %>%\n",
    "mutate(Up_Target_V25D3_1000nM_24h= ifelse(Target_V25D3_1000nM_24h ==1 & logFC_V25D3_1000nM_24h >0, 1,0)) %>%\n",
    "\n",
    "mutate(Up_Target_V25D2_1000nM_04h= ifelse(Target_V25D2_1000nM_04h ==1 & logFC_V25D2_1000nM_04h >0, 1,0)) %>%\n",
    "mutate(Up_Target_V25D2_1000nM_08h= ifelse(Target_V25D2_1000nM_08h ==1 & logFC_V25D2_1000nM_08h >0, 1,0)) %>%\n",
    "mutate(Up_Target_V25D2_1000nM_24h= ifelse(Target_V25D2_1000nM_24h ==1 & logFC_V25D2_1000nM_24h >0, 1,0)) %>%\n",
    "\n",
    "mutate(Up_Target_V25D3_100nM_24h= ifelse(Target_V25D3_100nM_24h ==1 & logFC_V25D3_100nM_24h >0, 1,0)) %>%\n",
    "mutate(Up_Target_V25D3_250nM_24h= ifelse(Target_V25D3_250nM_24h ==1 & logFC_V25D3_250nM_24h >0, 1,0)) %>%\n",
    "mutate(Up_Target_V25D3_500nM_24h= ifelse(Target_V25D3_500nM_24h ==1 & logFC_V25D3_500nM_24h >0, 1,0)) %>%\n",
    "mutate(Up_Target_V25D3_750nM_24h= ifelse(Target_V25D3_750nM_24h ==1 & logFC_V25D3_750nM_24h >0, 1,0)) %>%\n",
    "\n",
    "mutate(Up_Target_V25D2_100nM_24h= ifelse(Target_V25D2_100nM_24h ==1 & logFC_V25D2_100nM_24h >0, 1,0)) %>%\n",
    "mutate(Up_Target_V25D2_250nM_24h= ifelse(Target_V25D2_250nM_24h ==1 & logFC_V25D2_250nM_24h >0, 1,0)) %>%\n",
    "mutate(Up_Target_V25D2_500nM_24h= ifelse(Target_V25D2_500nM_24h ==1 & logFC_V25D2_500nM_24h >0, 1,0)) %>%\n",
    "mutate(Up_Target_V25D2_750nM_24h= ifelse(Target_V25D2_750nM_24h ==1 & logFC_V25D2_750nM_24h >0, 1,0))# %>%"
   ]
  },
  {
   "cell_type": "code",
   "execution_count": 31,
   "id": "regular-album",
   "metadata": {},
   "outputs": [],
   "source": [
    "xs4 = xs3 %>%\n",
    "\n",
    "mutate(Down_Target_V125D3_1nM_24h= ifelse(Target_V125D3_1nM_24h ==1 & logFC_V125D3_1nM_24h <0, 1,0)) %>%\n",
    "\n",
    "mutate(Down_Target_V125D3_10nM_04h= ifelse(Target_V125D3_10nM_04h ==1 & logFC_V125D3_10nM_04h <0, 1,0)) %>%\n",
    "mutate(Down_Target_V125D3_10nM_08h= ifelse(Target_V125D3_10nM_08h ==1 & logFC_V125D3_10nM_08h <0, 1,0)) %>%\n",
    "mutate(Down_Target_V125D3_10nM_24h= ifelse(Target_V125D3_10nM_24h ==1 & logFC_V125D3_10nM_24h <0, 1,0)) %>%\n",
    "\n",
    "mutate(Down_Target_V125D3_0.1nM_24h= ifelse(Target_V125D3_0.1nM_24h ==1 & logFC_V125D3_0.1nM_24h <0, 1,0)) %>%\n",
    "\n",
    "mutate(Down_Target_V25D3_1000nM_04h= ifelse(Target_V25D3_1000nM_04h ==1 & logFC_V25D3_1000nM_04h <0, 1,0)) %>%\n",
    "mutate(Down_Target_V25D3_1000nM_08h= ifelse(Target_V25D3_1000nM_08h ==1 & logFC_V25D3_1000nM_08h <0, 1,0)) %>%\n",
    "mutate(Down_Target_V25D3_1000nM_24h= ifelse(Target_V25D3_1000nM_24h ==1 & logFC_V25D3_1000nM_24h <0, 1,0)) %>%\n",
    "\n",
    "mutate(Down_Target_V25D2_1000nM_04h= ifelse(Target_V25D2_1000nM_04h ==1 & logFC_V25D2_1000nM_04h <0, 1,0)) %>%\n",
    "mutate(Down_Target_V25D2_1000nM_08h= ifelse(Target_V25D2_1000nM_08h ==1 & logFC_V25D2_1000nM_08h <0, 1,0)) %>%\n",
    "mutate(Down_Target_V25D2_1000nM_24h= ifelse(Target_V25D2_1000nM_24h ==1 & logFC_V25D2_1000nM_24h <0, 1,0)) %>%\n",
    "\n",
    "mutate(Down_Target_V25D3_100nM_24h= ifelse(Target_V25D3_100nM_24h ==1 & logFC_V25D3_100nM_24h <0, 1,0)) %>%\n",
    "mutate(Down_Target_V25D3_250nM_24h= ifelse(Target_V25D3_250nM_24h ==1 & logFC_V25D3_250nM_24h <0, 1,0)) %>%\n",
    "mutate(Down_Target_V25D3_500nM_24h= ifelse(Target_V25D3_500nM_24h ==1 & logFC_V25D3_500nM_24h <0, 1,0)) %>%\n",
    "mutate(Down_Target_V25D3_750nM_24h= ifelse(Target_V25D3_750nM_24h ==1 & logFC_V25D3_750nM_24h <0, 1,0)) %>%\n",
    "\n",
    "mutate(Down_Target_V25D2_100nM_24h= ifelse(Target_V25D2_100nM_24h ==1 & logFC_V25D2_100nM_24h <0, 1,0)) %>%\n",
    "mutate(Down_Target_V25D2_250nM_24h= ifelse(Target_V25D2_250nM_24h ==1 & logFC_V25D2_250nM_24h <0, 1,0)) %>%\n",
    "mutate(Down_Target_V25D2_500nM_24h= ifelse(Target_V25D2_500nM_24h ==1 & logFC_V25D2_500nM_24h <0, 1,0)) %>%\n",
    "mutate(Down_Target_V25D2_750nM_24h= ifelse(Target_V25D2_750nM_24h ==1 & logFC_V25D2_750nM_24h <0, 1,0))# %>%\n",
    "\n",
    "#mutate(Down_Target_V125D3_10nM_24h_HR2020= ifelse(Target_V125D3_10nM_24h_HR2020 ==1 & logFC_V125D3_10nM_24h_HR2020 <0, 1,0))# %>%"
   ]
  },
  {
   "cell_type": "code",
   "execution_count": 32,
   "id": "ignored-recipe",
   "metadata": {},
   "outputs": [],
   "source": [
    "#str(xs4, list.len=ncol(xs4))"
   ]
  },
  {
   "cell_type": "code",
   "execution_count": 33,
   "id": "e48038fa-b9eb-4afe-93b2-e7f4fd50a4d3",
   "metadata": {},
   "outputs": [
    {
     "data": {
      "text/plain": [
       "\n",
       "    0     1 \n",
       "12919    20 "
      ]
     },
     "metadata": {},
     "output_type": "display_data"
    },
    {
     "data": {
      "text/plain": [
       "\n",
       "    0     1 \n",
       "12920    19 "
      ]
     },
     "metadata": {},
     "output_type": "display_data"
    },
    {
     "data": {
      "text/plain": [
       "\n",
       "    0     1 \n",
       "12938     1 "
      ]
     },
     "metadata": {},
     "output_type": "display_data"
    }
   ],
   "source": [
    "table (xs4$Target_V25D2_1000nM_04h)\n",
    "table (xs4$Up_Target_V25D2_1000nM_04h)\n",
    "table (xs4$Down_Target_V25D2_1000nM_04h)"
   ]
  },
  {
   "cell_type": "code",
   "execution_count": 34,
   "id": "infrared-infrastructure",
   "metadata": {},
   "outputs": [
    {
     "data": {
      "text/html": [
       "<style>\n",
       ".list-inline {list-style: none; margin:0; padding: 0}\n",
       ".list-inline>li {display: inline-block}\n",
       ".list-inline>li:not(:last-child)::after {content: \"\\00b7\"; padding: 0 .5ex}\n",
       "</style>\n",
       "<ol class=list-inline><li>12939</li><li>139</li></ol>\n"
      ],
      "text/latex": [
       "\\begin{enumerate*}\n",
       "\\item 12939\n",
       "\\item 139\n",
       "\\end{enumerate*}\n"
      ],
      "text/markdown": [
       "1. 12939\n",
       "2. 139\n",
       "\n",
       "\n"
      ],
      "text/plain": [
       "[1] 12939   139"
      ]
     },
     "metadata": {},
     "output_type": "display_data"
    }
   ],
   "source": [
    "dim (xs4)"
   ]
  },
  {
   "cell_type": "code",
   "execution_count": 35,
   "id": "compressed-tanzania",
   "metadata": {},
   "outputs": [],
   "source": [
    "write.table(xs4, \"./data/stats-forMA.tsv\", sep = '\\t', row.names =F)"
   ]
  },
  {
   "cell_type": "code",
   "execution_count": 36,
   "id": "opened-kruger",
   "metadata": {},
   "outputs": [],
   "source": [
    "xs5 = xs4 %>%\n",
    "rowwise() %>% \n",
    " mutate(., howmany = sum(c_across (Target_V125D3_1nM_24h:Target_V25D2_750nM_24h)))"
   ]
  },
  {
   "cell_type": "code",
   "execution_count": 37,
   "id": "federal-characterization",
   "metadata": {},
   "outputs": [
    {
     "data": {
      "text/html": [
       "<table class=\"dataframe\">\n",
       "<caption>A rowwise_df: 6 × 140</caption>\n",
       "<thead>\n",
       "\t<tr><th scope=col>hgnc_symbol</th><th scope=col>EtOH_04h.Avg</th><th scope=col>EtOH_08h.Avg</th><th scope=col>EtOH_24h.Avg</th><th scope=col>V125D3_10nM_04h.Avg</th><th scope=col>V125D3_10nM_08h.Avg</th><th scope=col>V25D3_1000nM_04h.Avg</th><th scope=col>V25D3_1000nM_08h.Avg</th><th scope=col>V25D2_1000nM_04h.Avg</th><th scope=col>V25D2_1000nM_08h.Avg</th><th scope=col>⋯</th><th scope=col>Down_Target_V25D2_1000nM_24h</th><th scope=col>Down_Target_V25D3_100nM_24h</th><th scope=col>Down_Target_V25D3_250nM_24h</th><th scope=col>Down_Target_V25D3_500nM_24h</th><th scope=col>Down_Target_V25D3_750nM_24h</th><th scope=col>Down_Target_V25D2_100nM_24h</th><th scope=col>Down_Target_V25D2_250nM_24h</th><th scope=col>Down_Target_V25D2_500nM_24h</th><th scope=col>Down_Target_V25D2_750nM_24h</th><th scope=col>howmany</th></tr>\n",
       "\t<tr><th scope=col>&lt;chr&gt;</th><th scope=col>&lt;dbl&gt;</th><th scope=col>&lt;dbl&gt;</th><th scope=col>&lt;dbl&gt;</th><th scope=col>&lt;dbl&gt;</th><th scope=col>&lt;dbl&gt;</th><th scope=col>&lt;dbl&gt;</th><th scope=col>&lt;dbl&gt;</th><th scope=col>&lt;dbl&gt;</th><th scope=col>&lt;dbl&gt;</th><th scope=col>⋯</th><th scope=col>&lt;dbl&gt;</th><th scope=col>&lt;dbl&gt;</th><th scope=col>&lt;dbl&gt;</th><th scope=col>&lt;dbl&gt;</th><th scope=col>&lt;dbl&gt;</th><th scope=col>&lt;dbl&gt;</th><th scope=col>&lt;dbl&gt;</th><th scope=col>&lt;dbl&gt;</th><th scope=col>&lt;dbl&gt;</th><th scope=col>&lt;dbl&gt;</th></tr>\n",
       "</thead>\n",
       "<tbody>\n",
       "\t<tr><td>EEF1A1</td><td> 9511.863</td><td> 8156.986</td><td>7981.032</td><td>9030.484</td><td>7689.327</td><td>9357.482</td><td>8085.816</td><td>9618.236</td><td>8444.069</td><td>⋯</td><td>0</td><td>0</td><td>0</td><td>0</td><td>0</td><td>0</td><td>0</td><td>0</td><td>0</td><td>0</td></tr>\n",
       "\t<tr><td>THBS1 </td><td>10015.564</td><td>10171.666</td><td>2897.085</td><td>5661.667</td><td>4404.470</td><td>8766.962</td><td>5053.088</td><td>8407.375</td><td>6702.251</td><td>⋯</td><td>1</td><td>0</td><td>0</td><td>1</td><td>1</td><td>0</td><td>0</td><td>1</td><td>1</td><td>8</td></tr>\n",
       "\t<tr><td>AHNAK </td><td> 4707.223</td><td> 4797.567</td><td>4648.998</td><td>5360.808</td><td>3881.601</td><td>4410.905</td><td>4029.688</td><td>4580.094</td><td>3939.010</td><td>⋯</td><td>0</td><td>0</td><td>0</td><td>0</td><td>0</td><td>0</td><td>0</td><td>0</td><td>0</td><td>0</td></tr>\n",
       "\t<tr><td>ACTB  </td><td> 3315.240</td><td> 3573.435</td><td>6538.880</td><td>2774.664</td><td>2570.414</td><td>2671.880</td><td>2581.303</td><td>2673.691</td><td>2888.500</td><td>⋯</td><td>1</td><td>0</td><td>0</td><td>1</td><td>1</td><td>0</td><td>0</td><td>1</td><td>1</td><td>7</td></tr>\n",
       "\t<tr><td>HLA-B </td><td> 3951.802</td><td> 3418.639</td><td>3559.242</td><td>3628.200</td><td>3156.379</td><td>3477.364</td><td>3449.185</td><td>3712.657</td><td>3768.545</td><td>⋯</td><td>0</td><td>0</td><td>0</td><td>0</td><td>0</td><td>0</td><td>0</td><td>0</td><td>0</td><td>0</td></tr>\n",
       "\t<tr><td>FTH1  </td><td> 3577.504</td><td> 3836.081</td><td>5621.114</td><td>2840.856</td><td>2732.822</td><td>2995.232</td><td>2826.533</td><td>2756.474</td><td>3143.455</td><td>⋯</td><td>1</td><td>0</td><td>0</td><td>1</td><td>1</td><td>0</td><td>0</td><td>1</td><td>1</td><td>7</td></tr>\n",
       "</tbody>\n",
       "</table>\n"
      ],
      "text/latex": [
       "A rowwise\\_df: 6 × 140\n",
       "\\begin{tabular}{lllllllllllllllllllll}\n",
       " hgnc\\_symbol & EtOH\\_04h.Avg & EtOH\\_08h.Avg & EtOH\\_24h.Avg & V125D3\\_10nM\\_04h.Avg & V125D3\\_10nM\\_08h.Avg & V25D3\\_1000nM\\_04h.Avg & V25D3\\_1000nM\\_08h.Avg & V25D2\\_1000nM\\_04h.Avg & V25D2\\_1000nM\\_08h.Avg & ⋯ & Down\\_Target\\_V25D2\\_1000nM\\_24h & Down\\_Target\\_V25D3\\_100nM\\_24h & Down\\_Target\\_V25D3\\_250nM\\_24h & Down\\_Target\\_V25D3\\_500nM\\_24h & Down\\_Target\\_V25D3\\_750nM\\_24h & Down\\_Target\\_V25D2\\_100nM\\_24h & Down\\_Target\\_V25D2\\_250nM\\_24h & Down\\_Target\\_V25D2\\_500nM\\_24h & Down\\_Target\\_V25D2\\_750nM\\_24h & howmany\\\\\n",
       " <chr> & <dbl> & <dbl> & <dbl> & <dbl> & <dbl> & <dbl> & <dbl> & <dbl> & <dbl> & ⋯ & <dbl> & <dbl> & <dbl> & <dbl> & <dbl> & <dbl> & <dbl> & <dbl> & <dbl> & <dbl>\\\\\n",
       "\\hline\n",
       "\t EEF1A1 &  9511.863 &  8156.986 & 7981.032 & 9030.484 & 7689.327 & 9357.482 & 8085.816 & 9618.236 & 8444.069 & ⋯ & 0 & 0 & 0 & 0 & 0 & 0 & 0 & 0 & 0 & 0\\\\\n",
       "\t THBS1  & 10015.564 & 10171.666 & 2897.085 & 5661.667 & 4404.470 & 8766.962 & 5053.088 & 8407.375 & 6702.251 & ⋯ & 1 & 0 & 0 & 1 & 1 & 0 & 0 & 1 & 1 & 8\\\\\n",
       "\t AHNAK  &  4707.223 &  4797.567 & 4648.998 & 5360.808 & 3881.601 & 4410.905 & 4029.688 & 4580.094 & 3939.010 & ⋯ & 0 & 0 & 0 & 0 & 0 & 0 & 0 & 0 & 0 & 0\\\\\n",
       "\t ACTB   &  3315.240 &  3573.435 & 6538.880 & 2774.664 & 2570.414 & 2671.880 & 2581.303 & 2673.691 & 2888.500 & ⋯ & 1 & 0 & 0 & 1 & 1 & 0 & 0 & 1 & 1 & 7\\\\\n",
       "\t HLA-B  &  3951.802 &  3418.639 & 3559.242 & 3628.200 & 3156.379 & 3477.364 & 3449.185 & 3712.657 & 3768.545 & ⋯ & 0 & 0 & 0 & 0 & 0 & 0 & 0 & 0 & 0 & 0\\\\\n",
       "\t FTH1   &  3577.504 &  3836.081 & 5621.114 & 2840.856 & 2732.822 & 2995.232 & 2826.533 & 2756.474 & 3143.455 & ⋯ & 1 & 0 & 0 & 1 & 1 & 0 & 0 & 1 & 1 & 7\\\\\n",
       "\\end{tabular}\n"
      ],
      "text/markdown": [
       "\n",
       "A rowwise_df: 6 × 140\n",
       "\n",
       "| hgnc_symbol &lt;chr&gt; | EtOH_04h.Avg &lt;dbl&gt; | EtOH_08h.Avg &lt;dbl&gt; | EtOH_24h.Avg &lt;dbl&gt; | V125D3_10nM_04h.Avg &lt;dbl&gt; | V125D3_10nM_08h.Avg &lt;dbl&gt; | V25D3_1000nM_04h.Avg &lt;dbl&gt; | V25D3_1000nM_08h.Avg &lt;dbl&gt; | V25D2_1000nM_04h.Avg &lt;dbl&gt; | V25D2_1000nM_08h.Avg &lt;dbl&gt; | ⋯ ⋯ | Down_Target_V25D2_1000nM_24h &lt;dbl&gt; | Down_Target_V25D3_100nM_24h &lt;dbl&gt; | Down_Target_V25D3_250nM_24h &lt;dbl&gt; | Down_Target_V25D3_500nM_24h &lt;dbl&gt; | Down_Target_V25D3_750nM_24h &lt;dbl&gt; | Down_Target_V25D2_100nM_24h &lt;dbl&gt; | Down_Target_V25D2_250nM_24h &lt;dbl&gt; | Down_Target_V25D2_500nM_24h &lt;dbl&gt; | Down_Target_V25D2_750nM_24h &lt;dbl&gt; | howmany &lt;dbl&gt; |\n",
       "|---|---|---|---|---|---|---|---|---|---|---|---|---|---|---|---|---|---|---|---|---|\n",
       "| EEF1A1 |  9511.863 |  8156.986 | 7981.032 | 9030.484 | 7689.327 | 9357.482 | 8085.816 | 9618.236 | 8444.069 | ⋯ | 0 | 0 | 0 | 0 | 0 | 0 | 0 | 0 | 0 | 0 |\n",
       "| THBS1  | 10015.564 | 10171.666 | 2897.085 | 5661.667 | 4404.470 | 8766.962 | 5053.088 | 8407.375 | 6702.251 | ⋯ | 1 | 0 | 0 | 1 | 1 | 0 | 0 | 1 | 1 | 8 |\n",
       "| AHNAK  |  4707.223 |  4797.567 | 4648.998 | 5360.808 | 3881.601 | 4410.905 | 4029.688 | 4580.094 | 3939.010 | ⋯ | 0 | 0 | 0 | 0 | 0 | 0 | 0 | 0 | 0 | 0 |\n",
       "| ACTB   |  3315.240 |  3573.435 | 6538.880 | 2774.664 | 2570.414 | 2671.880 | 2581.303 | 2673.691 | 2888.500 | ⋯ | 1 | 0 | 0 | 1 | 1 | 0 | 0 | 1 | 1 | 7 |\n",
       "| HLA-B  |  3951.802 |  3418.639 | 3559.242 | 3628.200 | 3156.379 | 3477.364 | 3449.185 | 3712.657 | 3768.545 | ⋯ | 0 | 0 | 0 | 0 | 0 | 0 | 0 | 0 | 0 | 0 |\n",
       "| FTH1   |  3577.504 |  3836.081 | 5621.114 | 2840.856 | 2732.822 | 2995.232 | 2826.533 | 2756.474 | 3143.455 | ⋯ | 1 | 0 | 0 | 1 | 1 | 0 | 0 | 1 | 1 | 7 |\n",
       "\n"
      ],
      "text/plain": [
       "  hgnc_symbol EtOH_04h.Avg EtOH_08h.Avg EtOH_24h.Avg V125D3_10nM_04h.Avg\n",
       "1 EEF1A1       9511.863     8156.986    7981.032     9030.484           \n",
       "2 THBS1       10015.564    10171.666    2897.085     5661.667           \n",
       "3 AHNAK        4707.223     4797.567    4648.998     5360.808           \n",
       "4 ACTB         3315.240     3573.435    6538.880     2774.664           \n",
       "5 HLA-B        3951.802     3418.639    3559.242     3628.200           \n",
       "6 FTH1         3577.504     3836.081    5621.114     2840.856           \n",
       "  V125D3_10nM_08h.Avg V25D3_1000nM_04h.Avg V25D3_1000nM_08h.Avg\n",
       "1 7689.327            9357.482             8085.816            \n",
       "2 4404.470            8766.962             5053.088            \n",
       "3 3881.601            4410.905             4029.688            \n",
       "4 2570.414            2671.880             2581.303            \n",
       "5 3156.379            3477.364             3449.185            \n",
       "6 2732.822            2995.232             2826.533            \n",
       "  V25D2_1000nM_04h.Avg V25D2_1000nM_08h.Avg ⋯ Down_Target_V25D2_1000nM_24h\n",
       "1 9618.236             8444.069             ⋯ 0                           \n",
       "2 8407.375             6702.251             ⋯ 1                           \n",
       "3 4580.094             3939.010             ⋯ 0                           \n",
       "4 2673.691             2888.500             ⋯ 1                           \n",
       "5 3712.657             3768.545             ⋯ 0                           \n",
       "6 2756.474             3143.455             ⋯ 1                           \n",
       "  Down_Target_V25D3_100nM_24h Down_Target_V25D3_250nM_24h\n",
       "1 0                           0                          \n",
       "2 0                           0                          \n",
       "3 0                           0                          \n",
       "4 0                           0                          \n",
       "5 0                           0                          \n",
       "6 0                           0                          \n",
       "  Down_Target_V25D3_500nM_24h Down_Target_V25D3_750nM_24h\n",
       "1 0                           0                          \n",
       "2 1                           1                          \n",
       "3 0                           0                          \n",
       "4 1                           1                          \n",
       "5 0                           0                          \n",
       "6 1                           1                          \n",
       "  Down_Target_V25D2_100nM_24h Down_Target_V25D2_250nM_24h\n",
       "1 0                           0                          \n",
       "2 0                           0                          \n",
       "3 0                           0                          \n",
       "4 0                           0                          \n",
       "5 0                           0                          \n",
       "6 0                           0                          \n",
       "  Down_Target_V25D2_500nM_24h Down_Target_V25D2_750nM_24h howmany\n",
       "1 0                           0                           0      \n",
       "2 1                           1                           8      \n",
       "3 0                           0                           0      \n",
       "4 1                           1                           7      \n",
       "5 0                           0                           0      \n",
       "6 1                           1                           7      "
      ]
     },
     "metadata": {},
     "output_type": "display_data"
    }
   ],
   "source": [
    "head (xs5)"
   ]
  },
  {
   "cell_type": "code",
   "execution_count": 38,
   "id": "f61fb99f-6d37-4c01-98f7-9c9be751d4fa",
   "metadata": {},
   "outputs": [
    {
     "data": {
      "text/html": [
       "<style>\n",
       ".list-inline {list-style: none; margin:0; padding: 0}\n",
       ".list-inline>li {display: inline-block}\n",
       ".list-inline>li:not(:last-child)::after {content: \"\\00b7\"; padding: 0 .5ex}\n",
       "</style>\n",
       "<ol class=list-inline><li>553</li><li>140</li></ol>\n"
      ],
      "text/latex": [
       "\\begin{enumerate*}\n",
       "\\item 553\n",
       "\\item 140\n",
       "\\end{enumerate*}\n"
      ],
      "text/markdown": [
       "1. 553\n",
       "2. 140\n",
       "\n",
       "\n"
      ],
      "text/plain": [
       "[1] 553 140"
      ]
     },
     "metadata": {},
     "output_type": "display_data"
    }
   ],
   "source": [
    "xs5 %>%\n",
    "filter (., howmany > 0) %>%\n",
    "dim ()"
   ]
  },
  {
   "cell_type": "code",
   "execution_count": 39,
   "id": "latin-toolbox",
   "metadata": {},
   "outputs": [
    {
     "data": {
      "text/html": [
       "<table class=\"dataframe\">\n",
       "<caption>A data.frame: 6 × 102</caption>\n",
       "<thead>\n",
       "\t<tr><th></th><th scope=col>hgnc_symbol</th><th scope=col>EtOH_04h.Avg</th><th scope=col>EtOH_08h.Avg</th><th scope=col>EtOH_24h.Avg</th><th scope=col>V125D3_10nM_04h.Avg</th><th scope=col>V125D3_10nM_08h.Avg</th><th scope=col>V25D3_1000nM_04h.Avg</th><th scope=col>V25D3_1000nM_08h.Avg</th><th scope=col>V25D2_1000nM_04h.Avg</th><th scope=col>V25D2_1000nM_08h.Avg</th><th scope=col>⋯</th><th scope=col>Target_V25D2_1000nM_24h</th><th scope=col>Target_V25D3_100nM_24h</th><th scope=col>Target_V25D3_250nM_24h</th><th scope=col>Target_V25D3_500nM_24h</th><th scope=col>Target_V25D3_750nM_24h</th><th scope=col>Target_V25D2_100nM_24h</th><th scope=col>Target_V25D2_250nM_24h</th><th scope=col>Target_V25D2_500nM_24h</th><th scope=col>Target_V25D2_750nM_24h</th><th scope=col>howmany</th></tr>\n",
       "\t<tr><th></th><th scope=col>&lt;chr&gt;</th><th scope=col>&lt;dbl&gt;</th><th scope=col>&lt;dbl&gt;</th><th scope=col>&lt;dbl&gt;</th><th scope=col>&lt;dbl&gt;</th><th scope=col>&lt;dbl&gt;</th><th scope=col>&lt;dbl&gt;</th><th scope=col>&lt;dbl&gt;</th><th scope=col>&lt;dbl&gt;</th><th scope=col>&lt;dbl&gt;</th><th scope=col>⋯</th><th scope=col>&lt;dbl&gt;</th><th scope=col>&lt;dbl&gt;</th><th scope=col>&lt;dbl&gt;</th><th scope=col>&lt;dbl&gt;</th><th scope=col>&lt;dbl&gt;</th><th scope=col>&lt;dbl&gt;</th><th scope=col>&lt;dbl&gt;</th><th scope=col>&lt;dbl&gt;</th><th scope=col>&lt;dbl&gt;</th><th scope=col>&lt;dbl&gt;</th></tr>\n",
       "</thead>\n",
       "<tbody>\n",
       "\t<tr><th scope=row>1</th><td>EEF1A1</td><td> 9511.863</td><td> 8156.986</td><td>7981.032</td><td>9030.484</td><td>7689.327</td><td>9357.482</td><td>8085.816</td><td>9618.236</td><td>8444.069</td><td>⋯</td><td>0</td><td>0</td><td>0</td><td>0</td><td>0</td><td>0</td><td>0</td><td>0</td><td>0</td><td>0</td></tr>\n",
       "\t<tr><th scope=row>2</th><td>THBS1 </td><td>10015.564</td><td>10171.666</td><td>2897.085</td><td>5661.667</td><td>4404.470</td><td>8766.962</td><td>5053.088</td><td>8407.375</td><td>6702.251</td><td>⋯</td><td>1</td><td>0</td><td>0</td><td>1</td><td>1</td><td>0</td><td>0</td><td>1</td><td>1</td><td>8</td></tr>\n",
       "\t<tr><th scope=row>3</th><td>AHNAK </td><td> 4707.223</td><td> 4797.567</td><td>4648.998</td><td>5360.808</td><td>3881.601</td><td>4410.905</td><td>4029.688</td><td>4580.094</td><td>3939.010</td><td>⋯</td><td>0</td><td>0</td><td>0</td><td>0</td><td>0</td><td>0</td><td>0</td><td>0</td><td>0</td><td>0</td></tr>\n",
       "\t<tr><th scope=row>4</th><td>ACTB  </td><td> 3315.240</td><td> 3573.435</td><td>6538.880</td><td>2774.664</td><td>2570.414</td><td>2671.880</td><td>2581.303</td><td>2673.691</td><td>2888.500</td><td>⋯</td><td>1</td><td>0</td><td>0</td><td>1</td><td>1</td><td>0</td><td>0</td><td>1</td><td>1</td><td>7</td></tr>\n",
       "\t<tr><th scope=row>5</th><td>HLA-B </td><td> 3951.802</td><td> 3418.639</td><td>3559.242</td><td>3628.200</td><td>3156.379</td><td>3477.364</td><td>3449.185</td><td>3712.657</td><td>3768.545</td><td>⋯</td><td>0</td><td>0</td><td>0</td><td>0</td><td>0</td><td>0</td><td>0</td><td>0</td><td>0</td><td>0</td></tr>\n",
       "\t<tr><th scope=row>6</th><td>FTH1  </td><td> 3577.504</td><td> 3836.081</td><td>5621.114</td><td>2840.856</td><td>2732.822</td><td>2995.232</td><td>2826.533</td><td>2756.474</td><td>3143.455</td><td>⋯</td><td>1</td><td>0</td><td>0</td><td>1</td><td>1</td><td>0</td><td>0</td><td>1</td><td>1</td><td>7</td></tr>\n",
       "</tbody>\n",
       "</table>\n"
      ],
      "text/latex": [
       "A data.frame: 6 × 102\n",
       "\\begin{tabular}{r|lllllllllllllllllllll}\n",
       "  & hgnc\\_symbol & EtOH\\_04h.Avg & EtOH\\_08h.Avg & EtOH\\_24h.Avg & V125D3\\_10nM\\_04h.Avg & V125D3\\_10nM\\_08h.Avg & V25D3\\_1000nM\\_04h.Avg & V25D3\\_1000nM\\_08h.Avg & V25D2\\_1000nM\\_04h.Avg & V25D2\\_1000nM\\_08h.Avg & ⋯ & Target\\_V25D2\\_1000nM\\_24h & Target\\_V25D3\\_100nM\\_24h & Target\\_V25D3\\_250nM\\_24h & Target\\_V25D3\\_500nM\\_24h & Target\\_V25D3\\_750nM\\_24h & Target\\_V25D2\\_100nM\\_24h & Target\\_V25D2\\_250nM\\_24h & Target\\_V25D2\\_500nM\\_24h & Target\\_V25D2\\_750nM\\_24h & howmany\\\\\n",
       "  & <chr> & <dbl> & <dbl> & <dbl> & <dbl> & <dbl> & <dbl> & <dbl> & <dbl> & <dbl> & ⋯ & <dbl> & <dbl> & <dbl> & <dbl> & <dbl> & <dbl> & <dbl> & <dbl> & <dbl> & <dbl>\\\\\n",
       "\\hline\n",
       "\t1 & EEF1A1 &  9511.863 &  8156.986 & 7981.032 & 9030.484 & 7689.327 & 9357.482 & 8085.816 & 9618.236 & 8444.069 & ⋯ & 0 & 0 & 0 & 0 & 0 & 0 & 0 & 0 & 0 & 0\\\\\n",
       "\t2 & THBS1  & 10015.564 & 10171.666 & 2897.085 & 5661.667 & 4404.470 & 8766.962 & 5053.088 & 8407.375 & 6702.251 & ⋯ & 1 & 0 & 0 & 1 & 1 & 0 & 0 & 1 & 1 & 8\\\\\n",
       "\t3 & AHNAK  &  4707.223 &  4797.567 & 4648.998 & 5360.808 & 3881.601 & 4410.905 & 4029.688 & 4580.094 & 3939.010 & ⋯ & 0 & 0 & 0 & 0 & 0 & 0 & 0 & 0 & 0 & 0\\\\\n",
       "\t4 & ACTB   &  3315.240 &  3573.435 & 6538.880 & 2774.664 & 2570.414 & 2671.880 & 2581.303 & 2673.691 & 2888.500 & ⋯ & 1 & 0 & 0 & 1 & 1 & 0 & 0 & 1 & 1 & 7\\\\\n",
       "\t5 & HLA-B  &  3951.802 &  3418.639 & 3559.242 & 3628.200 & 3156.379 & 3477.364 & 3449.185 & 3712.657 & 3768.545 & ⋯ & 0 & 0 & 0 & 0 & 0 & 0 & 0 & 0 & 0 & 0\\\\\n",
       "\t6 & FTH1   &  3577.504 &  3836.081 & 5621.114 & 2840.856 & 2732.822 & 2995.232 & 2826.533 & 2756.474 & 3143.455 & ⋯ & 1 & 0 & 0 & 1 & 1 & 0 & 0 & 1 & 1 & 7\\\\\n",
       "\\end{tabular}\n"
      ],
      "text/markdown": [
       "\n",
       "A data.frame: 6 × 102\n",
       "\n",
       "| <!--/--> | hgnc_symbol &lt;chr&gt; | EtOH_04h.Avg &lt;dbl&gt; | EtOH_08h.Avg &lt;dbl&gt; | EtOH_24h.Avg &lt;dbl&gt; | V125D3_10nM_04h.Avg &lt;dbl&gt; | V125D3_10nM_08h.Avg &lt;dbl&gt; | V25D3_1000nM_04h.Avg &lt;dbl&gt; | V25D3_1000nM_08h.Avg &lt;dbl&gt; | V25D2_1000nM_04h.Avg &lt;dbl&gt; | V25D2_1000nM_08h.Avg &lt;dbl&gt; | ⋯ ⋯ | Target_V25D2_1000nM_24h &lt;dbl&gt; | Target_V25D3_100nM_24h &lt;dbl&gt; | Target_V25D3_250nM_24h &lt;dbl&gt; | Target_V25D3_500nM_24h &lt;dbl&gt; | Target_V25D3_750nM_24h &lt;dbl&gt; | Target_V25D2_100nM_24h &lt;dbl&gt; | Target_V25D2_250nM_24h &lt;dbl&gt; | Target_V25D2_500nM_24h &lt;dbl&gt; | Target_V25D2_750nM_24h &lt;dbl&gt; | howmany &lt;dbl&gt; |\n",
       "|---|---|---|---|---|---|---|---|---|---|---|---|---|---|---|---|---|---|---|---|---|---|\n",
       "| 1 | EEF1A1 |  9511.863 |  8156.986 | 7981.032 | 9030.484 | 7689.327 | 9357.482 | 8085.816 | 9618.236 | 8444.069 | ⋯ | 0 | 0 | 0 | 0 | 0 | 0 | 0 | 0 | 0 | 0 |\n",
       "| 2 | THBS1  | 10015.564 | 10171.666 | 2897.085 | 5661.667 | 4404.470 | 8766.962 | 5053.088 | 8407.375 | 6702.251 | ⋯ | 1 | 0 | 0 | 1 | 1 | 0 | 0 | 1 | 1 | 8 |\n",
       "| 3 | AHNAK  |  4707.223 |  4797.567 | 4648.998 | 5360.808 | 3881.601 | 4410.905 | 4029.688 | 4580.094 | 3939.010 | ⋯ | 0 | 0 | 0 | 0 | 0 | 0 | 0 | 0 | 0 | 0 |\n",
       "| 4 | ACTB   |  3315.240 |  3573.435 | 6538.880 | 2774.664 | 2570.414 | 2671.880 | 2581.303 | 2673.691 | 2888.500 | ⋯ | 1 | 0 | 0 | 1 | 1 | 0 | 0 | 1 | 1 | 7 |\n",
       "| 5 | HLA-B  |  3951.802 |  3418.639 | 3559.242 | 3628.200 | 3156.379 | 3477.364 | 3449.185 | 3712.657 | 3768.545 | ⋯ | 0 | 0 | 0 | 0 | 0 | 0 | 0 | 0 | 0 | 0 |\n",
       "| 6 | FTH1   |  3577.504 |  3836.081 | 5621.114 | 2840.856 | 2732.822 | 2995.232 | 2826.533 | 2756.474 | 3143.455 | ⋯ | 1 | 0 | 0 | 1 | 1 | 0 | 0 | 1 | 1 | 7 |\n",
       "\n"
      ],
      "text/plain": [
       "  hgnc_symbol EtOH_04h.Avg EtOH_08h.Avg EtOH_24h.Avg V125D3_10nM_04h.Avg\n",
       "1 EEF1A1       9511.863     8156.986    7981.032     9030.484           \n",
       "2 THBS1       10015.564    10171.666    2897.085     5661.667           \n",
       "3 AHNAK        4707.223     4797.567    4648.998     5360.808           \n",
       "4 ACTB         3315.240     3573.435    6538.880     2774.664           \n",
       "5 HLA-B        3951.802     3418.639    3559.242     3628.200           \n",
       "6 FTH1         3577.504     3836.081    5621.114     2840.856           \n",
       "  V125D3_10nM_08h.Avg V25D3_1000nM_04h.Avg V25D3_1000nM_08h.Avg\n",
       "1 7689.327            9357.482             8085.816            \n",
       "2 4404.470            8766.962             5053.088            \n",
       "3 3881.601            4410.905             4029.688            \n",
       "4 2570.414            2671.880             2581.303            \n",
       "5 3156.379            3477.364             3449.185            \n",
       "6 2732.822            2995.232             2826.533            \n",
       "  V25D2_1000nM_04h.Avg V25D2_1000nM_08h.Avg ⋯ Target_V25D2_1000nM_24h\n",
       "1 9618.236             8444.069             ⋯ 0                      \n",
       "2 8407.375             6702.251             ⋯ 1                      \n",
       "3 4580.094             3939.010             ⋯ 0                      \n",
       "4 2673.691             2888.500             ⋯ 1                      \n",
       "5 3712.657             3768.545             ⋯ 0                      \n",
       "6 2756.474             3143.455             ⋯ 1                      \n",
       "  Target_V25D3_100nM_24h Target_V25D3_250nM_24h Target_V25D3_500nM_24h\n",
       "1 0                      0                      0                     \n",
       "2 0                      0                      1                     \n",
       "3 0                      0                      0                     \n",
       "4 0                      0                      1                     \n",
       "5 0                      0                      0                     \n",
       "6 0                      0                      1                     \n",
       "  Target_V25D3_750nM_24h Target_V25D2_100nM_24h Target_V25D2_250nM_24h\n",
       "1 0                      0                      0                     \n",
       "2 1                      0                      0                     \n",
       "3 0                      0                      0                     \n",
       "4 1                      0                      0                     \n",
       "5 0                      0                      0                     \n",
       "6 1                      0                      0                     \n",
       "  Target_V25D2_500nM_24h Target_V25D2_750nM_24h howmany\n",
       "1 0                      0                      0      \n",
       "2 1                      1                      8      \n",
       "3 0                      0                      0      \n",
       "4 1                      1                      7      \n",
       "5 0                      0                      0      \n",
       "6 1                      1                      7      "
      ]
     },
     "metadata": {},
     "output_type": "display_data"
    },
    {
     "data": {
      "text/html": [
       "<style>\n",
       ".list-inline {list-style: none; margin:0; padding: 0}\n",
       ".list-inline>li {display: inline-block}\n",
       ".list-inline>li:not(:last-child)::after {content: \"\\00b7\"; padding: 0 .5ex}\n",
       "</style>\n",
       "<ol class=list-inline><li>12939</li><li>102</li></ol>\n"
      ],
      "text/latex": [
       "\\begin{enumerate*}\n",
       "\\item 12939\n",
       "\\item 102\n",
       "\\end{enumerate*}\n"
      ],
      "text/markdown": [
       "1. 12939\n",
       "2. 102\n",
       "\n",
       "\n"
      ],
      "text/plain": [
       "[1] 12939   102"
      ]
     },
     "metadata": {},
     "output_type": "display_data"
    }
   ],
   "source": [
    "#xs5 = xs4copy %>%\n",
    "\n",
    "x6 = xs5 %>%\n",
    "select (., -matches (\"Down_Target\")) %>%\n",
    "select (., -matches (\"Up_Target\"))  %>%\n",
    "#select (., -matches (\"FDR\")) %>%\n",
    "as.data.frame()\n",
    "\n",
    "head (x6)\n",
    "dim (x6)"
   ]
  },
  {
   "cell_type": "code",
   "execution_count": 40,
   "id": "41602581-c1d3-4125-a2f5-0d41d0e6334f",
   "metadata": {},
   "outputs": [],
   "source": [
    "#get vector of howmany in order to colorcode GEO table\n",
    "x_geo = x6 %>%\n",
    "select (hgnc_symbol, howmany)"
   ]
  },
  {
   "cell_type": "code",
   "execution_count": 41,
   "id": "2205ebb4-2d84-41b1-9422-88aee620fc0b",
   "metadata": {},
   "outputs": [
    {
     "data": {
      "text/html": [
       "<style>\n",
       ".list-inline {list-style: none; margin:0; padding: 0}\n",
       ".list-inline>li {display: inline-block}\n",
       ".list-inline>li:not(:last-child)::after {content: \"\\00b7\"; padding: 0 .5ex}\n",
       "</style>\n",
       "<ol class=list-inline><li>12939</li><li>2</li></ol>\n"
      ],
      "text/latex": [
       "\\begin{enumerate*}\n",
       "\\item 12939\n",
       "\\item 2\n",
       "\\end{enumerate*}\n"
      ],
      "text/markdown": [
       "1. 12939\n",
       "2. 2\n",
       "\n",
       "\n"
      ],
      "text/plain": [
       "[1] 12939     2"
      ]
     },
     "metadata": {},
     "output_type": "display_data"
    }
   ],
   "source": [
    "dim (x_geo)"
   ]
  },
  {
   "cell_type": "code",
   "execution_count": 42,
   "id": "986a6b3d-66f4-4da5-b42d-523879b8e8b7",
   "metadata": {},
   "outputs": [],
   "source": [
    "write.xlsx (x_geo, \"./data/geo_targetgenes.xlsx\", rowNames = F)"
   ]
  },
  {
   "cell_type": "markdown",
   "id": "promotional-reservation",
   "metadata": {},
   "source": [
    "### Add time"
   ]
  },
  {
   "cell_type": "code",
   "execution_count": 43,
   "id": "055432b8-83fa-477d-9a5a-45d2c68c1714",
   "metadata": {},
   "outputs": [
    {
     "name": "stdout",
     "output_type": "stream",
     "text": [
      "'data.frame':\t662 obs. of  5 variables:\n",
      " $ hgnc_symbol: chr  \"AATK\" \"ABCB4\" \"ABCC3\" \"ACP3\" ...\n",
      " $ Target_04h : int  0 0 0 0 0 0 0 1 0 0 ...\n",
      " $ Target_08h : int  0 0 1 0 0 0 0 1 1 1 ...\n",
      " $ Target_24h : int  1 0 1 1 0 1 1 1 1 1 ...\n",
      " $ Target_48h : int  0 1 0 0 1 0 0 1 1 0 ...\n"
     ]
    },
    {
     "data": {
      "text/html": [
       "<table class=\"dataframe\">\n",
       "<caption>A data.frame: 6 × 7</caption>\n",
       "<thead>\n",
       "\t<tr><th></th><th scope=col>hgnc_symbol</th><th scope=col>Regulation</th><th scope=col>MA_plot</th><th scope=col>cluster</th><th scope=col>howmany</th><th scope=col>Target_08h</th><th scope=col>general_category</th></tr>\n",
       "\t<tr><th></th><th scope=col>&lt;chr&gt;</th><th scope=col>&lt;chr&gt;</th><th scope=col>&lt;chr&gt;</th><th scope=col>&lt;int&gt;</th><th scope=col>&lt;int&gt;</th><th scope=col>&lt;int&gt;</th><th scope=col>&lt;chr&gt;</th></tr>\n",
       "</thead>\n",
       "<tbody>\n",
       "\t<tr><th scope=row>1</th><td>ABCB4 </td><td>up</td><td>   </td><td>1</td><td>1</td><td>0</td><td>Enzyme/Transporter</td></tr>\n",
       "\t<tr><th scope=row>2</th><td>ACVR1B</td><td>up</td><td>yes</td><td>1</td><td>4</td><td>1</td><td>Enzyme/Transporter</td></tr>\n",
       "\t<tr><th scope=row>3</th><td>ACVRL1</td><td>up</td><td>yes</td><td>1</td><td>3</td><td>1</td><td>Enzyme/Transporter</td></tr>\n",
       "\t<tr><th scope=row>4</th><td>AKR1C1</td><td>up</td><td>   </td><td>1</td><td>1</td><td>0</td><td>Enzyme/Transporter</td></tr>\n",
       "\t<tr><th scope=row>5</th><td>ALOX5 </td><td>up</td><td>   </td><td>1</td><td>3</td><td>1</td><td>Enzyme/Transporter</td></tr>\n",
       "\t<tr><th scope=row>6</th><td>APBB3 </td><td>up</td><td>   </td><td>1</td><td>2</td><td>1</td><td>Other/undefined   </td></tr>\n",
       "</tbody>\n",
       "</table>\n"
      ],
      "text/latex": [
       "A data.frame: 6 × 7\n",
       "\\begin{tabular}{r|lllllll}\n",
       "  & hgnc\\_symbol & Regulation & MA\\_plot & cluster & howmany & Target\\_08h & general\\_category\\\\\n",
       "  & <chr> & <chr> & <chr> & <int> & <int> & <int> & <chr>\\\\\n",
       "\\hline\n",
       "\t1 & ABCB4  & up &     & 1 & 1 & 0 & Enzyme/Transporter\\\\\n",
       "\t2 & ACVR1B & up & yes & 1 & 4 & 1 & Enzyme/Transporter\\\\\n",
       "\t3 & ACVRL1 & up & yes & 1 & 3 & 1 & Enzyme/Transporter\\\\\n",
       "\t4 & AKR1C1 & up &     & 1 & 1 & 0 & Enzyme/Transporter\\\\\n",
       "\t5 & ALOX5  & up &     & 1 & 3 & 1 & Enzyme/Transporter\\\\\n",
       "\t6 & APBB3  & up &     & 1 & 2 & 1 & Other/undefined   \\\\\n",
       "\\end{tabular}\n"
      ],
      "text/markdown": [
       "\n",
       "A data.frame: 6 × 7\n",
       "\n",
       "| <!--/--> | hgnc_symbol &lt;chr&gt; | Regulation &lt;chr&gt; | MA_plot &lt;chr&gt; | cluster &lt;int&gt; | howmany &lt;int&gt; | Target_08h &lt;int&gt; | general_category &lt;chr&gt; |\n",
       "|---|---|---|---|---|---|---|---|\n",
       "| 1 | ABCB4  | up | <!----> | 1 | 1 | 0 | Enzyme/Transporter |\n",
       "| 2 | ACVR1B | up | yes | 1 | 4 | 1 | Enzyme/Transporter |\n",
       "| 3 | ACVRL1 | up | yes | 1 | 3 | 1 | Enzyme/Transporter |\n",
       "| 4 | AKR1C1 | up | <!----> | 1 | 1 | 0 | Enzyme/Transporter |\n",
       "| 5 | ALOX5  | up | <!----> | 1 | 3 | 1 | Enzyme/Transporter |\n",
       "| 6 | APBB3  | up | <!----> | 1 | 2 | 1 | Other/undefined    |\n",
       "\n"
      ],
      "text/plain": [
       "  hgnc_symbol Regulation MA_plot cluster howmany Target_08h general_category  \n",
       "1 ABCB4       up                 1       1       0          Enzyme/Transporter\n",
       "2 ACVR1B      up         yes     1       4       1          Enzyme/Transporter\n",
       "3 ACVRL1      up         yes     1       3       1          Enzyme/Transporter\n",
       "4 AKR1C1      up                 1       1       0          Enzyme/Transporter\n",
       "5 ALOX5       up                 1       3       1          Enzyme/Transporter\n",
       "6 APBB3       up                 1       2       1          Other/undefined   "
      ]
     },
     "metadata": {},
     "output_type": "display_data"
    }
   ],
   "source": [
    "x <- read.table (\"../Time2020/f_time2020_inlog_FC15_FC2_evidence-threshold.tsv\", sep = '\\t', header = T, row.names =1)\n",
    "\n",
    "xy = x %>%\n",
    "filter (., howmany > 0) %>%\n",
    "select (., c(Target_04h, Target_08h, Target_24h, Target_48h))%>%\n",
    "rownames_to_column (\"hgnc_symbol\")\n",
    "\n",
    "str (xy)\n",
    "\n",
    "xtime <- read.table(\"../Time2020/TableS3_withclusters.txt\", sep = '\\t', header = T)#, row.names =1)\n",
    "\n",
    "head (xtime)\n",
    "\n",
    "time = xtime$hgnc_symbol"
   ]
  },
  {
   "cell_type": "code",
   "execution_count": 44,
   "id": "78ab9635-3448-4e4a-8e78-24833f257db3",
   "metadata": {},
   "outputs": [
    {
     "name": "stdout",
     "output_type": "stream",
     "text": [
      "'data.frame':\t662 obs. of  11 variables:\n",
      " $ hgnc_symbol     : chr  \"AATK\" \"ABCB4\" \"ABCC3\" \"ACP3\" ...\n",
      " $ Target_04h      : int  0 0 0 0 0 0 0 1 0 0 ...\n",
      " $ Target_08h      : int  0 0 1 0 0 0 0 1 1 1 ...\n",
      " $ Target_24h      : int  1 0 1 1 0 1 1 1 1 1 ...\n",
      " $ Target_48h      : int  0 1 0 0 1 0 0 1 1 0 ...\n",
      " $ Regulation      : chr  \"down\" \"up\" \"down\" \"down\" ...\n",
      " $ MA_plot         : chr  \"\" \"\" \"\" \"\" ...\n",
      " $ cluster         : int  2 1 3 3 4 4 3 1 1 2 ...\n",
      " $ howmany         : int  1 1 2 1 1 1 1 4 3 2 ...\n",
      " $ primary         : int  0 0 1 0 0 0 0 1 1 1 ...\n",
      " $ general_category: chr  \"Enzyme/Transporter\" \"Enzyme/Transporter\" \"Enzyme/Transporter\" \"Enzyme/Transporter\" ...\n"
     ]
    },
    {
     "data": {
      "text/html": [
       "<table class=\"dataframe\">\n",
       "<caption>A data.frame: 6 × 112</caption>\n",
       "<thead>\n",
       "\t<tr><th></th><th scope=col>hgnc_symbol</th><th scope=col>EtOH_04h.Avg</th><th scope=col>EtOH_08h.Avg</th><th scope=col>EtOH_24h.Avg</th><th scope=col>V125D3_10nM_04h.Avg</th><th scope=col>V125D3_10nM_08h.Avg</th><th scope=col>V25D3_1000nM_04h.Avg</th><th scope=col>V25D3_1000nM_08h.Avg</th><th scope=col>V25D2_1000nM_04h.Avg</th><th scope=col>V25D2_1000nM_08h.Avg</th><th scope=col>⋯</th><th scope=col>Target_04h</th><th scope=col>Target_08h</th><th scope=col>Target_24h</th><th scope=col>Target_48h</th><th scope=col>Regulation</th><th scope=col>MA_plot</th><th scope=col>cluster</th><th scope=col>howmany.y</th><th scope=col>primary</th><th scope=col>general_category</th></tr>\n",
       "\t<tr><th></th><th scope=col>&lt;chr&gt;</th><th scope=col>&lt;dbl&gt;</th><th scope=col>&lt;dbl&gt;</th><th scope=col>&lt;dbl&gt;</th><th scope=col>&lt;dbl&gt;</th><th scope=col>&lt;dbl&gt;</th><th scope=col>&lt;dbl&gt;</th><th scope=col>&lt;dbl&gt;</th><th scope=col>&lt;dbl&gt;</th><th scope=col>&lt;dbl&gt;</th><th scope=col>⋯</th><th scope=col>&lt;dbl&gt;</th><th scope=col>&lt;dbl&gt;</th><th scope=col>&lt;dbl&gt;</th><th scope=col>&lt;dbl&gt;</th><th scope=col>&lt;chr&gt;</th><th scope=col>&lt;chr&gt;</th><th scope=col>&lt;dbl&gt;</th><th scope=col>&lt;dbl&gt;</th><th scope=col>&lt;dbl&gt;</th><th scope=col>&lt;chr&gt;</th></tr>\n",
       "</thead>\n",
       "<tbody>\n",
       "\t<tr><th scope=row>1</th><td>EEF1A1</td><td> 9511.863</td><td> 8156.986</td><td>7981.032</td><td>9030.484</td><td>7689.327</td><td>9357.482</td><td>8085.816</td><td>9618.236</td><td>8444.069</td><td>⋯</td><td>0</td><td>0</td><td>0</td><td>0</td><td>0   </td><td>0</td><td>0</td><td>0</td><td>0</td><td>0                                  </td></tr>\n",
       "\t<tr><th scope=row>2</th><td>THBS1 </td><td>10015.564</td><td>10171.666</td><td>2897.085</td><td>5661.667</td><td>4404.470</td><td>8766.962</td><td>5053.088</td><td>8407.375</td><td>6702.251</td><td>⋯</td><td>0</td><td>0</td><td>1</td><td>1</td><td>down</td><td> </td><td>2</td><td>2</td><td>0</td><td>Receptor/cell adhesion             </td></tr>\n",
       "\t<tr><th scope=row>3</th><td>AHNAK </td><td> 4707.223</td><td> 4797.567</td><td>4648.998</td><td>5360.808</td><td>3881.601</td><td>4410.905</td><td>4029.688</td><td>4580.094</td><td>3939.010</td><td>⋯</td><td>0</td><td>0</td><td>0</td><td>0</td><td>0   </td><td>0</td><td>0</td><td>0</td><td>0</td><td>0                                  </td></tr>\n",
       "\t<tr><th scope=row>4</th><td><span style=white-space:pre-wrap>ACTB  </span></td><td> 3315.240</td><td> 3573.435</td><td>6538.880</td><td>2774.664</td><td>2570.414</td><td>2671.880</td><td>2581.303</td><td>2673.691</td><td>2888.500</td><td>⋯</td><td>0</td><td>0</td><td>1</td><td>0</td><td>down</td><td> </td><td>3</td><td>1</td><td>0</td><td>Cell structure &amp; motility modulator</td></tr>\n",
       "\t<tr><th scope=row>5</th><td>HLA-B </td><td> 3951.802</td><td> 3418.639</td><td>3559.242</td><td>3628.200</td><td>3156.379</td><td>3477.364</td><td>3449.185</td><td>3712.657</td><td>3768.545</td><td>⋯</td><td>0</td><td>0</td><td>0</td><td>0</td><td>0   </td><td>0</td><td>0</td><td>0</td><td>0</td><td>0                                  </td></tr>\n",
       "\t<tr><th scope=row>6</th><td>FTH1  </td><td> 3577.504</td><td> 3836.081</td><td>5621.114</td><td>2840.856</td><td>2732.822</td><td>2995.232</td><td>2826.533</td><td>2756.474</td><td>3143.455</td><td>⋯</td><td>0</td><td>0</td><td>1</td><td>0</td><td>down</td><td> </td><td>3</td><td>1</td><td>0</td><td>Enzyme/Transporter                 </td></tr>\n",
       "</tbody>\n",
       "</table>\n"
      ],
      "text/latex": [
       "A data.frame: 6 × 112\n",
       "\\begin{tabular}{r|lllllllllllllllllllll}\n",
       "  & hgnc\\_symbol & EtOH\\_04h.Avg & EtOH\\_08h.Avg & EtOH\\_24h.Avg & V125D3\\_10nM\\_04h.Avg & V125D3\\_10nM\\_08h.Avg & V25D3\\_1000nM\\_04h.Avg & V25D3\\_1000nM\\_08h.Avg & V25D2\\_1000nM\\_04h.Avg & V25D2\\_1000nM\\_08h.Avg & ⋯ & Target\\_04h & Target\\_08h & Target\\_24h & Target\\_48h & Regulation & MA\\_plot & cluster & howmany.y & primary & general\\_category\\\\\n",
       "  & <chr> & <dbl> & <dbl> & <dbl> & <dbl> & <dbl> & <dbl> & <dbl> & <dbl> & <dbl> & ⋯ & <dbl> & <dbl> & <dbl> & <dbl> & <chr> & <chr> & <dbl> & <dbl> & <dbl> & <chr>\\\\\n",
       "\\hline\n",
       "\t1 & EEF1A1 &  9511.863 &  8156.986 & 7981.032 & 9030.484 & 7689.327 & 9357.482 & 8085.816 & 9618.236 & 8444.069 & ⋯ & 0 & 0 & 0 & 0 & 0    & 0 & 0 & 0 & 0 & 0                                  \\\\\n",
       "\t2 & THBS1  & 10015.564 & 10171.666 & 2897.085 & 5661.667 & 4404.470 & 8766.962 & 5053.088 & 8407.375 & 6702.251 & ⋯ & 0 & 0 & 1 & 1 & down &   & 2 & 2 & 0 & Receptor/cell adhesion             \\\\\n",
       "\t3 & AHNAK  &  4707.223 &  4797.567 & 4648.998 & 5360.808 & 3881.601 & 4410.905 & 4029.688 & 4580.094 & 3939.010 & ⋯ & 0 & 0 & 0 & 0 & 0    & 0 & 0 & 0 & 0 & 0                                  \\\\\n",
       "\t4 & ACTB   &  3315.240 &  3573.435 & 6538.880 & 2774.664 & 2570.414 & 2671.880 & 2581.303 & 2673.691 & 2888.500 & ⋯ & 0 & 0 & 1 & 0 & down &   & 3 & 1 & 0 & Cell structure \\& motility modulator\\\\\n",
       "\t5 & HLA-B  &  3951.802 &  3418.639 & 3559.242 & 3628.200 & 3156.379 & 3477.364 & 3449.185 & 3712.657 & 3768.545 & ⋯ & 0 & 0 & 0 & 0 & 0    & 0 & 0 & 0 & 0 & 0                                  \\\\\n",
       "\t6 & FTH1   &  3577.504 &  3836.081 & 5621.114 & 2840.856 & 2732.822 & 2995.232 & 2826.533 & 2756.474 & 3143.455 & ⋯ & 0 & 0 & 1 & 0 & down &   & 3 & 1 & 0 & Enzyme/Transporter                 \\\\\n",
       "\\end{tabular}\n"
      ],
      "text/markdown": [
       "\n",
       "A data.frame: 6 × 112\n",
       "\n",
       "| <!--/--> | hgnc_symbol &lt;chr&gt; | EtOH_04h.Avg &lt;dbl&gt; | EtOH_08h.Avg &lt;dbl&gt; | EtOH_24h.Avg &lt;dbl&gt; | V125D3_10nM_04h.Avg &lt;dbl&gt; | V125D3_10nM_08h.Avg &lt;dbl&gt; | V25D3_1000nM_04h.Avg &lt;dbl&gt; | V25D3_1000nM_08h.Avg &lt;dbl&gt; | V25D2_1000nM_04h.Avg &lt;dbl&gt; | V25D2_1000nM_08h.Avg &lt;dbl&gt; | ⋯ ⋯ | Target_04h &lt;dbl&gt; | Target_08h &lt;dbl&gt; | Target_24h &lt;dbl&gt; | Target_48h &lt;dbl&gt; | Regulation &lt;chr&gt; | MA_plot &lt;chr&gt; | cluster &lt;dbl&gt; | howmany.y &lt;dbl&gt; | primary &lt;dbl&gt; | general_category &lt;chr&gt; |\n",
       "|---|---|---|---|---|---|---|---|---|---|---|---|---|---|---|---|---|---|---|---|---|---|\n",
       "| 1 | EEF1A1 |  9511.863 |  8156.986 | 7981.032 | 9030.484 | 7689.327 | 9357.482 | 8085.816 | 9618.236 | 8444.069 | ⋯ | 0 | 0 | 0 | 0 | 0    | 0 | 0 | 0 | 0 | 0                                   |\n",
       "| 2 | THBS1  | 10015.564 | 10171.666 | 2897.085 | 5661.667 | 4404.470 | 8766.962 | 5053.088 | 8407.375 | 6702.251 | ⋯ | 0 | 0 | 1 | 1 | down | <!----> | 2 | 2 | 0 | Receptor/cell adhesion              |\n",
       "| 3 | AHNAK  |  4707.223 |  4797.567 | 4648.998 | 5360.808 | 3881.601 | 4410.905 | 4029.688 | 4580.094 | 3939.010 | ⋯ | 0 | 0 | 0 | 0 | 0    | 0 | 0 | 0 | 0 | 0                                   |\n",
       "| 4 | ACTB   |  3315.240 |  3573.435 | 6538.880 | 2774.664 | 2570.414 | 2671.880 | 2581.303 | 2673.691 | 2888.500 | ⋯ | 0 | 0 | 1 | 0 | down | <!----> | 3 | 1 | 0 | Cell structure &amp; motility modulator |\n",
       "| 5 | HLA-B  |  3951.802 |  3418.639 | 3559.242 | 3628.200 | 3156.379 | 3477.364 | 3449.185 | 3712.657 | 3768.545 | ⋯ | 0 | 0 | 0 | 0 | 0    | 0 | 0 | 0 | 0 | 0                                   |\n",
       "| 6 | FTH1   |  3577.504 |  3836.081 | 5621.114 | 2840.856 | 2732.822 | 2995.232 | 2826.533 | 2756.474 | 3143.455 | ⋯ | 0 | 0 | 1 | 0 | down | <!----> | 3 | 1 | 0 | Enzyme/Transporter                  |\n",
       "\n"
      ],
      "text/plain": [
       "  hgnc_symbol EtOH_04h.Avg EtOH_08h.Avg EtOH_24h.Avg V125D3_10nM_04h.Avg\n",
       "1 EEF1A1       9511.863     8156.986    7981.032     9030.484           \n",
       "2 THBS1       10015.564    10171.666    2897.085     5661.667           \n",
       "3 AHNAK        4707.223     4797.567    4648.998     5360.808           \n",
       "4 ACTB         3315.240     3573.435    6538.880     2774.664           \n",
       "5 HLA-B        3951.802     3418.639    3559.242     3628.200           \n",
       "6 FTH1         3577.504     3836.081    5621.114     2840.856           \n",
       "  V125D3_10nM_08h.Avg V25D3_1000nM_04h.Avg V25D3_1000nM_08h.Avg\n",
       "1 7689.327            9357.482             8085.816            \n",
       "2 4404.470            8766.962             5053.088            \n",
       "3 3881.601            4410.905             4029.688            \n",
       "4 2570.414            2671.880             2581.303            \n",
       "5 3156.379            3477.364             3449.185            \n",
       "6 2732.822            2995.232             2826.533            \n",
       "  V25D2_1000nM_04h.Avg V25D2_1000nM_08h.Avg ⋯ Target_04h Target_08h Target_24h\n",
       "1 9618.236             8444.069             ⋯ 0          0          0         \n",
       "2 8407.375             6702.251             ⋯ 0          0          1         \n",
       "3 4580.094             3939.010             ⋯ 0          0          0         \n",
       "4 2673.691             2888.500             ⋯ 0          0          1         \n",
       "5 3712.657             3768.545             ⋯ 0          0          0         \n",
       "6 2756.474             3143.455             ⋯ 0          0          1         \n",
       "  Target_48h Regulation MA_plot cluster howmany.y primary\n",
       "1 0          0          0       0       0         0      \n",
       "2 1          down               2       2         0      \n",
       "3 0          0          0       0       0         0      \n",
       "4 0          down               3       1         0      \n",
       "5 0          0          0       0       0         0      \n",
       "6 0          down               3       1         0      \n",
       "  general_category                   \n",
       "1 0                                  \n",
       "2 Receptor/cell adhesion             \n",
       "3 0                                  \n",
       "4 Cell structure & motility modulator\n",
       "5 0                                  \n",
       "6 Enzyme/Transporter                 "
      ]
     },
     "metadata": {},
     "output_type": "display_data"
    },
    {
     "data": {
      "text/html": [
       "<style>\n",
       ".list-inline {list-style: none; margin:0; padding: 0}\n",
       ".list-inline>li {display: inline-block}\n",
       ".list-inline>li:not(:last-child)::after {content: \"\\00b7\"; padding: 0 .5ex}\n",
       "</style>\n",
       "<ol class=list-inline><li>12940</li><li>112</li></ol>\n"
      ],
      "text/latex": [
       "\\begin{enumerate*}\n",
       "\\item 12940\n",
       "\\item 112\n",
       "\\end{enumerate*}\n"
      ],
      "text/markdown": [
       "1. 12940\n",
       "2. 112\n",
       "\n",
       "\n"
      ],
      "text/plain": [
       "[1] 12940   112"
      ]
     },
     "metadata": {},
     "output_type": "display_data"
    }
   ],
   "source": [
    "xtime = xtime %>%\n",
    "rename (primary = Target_08h) \n",
    "\n",
    "xtime = merge (xy,xtime, by = \"hgnc_symbol\")\n",
    "str (xtime)\n",
    "\n",
    "mrg <- full_join(x6, xtime, \n",
    "                       by = c(\"hgnc_symbol\" = \"hgnc_symbol\")) %>%\n",
    "  mutate_all(~replace(., is.na(.), 0))\n",
    "\n",
    "head (mrg)\n",
    "dim (mrg)\n",
    "#str(mrg, list.len=ncol(mrg))"
   ]
  },
  {
   "cell_type": "markdown",
   "id": "necessary-march",
   "metadata": {},
   "source": [
    "> by adding time, there is gain of 1 non expressed gene in the matrix"
   ]
  },
  {
   "cell_type": "code",
   "execution_count": 45,
   "id": "hispanic-junction",
   "metadata": {},
   "outputs": [],
   "source": [
    "mrg = mrg %>%\n",
    "rename (, howmany_CA = howmany.x, \n",
    "       howmany_time = howmany.y)"
   ]
  },
  {
   "cell_type": "code",
   "execution_count": 46,
   "id": "demographic-wednesday",
   "metadata": {},
   "outputs": [],
   "source": [
    "#wb <- createWorkbook() \n",
    "#addWorksheet(wb, sheetName = \"CA2021 first\")  #,  rowNames = TRUE\n",
    "#header_st <- createStyle(textDecoration = \"Bold\")\n",
    "#addFilter(wb, 1, row = 1, cols = 1:ncol(mrg)) \n",
    "#freezePane(wb, 1, firstRow = TRUE)\n",
    "#writeData(wb, sheet = \"CA2021 first\", x = mrg, headerStyle = header_st) #, withFilter = TRUE , style = styleT\n",
    "#saveWorkbook(wb, \"./CA2021 first.xlsx\", overwrite = TRUE)"
   ]
  },
  {
   "cell_type": "code",
   "execution_count": 47,
   "id": "arabic-synthetic",
   "metadata": {},
   "outputs": [
    {
     "data": {
      "text/html": [
       "<style>\n",
       ".list-inline {list-style: none; margin:0; padding: 0}\n",
       ".list-inline>li {display: inline-block}\n",
       ".list-inline>li:not(:last-child)::after {content: \"\\00b7\"; padding: 0 .5ex}\n",
       "</style>\n",
       "<ol class=list-inline><li>553</li><li>112</li></ol>\n"
      ],
      "text/latex": [
       "\\begin{enumerate*}\n",
       "\\item 553\n",
       "\\item 112\n",
       "\\end{enumerate*}\n"
      ],
      "text/markdown": [
       "1. 553\n",
       "2. 112\n",
       "\n",
       "\n"
      ],
      "text/plain": [
       "[1] 553 112"
      ]
     },
     "metadata": {},
     "output_type": "display_data"
    }
   ],
   "source": [
    "mrg_light = mrg %>%\n",
    "filter (., howmany_CA > 0)# | howmany_time > 0)\n",
    "\n",
    "dim (mrg_light)"
   ]
  },
  {
   "cell_type": "code",
   "execution_count": 48,
   "id": "extraordinary-mentor",
   "metadata": {},
   "outputs": [
    {
     "data": {
      "text/html": [
       "<style>\n",
       ".list-inline {list-style: none; margin:0; padding: 0}\n",
       ".list-inline>li {display: inline-block}\n",
       ".list-inline>li:not(:last-child)::after {content: \"\\00b7\"; padding: 0 .5ex}\n",
       "</style>\n",
       "<ol class=list-inline><li>553</li><li>93</li></ol>\n"
      ],
      "text/latex": [
       "\\begin{enumerate*}\n",
       "\\item 553\n",
       "\\item 93\n",
       "\\end{enumerate*}\n"
      ],
      "text/markdown": [
       "1. 553\n",
       "2. 93\n",
       "\n",
       "\n"
      ],
      "text/plain": [
       "[1] 553  93"
      ]
     },
     "metadata": {},
     "output_type": "display_data"
    }
   ],
   "source": [
    "mrg_light = mrg_light %>%\n",
    "#select (., -(EtOH_04h_R1:V25D3_750nM_24h_R3)) %>%\n",
    "#select (., -matches (\"FDR\") ) %>%\n",
    "select (., -matches (\"logCPM\"))\n",
    "        \n",
    "dim (mrg_light)"
   ]
  },
  {
   "cell_type": "code",
   "execution_count": 49,
   "id": "pressed-basis",
   "metadata": {},
   "outputs": [],
   "source": [
    "mrg_light = merge(x=mrg_light,y=annotation,by.x =\"hgnc_symbol\",all.x=TRUE)\n",
    "#head (mrg_light)"
   ]
  },
  {
   "cell_type": "code",
   "execution_count": 50,
   "id": "0f57b74f-bf69-4063-ab49-1143502c6237",
   "metadata": {},
   "outputs": [],
   "source": [
    "#str(mrg_light, list.len=ncol(mrg_light))"
   ]
  },
  {
   "cell_type": "code",
   "execution_count": 51,
   "id": "7480ccbe-36b4-4ed8-b31e-d8fc6add7ae4",
   "metadata": {},
   "outputs": [
    {
     "data": {
      "text/html": [
       "553"
      ],
      "text/latex": [
       "553"
      ],
      "text/markdown": [
       "553"
      ],
      "text/plain": [
       "[1] 553"
      ]
     },
     "metadata": {},
     "output_type": "display_data"
    }
   ],
   "source": [
    "dose_2022 = mrg_light$hgnc_symbol\n",
    "length (dose_2022)"
   ]
  },
  {
   "cell_type": "code",
   "execution_count": 52,
   "id": "17404409-8558-4408-8155-6d53626bf825",
   "metadata": {},
   "outputs": [
    {
     "data": {
      "image/png": "[encoded data removed]",
      "text/plain": [
       "plot without title"
      ]
     },
     "metadata": {
      "image/png": {
       "height": 420,
       "width": 420
      }
     },
     "output_type": "display_data"
    }
   ],
   "source": [
    "Venn = plot(venn(list(           #eulerr\n",
    "  \"dose response 2022\" = dose_2022,    #dont write &\n",
    "  \"time 2021\" = time\n",
    ")),\n",
    "\n",
    "#49001D very dark red\n",
    "fills = list(fill = c( \n",
    "  # \"#D5DCD3\", #green\n",
    "  \"#E5EFEA\" ,#lightgreen,\n",
    "  \"#C9BCD3\" \n",
    "),\n",
    "alpha = 0.77), #\"#F1F9FF\", \"#FBF1EA\"FAF3F0\n",
    "labels = list(font = 1, col = \"black\", cex = 1), ##CD003D\n",
    "edges = list(lty = 1, lwd =0.33), #0.15\n",
    "mar = c(5, 5, 5, 5),\n",
    "key = TRUE, counts = TRUE, quantities = list (type = c(\"counts\"),cex = 1.3))\n",
    "Venn"
   ]
  },
  {
   "cell_type": "code",
   "execution_count": 53,
   "id": "awful-naples",
   "metadata": {},
   "outputs": [],
   "source": [
    "#wb <- createWorkbook() \n",
    "#addWorksheet(wb, sheetName = \"CA2021 light\")  #,  rowNames = TRUE\n",
    "#header_st <- createStyle(textDecoration = \"Bold\")\n",
    "#addFilter(wb, 1, row = 1, cols = 1:ncol(mrg_light)) \n",
    "#freezePane(wb, 1, firstRow = TRUE)\n",
    "#writeData(wb, sheet = \"CA2021 light\", x = mrg_light, headerStyle = header_st) #, withFilter = TRUE , style = styleT\n",
    "#saveWorkbook(wb, \"./data/Table S1 revision.xlsx\", overwrite = TRUE)"
   ]
  },
  {
   "cell_type": "code",
   "execution_count": 54,
   "id": "aa369f99-1b07-4826-9420-af6a39edd1db",
   "metadata": {},
   "outputs": [],
   "source": [
    "d = mrg_light %>%\n",
    "  filter (., howmany_CA > 0) %>%\n",
    "  filter (., howmany_time >0)\n",
    "\n",
    "#str (d)"
   ]
  },
  {
   "cell_type": "markdown",
   "id": "stuffed-dressing",
   "metadata": {},
   "source": [
    "### in logcpm"
   ]
  },
  {
   "cell_type": "code",
   "execution_count": 55,
   "id": "seven-jewelry",
   "metadata": {},
   "outputs": [
    {
     "data": {
      "text/html": [
       "<table class=\"dataframe\">\n",
       "<caption>A data.frame: 6 × 72</caption>\n",
       "<thead>\n",
       "\t<tr><th></th><th scope=col>EtOH_x_04h_R1</th><th scope=col>EtOH_x_04h_R2</th><th scope=col>EtOH_x_04h_R3</th><th scope=col>EtOH_x_08h_R1</th><th scope=col>EtOH_x_08h_R2</th><th scope=col>EtOH_x_08h_R3</th><th scope=col>EtOH_x_24h_R1</th><th scope=col>EtOH_x_24h_R2</th><th scope=col>EtOH_x_24h_R3</th><th scope=col>V125D3_0.1nM_24h_R1</th><th scope=col>⋯</th><th scope=col>V25D3_100nM_24h_R3</th><th scope=col>V25D3_250nM_24h_R1</th><th scope=col>V25D3_250nM_24h_R2</th><th scope=col>V25D3_250nM_24h_R3</th><th scope=col>V25D3_500nM_24h_R1</th><th scope=col>V25D3_500nM_24h_R2</th><th scope=col>V25D3_500nM_24h_R3</th><th scope=col>V25D3_750nM_24h_R1</th><th scope=col>V25D3_750nM_24h_R2</th><th scope=col>V25D3_750nM_24h_R3</th></tr>\n",
       "\t<tr><th></th><th scope=col>&lt;dbl&gt;</th><th scope=col>&lt;dbl&gt;</th><th scope=col>&lt;dbl&gt;</th><th scope=col>&lt;dbl&gt;</th><th scope=col>&lt;dbl&gt;</th><th scope=col>&lt;dbl&gt;</th><th scope=col>&lt;dbl&gt;</th><th scope=col>&lt;dbl&gt;</th><th scope=col>&lt;dbl&gt;</th><th scope=col>&lt;dbl&gt;</th><th scope=col>⋯</th><th scope=col>&lt;dbl&gt;</th><th scope=col>&lt;dbl&gt;</th><th scope=col>&lt;dbl&gt;</th><th scope=col>&lt;dbl&gt;</th><th scope=col>&lt;dbl&gt;</th><th scope=col>&lt;dbl&gt;</th><th scope=col>&lt;dbl&gt;</th><th scope=col>&lt;dbl&gt;</th><th scope=col>&lt;dbl&gt;</th><th scope=col>&lt;dbl&gt;</th></tr>\n",
       "</thead>\n",
       "<tbody>\n",
       "\t<tr><th scope=row>EEF1A1</th><td>13.19955</td><td>13.20389</td><td>13.24308</td><td>12.95741</td><td>12.96927</td><td>13.05334</td><td>13.04876</td><td>12.96089</td><td>12.87252</td><td>12.84384</td><td>⋯</td><td>12.92160</td><td>12.84263</td><td>12.80959</td><td>12.86190</td><td>12.887284</td><td>12.787895</td><td>12.77259</td><td>12.834354</td><td>12.944102</td><td>12.737871</td></tr>\n",
       "\t<tr><th scope=row>THBS1</th><td>13.35130</td><td>13.34009</td><td>13.17195</td><td>13.40471</td><td>13.39350</td><td>13.12153</td><td>11.55956</td><td>11.24316</td><td>11.66690</td><td>12.90514</td><td>⋯</td><td>12.17182</td><td>12.43394</td><td>11.63897</td><td>12.03296</td><td> 7.894323</td><td> 8.506753</td><td> 8.33091</td><td> 7.831622</td><td> 7.984627</td><td> 7.595732</td></tr>\n",
       "\t<tr><th scope=row>AHNAK</th><td>12.20865</td><td>12.20152</td><td>12.19256</td><td>12.17577</td><td>12.17977</td><td>12.32447</td><td>12.13991</td><td>12.08650</td><td>12.31271</td><td>12.13318</td><td>⋯</td><td>11.98634</td><td>11.97355</td><td>11.88571</td><td>11.90694</td><td>11.694495</td><td>11.611410</td><td>11.54022</td><td>11.506867</td><td>11.568378</td><td>11.552911</td></tr>\n",
       "\t<tr><th scope=row>ACTB</th><td>11.70790</td><td>11.65274</td><td>11.72422</td><td>11.82332</td><td>11.81091</td><td>11.77569</td><td>12.90250</td><td>12.61601</td><td>12.47292</td><td>12.37264</td><td>⋯</td><td>12.89542</td><td>12.69190</td><td>12.26085</td><td>12.54241</td><td>11.463562</td><td>11.345979</td><td>11.34106</td><td>11.336000</td><td>11.322062</td><td>11.281427</td></tr>\n",
       "\t<tr><th scope=row>HLA-B</th><td>11.89295</td><td>11.94488</td><td>12.00579</td><td>11.69251</td><td>11.69546</td><td>11.82664</td><td>11.91010</td><td>11.78257</td><td>11.69210</td><td>11.61787</td><td>⋯</td><td>11.89742</td><td>11.77808</td><td>11.74540</td><td>11.85483</td><td>11.731945</td><td>11.690886</td><td>11.65335</td><td>11.730732</td><td>11.733934</td><td>11.708950</td></tr>\n",
       "\t<tr><th scope=row>FTH1</th><td>11.81787</td><td>11.77339</td><td>11.82349</td><td>11.88180</td><td>11.88597</td><td>11.94849</td><td>12.63304</td><td>12.37182</td><td>12.34806</td><td>12.20031</td><td>⋯</td><td>12.45369</td><td>12.30587</td><td>11.96938</td><td>12.33640</td><td>11.013173</td><td>11.047397</td><td>10.99050</td><td>10.775100</td><td>10.920640</td><td>10.661988</td></tr>\n",
       "</tbody>\n",
       "</table>\n"
      ],
      "text/latex": [
       "A data.frame: 6 × 72\n",
       "\\begin{tabular}{r|lllllllllllllllllllll}\n",
       "  & EtOH\\_x\\_04h\\_R1 & EtOH\\_x\\_04h\\_R2 & EtOH\\_x\\_04h\\_R3 & EtOH\\_x\\_08h\\_R1 & EtOH\\_x\\_08h\\_R2 & EtOH\\_x\\_08h\\_R3 & EtOH\\_x\\_24h\\_R1 & EtOH\\_x\\_24h\\_R2 & EtOH\\_x\\_24h\\_R3 & V125D3\\_0.1nM\\_24h\\_R1 & ⋯ & V25D3\\_100nM\\_24h\\_R3 & V25D3\\_250nM\\_24h\\_R1 & V25D3\\_250nM\\_24h\\_R2 & V25D3\\_250nM\\_24h\\_R3 & V25D3\\_500nM\\_24h\\_R1 & V25D3\\_500nM\\_24h\\_R2 & V25D3\\_500nM\\_24h\\_R3 & V25D3\\_750nM\\_24h\\_R1 & V25D3\\_750nM\\_24h\\_R2 & V25D3\\_750nM\\_24h\\_R3\\\\\n",
       "  & <dbl> & <dbl> & <dbl> & <dbl> & <dbl> & <dbl> & <dbl> & <dbl> & <dbl> & <dbl> & ⋯ & <dbl> & <dbl> & <dbl> & <dbl> & <dbl> & <dbl> & <dbl> & <dbl> & <dbl> & <dbl>\\\\\n",
       "\\hline\n",
       "\tEEF1A1 & 13.19955 & 13.20389 & 13.24308 & 12.95741 & 12.96927 & 13.05334 & 13.04876 & 12.96089 & 12.87252 & 12.84384 & ⋯ & 12.92160 & 12.84263 & 12.80959 & 12.86190 & 12.887284 & 12.787895 & 12.77259 & 12.834354 & 12.944102 & 12.737871\\\\\n",
       "\tTHBS1 & 13.35130 & 13.34009 & 13.17195 & 13.40471 & 13.39350 & 13.12153 & 11.55956 & 11.24316 & 11.66690 & 12.90514 & ⋯ & 12.17182 & 12.43394 & 11.63897 & 12.03296 &  7.894323 &  8.506753 &  8.33091 &  7.831622 &  7.984627 &  7.595732\\\\\n",
       "\tAHNAK & 12.20865 & 12.20152 & 12.19256 & 12.17577 & 12.17977 & 12.32447 & 12.13991 & 12.08650 & 12.31271 & 12.13318 & ⋯ & 11.98634 & 11.97355 & 11.88571 & 11.90694 & 11.694495 & 11.611410 & 11.54022 & 11.506867 & 11.568378 & 11.552911\\\\\n",
       "\tACTB & 11.70790 & 11.65274 & 11.72422 & 11.82332 & 11.81091 & 11.77569 & 12.90250 & 12.61601 & 12.47292 & 12.37264 & ⋯ & 12.89542 & 12.69190 & 12.26085 & 12.54241 & 11.463562 & 11.345979 & 11.34106 & 11.336000 & 11.322062 & 11.281427\\\\\n",
       "\tHLA-B & 11.89295 & 11.94488 & 12.00579 & 11.69251 & 11.69546 & 11.82664 & 11.91010 & 11.78257 & 11.69210 & 11.61787 & ⋯ & 11.89742 & 11.77808 & 11.74540 & 11.85483 & 11.731945 & 11.690886 & 11.65335 & 11.730732 & 11.733934 & 11.708950\\\\\n",
       "\tFTH1 & 11.81787 & 11.77339 & 11.82349 & 11.88180 & 11.88597 & 11.94849 & 12.63304 & 12.37182 & 12.34806 & 12.20031 & ⋯ & 12.45369 & 12.30587 & 11.96938 & 12.33640 & 11.013173 & 11.047397 & 10.99050 & 10.775100 & 10.920640 & 10.661988\\\\\n",
       "\\end{tabular}\n"
      ],
      "text/markdown": [
       "\n",
       "A data.frame: 6 × 72\n",
       "\n",
       "| <!--/--> | EtOH_x_04h_R1 &lt;dbl&gt; | EtOH_x_04h_R2 &lt;dbl&gt; | EtOH_x_04h_R3 &lt;dbl&gt; | EtOH_x_08h_R1 &lt;dbl&gt; | EtOH_x_08h_R2 &lt;dbl&gt; | EtOH_x_08h_R3 &lt;dbl&gt; | EtOH_x_24h_R1 &lt;dbl&gt; | EtOH_x_24h_R2 &lt;dbl&gt; | EtOH_x_24h_R3 &lt;dbl&gt; | V125D3_0.1nM_24h_R1 &lt;dbl&gt; | ⋯ ⋯ | V25D3_100nM_24h_R3 &lt;dbl&gt; | V25D3_250nM_24h_R1 &lt;dbl&gt; | V25D3_250nM_24h_R2 &lt;dbl&gt; | V25D3_250nM_24h_R3 &lt;dbl&gt; | V25D3_500nM_24h_R1 &lt;dbl&gt; | V25D3_500nM_24h_R2 &lt;dbl&gt; | V25D3_500nM_24h_R3 &lt;dbl&gt; | V25D3_750nM_24h_R1 &lt;dbl&gt; | V25D3_750nM_24h_R2 &lt;dbl&gt; | V25D3_750nM_24h_R3 &lt;dbl&gt; |\n",
       "|---|---|---|---|---|---|---|---|---|---|---|---|---|---|---|---|---|---|---|---|---|---|\n",
       "| EEF1A1 | 13.19955 | 13.20389 | 13.24308 | 12.95741 | 12.96927 | 13.05334 | 13.04876 | 12.96089 | 12.87252 | 12.84384 | ⋯ | 12.92160 | 12.84263 | 12.80959 | 12.86190 | 12.887284 | 12.787895 | 12.77259 | 12.834354 | 12.944102 | 12.737871 |\n",
       "| THBS1 | 13.35130 | 13.34009 | 13.17195 | 13.40471 | 13.39350 | 13.12153 | 11.55956 | 11.24316 | 11.66690 | 12.90514 | ⋯ | 12.17182 | 12.43394 | 11.63897 | 12.03296 |  7.894323 |  8.506753 |  8.33091 |  7.831622 |  7.984627 |  7.595732 |\n",
       "| AHNAK | 12.20865 | 12.20152 | 12.19256 | 12.17577 | 12.17977 | 12.32447 | 12.13991 | 12.08650 | 12.31271 | 12.13318 | ⋯ | 11.98634 | 11.97355 | 11.88571 | 11.90694 | 11.694495 | 11.611410 | 11.54022 | 11.506867 | 11.568378 | 11.552911 |\n",
       "| ACTB | 11.70790 | 11.65274 | 11.72422 | 11.82332 | 11.81091 | 11.77569 | 12.90250 | 12.61601 | 12.47292 | 12.37264 | ⋯ | 12.89542 | 12.69190 | 12.26085 | 12.54241 | 11.463562 | 11.345979 | 11.34106 | 11.336000 | 11.322062 | 11.281427 |\n",
       "| HLA-B | 11.89295 | 11.94488 | 12.00579 | 11.69251 | 11.69546 | 11.82664 | 11.91010 | 11.78257 | 11.69210 | 11.61787 | ⋯ | 11.89742 | 11.77808 | 11.74540 | 11.85483 | 11.731945 | 11.690886 | 11.65335 | 11.730732 | 11.733934 | 11.708950 |\n",
       "| FTH1 | 11.81787 | 11.77339 | 11.82349 | 11.88180 | 11.88597 | 11.94849 | 12.63304 | 12.37182 | 12.34806 | 12.20031 | ⋯ | 12.45369 | 12.30587 | 11.96938 | 12.33640 | 11.013173 | 11.047397 | 10.99050 | 10.775100 | 10.920640 | 10.661988 |\n",
       "\n"
      ],
      "text/plain": [
       "       EtOH_x_04h_R1 EtOH_x_04h_R2 EtOH_x_04h_R3 EtOH_x_08h_R1 EtOH_x_08h_R2\n",
       "EEF1A1 13.19955      13.20389      13.24308      12.95741      12.96927     \n",
       "THBS1  13.35130      13.34009      13.17195      13.40471      13.39350     \n",
       "AHNAK  12.20865      12.20152      12.19256      12.17577      12.17977     \n",
       "ACTB   11.70790      11.65274      11.72422      11.82332      11.81091     \n",
       "HLA-B  11.89295      11.94488      12.00579      11.69251      11.69546     \n",
       "FTH1   11.81787      11.77339      11.82349      11.88180      11.88597     \n",
       "       EtOH_x_08h_R3 EtOH_x_24h_R1 EtOH_x_24h_R2 EtOH_x_24h_R3\n",
       "EEF1A1 13.05334      13.04876      12.96089      12.87252     \n",
       "THBS1  13.12153      11.55956      11.24316      11.66690     \n",
       "AHNAK  12.32447      12.13991      12.08650      12.31271     \n",
       "ACTB   11.77569      12.90250      12.61601      12.47292     \n",
       "HLA-B  11.82664      11.91010      11.78257      11.69210     \n",
       "FTH1   11.94849      12.63304      12.37182      12.34806     \n",
       "       V125D3_0.1nM_24h_R1 ⋯ V25D3_100nM_24h_R3 V25D3_250nM_24h_R1\n",
       "EEF1A1 12.84384            ⋯ 12.92160           12.84263          \n",
       "THBS1  12.90514            ⋯ 12.17182           12.43394          \n",
       "AHNAK  12.13318            ⋯ 11.98634           11.97355          \n",
       "ACTB   12.37264            ⋯ 12.89542           12.69190          \n",
       "HLA-B  11.61787            ⋯ 11.89742           11.77808          \n",
       "FTH1   12.20031            ⋯ 12.45369           12.30587          \n",
       "       V25D3_250nM_24h_R2 V25D3_250nM_24h_R3 V25D3_500nM_24h_R1\n",
       "EEF1A1 12.80959           12.86190           12.887284         \n",
       "THBS1  11.63897           12.03296            7.894323         \n",
       "AHNAK  11.88571           11.90694           11.694495         \n",
       "ACTB   12.26085           12.54241           11.463562         \n",
       "HLA-B  11.74540           11.85483           11.731945         \n",
       "FTH1   11.96938           12.33640           11.013173         \n",
       "       V25D3_500nM_24h_R2 V25D3_500nM_24h_R3 V25D3_750nM_24h_R1\n",
       "EEF1A1 12.787895          12.77259           12.834354         \n",
       "THBS1   8.506753           8.33091            7.831622         \n",
       "AHNAK  11.611410          11.54022           11.506867         \n",
       "ACTB   11.345979          11.34106           11.336000         \n",
       "HLA-B  11.690886          11.65335           11.730732         \n",
       "FTH1   11.047397          10.99050           10.775100         \n",
       "       V25D3_750nM_24h_R2 V25D3_750nM_24h_R3\n",
       "EEF1A1 12.944102          12.737871         \n",
       "THBS1   7.984627           7.595732         \n",
       "AHNAK  11.568378          11.552911         \n",
       "ACTB   11.322062          11.281427         \n",
       "HLA-B  11.733934          11.708950         \n",
       "FTH1   10.920640          10.661988         "
      ]
     },
     "metadata": {},
     "output_type": "display_data"
    }
   ],
   "source": [
    "head (logcpm)"
   ]
  },
  {
   "cell_type": "code",
   "execution_count": 56,
   "id": "controlled-vessel",
   "metadata": {},
   "outputs": [
    {
     "data": {
      "text/html": [
       "<style>\n",
       ".list-inline {list-style: none; margin:0; padding: 0}\n",
       ".list-inline>li {display: inline-block}\n",
       ".list-inline>li:not(:last-child)::after {content: \"\\00b7\"; padding: 0 .5ex}\n",
       "</style>\n",
       "<ol class=list-inline><li>12939</li><li>72</li></ol>\n"
      ],
      "text/latex": [
       "\\begin{enumerate*}\n",
       "\\item 12939\n",
       "\\item 72\n",
       "\\end{enumerate*}\n"
      ],
      "text/markdown": [
       "1. 12939\n",
       "2. 72\n",
       "\n",
       "\n"
      ],
      "text/plain": [
       "[1] 12939    72"
      ]
     },
     "metadata": {},
     "output_type": "display_data"
    },
    {
     "data": {
      "text/html": [
       "<style>\n",
       ".list-inline {list-style: none; margin:0; padding: 0}\n",
       ".list-inline>li {display: inline-block}\n",
       ".list-inline>li:not(:last-child)::after {content: \"\\00b7\"; padding: 0 .5ex}\n",
       "</style>\n",
       "<ol class=list-inline><li>'EEF1A1'</li><li>'THBS1'</li><li>'AHNAK'</li><li>'ACTB'</li><li>'HLA-B'</li><li>'FTH1'</li></ol>\n"
      ],
      "text/latex": [
       "\\begin{enumerate*}\n",
       "\\item 'EEF1A1'\n",
       "\\item 'THBS1'\n",
       "\\item 'AHNAK'\n",
       "\\item 'ACTB'\n",
       "\\item 'HLA-B'\n",
       "\\item 'FTH1'\n",
       "\\end{enumerate*}\n"
      ],
      "text/markdown": [
       "1. 'EEF1A1'\n",
       "2. 'THBS1'\n",
       "3. 'AHNAK'\n",
       "4. 'ACTB'\n",
       "5. 'HLA-B'\n",
       "6. 'FTH1'\n",
       "\n",
       "\n"
      ],
      "text/plain": [
       "[1] \"EEF1A1\" \"THBS1\"  \"AHNAK\"  \"ACTB\"   \"HLA-B\"  \"FTH1\"  "
      ]
     },
     "metadata": {},
     "output_type": "display_data"
    }
   ],
   "source": [
    "dim (logcpm)\n",
    "\n",
    "origCA= rownames (logcpm)\n",
    "head (origCA)\n"
   ]
  },
  {
   "cell_type": "code",
   "execution_count": 57,
   "id": "cathedral-sitting",
   "metadata": {},
   "outputs": [],
   "source": [
    "logcpm = as.data.frame (logcpm)\n",
    "logcpm = logcpm %>%\n",
    "rownames_to_column (\"hgnc_symbol\")"
   ]
  },
  {
   "cell_type": "code",
   "execution_count": 58,
   "id": "extreme-phenomenon",
   "metadata": {},
   "outputs": [
    {
     "data": {
      "text/html": [
       "<table class=\"dataframe\">\n",
       "<caption>A data.frame: 6 × 73</caption>\n",
       "<thead>\n",
       "\t<tr><th></th><th scope=col>hgnc_symbol</th><th scope=col>EtOH_x_04h_R1</th><th scope=col>EtOH_x_04h_R2</th><th scope=col>EtOH_x_04h_R3</th><th scope=col>EtOH_x_08h_R1</th><th scope=col>EtOH_x_08h_R2</th><th scope=col>EtOH_x_08h_R3</th><th scope=col>EtOH_x_24h_R1</th><th scope=col>EtOH_x_24h_R2</th><th scope=col>EtOH_x_24h_R3</th><th scope=col>⋯</th><th scope=col>V25D3_100nM_24h_R3</th><th scope=col>V25D3_250nM_24h_R1</th><th scope=col>V25D3_250nM_24h_R2</th><th scope=col>V25D3_250nM_24h_R3</th><th scope=col>V25D3_500nM_24h_R1</th><th scope=col>V25D3_500nM_24h_R2</th><th scope=col>V25D3_500nM_24h_R3</th><th scope=col>V25D3_750nM_24h_R1</th><th scope=col>V25D3_750nM_24h_R2</th><th scope=col>V25D3_750nM_24h_R3</th></tr>\n",
       "\t<tr><th></th><th scope=col>&lt;chr&gt;</th><th scope=col>&lt;dbl&gt;</th><th scope=col>&lt;dbl&gt;</th><th scope=col>&lt;dbl&gt;</th><th scope=col>&lt;dbl&gt;</th><th scope=col>&lt;dbl&gt;</th><th scope=col>&lt;dbl&gt;</th><th scope=col>&lt;dbl&gt;</th><th scope=col>&lt;dbl&gt;</th><th scope=col>&lt;dbl&gt;</th><th scope=col>⋯</th><th scope=col>&lt;dbl&gt;</th><th scope=col>&lt;dbl&gt;</th><th scope=col>&lt;dbl&gt;</th><th scope=col>&lt;dbl&gt;</th><th scope=col>&lt;dbl&gt;</th><th scope=col>&lt;dbl&gt;</th><th scope=col>&lt;dbl&gt;</th><th scope=col>&lt;dbl&gt;</th><th scope=col>&lt;dbl&gt;</th><th scope=col>&lt;dbl&gt;</th></tr>\n",
       "</thead>\n",
       "<tbody>\n",
       "\t<tr><th scope=row>1</th><td>EEF1A1</td><td>13.19955</td><td>13.20389</td><td>13.24308</td><td>12.95741</td><td>12.96927</td><td>13.05334</td><td>13.04876</td><td>12.96089</td><td>12.87252</td><td>⋯</td><td>12.92160</td><td>12.84263</td><td>12.80959</td><td>12.86190</td><td>12.887284</td><td>12.787895</td><td>12.77259</td><td>12.834354</td><td>12.944102</td><td>12.737871</td></tr>\n",
       "\t<tr><th scope=row>2</th><td>THBS1 </td><td>13.35130</td><td>13.34009</td><td>13.17195</td><td>13.40471</td><td>13.39350</td><td>13.12153</td><td>11.55956</td><td>11.24316</td><td>11.66690</td><td>⋯</td><td>12.17182</td><td>12.43394</td><td>11.63897</td><td>12.03296</td><td> 7.894323</td><td> 8.506753</td><td> 8.33091</td><td> 7.831622</td><td> 7.984627</td><td> 7.595732</td></tr>\n",
       "\t<tr><th scope=row>3</th><td>AHNAK </td><td>12.20865</td><td>12.20152</td><td>12.19256</td><td>12.17577</td><td>12.17977</td><td>12.32447</td><td>12.13991</td><td>12.08650</td><td>12.31271</td><td>⋯</td><td>11.98634</td><td>11.97355</td><td>11.88571</td><td>11.90694</td><td>11.694495</td><td>11.611410</td><td>11.54022</td><td>11.506867</td><td>11.568378</td><td>11.552911</td></tr>\n",
       "\t<tr><th scope=row>4</th><td>ACTB  </td><td>11.70790</td><td>11.65274</td><td>11.72422</td><td>11.82332</td><td>11.81091</td><td>11.77569</td><td>12.90250</td><td>12.61601</td><td>12.47292</td><td>⋯</td><td>12.89542</td><td>12.69190</td><td>12.26085</td><td>12.54241</td><td>11.463562</td><td>11.345979</td><td>11.34106</td><td>11.336000</td><td>11.322062</td><td>11.281427</td></tr>\n",
       "\t<tr><th scope=row>5</th><td>HLA-B </td><td>11.89295</td><td>11.94488</td><td>12.00579</td><td>11.69251</td><td>11.69546</td><td>11.82664</td><td>11.91010</td><td>11.78257</td><td>11.69210</td><td>⋯</td><td>11.89742</td><td>11.77808</td><td>11.74540</td><td>11.85483</td><td>11.731945</td><td>11.690886</td><td>11.65335</td><td>11.730732</td><td>11.733934</td><td>11.708950</td></tr>\n",
       "\t<tr><th scope=row>6</th><td>FTH1  </td><td>11.81787</td><td>11.77339</td><td>11.82349</td><td>11.88180</td><td>11.88597</td><td>11.94849</td><td>12.63304</td><td>12.37182</td><td>12.34806</td><td>⋯</td><td>12.45369</td><td>12.30587</td><td>11.96938</td><td>12.33640</td><td>11.013173</td><td>11.047397</td><td>10.99050</td><td>10.775100</td><td>10.920640</td><td>10.661988</td></tr>\n",
       "</tbody>\n",
       "</table>\n"
      ],
      "text/latex": [
       "A data.frame: 6 × 73\n",
       "\\begin{tabular}{r|lllllllllllllllllllll}\n",
       "  & hgnc\\_symbol & EtOH\\_x\\_04h\\_R1 & EtOH\\_x\\_04h\\_R2 & EtOH\\_x\\_04h\\_R3 & EtOH\\_x\\_08h\\_R1 & EtOH\\_x\\_08h\\_R2 & EtOH\\_x\\_08h\\_R3 & EtOH\\_x\\_24h\\_R1 & EtOH\\_x\\_24h\\_R2 & EtOH\\_x\\_24h\\_R3 & ⋯ & V25D3\\_100nM\\_24h\\_R3 & V25D3\\_250nM\\_24h\\_R1 & V25D3\\_250nM\\_24h\\_R2 & V25D3\\_250nM\\_24h\\_R3 & V25D3\\_500nM\\_24h\\_R1 & V25D3\\_500nM\\_24h\\_R2 & V25D3\\_500nM\\_24h\\_R3 & V25D3\\_750nM\\_24h\\_R1 & V25D3\\_750nM\\_24h\\_R2 & V25D3\\_750nM\\_24h\\_R3\\\\\n",
       "  & <chr> & <dbl> & <dbl> & <dbl> & <dbl> & <dbl> & <dbl> & <dbl> & <dbl> & <dbl> & ⋯ & <dbl> & <dbl> & <dbl> & <dbl> & <dbl> & <dbl> & <dbl> & <dbl> & <dbl> & <dbl>\\\\\n",
       "\\hline\n",
       "\t1 & EEF1A1 & 13.19955 & 13.20389 & 13.24308 & 12.95741 & 12.96927 & 13.05334 & 13.04876 & 12.96089 & 12.87252 & ⋯ & 12.92160 & 12.84263 & 12.80959 & 12.86190 & 12.887284 & 12.787895 & 12.77259 & 12.834354 & 12.944102 & 12.737871\\\\\n",
       "\t2 & THBS1  & 13.35130 & 13.34009 & 13.17195 & 13.40471 & 13.39350 & 13.12153 & 11.55956 & 11.24316 & 11.66690 & ⋯ & 12.17182 & 12.43394 & 11.63897 & 12.03296 &  7.894323 &  8.506753 &  8.33091 &  7.831622 &  7.984627 &  7.595732\\\\\n",
       "\t3 & AHNAK  & 12.20865 & 12.20152 & 12.19256 & 12.17577 & 12.17977 & 12.32447 & 12.13991 & 12.08650 & 12.31271 & ⋯ & 11.98634 & 11.97355 & 11.88571 & 11.90694 & 11.694495 & 11.611410 & 11.54022 & 11.506867 & 11.568378 & 11.552911\\\\\n",
       "\t4 & ACTB   & 11.70790 & 11.65274 & 11.72422 & 11.82332 & 11.81091 & 11.77569 & 12.90250 & 12.61601 & 12.47292 & ⋯ & 12.89542 & 12.69190 & 12.26085 & 12.54241 & 11.463562 & 11.345979 & 11.34106 & 11.336000 & 11.322062 & 11.281427\\\\\n",
       "\t5 & HLA-B  & 11.89295 & 11.94488 & 12.00579 & 11.69251 & 11.69546 & 11.82664 & 11.91010 & 11.78257 & 11.69210 & ⋯ & 11.89742 & 11.77808 & 11.74540 & 11.85483 & 11.731945 & 11.690886 & 11.65335 & 11.730732 & 11.733934 & 11.708950\\\\\n",
       "\t6 & FTH1   & 11.81787 & 11.77339 & 11.82349 & 11.88180 & 11.88597 & 11.94849 & 12.63304 & 12.37182 & 12.34806 & ⋯ & 12.45369 & 12.30587 & 11.96938 & 12.33640 & 11.013173 & 11.047397 & 10.99050 & 10.775100 & 10.920640 & 10.661988\\\\\n",
       "\\end{tabular}\n"
      ],
      "text/markdown": [
       "\n",
       "A data.frame: 6 × 73\n",
       "\n",
       "| <!--/--> | hgnc_symbol &lt;chr&gt; | EtOH_x_04h_R1 &lt;dbl&gt; | EtOH_x_04h_R2 &lt;dbl&gt; | EtOH_x_04h_R3 &lt;dbl&gt; | EtOH_x_08h_R1 &lt;dbl&gt; | EtOH_x_08h_R2 &lt;dbl&gt; | EtOH_x_08h_R3 &lt;dbl&gt; | EtOH_x_24h_R1 &lt;dbl&gt; | EtOH_x_24h_R2 &lt;dbl&gt; | EtOH_x_24h_R3 &lt;dbl&gt; | ⋯ ⋯ | V25D3_100nM_24h_R3 &lt;dbl&gt; | V25D3_250nM_24h_R1 &lt;dbl&gt; | V25D3_250nM_24h_R2 &lt;dbl&gt; | V25D3_250nM_24h_R3 &lt;dbl&gt; | V25D3_500nM_24h_R1 &lt;dbl&gt; | V25D3_500nM_24h_R2 &lt;dbl&gt; | V25D3_500nM_24h_R3 &lt;dbl&gt; | V25D3_750nM_24h_R1 &lt;dbl&gt; | V25D3_750nM_24h_R2 &lt;dbl&gt; | V25D3_750nM_24h_R3 &lt;dbl&gt; |\n",
       "|---|---|---|---|---|---|---|---|---|---|---|---|---|---|---|---|---|---|---|---|---|---|\n",
       "| 1 | EEF1A1 | 13.19955 | 13.20389 | 13.24308 | 12.95741 | 12.96927 | 13.05334 | 13.04876 | 12.96089 | 12.87252 | ⋯ | 12.92160 | 12.84263 | 12.80959 | 12.86190 | 12.887284 | 12.787895 | 12.77259 | 12.834354 | 12.944102 | 12.737871 |\n",
       "| 2 | THBS1  | 13.35130 | 13.34009 | 13.17195 | 13.40471 | 13.39350 | 13.12153 | 11.55956 | 11.24316 | 11.66690 | ⋯ | 12.17182 | 12.43394 | 11.63897 | 12.03296 |  7.894323 |  8.506753 |  8.33091 |  7.831622 |  7.984627 |  7.595732 |\n",
       "| 3 | AHNAK  | 12.20865 | 12.20152 | 12.19256 | 12.17577 | 12.17977 | 12.32447 | 12.13991 | 12.08650 | 12.31271 | ⋯ | 11.98634 | 11.97355 | 11.88571 | 11.90694 | 11.694495 | 11.611410 | 11.54022 | 11.506867 | 11.568378 | 11.552911 |\n",
       "| 4 | ACTB   | 11.70790 | 11.65274 | 11.72422 | 11.82332 | 11.81091 | 11.77569 | 12.90250 | 12.61601 | 12.47292 | ⋯ | 12.89542 | 12.69190 | 12.26085 | 12.54241 | 11.463562 | 11.345979 | 11.34106 | 11.336000 | 11.322062 | 11.281427 |\n",
       "| 5 | HLA-B  | 11.89295 | 11.94488 | 12.00579 | 11.69251 | 11.69546 | 11.82664 | 11.91010 | 11.78257 | 11.69210 | ⋯ | 11.89742 | 11.77808 | 11.74540 | 11.85483 | 11.731945 | 11.690886 | 11.65335 | 11.730732 | 11.733934 | 11.708950 |\n",
       "| 6 | FTH1   | 11.81787 | 11.77339 | 11.82349 | 11.88180 | 11.88597 | 11.94849 | 12.63304 | 12.37182 | 12.34806 | ⋯ | 12.45369 | 12.30587 | 11.96938 | 12.33640 | 11.013173 | 11.047397 | 10.99050 | 10.775100 | 10.920640 | 10.661988 |\n",
       "\n"
      ],
      "text/plain": [
       "  hgnc_symbol EtOH_x_04h_R1 EtOH_x_04h_R2 EtOH_x_04h_R3 EtOH_x_08h_R1\n",
       "1 EEF1A1      13.19955      13.20389      13.24308      12.95741     \n",
       "2 THBS1       13.35130      13.34009      13.17195      13.40471     \n",
       "3 AHNAK       12.20865      12.20152      12.19256      12.17577     \n",
       "4 ACTB        11.70790      11.65274      11.72422      11.82332     \n",
       "5 HLA-B       11.89295      11.94488      12.00579      11.69251     \n",
       "6 FTH1        11.81787      11.77339      11.82349      11.88180     \n",
       "  EtOH_x_08h_R2 EtOH_x_08h_R3 EtOH_x_24h_R1 EtOH_x_24h_R2 EtOH_x_24h_R3 ⋯\n",
       "1 12.96927      13.05334      13.04876      12.96089      12.87252      ⋯\n",
       "2 13.39350      13.12153      11.55956      11.24316      11.66690      ⋯\n",
       "3 12.17977      12.32447      12.13991      12.08650      12.31271      ⋯\n",
       "4 11.81091      11.77569      12.90250      12.61601      12.47292      ⋯\n",
       "5 11.69546      11.82664      11.91010      11.78257      11.69210      ⋯\n",
       "6 11.88597      11.94849      12.63304      12.37182      12.34806      ⋯\n",
       "  V25D3_100nM_24h_R3 V25D3_250nM_24h_R1 V25D3_250nM_24h_R2 V25D3_250nM_24h_R3\n",
       "1 12.92160           12.84263           12.80959           12.86190          \n",
       "2 12.17182           12.43394           11.63897           12.03296          \n",
       "3 11.98634           11.97355           11.88571           11.90694          \n",
       "4 12.89542           12.69190           12.26085           12.54241          \n",
       "5 11.89742           11.77808           11.74540           11.85483          \n",
       "6 12.45369           12.30587           11.96938           12.33640          \n",
       "  V25D3_500nM_24h_R1 V25D3_500nM_24h_R2 V25D3_500nM_24h_R3 V25D3_750nM_24h_R1\n",
       "1 12.887284          12.787895          12.77259           12.834354         \n",
       "2  7.894323           8.506753           8.33091            7.831622         \n",
       "3 11.694495          11.611410          11.54022           11.506867         \n",
       "4 11.463562          11.345979          11.34106           11.336000         \n",
       "5 11.731945          11.690886          11.65335           11.730732         \n",
       "6 11.013173          11.047397          10.99050           10.775100         \n",
       "  V25D3_750nM_24h_R2 V25D3_750nM_24h_R3\n",
       "1 12.944102          12.737871         \n",
       "2  7.984627           7.595732         \n",
       "3 11.568378          11.552911         \n",
       "4 11.322062          11.281427         \n",
       "5 11.733934          11.708950         \n",
       "6 10.920640          10.661988         "
      ]
     },
     "metadata": {},
     "output_type": "display_data"
    }
   ],
   "source": [
    "head (logcpm)"
   ]
  },
  {
   "cell_type": "code",
   "execution_count": 59,
   "id": "ambient-power",
   "metadata": {},
   "outputs": [
    {
     "data": {
      "text/html": [
       "<table class=\"dataframe\">\n",
       "<caption>A data.frame: 6 × 112</caption>\n",
       "<thead>\n",
       "\t<tr><th></th><th scope=col>hgnc_symbol</th><th scope=col>EtOH_04h.Avg</th><th scope=col>EtOH_08h.Avg</th><th scope=col>EtOH_24h.Avg</th><th scope=col>V125D3_10nM_04h.Avg</th><th scope=col>V125D3_10nM_08h.Avg</th><th scope=col>V25D3_1000nM_04h.Avg</th><th scope=col>V25D3_1000nM_08h.Avg</th><th scope=col>V25D2_1000nM_04h.Avg</th><th scope=col>V25D2_1000nM_08h.Avg</th><th scope=col>⋯</th><th scope=col>Target_04h</th><th scope=col>Target_08h</th><th scope=col>Target_24h</th><th scope=col>Target_48h</th><th scope=col>Regulation</th><th scope=col>MA_plot</th><th scope=col>cluster</th><th scope=col>howmany_time</th><th scope=col>primary</th><th scope=col>general_category</th></tr>\n",
       "\t<tr><th></th><th scope=col>&lt;chr&gt;</th><th scope=col>&lt;dbl&gt;</th><th scope=col>&lt;dbl&gt;</th><th scope=col>&lt;dbl&gt;</th><th scope=col>&lt;dbl&gt;</th><th scope=col>&lt;dbl&gt;</th><th scope=col>&lt;dbl&gt;</th><th scope=col>&lt;dbl&gt;</th><th scope=col>&lt;dbl&gt;</th><th scope=col>&lt;dbl&gt;</th><th scope=col>⋯</th><th scope=col>&lt;dbl&gt;</th><th scope=col>&lt;dbl&gt;</th><th scope=col>&lt;dbl&gt;</th><th scope=col>&lt;dbl&gt;</th><th scope=col>&lt;chr&gt;</th><th scope=col>&lt;chr&gt;</th><th scope=col>&lt;dbl&gt;</th><th scope=col>&lt;dbl&gt;</th><th scope=col>&lt;dbl&gt;</th><th scope=col>&lt;chr&gt;</th></tr>\n",
       "</thead>\n",
       "<tbody>\n",
       "\t<tr><th scope=row>1</th><td>EEF1A1</td><td> 9511.863</td><td> 8156.986</td><td>7981.032</td><td>9030.484</td><td>7689.327</td><td>9357.482</td><td>8085.816</td><td>9618.236</td><td>8444.069</td><td>⋯</td><td>0</td><td>0</td><td>0</td><td>0</td><td>0   </td><td>0</td><td>0</td><td>0</td><td>0</td><td>0                                  </td></tr>\n",
       "\t<tr><th scope=row>2</th><td>THBS1 </td><td>10015.564</td><td>10171.666</td><td>2897.085</td><td>5661.667</td><td>4404.470</td><td>8766.962</td><td>5053.088</td><td>8407.375</td><td>6702.251</td><td>⋯</td><td>0</td><td>0</td><td>1</td><td>1</td><td>down</td><td> </td><td>2</td><td>2</td><td>0</td><td>Receptor/cell adhesion             </td></tr>\n",
       "\t<tr><th scope=row>3</th><td>AHNAK </td><td> 4707.223</td><td> 4797.567</td><td>4648.998</td><td>5360.808</td><td>3881.601</td><td>4410.905</td><td>4029.688</td><td>4580.094</td><td>3939.010</td><td>⋯</td><td>0</td><td>0</td><td>0</td><td>0</td><td>0   </td><td>0</td><td>0</td><td>0</td><td>0</td><td>0                                  </td></tr>\n",
       "\t<tr><th scope=row>4</th><td><span style=white-space:pre-wrap>ACTB  </span></td><td> 3315.240</td><td> 3573.435</td><td>6538.880</td><td>2774.664</td><td>2570.414</td><td>2671.880</td><td>2581.303</td><td>2673.691</td><td>2888.500</td><td>⋯</td><td>0</td><td>0</td><td>1</td><td>0</td><td>down</td><td> </td><td>3</td><td>1</td><td>0</td><td>Cell structure &amp; motility modulator</td></tr>\n",
       "\t<tr><th scope=row>5</th><td>HLA-B </td><td> 3951.802</td><td> 3418.639</td><td>3559.242</td><td>3628.200</td><td>3156.379</td><td>3477.364</td><td>3449.185</td><td>3712.657</td><td>3768.545</td><td>⋯</td><td>0</td><td>0</td><td>0</td><td>0</td><td>0   </td><td>0</td><td>0</td><td>0</td><td>0</td><td>0                                  </td></tr>\n",
       "\t<tr><th scope=row>6</th><td>FTH1  </td><td> 3577.504</td><td> 3836.081</td><td>5621.114</td><td>2840.856</td><td>2732.822</td><td>2995.232</td><td>2826.533</td><td>2756.474</td><td>3143.455</td><td>⋯</td><td>0</td><td>0</td><td>1</td><td>0</td><td>down</td><td> </td><td>3</td><td>1</td><td>0</td><td>Enzyme/Transporter                 </td></tr>\n",
       "</tbody>\n",
       "</table>\n"
      ],
      "text/latex": [
       "A data.frame: 6 × 112\n",
       "\\begin{tabular}{r|lllllllllllllllllllll}\n",
       "  & hgnc\\_symbol & EtOH\\_04h.Avg & EtOH\\_08h.Avg & EtOH\\_24h.Avg & V125D3\\_10nM\\_04h.Avg & V125D3\\_10nM\\_08h.Avg & V25D3\\_1000nM\\_04h.Avg & V25D3\\_1000nM\\_08h.Avg & V25D2\\_1000nM\\_04h.Avg & V25D2\\_1000nM\\_08h.Avg & ⋯ & Target\\_04h & Target\\_08h & Target\\_24h & Target\\_48h & Regulation & MA\\_plot & cluster & howmany\\_time & primary & general\\_category\\\\\n",
       "  & <chr> & <dbl> & <dbl> & <dbl> & <dbl> & <dbl> & <dbl> & <dbl> & <dbl> & <dbl> & ⋯ & <dbl> & <dbl> & <dbl> & <dbl> & <chr> & <chr> & <dbl> & <dbl> & <dbl> & <chr>\\\\\n",
       "\\hline\n",
       "\t1 & EEF1A1 &  9511.863 &  8156.986 & 7981.032 & 9030.484 & 7689.327 & 9357.482 & 8085.816 & 9618.236 & 8444.069 & ⋯ & 0 & 0 & 0 & 0 & 0    & 0 & 0 & 0 & 0 & 0                                  \\\\\n",
       "\t2 & THBS1  & 10015.564 & 10171.666 & 2897.085 & 5661.667 & 4404.470 & 8766.962 & 5053.088 & 8407.375 & 6702.251 & ⋯ & 0 & 0 & 1 & 1 & down &   & 2 & 2 & 0 & Receptor/cell adhesion             \\\\\n",
       "\t3 & AHNAK  &  4707.223 &  4797.567 & 4648.998 & 5360.808 & 3881.601 & 4410.905 & 4029.688 & 4580.094 & 3939.010 & ⋯ & 0 & 0 & 0 & 0 & 0    & 0 & 0 & 0 & 0 & 0                                  \\\\\n",
       "\t4 & ACTB   &  3315.240 &  3573.435 & 6538.880 & 2774.664 & 2570.414 & 2671.880 & 2581.303 & 2673.691 & 2888.500 & ⋯ & 0 & 0 & 1 & 0 & down &   & 3 & 1 & 0 & Cell structure \\& motility modulator\\\\\n",
       "\t5 & HLA-B  &  3951.802 &  3418.639 & 3559.242 & 3628.200 & 3156.379 & 3477.364 & 3449.185 & 3712.657 & 3768.545 & ⋯ & 0 & 0 & 0 & 0 & 0    & 0 & 0 & 0 & 0 & 0                                  \\\\\n",
       "\t6 & FTH1   &  3577.504 &  3836.081 & 5621.114 & 2840.856 & 2732.822 & 2995.232 & 2826.533 & 2756.474 & 3143.455 & ⋯ & 0 & 0 & 1 & 0 & down &   & 3 & 1 & 0 & Enzyme/Transporter                 \\\\\n",
       "\\end{tabular}\n"
      ],
      "text/markdown": [
       "\n",
       "A data.frame: 6 × 112\n",
       "\n",
       "| <!--/--> | hgnc_symbol &lt;chr&gt; | EtOH_04h.Avg &lt;dbl&gt; | EtOH_08h.Avg &lt;dbl&gt; | EtOH_24h.Avg &lt;dbl&gt; | V125D3_10nM_04h.Avg &lt;dbl&gt; | V125D3_10nM_08h.Avg &lt;dbl&gt; | V25D3_1000nM_04h.Avg &lt;dbl&gt; | V25D3_1000nM_08h.Avg &lt;dbl&gt; | V25D2_1000nM_04h.Avg &lt;dbl&gt; | V25D2_1000nM_08h.Avg &lt;dbl&gt; | ⋯ ⋯ | Target_04h &lt;dbl&gt; | Target_08h &lt;dbl&gt; | Target_24h &lt;dbl&gt; | Target_48h &lt;dbl&gt; | Regulation &lt;chr&gt; | MA_plot &lt;chr&gt; | cluster &lt;dbl&gt; | howmany_time &lt;dbl&gt; | primary &lt;dbl&gt; | general_category &lt;chr&gt; |\n",
       "|---|---|---|---|---|---|---|---|---|---|---|---|---|---|---|---|---|---|---|---|---|---|\n",
       "| 1 | EEF1A1 |  9511.863 |  8156.986 | 7981.032 | 9030.484 | 7689.327 | 9357.482 | 8085.816 | 9618.236 | 8444.069 | ⋯ | 0 | 0 | 0 | 0 | 0    | 0 | 0 | 0 | 0 | 0                                   |\n",
       "| 2 | THBS1  | 10015.564 | 10171.666 | 2897.085 | 5661.667 | 4404.470 | 8766.962 | 5053.088 | 8407.375 | 6702.251 | ⋯ | 0 | 0 | 1 | 1 | down | <!----> | 2 | 2 | 0 | Receptor/cell adhesion              |\n",
       "| 3 | AHNAK  |  4707.223 |  4797.567 | 4648.998 | 5360.808 | 3881.601 | 4410.905 | 4029.688 | 4580.094 | 3939.010 | ⋯ | 0 | 0 | 0 | 0 | 0    | 0 | 0 | 0 | 0 | 0                                   |\n",
       "| 4 | ACTB   |  3315.240 |  3573.435 | 6538.880 | 2774.664 | 2570.414 | 2671.880 | 2581.303 | 2673.691 | 2888.500 | ⋯ | 0 | 0 | 1 | 0 | down | <!----> | 3 | 1 | 0 | Cell structure &amp; motility modulator |\n",
       "| 5 | HLA-B  |  3951.802 |  3418.639 | 3559.242 | 3628.200 | 3156.379 | 3477.364 | 3449.185 | 3712.657 | 3768.545 | ⋯ | 0 | 0 | 0 | 0 | 0    | 0 | 0 | 0 | 0 | 0                                   |\n",
       "| 6 | FTH1   |  3577.504 |  3836.081 | 5621.114 | 2840.856 | 2732.822 | 2995.232 | 2826.533 | 2756.474 | 3143.455 | ⋯ | 0 | 0 | 1 | 0 | down | <!----> | 3 | 1 | 0 | Enzyme/Transporter                  |\n",
       "\n"
      ],
      "text/plain": [
       "  hgnc_symbol EtOH_04h.Avg EtOH_08h.Avg EtOH_24h.Avg V125D3_10nM_04h.Avg\n",
       "1 EEF1A1       9511.863     8156.986    7981.032     9030.484           \n",
       "2 THBS1       10015.564    10171.666    2897.085     5661.667           \n",
       "3 AHNAK        4707.223     4797.567    4648.998     5360.808           \n",
       "4 ACTB         3315.240     3573.435    6538.880     2774.664           \n",
       "5 HLA-B        3951.802     3418.639    3559.242     3628.200           \n",
       "6 FTH1         3577.504     3836.081    5621.114     2840.856           \n",
       "  V125D3_10nM_08h.Avg V25D3_1000nM_04h.Avg V25D3_1000nM_08h.Avg\n",
       "1 7689.327            9357.482             8085.816            \n",
       "2 4404.470            8766.962             5053.088            \n",
       "3 3881.601            4410.905             4029.688            \n",
       "4 2570.414            2671.880             2581.303            \n",
       "5 3156.379            3477.364             3449.185            \n",
       "6 2732.822            2995.232             2826.533            \n",
       "  V25D2_1000nM_04h.Avg V25D2_1000nM_08h.Avg ⋯ Target_04h Target_08h Target_24h\n",
       "1 9618.236             8444.069             ⋯ 0          0          0         \n",
       "2 8407.375             6702.251             ⋯ 0          0          1         \n",
       "3 4580.094             3939.010             ⋯ 0          0          0         \n",
       "4 2673.691             2888.500             ⋯ 0          0          1         \n",
       "5 3712.657             3768.545             ⋯ 0          0          0         \n",
       "6 2756.474             3143.455             ⋯ 0          0          1         \n",
       "  Target_48h Regulation MA_plot cluster howmany_time primary\n",
       "1 0          0          0       0       0            0      \n",
       "2 1          down               2       2            0      \n",
       "3 0          0          0       0       0            0      \n",
       "4 0          down               3       1            0      \n",
       "5 0          0          0       0       0            0      \n",
       "6 0          down               3       1            0      \n",
       "  general_category                   \n",
       "1 0                                  \n",
       "2 Receptor/cell adhesion             \n",
       "3 0                                  \n",
       "4 Cell structure & motility modulator\n",
       "5 0                                  \n",
       "6 Enzyme/Transporter                 "
      ]
     },
     "metadata": {},
     "output_type": "display_data"
    }
   ],
   "source": [
    "head (mrg)"
   ]
  },
  {
   "cell_type": "code",
   "execution_count": 60,
   "id": "packed-clinic",
   "metadata": {},
   "outputs": [],
   "source": [
    "mrgs = mrg %>%\n",
    "select (., c(hgnc_symbol, logFC_V125D3_1nM_24h:general_category)) %>%\n",
    "select (., -matches (\"FDR\"))"
   ]
  },
  {
   "cell_type": "code",
   "execution_count": 61,
   "id": "applicable-separation",
   "metadata": {},
   "outputs": [
    {
     "data": {
      "text/html": [
       "<table class=\"dataframe\">\n",
       "<caption>A data.frame: 6 × 69</caption>\n",
       "<thead>\n",
       "\t<tr><th></th><th scope=col>hgnc_symbol</th><th scope=col>logFC_V125D3_1nM_24h</th><th scope=col>logCPM_V125D3_1nM_24h</th><th scope=col>logFC_V125D3_10nM_04h</th><th scope=col>logCPM_V125D3_10nM_04h</th><th scope=col>logFC_V125D3_10nM_08h</th><th scope=col>logCPM_V125D3_10nM_08h</th><th scope=col>logFC_V125D3_10nM_24h</th><th scope=col>logCPM_V125D3_10nM_24h</th><th scope=col>logFC_V125D3_0.1nM_24h</th><th scope=col>⋯</th><th scope=col>Target_04h</th><th scope=col>Target_08h</th><th scope=col>Target_24h</th><th scope=col>Target_48h</th><th scope=col>Regulation</th><th scope=col>MA_plot</th><th scope=col>cluster</th><th scope=col>howmany_time</th><th scope=col>primary</th><th scope=col>general_category</th></tr>\n",
       "\t<tr><th></th><th scope=col>&lt;chr&gt;</th><th scope=col>&lt;dbl&gt;</th><th scope=col>&lt;dbl&gt;</th><th scope=col>&lt;dbl&gt;</th><th scope=col>&lt;dbl&gt;</th><th scope=col>&lt;dbl&gt;</th><th scope=col>&lt;dbl&gt;</th><th scope=col>&lt;dbl&gt;</th><th scope=col>&lt;dbl&gt;</th><th scope=col>&lt;dbl&gt;</th><th scope=col>⋯</th><th scope=col>&lt;dbl&gt;</th><th scope=col>&lt;dbl&gt;</th><th scope=col>&lt;dbl&gt;</th><th scope=col>&lt;dbl&gt;</th><th scope=col>&lt;chr&gt;</th><th scope=col>&lt;chr&gt;</th><th scope=col>&lt;dbl&gt;</th><th scope=col>&lt;dbl&gt;</th><th scope=col>&lt;dbl&gt;</th><th scope=col>&lt;chr&gt;</th></tr>\n",
       "</thead>\n",
       "<tbody>\n",
       "\t<tr><th scope=row>1</th><td>EEF1A1</td><td>-0.14393186</td><td>12.95125</td><td>-0.07482927</td><td>12.95125</td><td>-0.08522619</td><td>12.95125</td><td>-0.1935054</td><td>12.95125</td><td>-0.12313201</td><td>⋯</td><td>0</td><td>0</td><td>0</td><td>0</td><td>0   </td><td>0</td><td>0</td><td>0</td><td>0</td><td>0                                  </td></tr>\n",
       "\t<tr><th scope=row>2</th><td>THBS1 </td><td>-0.89360387</td><td>12.16559</td><td>-0.82316726</td><td>12.16559</td><td>-1.20755542</td><td>12.16559</td><td>-3.4282988</td><td>12.16559</td><td> 1.31716961</td><td>⋯</td><td>0</td><td>0</td><td>1</td><td>1</td><td>down</td><td> </td><td>2</td><td>2</td><td>0</td><td>Receptor/cell adhesion             </td></tr>\n",
       "\t<tr><th scope=row>3</th><td>AHNAK </td><td>-0.35859099</td><td>11.96560</td><td> 0.18756489</td><td>11.96560</td><td>-0.30573797</td><td>11.96560</td><td>-0.5637265</td><td>11.96560</td><td>-0.02582541</td><td>⋯</td><td>0</td><td>0</td><td>0</td><td>0</td><td>0   </td><td>0</td><td>0</td><td>0</td><td>0</td><td>0                                  </td></tr>\n",
       "\t<tr><th scope=row>4</th><td><span style=white-space:pre-wrap>ACTB  </span></td><td>-0.83792422</td><td>11.79834</td><td>-0.25698703</td><td>11.79834</td><td>-0.47528041</td><td>11.79834</td><td>-1.3125561</td><td>11.79834</td><td>-0.40933855</td><td>⋯</td><td>0</td><td>0</td><td>1</td><td>0</td><td>down</td><td> </td><td>3</td><td>1</td><td>0</td><td>Cell structure &amp; motility modulator</td></tr>\n",
       "\t<tr><th scope=row>5</th><td>HLA-B </td><td>-0.02830416</td><td>11.73555</td><td>-0.12253358</td><td>11.73555</td><td>-0.11529881</td><td>11.73555</td><td>-0.2424212</td><td>11.73555</td><td>-0.18575829</td><td>⋯</td><td>0</td><td>0</td><td>0</td><td>0</td><td>0   </td><td>0</td><td>0</td><td>0</td><td>0</td><td>0                                  </td></tr>\n",
       "\t<tr><th scope=row>6</th><td>FTH1  </td><td>-0.80030529</td><td>11.66557</td><td>-0.33305590</td><td>11.66557</td><td>-0.48925320</td><td>11.66557</td><td>-1.4335011</td><td>11.66557</td><td>-0.31668831</td><td>⋯</td><td>0</td><td>0</td><td>1</td><td>0</td><td>down</td><td> </td><td>3</td><td>1</td><td>0</td><td>Enzyme/Transporter                 </td></tr>\n",
       "</tbody>\n",
       "</table>\n"
      ],
      "text/latex": [
       "A data.frame: 6 × 69\n",
       "\\begin{tabular}{r|lllllllllllllllllllll}\n",
       "  & hgnc\\_symbol & logFC\\_V125D3\\_1nM\\_24h & logCPM\\_V125D3\\_1nM\\_24h & logFC\\_V125D3\\_10nM\\_04h & logCPM\\_V125D3\\_10nM\\_04h & logFC\\_V125D3\\_10nM\\_08h & logCPM\\_V125D3\\_10nM\\_08h & logFC\\_V125D3\\_10nM\\_24h & logCPM\\_V125D3\\_10nM\\_24h & logFC\\_V125D3\\_0.1nM\\_24h & ⋯ & Target\\_04h & Target\\_08h & Target\\_24h & Target\\_48h & Regulation & MA\\_plot & cluster & howmany\\_time & primary & general\\_category\\\\\n",
       "  & <chr> & <dbl> & <dbl> & <dbl> & <dbl> & <dbl> & <dbl> & <dbl> & <dbl> & <dbl> & ⋯ & <dbl> & <dbl> & <dbl> & <dbl> & <chr> & <chr> & <dbl> & <dbl> & <dbl> & <chr>\\\\\n",
       "\\hline\n",
       "\t1 & EEF1A1 & -0.14393186 & 12.95125 & -0.07482927 & 12.95125 & -0.08522619 & 12.95125 & -0.1935054 & 12.95125 & -0.12313201 & ⋯ & 0 & 0 & 0 & 0 & 0    & 0 & 0 & 0 & 0 & 0                                  \\\\\n",
       "\t2 & THBS1  & -0.89360387 & 12.16559 & -0.82316726 & 12.16559 & -1.20755542 & 12.16559 & -3.4282988 & 12.16559 &  1.31716961 & ⋯ & 0 & 0 & 1 & 1 & down &   & 2 & 2 & 0 & Receptor/cell adhesion             \\\\\n",
       "\t3 & AHNAK  & -0.35859099 & 11.96560 &  0.18756489 & 11.96560 & -0.30573797 & 11.96560 & -0.5637265 & 11.96560 & -0.02582541 & ⋯ & 0 & 0 & 0 & 0 & 0    & 0 & 0 & 0 & 0 & 0                                  \\\\\n",
       "\t4 & ACTB   & -0.83792422 & 11.79834 & -0.25698703 & 11.79834 & -0.47528041 & 11.79834 & -1.3125561 & 11.79834 & -0.40933855 & ⋯ & 0 & 0 & 1 & 0 & down &   & 3 & 1 & 0 & Cell structure \\& motility modulator\\\\\n",
       "\t5 & HLA-B  & -0.02830416 & 11.73555 & -0.12253358 & 11.73555 & -0.11529881 & 11.73555 & -0.2424212 & 11.73555 & -0.18575829 & ⋯ & 0 & 0 & 0 & 0 & 0    & 0 & 0 & 0 & 0 & 0                                  \\\\\n",
       "\t6 & FTH1   & -0.80030529 & 11.66557 & -0.33305590 & 11.66557 & -0.48925320 & 11.66557 & -1.4335011 & 11.66557 & -0.31668831 & ⋯ & 0 & 0 & 1 & 0 & down &   & 3 & 1 & 0 & Enzyme/Transporter                 \\\\\n",
       "\\end{tabular}\n"
      ],
      "text/markdown": [
       "\n",
       "A data.frame: 6 × 69\n",
       "\n",
       "| <!--/--> | hgnc_symbol &lt;chr&gt; | logFC_V125D3_1nM_24h &lt;dbl&gt; | logCPM_V125D3_1nM_24h &lt;dbl&gt; | logFC_V125D3_10nM_04h &lt;dbl&gt; | logCPM_V125D3_10nM_04h &lt;dbl&gt; | logFC_V125D3_10nM_08h &lt;dbl&gt; | logCPM_V125D3_10nM_08h &lt;dbl&gt; | logFC_V125D3_10nM_24h &lt;dbl&gt; | logCPM_V125D3_10nM_24h &lt;dbl&gt; | logFC_V125D3_0.1nM_24h &lt;dbl&gt; | ⋯ ⋯ | Target_04h &lt;dbl&gt; | Target_08h &lt;dbl&gt; | Target_24h &lt;dbl&gt; | Target_48h &lt;dbl&gt; | Regulation &lt;chr&gt; | MA_plot &lt;chr&gt; | cluster &lt;dbl&gt; | howmany_time &lt;dbl&gt; | primary &lt;dbl&gt; | general_category &lt;chr&gt; |\n",
       "|---|---|---|---|---|---|---|---|---|---|---|---|---|---|---|---|---|---|---|---|---|---|\n",
       "| 1 | EEF1A1 | -0.14393186 | 12.95125 | -0.07482927 | 12.95125 | -0.08522619 | 12.95125 | -0.1935054 | 12.95125 | -0.12313201 | ⋯ | 0 | 0 | 0 | 0 | 0    | 0 | 0 | 0 | 0 | 0                                   |\n",
       "| 2 | THBS1  | -0.89360387 | 12.16559 | -0.82316726 | 12.16559 | -1.20755542 | 12.16559 | -3.4282988 | 12.16559 |  1.31716961 | ⋯ | 0 | 0 | 1 | 1 | down | <!----> | 2 | 2 | 0 | Receptor/cell adhesion              |\n",
       "| 3 | AHNAK  | -0.35859099 | 11.96560 |  0.18756489 | 11.96560 | -0.30573797 | 11.96560 | -0.5637265 | 11.96560 | -0.02582541 | ⋯ | 0 | 0 | 0 | 0 | 0    | 0 | 0 | 0 | 0 | 0                                   |\n",
       "| 4 | ACTB   | -0.83792422 | 11.79834 | -0.25698703 | 11.79834 | -0.47528041 | 11.79834 | -1.3125561 | 11.79834 | -0.40933855 | ⋯ | 0 | 0 | 1 | 0 | down | <!----> | 3 | 1 | 0 | Cell structure &amp; motility modulator |\n",
       "| 5 | HLA-B  | -0.02830416 | 11.73555 | -0.12253358 | 11.73555 | -0.11529881 | 11.73555 | -0.2424212 | 11.73555 | -0.18575829 | ⋯ | 0 | 0 | 0 | 0 | 0    | 0 | 0 | 0 | 0 | 0                                   |\n",
       "| 6 | FTH1   | -0.80030529 | 11.66557 | -0.33305590 | 11.66557 | -0.48925320 | 11.66557 | -1.4335011 | 11.66557 | -0.31668831 | ⋯ | 0 | 0 | 1 | 0 | down | <!----> | 3 | 1 | 0 | Enzyme/Transporter                  |\n",
       "\n"
      ],
      "text/plain": [
       "  hgnc_symbol logFC_V125D3_1nM_24h logCPM_V125D3_1nM_24h logFC_V125D3_10nM_04h\n",
       "1 EEF1A1      -0.14393186          12.95125              -0.07482927          \n",
       "2 THBS1       -0.89360387          12.16559              -0.82316726          \n",
       "3 AHNAK       -0.35859099          11.96560               0.18756489          \n",
       "4 ACTB        -0.83792422          11.79834              -0.25698703          \n",
       "5 HLA-B       -0.02830416          11.73555              -0.12253358          \n",
       "6 FTH1        -0.80030529          11.66557              -0.33305590          \n",
       "  logCPM_V125D3_10nM_04h logFC_V125D3_10nM_08h logCPM_V125D3_10nM_08h\n",
       "1 12.95125               -0.08522619           12.95125              \n",
       "2 12.16559               -1.20755542           12.16559              \n",
       "3 11.96560               -0.30573797           11.96560              \n",
       "4 11.79834               -0.47528041           11.79834              \n",
       "5 11.73555               -0.11529881           11.73555              \n",
       "6 11.66557               -0.48925320           11.66557              \n",
       "  logFC_V125D3_10nM_24h logCPM_V125D3_10nM_24h logFC_V125D3_0.1nM_24h ⋯\n",
       "1 -0.1935054            12.95125               -0.12313201            ⋯\n",
       "2 -3.4282988            12.16559                1.31716961            ⋯\n",
       "3 -0.5637265            11.96560               -0.02582541            ⋯\n",
       "4 -1.3125561            11.79834               -0.40933855            ⋯\n",
       "5 -0.2424212            11.73555               -0.18575829            ⋯\n",
       "6 -1.4335011            11.66557               -0.31668831            ⋯\n",
       "  Target_04h Target_08h Target_24h Target_48h Regulation MA_plot cluster\n",
       "1 0          0          0          0          0          0       0      \n",
       "2 0          0          1          1          down               2      \n",
       "3 0          0          0          0          0          0       0      \n",
       "4 0          0          1          0          down               3      \n",
       "5 0          0          0          0          0          0       0      \n",
       "6 0          0          1          0          down               3      \n",
       "  howmany_time primary general_category                   \n",
       "1 0            0       0                                  \n",
       "2 2            0       Receptor/cell adhesion             \n",
       "3 0            0       0                                  \n",
       "4 1            0       Cell structure & motility modulator\n",
       "5 0            0       0                                  \n",
       "6 1            0       Enzyme/Transporter                 "
      ]
     },
     "metadata": {},
     "output_type": "display_data"
    }
   ],
   "source": [
    "head (mrgs)"
   ]
  },
  {
   "cell_type": "code",
   "execution_count": 62,
   "id": "commercial-cathedral",
   "metadata": {},
   "outputs": [],
   "source": [
    "mrg2 <- full_join(logcpm, mrgs, \n",
    "                       by = c(\"hgnc_symbol\" = \"hgnc_symbol\")) %>%\n",
    "  mutate_all(~replace(., is.na(.), 0))"
   ]
  },
  {
   "cell_type": "code",
   "execution_count": 63,
   "id": "offshore-louis",
   "metadata": {},
   "outputs": [
    {
     "data": {
      "text/html": [
       "<style>\n",
       ".list-inline {list-style: none; margin:0; padding: 0}\n",
       ".list-inline>li {display: inline-block}\n",
       ".list-inline>li:not(:last-child)::after {content: \"\\00b7\"; padding: 0 .5ex}\n",
       "</style>\n",
       "<ol class=list-inline><li>12940</li><li>141</li></ol>\n"
      ],
      "text/latex": [
       "\\begin{enumerate*}\n",
       "\\item 12940\n",
       "\\item 141\n",
       "\\end{enumerate*}\n"
      ],
      "text/markdown": [
       "1. 12940\n",
       "2. 141\n",
       "\n",
       "\n"
      ],
      "text/plain": [
       "[1] 12940   141"
      ]
     },
     "metadata": {},
     "output_type": "display_data"
    }
   ],
   "source": [
    "dim (mrg2)"
   ]
  },
  {
   "cell_type": "code",
   "execution_count": 64,
   "id": "hybrid-maria",
   "metadata": {},
   "outputs": [
    {
     "data": {
      "text/html": [
       "<table class=\"dataframe\">\n",
       "<caption>A data.frame: 6 × 141</caption>\n",
       "<thead>\n",
       "\t<tr><th></th><th scope=col>hgnc_symbol</th><th scope=col>EtOH_x_04h_R1</th><th scope=col>EtOH_x_04h_R2</th><th scope=col>EtOH_x_04h_R3</th><th scope=col>EtOH_x_08h_R1</th><th scope=col>EtOH_x_08h_R2</th><th scope=col>EtOH_x_08h_R3</th><th scope=col>EtOH_x_24h_R1</th><th scope=col>EtOH_x_24h_R2</th><th scope=col>EtOH_x_24h_R3</th><th scope=col>⋯</th><th scope=col>Target_04h</th><th scope=col>Target_08h</th><th scope=col>Target_24h</th><th scope=col>Target_48h</th><th scope=col>Regulation</th><th scope=col>MA_plot</th><th scope=col>cluster</th><th scope=col>howmany_time</th><th scope=col>primary</th><th scope=col>general_category</th></tr>\n",
       "\t<tr><th></th><th scope=col>&lt;chr&gt;</th><th scope=col>&lt;dbl&gt;</th><th scope=col>&lt;dbl&gt;</th><th scope=col>&lt;dbl&gt;</th><th scope=col>&lt;dbl&gt;</th><th scope=col>&lt;dbl&gt;</th><th scope=col>&lt;dbl&gt;</th><th scope=col>&lt;dbl&gt;</th><th scope=col>&lt;dbl&gt;</th><th scope=col>&lt;dbl&gt;</th><th scope=col>⋯</th><th scope=col>&lt;dbl&gt;</th><th scope=col>&lt;dbl&gt;</th><th scope=col>&lt;dbl&gt;</th><th scope=col>&lt;dbl&gt;</th><th scope=col>&lt;chr&gt;</th><th scope=col>&lt;chr&gt;</th><th scope=col>&lt;dbl&gt;</th><th scope=col>&lt;dbl&gt;</th><th scope=col>&lt;dbl&gt;</th><th scope=col>&lt;chr&gt;</th></tr>\n",
       "</thead>\n",
       "<tbody>\n",
       "\t<tr><th scope=row>1</th><td>EEF1A1</td><td>13.19955</td><td>13.20389</td><td>13.24308</td><td>12.95741</td><td>12.96927</td><td>13.05334</td><td>13.04876</td><td>12.96089</td><td>12.87252</td><td>⋯</td><td>0</td><td>0</td><td>0</td><td>0</td><td>0   </td><td>0</td><td>0</td><td>0</td><td>0</td><td>0                                  </td></tr>\n",
       "\t<tr><th scope=row>2</th><td>THBS1 </td><td>13.35130</td><td>13.34009</td><td>13.17195</td><td>13.40471</td><td>13.39350</td><td>13.12153</td><td>11.55956</td><td>11.24316</td><td>11.66690</td><td>⋯</td><td>0</td><td>0</td><td>1</td><td>1</td><td>down</td><td> </td><td>2</td><td>2</td><td>0</td><td>Receptor/cell adhesion             </td></tr>\n",
       "\t<tr><th scope=row>3</th><td>AHNAK </td><td>12.20865</td><td>12.20152</td><td>12.19256</td><td>12.17577</td><td>12.17977</td><td>12.32447</td><td>12.13991</td><td>12.08650</td><td>12.31271</td><td>⋯</td><td>0</td><td>0</td><td>0</td><td>0</td><td>0   </td><td>0</td><td>0</td><td>0</td><td>0</td><td>0                                  </td></tr>\n",
       "\t<tr><th scope=row>4</th><td><span style=white-space:pre-wrap>ACTB  </span></td><td>11.70790</td><td>11.65274</td><td>11.72422</td><td>11.82332</td><td>11.81091</td><td>11.77569</td><td>12.90250</td><td>12.61601</td><td>12.47292</td><td>⋯</td><td>0</td><td>0</td><td>1</td><td>0</td><td>down</td><td> </td><td>3</td><td>1</td><td>0</td><td>Cell structure &amp; motility modulator</td></tr>\n",
       "\t<tr><th scope=row>5</th><td>HLA-B </td><td>11.89295</td><td>11.94488</td><td>12.00579</td><td>11.69251</td><td>11.69546</td><td>11.82664</td><td>11.91010</td><td>11.78257</td><td>11.69210</td><td>⋯</td><td>0</td><td>0</td><td>0</td><td>0</td><td>0   </td><td>0</td><td>0</td><td>0</td><td>0</td><td>0                                  </td></tr>\n",
       "\t<tr><th scope=row>6</th><td>FTH1  </td><td>11.81787</td><td>11.77339</td><td>11.82349</td><td>11.88180</td><td>11.88597</td><td>11.94849</td><td>12.63304</td><td>12.37182</td><td>12.34806</td><td>⋯</td><td>0</td><td>0</td><td>1</td><td>0</td><td>down</td><td> </td><td>3</td><td>1</td><td>0</td><td>Enzyme/Transporter                 </td></tr>\n",
       "</tbody>\n",
       "</table>\n"
      ],
      "text/latex": [
       "A data.frame: 6 × 141\n",
       "\\begin{tabular}{r|lllllllllllllllllllll}\n",
       "  & hgnc\\_symbol & EtOH\\_x\\_04h\\_R1 & EtOH\\_x\\_04h\\_R2 & EtOH\\_x\\_04h\\_R3 & EtOH\\_x\\_08h\\_R1 & EtOH\\_x\\_08h\\_R2 & EtOH\\_x\\_08h\\_R3 & EtOH\\_x\\_24h\\_R1 & EtOH\\_x\\_24h\\_R2 & EtOH\\_x\\_24h\\_R3 & ⋯ & Target\\_04h & Target\\_08h & Target\\_24h & Target\\_48h & Regulation & MA\\_plot & cluster & howmany\\_time & primary & general\\_category\\\\\n",
       "  & <chr> & <dbl> & <dbl> & <dbl> & <dbl> & <dbl> & <dbl> & <dbl> & <dbl> & <dbl> & ⋯ & <dbl> & <dbl> & <dbl> & <dbl> & <chr> & <chr> & <dbl> & <dbl> & <dbl> & <chr>\\\\\n",
       "\\hline\n",
       "\t1 & EEF1A1 & 13.19955 & 13.20389 & 13.24308 & 12.95741 & 12.96927 & 13.05334 & 13.04876 & 12.96089 & 12.87252 & ⋯ & 0 & 0 & 0 & 0 & 0    & 0 & 0 & 0 & 0 & 0                                  \\\\\n",
       "\t2 & THBS1  & 13.35130 & 13.34009 & 13.17195 & 13.40471 & 13.39350 & 13.12153 & 11.55956 & 11.24316 & 11.66690 & ⋯ & 0 & 0 & 1 & 1 & down &   & 2 & 2 & 0 & Receptor/cell adhesion             \\\\\n",
       "\t3 & AHNAK  & 12.20865 & 12.20152 & 12.19256 & 12.17577 & 12.17977 & 12.32447 & 12.13991 & 12.08650 & 12.31271 & ⋯ & 0 & 0 & 0 & 0 & 0    & 0 & 0 & 0 & 0 & 0                                  \\\\\n",
       "\t4 & ACTB   & 11.70790 & 11.65274 & 11.72422 & 11.82332 & 11.81091 & 11.77569 & 12.90250 & 12.61601 & 12.47292 & ⋯ & 0 & 0 & 1 & 0 & down &   & 3 & 1 & 0 & Cell structure \\& motility modulator\\\\\n",
       "\t5 & HLA-B  & 11.89295 & 11.94488 & 12.00579 & 11.69251 & 11.69546 & 11.82664 & 11.91010 & 11.78257 & 11.69210 & ⋯ & 0 & 0 & 0 & 0 & 0    & 0 & 0 & 0 & 0 & 0                                  \\\\\n",
       "\t6 & FTH1   & 11.81787 & 11.77339 & 11.82349 & 11.88180 & 11.88597 & 11.94849 & 12.63304 & 12.37182 & 12.34806 & ⋯ & 0 & 0 & 1 & 0 & down &   & 3 & 1 & 0 & Enzyme/Transporter                 \\\\\n",
       "\\end{tabular}\n"
      ],
      "text/markdown": [
       "\n",
       "A data.frame: 6 × 141\n",
       "\n",
       "| <!--/--> | hgnc_symbol &lt;chr&gt; | EtOH_x_04h_R1 &lt;dbl&gt; | EtOH_x_04h_R2 &lt;dbl&gt; | EtOH_x_04h_R3 &lt;dbl&gt; | EtOH_x_08h_R1 &lt;dbl&gt; | EtOH_x_08h_R2 &lt;dbl&gt; | EtOH_x_08h_R3 &lt;dbl&gt; | EtOH_x_24h_R1 &lt;dbl&gt; | EtOH_x_24h_R2 &lt;dbl&gt; | EtOH_x_24h_R3 &lt;dbl&gt; | ⋯ ⋯ | Target_04h &lt;dbl&gt; | Target_08h &lt;dbl&gt; | Target_24h &lt;dbl&gt; | Target_48h &lt;dbl&gt; | Regulation &lt;chr&gt; | MA_plot &lt;chr&gt; | cluster &lt;dbl&gt; | howmany_time &lt;dbl&gt; | primary &lt;dbl&gt; | general_category &lt;chr&gt; |\n",
       "|---|---|---|---|---|---|---|---|---|---|---|---|---|---|---|---|---|---|---|---|---|---|\n",
       "| 1 | EEF1A1 | 13.19955 | 13.20389 | 13.24308 | 12.95741 | 12.96927 | 13.05334 | 13.04876 | 12.96089 | 12.87252 | ⋯ | 0 | 0 | 0 | 0 | 0    | 0 | 0 | 0 | 0 | 0                                   |\n",
       "| 2 | THBS1  | 13.35130 | 13.34009 | 13.17195 | 13.40471 | 13.39350 | 13.12153 | 11.55956 | 11.24316 | 11.66690 | ⋯ | 0 | 0 | 1 | 1 | down | <!----> | 2 | 2 | 0 | Receptor/cell adhesion              |\n",
       "| 3 | AHNAK  | 12.20865 | 12.20152 | 12.19256 | 12.17577 | 12.17977 | 12.32447 | 12.13991 | 12.08650 | 12.31271 | ⋯ | 0 | 0 | 0 | 0 | 0    | 0 | 0 | 0 | 0 | 0                                   |\n",
       "| 4 | ACTB   | 11.70790 | 11.65274 | 11.72422 | 11.82332 | 11.81091 | 11.77569 | 12.90250 | 12.61601 | 12.47292 | ⋯ | 0 | 0 | 1 | 0 | down | <!----> | 3 | 1 | 0 | Cell structure &amp; motility modulator |\n",
       "| 5 | HLA-B  | 11.89295 | 11.94488 | 12.00579 | 11.69251 | 11.69546 | 11.82664 | 11.91010 | 11.78257 | 11.69210 | ⋯ | 0 | 0 | 0 | 0 | 0    | 0 | 0 | 0 | 0 | 0                                   |\n",
       "| 6 | FTH1   | 11.81787 | 11.77339 | 11.82349 | 11.88180 | 11.88597 | 11.94849 | 12.63304 | 12.37182 | 12.34806 | ⋯ | 0 | 0 | 1 | 0 | down | <!----> | 3 | 1 | 0 | Enzyme/Transporter                  |\n",
       "\n"
      ],
      "text/plain": [
       "  hgnc_symbol EtOH_x_04h_R1 EtOH_x_04h_R2 EtOH_x_04h_R3 EtOH_x_08h_R1\n",
       "1 EEF1A1      13.19955      13.20389      13.24308      12.95741     \n",
       "2 THBS1       13.35130      13.34009      13.17195      13.40471     \n",
       "3 AHNAK       12.20865      12.20152      12.19256      12.17577     \n",
       "4 ACTB        11.70790      11.65274      11.72422      11.82332     \n",
       "5 HLA-B       11.89295      11.94488      12.00579      11.69251     \n",
       "6 FTH1        11.81787      11.77339      11.82349      11.88180     \n",
       "  EtOH_x_08h_R2 EtOH_x_08h_R3 EtOH_x_24h_R1 EtOH_x_24h_R2 EtOH_x_24h_R3 ⋯\n",
       "1 12.96927      13.05334      13.04876      12.96089      12.87252      ⋯\n",
       "2 13.39350      13.12153      11.55956      11.24316      11.66690      ⋯\n",
       "3 12.17977      12.32447      12.13991      12.08650      12.31271      ⋯\n",
       "4 11.81091      11.77569      12.90250      12.61601      12.47292      ⋯\n",
       "5 11.69546      11.82664      11.91010      11.78257      11.69210      ⋯\n",
       "6 11.88597      11.94849      12.63304      12.37182      12.34806      ⋯\n",
       "  Target_04h Target_08h Target_24h Target_48h Regulation MA_plot cluster\n",
       "1 0          0          0          0          0          0       0      \n",
       "2 0          0          1          1          down               2      \n",
       "3 0          0          0          0          0          0       0      \n",
       "4 0          0          1          0          down               3      \n",
       "5 0          0          0          0          0          0       0      \n",
       "6 0          0          1          0          down               3      \n",
       "  howmany_time primary general_category                   \n",
       "1 0            0       0                                  \n",
       "2 2            0       Receptor/cell adhesion             \n",
       "3 0            0       0                                  \n",
       "4 1            0       Cell structure & motility modulator\n",
       "5 0            0       0                                  \n",
       "6 1            0       Enzyme/Transporter                 "
      ]
     },
     "metadata": {},
     "output_type": "display_data"
    }
   ],
   "source": [
    "head (mrg2)"
   ]
  },
  {
   "cell_type": "code",
   "execution_count": 65,
   "id": "metallic-reach",
   "metadata": {},
   "outputs": [],
   "source": [
    "mrg2 = merge(x=mrg2,y=annotation,by.x =\"hgnc_symbol\",all.x=TRUE)"
   ]
  },
  {
   "cell_type": "code",
   "execution_count": 66,
   "id": "finished-sewing",
   "metadata": {},
   "outputs": [
    {
     "data": {
      "text/html": [
       "<table class=\"dataframe\">\n",
       "<caption>A data.frame: 6 × 150</caption>\n",
       "<thead>\n",
       "\t<tr><th></th><th scope=col>hgnc_symbol</th><th scope=col>EtOH_x_04h_R1</th><th scope=col>EtOH_x_04h_R2</th><th scope=col>EtOH_x_04h_R3</th><th scope=col>EtOH_x_08h_R1</th><th scope=col>EtOH_x_08h_R2</th><th scope=col>EtOH_x_08h_R3</th><th scope=col>EtOH_x_24h_R1</th><th scope=col>EtOH_x_24h_R2</th><th scope=col>EtOH_x_24h_R3</th><th scope=col>⋯</th><th scope=col>general_category</th><th scope=col>ensembl_gene_id</th><th scope=col>entrezgene_id</th><th scope=col>external_gene_name</th><th scope=col>description</th><th scope=col>chromosome_name</th><th scope=col>start_position</th><th scope=col>end_position</th><th scope=col>gene_biotype</th><th scope=col>strand</th></tr>\n",
       "\t<tr><th></th><th scope=col>&lt;chr&gt;</th><th scope=col>&lt;dbl&gt;</th><th scope=col>&lt;dbl&gt;</th><th scope=col>&lt;dbl&gt;</th><th scope=col>&lt;dbl&gt;</th><th scope=col>&lt;dbl&gt;</th><th scope=col>&lt;dbl&gt;</th><th scope=col>&lt;dbl&gt;</th><th scope=col>&lt;dbl&gt;</th><th scope=col>&lt;dbl&gt;</th><th scope=col>⋯</th><th scope=col>&lt;chr&gt;</th><th scope=col>&lt;chr&gt;</th><th scope=col>&lt;int&gt;</th><th scope=col>&lt;chr&gt;</th><th scope=col>&lt;chr&gt;</th><th scope=col>&lt;chr&gt;</th><th scope=col>&lt;int&gt;</th><th scope=col>&lt;int&gt;</th><th scope=col>&lt;chr&gt;</th><th scope=col>&lt;int&gt;</th></tr>\n",
       "</thead>\n",
       "<tbody>\n",
       "\t<tr><th scope=row>1</th><td>A1BG  </td><td>1.8518707</td><td>2.1067113</td><td>1.6550227</td><td>2.104430</td><td>1.857728</td><td>2.402356</td><td>2.626028</td><td>2.1899331</td><td>1.976054</td><td>⋯</td><td>0</td><td>ENSG00000121410</td><td>    1</td><td>A1BG  </td><td>alpha-1-B glycoprotein                         </td><td>19</td><td> 58345178</td><td> 58353492</td><td>protein coding</td><td>-1</td></tr>\n",
       "\t<tr><th scope=row>2</th><td>A2M   </td><td>0.6971855</td><td>0.1886069</td><td>0.2636435</td><td>1.012378</td><td>0.613675</td><td>1.177605</td><td>1.426546</td><td>0.9709726</td><td>2.194730</td><td>⋯</td><td>0</td><td>ENSG00000175899</td><td>    2</td><td>A2M   </td><td>alpha-2-macroglobulin                          </td><td>12</td><td>  9067664</td><td>  9116229</td><td>protein coding</td><td>-1</td></tr>\n",
       "\t<tr><th scope=row>3</th><td>A4GALT</td><td>1.2430393</td><td>1.7010063</td><td>1.3217491</td><td>2.039147</td><td>1.804663</td><td>1.763944</td><td>1.349713</td><td>2.1899331</td><td>1.489214</td><td>⋯</td><td>0</td><td>ENSG00000128274</td><td>53947</td><td>A4GALT</td><td>alpha 1,4-galactosyltransferase (P blood group)</td><td>22</td><td> 42692121</td><td> 42721298</td><td>protein coding</td><td>-1</td></tr>\n",
       "\t<tr><th scope=row>4</th><td>AAAS  </td><td>4.7927674</td><td>5.0477924</td><td>4.8805749</td><td>5.180423</td><td>5.199244</td><td>5.221009</td><td>5.303485</td><td>5.2216163</td><td>5.200543</td><td>⋯</td><td>0</td><td>ENSG00000094914</td><td> 8086</td><td>AAAS  </td><td>aladin WD repeat nucleoporin                   </td><td>12</td><td> 53307456</td><td> 53324864</td><td>protein coding</td><td>-1</td></tr>\n",
       "\t<tr><th scope=row>5</th><td>AACS  </td><td>4.3582961</td><td>4.4931192</td><td>4.6386878</td><td>4.731182</td><td>4.523300</td><td>4.906312</td><td>4.560674</td><td>4.5504258</td><td>4.760963</td><td>⋯</td><td>0</td><td>ENSG00000081760</td><td>65985</td><td>AACS  </td><td>acetoacetyl-CoA synthetase                     </td><td>12</td><td>125065434</td><td>125143333</td><td>protein coding</td><td> 1</td></tr>\n",
       "\t<tr><th scope=row>6</th><td>AAGAB </td><td>5.3537138</td><td>5.3387265</td><td>5.0598437</td><td>5.282679</td><td>5.293737</td><td>5.206309</td><td>5.071966</td><td>5.3651773</td><td>5.200543</td><td>⋯</td><td>0</td><td>ENSG00000103591</td><td>79719</td><td>AAGAB </td><td>alpha and gamma adaptin binding protein        </td><td>15</td><td> 67200667</td><td> 67255195</td><td>protein coding</td><td>-1</td></tr>\n",
       "</tbody>\n",
       "</table>\n"
      ],
      "text/latex": [
       "A data.frame: 6 × 150\n",
       "\\begin{tabular}{r|lllllllllllllllllllll}\n",
       "  & hgnc\\_symbol & EtOH\\_x\\_04h\\_R1 & EtOH\\_x\\_04h\\_R2 & EtOH\\_x\\_04h\\_R3 & EtOH\\_x\\_08h\\_R1 & EtOH\\_x\\_08h\\_R2 & EtOH\\_x\\_08h\\_R3 & EtOH\\_x\\_24h\\_R1 & EtOH\\_x\\_24h\\_R2 & EtOH\\_x\\_24h\\_R3 & ⋯ & general\\_category & ensembl\\_gene\\_id & entrezgene\\_id & external\\_gene\\_name & description & chromosome\\_name & start\\_position & end\\_position & gene\\_biotype & strand\\\\\n",
       "  & <chr> & <dbl> & <dbl> & <dbl> & <dbl> & <dbl> & <dbl> & <dbl> & <dbl> & <dbl> & ⋯ & <chr> & <chr> & <int> & <chr> & <chr> & <chr> & <int> & <int> & <chr> & <int>\\\\\n",
       "\\hline\n",
       "\t1 & A1BG   & 1.8518707 & 2.1067113 & 1.6550227 & 2.104430 & 1.857728 & 2.402356 & 2.626028 & 2.1899331 & 1.976054 & ⋯ & 0 & ENSG00000121410 &     1 & A1BG   & alpha-1-B glycoprotein                          & 19 &  58345178 &  58353492 & protein coding & -1\\\\\n",
       "\t2 & A2M    & 0.6971855 & 0.1886069 & 0.2636435 & 1.012378 & 0.613675 & 1.177605 & 1.426546 & 0.9709726 & 2.194730 & ⋯ & 0 & ENSG00000175899 &     2 & A2M    & alpha-2-macroglobulin                           & 12 &   9067664 &   9116229 & protein coding & -1\\\\\n",
       "\t3 & A4GALT & 1.2430393 & 1.7010063 & 1.3217491 & 2.039147 & 1.804663 & 1.763944 & 1.349713 & 2.1899331 & 1.489214 & ⋯ & 0 & ENSG00000128274 & 53947 & A4GALT & alpha 1,4-galactosyltransferase (P blood group) & 22 &  42692121 &  42721298 & protein coding & -1\\\\\n",
       "\t4 & AAAS   & 4.7927674 & 5.0477924 & 4.8805749 & 5.180423 & 5.199244 & 5.221009 & 5.303485 & 5.2216163 & 5.200543 & ⋯ & 0 & ENSG00000094914 &  8086 & AAAS   & aladin WD repeat nucleoporin                    & 12 &  53307456 &  53324864 & protein coding & -1\\\\\n",
       "\t5 & AACS   & 4.3582961 & 4.4931192 & 4.6386878 & 4.731182 & 4.523300 & 4.906312 & 4.560674 & 4.5504258 & 4.760963 & ⋯ & 0 & ENSG00000081760 & 65985 & AACS   & acetoacetyl-CoA synthetase                      & 12 & 125065434 & 125143333 & protein coding &  1\\\\\n",
       "\t6 & AAGAB  & 5.3537138 & 5.3387265 & 5.0598437 & 5.282679 & 5.293737 & 5.206309 & 5.071966 & 5.3651773 & 5.200543 & ⋯ & 0 & ENSG00000103591 & 79719 & AAGAB  & alpha and gamma adaptin binding protein         & 15 &  67200667 &  67255195 & protein coding & -1\\\\\n",
       "\\end{tabular}\n"
      ],
      "text/markdown": [
       "\n",
       "A data.frame: 6 × 150\n",
       "\n",
       "| <!--/--> | hgnc_symbol &lt;chr&gt; | EtOH_x_04h_R1 &lt;dbl&gt; | EtOH_x_04h_R2 &lt;dbl&gt; | EtOH_x_04h_R3 &lt;dbl&gt; | EtOH_x_08h_R1 &lt;dbl&gt; | EtOH_x_08h_R2 &lt;dbl&gt; | EtOH_x_08h_R3 &lt;dbl&gt; | EtOH_x_24h_R1 &lt;dbl&gt; | EtOH_x_24h_R2 &lt;dbl&gt; | EtOH_x_24h_R3 &lt;dbl&gt; | ⋯ ⋯ | general_category &lt;chr&gt; | ensembl_gene_id &lt;chr&gt; | entrezgene_id &lt;int&gt; | external_gene_name &lt;chr&gt; | description &lt;chr&gt; | chromosome_name &lt;chr&gt; | start_position &lt;int&gt; | end_position &lt;int&gt; | gene_biotype &lt;chr&gt; | strand &lt;int&gt; |\n",
       "|---|---|---|---|---|---|---|---|---|---|---|---|---|---|---|---|---|---|---|---|---|---|\n",
       "| 1 | A1BG   | 1.8518707 | 2.1067113 | 1.6550227 | 2.104430 | 1.857728 | 2.402356 | 2.626028 | 2.1899331 | 1.976054 | ⋯ | 0 | ENSG00000121410 |     1 | A1BG   | alpha-1-B glycoprotein                          | 19 |  58345178 |  58353492 | protein coding | -1 |\n",
       "| 2 | A2M    | 0.6971855 | 0.1886069 | 0.2636435 | 1.012378 | 0.613675 | 1.177605 | 1.426546 | 0.9709726 | 2.194730 | ⋯ | 0 | ENSG00000175899 |     2 | A2M    | alpha-2-macroglobulin                           | 12 |   9067664 |   9116229 | protein coding | -1 |\n",
       "| 3 | A4GALT | 1.2430393 | 1.7010063 | 1.3217491 | 2.039147 | 1.804663 | 1.763944 | 1.349713 | 2.1899331 | 1.489214 | ⋯ | 0 | ENSG00000128274 | 53947 | A4GALT | alpha 1,4-galactosyltransferase (P blood group) | 22 |  42692121 |  42721298 | protein coding | -1 |\n",
       "| 4 | AAAS   | 4.7927674 | 5.0477924 | 4.8805749 | 5.180423 | 5.199244 | 5.221009 | 5.303485 | 5.2216163 | 5.200543 | ⋯ | 0 | ENSG00000094914 |  8086 | AAAS   | aladin WD repeat nucleoporin                    | 12 |  53307456 |  53324864 | protein coding | -1 |\n",
       "| 5 | AACS   | 4.3582961 | 4.4931192 | 4.6386878 | 4.731182 | 4.523300 | 4.906312 | 4.560674 | 4.5504258 | 4.760963 | ⋯ | 0 | ENSG00000081760 | 65985 | AACS   | acetoacetyl-CoA synthetase                      | 12 | 125065434 | 125143333 | protein coding |  1 |\n",
       "| 6 | AAGAB  | 5.3537138 | 5.3387265 | 5.0598437 | 5.282679 | 5.293737 | 5.206309 | 5.071966 | 5.3651773 | 5.200543 | ⋯ | 0 | ENSG00000103591 | 79719 | AAGAB  | alpha and gamma adaptin binding protein         | 15 |  67200667 |  67255195 | protein coding | -1 |\n",
       "\n"
      ],
      "text/plain": [
       "  hgnc_symbol EtOH_x_04h_R1 EtOH_x_04h_R2 EtOH_x_04h_R3 EtOH_x_08h_R1\n",
       "1 A1BG        1.8518707     2.1067113     1.6550227     2.104430     \n",
       "2 A2M         0.6971855     0.1886069     0.2636435     1.012378     \n",
       "3 A4GALT      1.2430393     1.7010063     1.3217491     2.039147     \n",
       "4 AAAS        4.7927674     5.0477924     4.8805749     5.180423     \n",
       "5 AACS        4.3582961     4.4931192     4.6386878     4.731182     \n",
       "6 AAGAB       5.3537138     5.3387265     5.0598437     5.282679     \n",
       "  EtOH_x_08h_R2 EtOH_x_08h_R3 EtOH_x_24h_R1 EtOH_x_24h_R2 EtOH_x_24h_R3 ⋯\n",
       "1 1.857728      2.402356      2.626028      2.1899331     1.976054      ⋯\n",
       "2 0.613675      1.177605      1.426546      0.9709726     2.194730      ⋯\n",
       "3 1.804663      1.763944      1.349713      2.1899331     1.489214      ⋯\n",
       "4 5.199244      5.221009      5.303485      5.2216163     5.200543      ⋯\n",
       "5 4.523300      4.906312      4.560674      4.5504258     4.760963      ⋯\n",
       "6 5.293737      5.206309      5.071966      5.3651773     5.200543      ⋯\n",
       "  general_category ensembl_gene_id entrezgene_id external_gene_name\n",
       "1 0                ENSG00000121410     1         A1BG              \n",
       "2 0                ENSG00000175899     2         A2M               \n",
       "3 0                ENSG00000128274 53947         A4GALT            \n",
       "4 0                ENSG00000094914  8086         AAAS              \n",
       "5 0                ENSG00000081760 65985         AACS              \n",
       "6 0                ENSG00000103591 79719         AAGAB             \n",
       "  description                                     chromosome_name\n",
       "1 alpha-1-B glycoprotein                          19             \n",
       "2 alpha-2-macroglobulin                           12             \n",
       "3 alpha 1,4-galactosyltransferase (P blood group) 22             \n",
       "4 aladin WD repeat nucleoporin                    12             \n",
       "5 acetoacetyl-CoA synthetase                      12             \n",
       "6 alpha and gamma adaptin binding protein         15             \n",
       "  start_position end_position gene_biotype   strand\n",
       "1  58345178       58353492    protein coding -1    \n",
       "2   9067664        9116229    protein coding -1    \n",
       "3  42692121       42721298    protein coding -1    \n",
       "4  53307456       53324864    protein coding -1    \n",
       "5 125065434      125143333    protein coding  1    \n",
       "6  67200667       67255195    protein coding -1    "
      ]
     },
     "metadata": {},
     "output_type": "display_data"
    }
   ],
   "source": [
    "head (mrg2)"
   ]
  },
  {
   "cell_type": "code",
   "execution_count": 67,
   "id": "knowing-resort",
   "metadata": {},
   "outputs": [],
   "source": [
    "aftertime = mrg2$hgnc_symbol"
   ]
  },
  {
   "cell_type": "code",
   "execution_count": 68,
   "id": "foster-loading",
   "metadata": {},
   "outputs": [
    {
     "data": {
      "text/html": [],
      "text/latex": [],
      "text/markdown": [],
      "text/plain": [
       "character(0)"
      ]
     },
     "metadata": {},
     "output_type": "display_data"
    }
   ],
   "source": [
    "diff = setdiff (origCA,aftertime)\n",
    "diff"
   ]
  },
  {
   "cell_type": "code",
   "execution_count": 69,
   "id": "planned-render",
   "metadata": {},
   "outputs": [
    {
     "data": {
      "text/html": [
       "'C1QC'"
      ],
      "text/latex": [
       "'C1QC'"
      ],
      "text/markdown": [
       "'C1QC'"
      ],
      "text/plain": [
       "[1] \"C1QC\""
      ]
     },
     "metadata": {},
     "output_type": "display_data"
    }
   ],
   "source": [
    "diff = setdiff (aftertime, origCA)  #setdiff gives the the difference of the 1st compared to the second\n",
    "diff"
   ]
  },
  {
   "cell_type": "code",
   "execution_count": 70,
   "id": "absent-dover",
   "metadata": {},
   "outputs": [],
   "source": [
    "library(eulerr)"
   ]
  },
  {
   "cell_type": "code",
   "execution_count": 71,
   "id": "beneficial-colombia",
   "metadata": {},
   "outputs": [
    {
     "data": {
      "image/png": "[encoded data removed]",
      "text/plain": [
       "plot without title"
      ]
     },
     "metadata": {
      "image/png": {
       "height": 420,
       "width": 420
      }
     },
     "output_type": "display_data"
    }
   ],
   "source": [
    "Venn = plot(venn(list(           #eulerr\n",
    "  \"origCA\" = origCA,    #dont write &\n",
    "  \"aftertime\" = aftertime\n",
    ")),\n",
    "\n",
    "#49001D very dark red\n",
    "fills = list(fill = c( \n",
    "  # \"#D5DCD3\", #green\n",
    "  \"#E5EFEA\" ,#lightgreen,\n",
    "  \"#C9BCD3\" \n",
    "),\n",
    "alpha = 0.77), #\"#F1F9FF\", \"#FBF1EA\"FAF3F0\n",
    "labels = list(font = 1, col = \"black\", cex = 1), ##CD003D\n",
    "edges = list(lty = 1, lwd =0.33), #0.15\n",
    "mar = c(5, 5, 5, 5),\n",
    "key = TRUE, counts = TRUE, quantities = list (type = c(\"counts\"),cex = 1.3))\n",
    "Venn\n"
   ]
  },
  {
   "cell_type": "code",
   "execution_count": 72,
   "id": "d24cb461-5094-4f03-8b35-3b72fe482c09",
   "metadata": {},
   "outputs": [],
   "source": [
    "save.image(file = \"./data/workspace_largetable.RData\")"
   ]
  },
  {
   "cell_type": "code",
   "execution_count": 73,
   "id": "indirect-checklist",
   "metadata": {},
   "outputs": [],
   "source": [
    "write.table(mrg2, \"./data/f_CA2021_inlog_FC15_FC2_evidence-threshold_v4.tsv\", sep = '\\t', row.names =F)"
   ]
  },
  {
   "cell_type": "code",
   "execution_count": 74,
   "id": "d359ef7e-48ec-40c3-8841-6541fbbc2157",
   "metadata": {},
   "outputs": [],
   "source": [
    "load(\"./data/workspace_largetable.RData\")"
   ]
  },
  {
   "cell_type": "code",
   "execution_count": 75,
   "id": "hourly-listening",
   "metadata": {},
   "outputs": [],
   "source": [
    "d = mrg %>%\n",
    "column_to_rownames (\"hgnc_symbol\")"
   ]
  },
  {
   "cell_type": "code",
   "execution_count": 76,
   "id": "reported-primary",
   "metadata": {},
   "outputs": [
    {
     "name": "stderr",
     "output_type": "stream",
     "text": [
      "Warning message:\n",
      "“`funs()` was deprecated in dplyr 0.8.0.\n",
      "Please use a list of either functions or lambdas: \n",
      "\n",
      "  # Simple named list: \n",
      "  list(mean = mean, median = median)\n",
      "\n",
      "  # Auto named with `tibble::lst()`: \n",
      "  tibble::lst(mean, median)\n",
      "\n",
      "  # Using lambdas\n",
      "  list(~ mean(., trim = .2), ~ median(., na.rm = TRUE))\n",
      "\u001b[90mThis warning is displayed once every 8 hours.\u001b[39m\n",
      "\u001b[90mCall `lifecycle::last_lifecycle_warnings()` to see where this warning was generated.\u001b[39m”\n"
     ]
    }
   ],
   "source": [
    "Up = xs4 %>% \n",
    "select (matches (\"Up_Target\")) %>%\n",
    "replace(is.na(.), 0) %>% summarise_all(funs(sum)) %>% \n",
    "t()%>%\n",
    "as.data.frame () %>%\n",
    "rename (Up = V1)\n",
    "\n",
    "#head(Up)\n",
    "Down = xs4 %>% \n",
    "select (matches (\"Down_Target\")) %>%\n",
    "replace(is.na(.), 0) %>% summarise_all(funs(sum)) %>% \n",
    "t() %>%\n",
    "as.data.frame ()%>%\n",
    "rename (Down = V1)\n",
    "#Down\n",
    "\n",
    "Total = xs4 %>% \n",
    "select (matches (\"Target\")) %>%\n",
    "replace(is.na(.), 0) %>% summarise_all(funs(sum)) %>% \n",
    "t() %>%\n",
    "as.data.frame ()%>%\n",
    "rename (Total = V1)"
   ]
  },
  {
   "cell_type": "code",
   "execution_count": 77,
   "id": "renewable-corps",
   "metadata": {},
   "outputs": [
    {
     "data": {
      "text/html": [
       "<table class=\"dataframe\">\n",
       "<caption>A data.frame: 57 × 4</caption>\n",
       "<thead>\n",
       "\t<tr><th></th><th scope=col>Total</th><th scope=col>Up</th><th scope=col>Down</th><th scope=col>Ratio</th></tr>\n",
       "\t<tr><th></th><th scope=col>&lt;dbl&gt;</th><th scope=col>&lt;dbl&gt;</th><th scope=col>&lt;dbl&gt;</th><th scope=col>&lt;dbl&gt;</th></tr>\n",
       "</thead>\n",
       "<tbody>\n",
       "\t<tr><th scope=row>Target_V125D3_1nM_24h</th><td>179</td><td> 59</td><td>120</td><td> 0.49</td></tr>\n",
       "\t<tr><th scope=row>Target_V125D3_10nM_04h</th><td> 16</td><td> 13</td><td>  3</td><td> 4.33</td></tr>\n",
       "\t<tr><th scope=row>Target_V125D3_10nM_08h</th><td>144</td><td> 34</td><td>110</td><td> 0.31</td></tr>\n",
       "\t<tr><th scope=row>Target_V125D3_10nM_24h</th><td>313</td><td> 75</td><td>238</td><td> 0.32</td></tr>\n",
       "\t<tr><th scope=row>Target_V125D3_0.1nM_24h</th><td>  7</td><td>  3</td><td>  4</td><td> 0.75</td></tr>\n",
       "\t<tr><th scope=row>Target_V25D3_1000nM_04h</th><td> 32</td><td> 27</td><td>  5</td><td> 5.40</td></tr>\n",
       "\t<tr><th scope=row>Target_V25D3_1000nM_08h</th><td>147</td><td> 31</td><td>116</td><td> 0.27</td></tr>\n",
       "\t<tr><th scope=row>Target_V25D3_1000nM_24h</th><td>365</td><td> 98</td><td>267</td><td> 0.37</td></tr>\n",
       "\t<tr><th scope=row>Target_V25D2_1000nM_04h</th><td> 20</td><td> 19</td><td>  1</td><td>19.00</td></tr>\n",
       "\t<tr><th scope=row>Target_V25D2_1000nM_08h</th><td>133</td><td> 32</td><td>101</td><td> 0.32</td></tr>\n",
       "\t<tr><th scope=row>Target_V25D2_1000nM_24h</th><td>385</td><td> 67</td><td>318</td><td> 0.21</td></tr>\n",
       "\t<tr><th scope=row>Target_V25D3_100nM_24h</th><td>  0</td><td>  0</td><td>  0</td><td>  NaN</td></tr>\n",
       "\t<tr><th scope=row>Target_V25D3_250nM_24h</th><td>  0</td><td>  0</td><td>  0</td><td>  NaN</td></tr>\n",
       "\t<tr><th scope=row>Target_V25D3_500nM_24h</th><td>322</td><td> 77</td><td>245</td><td> 0.31</td></tr>\n",
       "\t<tr><th scope=row>Target_V25D3_750nM_24h</th><td>392</td><td> 97</td><td>295</td><td> 0.33</td></tr>\n",
       "\t<tr><th scope=row>Target_V25D2_100nM_24h</th><td>  0</td><td>  0</td><td>  0</td><td>  NaN</td></tr>\n",
       "\t<tr><th scope=row>Target_V25D2_250nM_24h</th><td> 30</td><td> 19</td><td> 11</td><td> 1.73</td></tr>\n",
       "\t<tr><th scope=row>Target_V25D2_500nM_24h</th><td>342</td><td> 98</td><td>244</td><td> 0.40</td></tr>\n",
       "\t<tr><th scope=row>Target_V25D2_750nM_24h</th><td>397</td><td>119</td><td>278</td><td> 0.43</td></tr>\n",
       "\t<tr><th scope=row>Up_Target_V125D3_1nM_24h</th><td> 59</td><td> 59</td><td>120</td><td> 0.49</td></tr>\n",
       "\t<tr><th scope=row>Up_Target_V125D3_10nM_04h</th><td> 13</td><td> 13</td><td>  3</td><td> 4.33</td></tr>\n",
       "\t<tr><th scope=row>Up_Target_V125D3_10nM_08h</th><td> 34</td><td> 34</td><td>110</td><td> 0.31</td></tr>\n",
       "\t<tr><th scope=row>Up_Target_V125D3_10nM_24h</th><td> 75</td><td> 75</td><td>238</td><td> 0.32</td></tr>\n",
       "\t<tr><th scope=row>Up_Target_V125D3_0.1nM_24h</th><td>  3</td><td>  3</td><td>  4</td><td> 0.75</td></tr>\n",
       "\t<tr><th scope=row>Up_Target_V25D3_1000nM_04h</th><td> 27</td><td> 27</td><td>  5</td><td> 5.40</td></tr>\n",
       "\t<tr><th scope=row>Up_Target_V25D3_1000nM_08h</th><td> 31</td><td> 31</td><td>116</td><td> 0.27</td></tr>\n",
       "\t<tr><th scope=row>Up_Target_V25D3_1000nM_24h</th><td> 98</td><td> 98</td><td>267</td><td> 0.37</td></tr>\n",
       "\t<tr><th scope=row>Up_Target_V25D2_1000nM_04h</th><td> 19</td><td> 19</td><td>  1</td><td>19.00</td></tr>\n",
       "\t<tr><th scope=row>Up_Target_V25D2_1000nM_08h</th><td> 32</td><td> 32</td><td>101</td><td> 0.32</td></tr>\n",
       "\t<tr><th scope=row>Up_Target_V25D2_1000nM_24h</th><td> 67</td><td> 67</td><td>318</td><td> 0.21</td></tr>\n",
       "\t<tr><th scope=row>Up_Target_V25D3_100nM_24h</th><td>  0</td><td>  0</td><td>  0</td><td>  NaN</td></tr>\n",
       "\t<tr><th scope=row>Up_Target_V25D3_250nM_24h</th><td>  0</td><td>  0</td><td>  0</td><td>  NaN</td></tr>\n",
       "\t<tr><th scope=row>Up_Target_V25D3_500nM_24h</th><td> 77</td><td> 77</td><td>245</td><td> 0.31</td></tr>\n",
       "\t<tr><th scope=row>Up_Target_V25D3_750nM_24h</th><td> 97</td><td> 97</td><td>295</td><td> 0.33</td></tr>\n",
       "\t<tr><th scope=row>Up_Target_V25D2_100nM_24h</th><td>  0</td><td>  0</td><td>  0</td><td>  NaN</td></tr>\n",
       "\t<tr><th scope=row>Up_Target_V25D2_250nM_24h</th><td> 19</td><td> 19</td><td> 11</td><td> 1.73</td></tr>\n",
       "\t<tr><th scope=row>Up_Target_V25D2_500nM_24h</th><td> 98</td><td> 98</td><td>244</td><td> 0.40</td></tr>\n",
       "\t<tr><th scope=row>Up_Target_V25D2_750nM_24h</th><td>119</td><td>119</td><td>278</td><td> 0.43</td></tr>\n",
       "\t<tr><th scope=row>Down_Target_V125D3_1nM_24h</th><td>120</td><td> 59</td><td>120</td><td> 0.49</td></tr>\n",
       "\t<tr><th scope=row>Down_Target_V125D3_10nM_04h</th><td>  3</td><td> 13</td><td>  3</td><td> 4.33</td></tr>\n",
       "\t<tr><th scope=row>Down_Target_V125D3_10nM_08h</th><td>110</td><td> 34</td><td>110</td><td> 0.31</td></tr>\n",
       "\t<tr><th scope=row>Down_Target_V125D3_10nM_24h</th><td>238</td><td> 75</td><td>238</td><td> 0.32</td></tr>\n",
       "\t<tr><th scope=row>Down_Target_V125D3_0.1nM_24h</th><td>  4</td><td>  3</td><td>  4</td><td> 0.75</td></tr>\n",
       "\t<tr><th scope=row>Down_Target_V25D3_1000nM_04h</th><td>  5</td><td> 27</td><td>  5</td><td> 5.40</td></tr>\n",
       "\t<tr><th scope=row>Down_Target_V25D3_1000nM_08h</th><td>116</td><td> 31</td><td>116</td><td> 0.27</td></tr>\n",
       "\t<tr><th scope=row>Down_Target_V25D3_1000nM_24h</th><td>267</td><td> 98</td><td>267</td><td> 0.37</td></tr>\n",
       "\t<tr><th scope=row>Down_Target_V25D2_1000nM_04h</th><td>  1</td><td> 19</td><td>  1</td><td>19.00</td></tr>\n",
       "\t<tr><th scope=row>Down_Target_V25D2_1000nM_08h</th><td>101</td><td> 32</td><td>101</td><td> 0.32</td></tr>\n",
       "\t<tr><th scope=row>Down_Target_V25D2_1000nM_24h</th><td>318</td><td> 67</td><td>318</td><td> 0.21</td></tr>\n",
       "\t<tr><th scope=row>Down_Target_V25D3_100nM_24h</th><td>  0</td><td>  0</td><td>  0</td><td>  NaN</td></tr>\n",
       "\t<tr><th scope=row>Down_Target_V25D3_250nM_24h</th><td>  0</td><td>  0</td><td>  0</td><td>  NaN</td></tr>\n",
       "\t<tr><th scope=row>Down_Target_V25D3_500nM_24h</th><td>245</td><td> 77</td><td>245</td><td> 0.31</td></tr>\n",
       "\t<tr><th scope=row>Down_Target_V25D3_750nM_24h</th><td>295</td><td> 97</td><td>295</td><td> 0.33</td></tr>\n",
       "\t<tr><th scope=row>Down_Target_V25D2_100nM_24h</th><td>  0</td><td>  0</td><td>  0</td><td>  NaN</td></tr>\n",
       "\t<tr><th scope=row>Down_Target_V25D2_250nM_24h</th><td> 11</td><td> 19</td><td> 11</td><td> 1.73</td></tr>\n",
       "\t<tr><th scope=row>Down_Target_V25D2_500nM_24h</th><td>244</td><td> 98</td><td>244</td><td> 0.40</td></tr>\n",
       "\t<tr><th scope=row>Down_Target_V25D2_750nM_24h</th><td>278</td><td>119</td><td>278</td><td> 0.43</td></tr>\n",
       "</tbody>\n",
       "</table>\n"
      ],
      "text/latex": [
       "A data.frame: 57 × 4\n",
       "\\begin{tabular}{r|llll}\n",
       "  & Total & Up & Down & Ratio\\\\\n",
       "  & <dbl> & <dbl> & <dbl> & <dbl>\\\\\n",
       "\\hline\n",
       "\tTarget\\_V125D3\\_1nM\\_24h & 179 &  59 & 120 &  0.49\\\\\n",
       "\tTarget\\_V125D3\\_10nM\\_04h &  16 &  13 &   3 &  4.33\\\\\n",
       "\tTarget\\_V125D3\\_10nM\\_08h & 144 &  34 & 110 &  0.31\\\\\n",
       "\tTarget\\_V125D3\\_10nM\\_24h & 313 &  75 & 238 &  0.32\\\\\n",
       "\tTarget\\_V125D3\\_0.1nM\\_24h &   7 &   3 &   4 &  0.75\\\\\n",
       "\tTarget\\_V25D3\\_1000nM\\_04h &  32 &  27 &   5 &  5.40\\\\\n",
       "\tTarget\\_V25D3\\_1000nM\\_08h & 147 &  31 & 116 &  0.27\\\\\n",
       "\tTarget\\_V25D3\\_1000nM\\_24h & 365 &  98 & 267 &  0.37\\\\\n",
       "\tTarget\\_V25D2\\_1000nM\\_04h &  20 &  19 &   1 & 19.00\\\\\n",
       "\tTarget\\_V25D2\\_1000nM\\_08h & 133 &  32 & 101 &  0.32\\\\\n",
       "\tTarget\\_V25D2\\_1000nM\\_24h & 385 &  67 & 318 &  0.21\\\\\n",
       "\tTarget\\_V25D3\\_100nM\\_24h &   0 &   0 &   0 &   NaN\\\\\n",
       "\tTarget\\_V25D3\\_250nM\\_24h &   0 &   0 &   0 &   NaN\\\\\n",
       "\tTarget\\_V25D3\\_500nM\\_24h & 322 &  77 & 245 &  0.31\\\\\n",
       "\tTarget\\_V25D3\\_750nM\\_24h & 392 &  97 & 295 &  0.33\\\\\n",
       "\tTarget\\_V25D2\\_100nM\\_24h &   0 &   0 &   0 &   NaN\\\\\n",
       "\tTarget\\_V25D2\\_250nM\\_24h &  30 &  19 &  11 &  1.73\\\\\n",
       "\tTarget\\_V25D2\\_500nM\\_24h & 342 &  98 & 244 &  0.40\\\\\n",
       "\tTarget\\_V25D2\\_750nM\\_24h & 397 & 119 & 278 &  0.43\\\\\n",
       "\tUp\\_Target\\_V125D3\\_1nM\\_24h &  59 &  59 & 120 &  0.49\\\\\n",
       "\tUp\\_Target\\_V125D3\\_10nM\\_04h &  13 &  13 &   3 &  4.33\\\\\n",
       "\tUp\\_Target\\_V125D3\\_10nM\\_08h &  34 &  34 & 110 &  0.31\\\\\n",
       "\tUp\\_Target\\_V125D3\\_10nM\\_24h &  75 &  75 & 238 &  0.32\\\\\n",
       "\tUp\\_Target\\_V125D3\\_0.1nM\\_24h &   3 &   3 &   4 &  0.75\\\\\n",
       "\tUp\\_Target\\_V25D3\\_1000nM\\_04h &  27 &  27 &   5 &  5.40\\\\\n",
       "\tUp\\_Target\\_V25D3\\_1000nM\\_08h &  31 &  31 & 116 &  0.27\\\\\n",
       "\tUp\\_Target\\_V25D3\\_1000nM\\_24h &  98 &  98 & 267 &  0.37\\\\\n",
       "\tUp\\_Target\\_V25D2\\_1000nM\\_04h &  19 &  19 &   1 & 19.00\\\\\n",
       "\tUp\\_Target\\_V25D2\\_1000nM\\_08h &  32 &  32 & 101 &  0.32\\\\\n",
       "\tUp\\_Target\\_V25D2\\_1000nM\\_24h &  67 &  67 & 318 &  0.21\\\\\n",
       "\tUp\\_Target\\_V25D3\\_100nM\\_24h &   0 &   0 &   0 &   NaN\\\\\n",
       "\tUp\\_Target\\_V25D3\\_250nM\\_24h &   0 &   0 &   0 &   NaN\\\\\n",
       "\tUp\\_Target\\_V25D3\\_500nM\\_24h &  77 &  77 & 245 &  0.31\\\\\n",
       "\tUp\\_Target\\_V25D3\\_750nM\\_24h &  97 &  97 & 295 &  0.33\\\\\n",
       "\tUp\\_Target\\_V25D2\\_100nM\\_24h &   0 &   0 &   0 &   NaN\\\\\n",
       "\tUp\\_Target\\_V25D2\\_250nM\\_24h &  19 &  19 &  11 &  1.73\\\\\n",
       "\tUp\\_Target\\_V25D2\\_500nM\\_24h &  98 &  98 & 244 &  0.40\\\\\n",
       "\tUp\\_Target\\_V25D2\\_750nM\\_24h & 119 & 119 & 278 &  0.43\\\\\n",
       "\tDown\\_Target\\_V125D3\\_1nM\\_24h & 120 &  59 & 120 &  0.49\\\\\n",
       "\tDown\\_Target\\_V125D3\\_10nM\\_04h &   3 &  13 &   3 &  4.33\\\\\n",
       "\tDown\\_Target\\_V125D3\\_10nM\\_08h & 110 &  34 & 110 &  0.31\\\\\n",
       "\tDown\\_Target\\_V125D3\\_10nM\\_24h & 238 &  75 & 238 &  0.32\\\\\n",
       "\tDown\\_Target\\_V125D3\\_0.1nM\\_24h &   4 &   3 &   4 &  0.75\\\\\n",
       "\tDown\\_Target\\_V25D3\\_1000nM\\_04h &   5 &  27 &   5 &  5.40\\\\\n",
       "\tDown\\_Target\\_V25D3\\_1000nM\\_08h & 116 &  31 & 116 &  0.27\\\\\n",
       "\tDown\\_Target\\_V25D3\\_1000nM\\_24h & 267 &  98 & 267 &  0.37\\\\\n",
       "\tDown\\_Target\\_V25D2\\_1000nM\\_04h &   1 &  19 &   1 & 19.00\\\\\n",
       "\tDown\\_Target\\_V25D2\\_1000nM\\_08h & 101 &  32 & 101 &  0.32\\\\\n",
       "\tDown\\_Target\\_V25D2\\_1000nM\\_24h & 318 &  67 & 318 &  0.21\\\\\n",
       "\tDown\\_Target\\_V25D3\\_100nM\\_24h &   0 &   0 &   0 &   NaN\\\\\n",
       "\tDown\\_Target\\_V25D3\\_250nM\\_24h &   0 &   0 &   0 &   NaN\\\\\n",
       "\tDown\\_Target\\_V25D3\\_500nM\\_24h & 245 &  77 & 245 &  0.31\\\\\n",
       "\tDown\\_Target\\_V25D3\\_750nM\\_24h & 295 &  97 & 295 &  0.33\\\\\n",
       "\tDown\\_Target\\_V25D2\\_100nM\\_24h &   0 &   0 &   0 &   NaN\\\\\n",
       "\tDown\\_Target\\_V25D2\\_250nM\\_24h &  11 &  19 &  11 &  1.73\\\\\n",
       "\tDown\\_Target\\_V25D2\\_500nM\\_24h & 244 &  98 & 244 &  0.40\\\\\n",
       "\tDown\\_Target\\_V25D2\\_750nM\\_24h & 278 & 119 & 278 &  0.43\\\\\n",
       "\\end{tabular}\n"
      ],
      "text/markdown": [
       "\n",
       "A data.frame: 57 × 4\n",
       "\n",
       "| <!--/--> | Total &lt;dbl&gt; | Up &lt;dbl&gt; | Down &lt;dbl&gt; | Ratio &lt;dbl&gt; |\n",
       "|---|---|---|---|---|\n",
       "| Target_V125D3_1nM_24h | 179 |  59 | 120 |  0.49 |\n",
       "| Target_V125D3_10nM_04h |  16 |  13 |   3 |  4.33 |\n",
       "| Target_V125D3_10nM_08h | 144 |  34 | 110 |  0.31 |\n",
       "| Target_V125D3_10nM_24h | 313 |  75 | 238 |  0.32 |\n",
       "| Target_V125D3_0.1nM_24h |   7 |   3 |   4 |  0.75 |\n",
       "| Target_V25D3_1000nM_04h |  32 |  27 |   5 |  5.40 |\n",
       "| Target_V25D3_1000nM_08h | 147 |  31 | 116 |  0.27 |\n",
       "| Target_V25D3_1000nM_24h | 365 |  98 | 267 |  0.37 |\n",
       "| Target_V25D2_1000nM_04h |  20 |  19 |   1 | 19.00 |\n",
       "| Target_V25D2_1000nM_08h | 133 |  32 | 101 |  0.32 |\n",
       "| Target_V25D2_1000nM_24h | 385 |  67 | 318 |  0.21 |\n",
       "| Target_V25D3_100nM_24h |   0 |   0 |   0 |   NaN |\n",
       "| Target_V25D3_250nM_24h |   0 |   0 |   0 |   NaN |\n",
       "| Target_V25D3_500nM_24h | 322 |  77 | 245 |  0.31 |\n",
       "| Target_V25D3_750nM_24h | 392 |  97 | 295 |  0.33 |\n",
       "| Target_V25D2_100nM_24h |   0 |   0 |   0 |   NaN |\n",
       "| Target_V25D2_250nM_24h |  30 |  19 |  11 |  1.73 |\n",
       "| Target_V25D2_500nM_24h | 342 |  98 | 244 |  0.40 |\n",
       "| Target_V25D2_750nM_24h | 397 | 119 | 278 |  0.43 |\n",
       "| Up_Target_V125D3_1nM_24h |  59 |  59 | 120 |  0.49 |\n",
       "| Up_Target_V125D3_10nM_04h |  13 |  13 |   3 |  4.33 |\n",
       "| Up_Target_V125D3_10nM_08h |  34 |  34 | 110 |  0.31 |\n",
       "| Up_Target_V125D3_10nM_24h |  75 |  75 | 238 |  0.32 |\n",
       "| Up_Target_V125D3_0.1nM_24h |   3 |   3 |   4 |  0.75 |\n",
       "| Up_Target_V25D3_1000nM_04h |  27 |  27 |   5 |  5.40 |\n",
       "| Up_Target_V25D3_1000nM_08h |  31 |  31 | 116 |  0.27 |\n",
       "| Up_Target_V25D3_1000nM_24h |  98 |  98 | 267 |  0.37 |\n",
       "| Up_Target_V25D2_1000nM_04h |  19 |  19 |   1 | 19.00 |\n",
       "| Up_Target_V25D2_1000nM_08h |  32 |  32 | 101 |  0.32 |\n",
       "| Up_Target_V25D2_1000nM_24h |  67 |  67 | 318 |  0.21 |\n",
       "| Up_Target_V25D3_100nM_24h |   0 |   0 |   0 |   NaN |\n",
       "| Up_Target_V25D3_250nM_24h |   0 |   0 |   0 |   NaN |\n",
       "| Up_Target_V25D3_500nM_24h |  77 |  77 | 245 |  0.31 |\n",
       "| Up_Target_V25D3_750nM_24h |  97 |  97 | 295 |  0.33 |\n",
       "| Up_Target_V25D2_100nM_24h |   0 |   0 |   0 |   NaN |\n",
       "| Up_Target_V25D2_250nM_24h |  19 |  19 |  11 |  1.73 |\n",
       "| Up_Target_V25D2_500nM_24h |  98 |  98 | 244 |  0.40 |\n",
       "| Up_Target_V25D2_750nM_24h | 119 | 119 | 278 |  0.43 |\n",
       "| Down_Target_V125D3_1nM_24h | 120 |  59 | 120 |  0.49 |\n",
       "| Down_Target_V125D3_10nM_04h |   3 |  13 |   3 |  4.33 |\n",
       "| Down_Target_V125D3_10nM_08h | 110 |  34 | 110 |  0.31 |\n",
       "| Down_Target_V125D3_10nM_24h | 238 |  75 | 238 |  0.32 |\n",
       "| Down_Target_V125D3_0.1nM_24h |   4 |   3 |   4 |  0.75 |\n",
       "| Down_Target_V25D3_1000nM_04h |   5 |  27 |   5 |  5.40 |\n",
       "| Down_Target_V25D3_1000nM_08h | 116 |  31 | 116 |  0.27 |\n",
       "| Down_Target_V25D3_1000nM_24h | 267 |  98 | 267 |  0.37 |\n",
       "| Down_Target_V25D2_1000nM_04h |   1 |  19 |   1 | 19.00 |\n",
       "| Down_Target_V25D2_1000nM_08h | 101 |  32 | 101 |  0.32 |\n",
       "| Down_Target_V25D2_1000nM_24h | 318 |  67 | 318 |  0.21 |\n",
       "| Down_Target_V25D3_100nM_24h |   0 |   0 |   0 |   NaN |\n",
       "| Down_Target_V25D3_250nM_24h |   0 |   0 |   0 |   NaN |\n",
       "| Down_Target_V25D3_500nM_24h | 245 |  77 | 245 |  0.31 |\n",
       "| Down_Target_V25D3_750nM_24h | 295 |  97 | 295 |  0.33 |\n",
       "| Down_Target_V25D2_100nM_24h |   0 |   0 |   0 |   NaN |\n",
       "| Down_Target_V25D2_250nM_24h |  11 |  19 |  11 |  1.73 |\n",
       "| Down_Target_V25D2_500nM_24h | 244 |  98 | 244 |  0.40 |\n",
       "| Down_Target_V25D2_750nM_24h | 278 | 119 | 278 |  0.43 |\n",
       "\n"
      ],
      "text/plain": [
       "                             Total Up  Down Ratio\n",
       "Target_V125D3_1nM_24h        179    59 120   0.49\n",
       "Target_V125D3_10nM_04h        16    13   3   4.33\n",
       "Target_V125D3_10nM_08h       144    34 110   0.31\n",
       "Target_V125D3_10nM_24h       313    75 238   0.32\n",
       "Target_V125D3_0.1nM_24h        7     3   4   0.75\n",
       "Target_V25D3_1000nM_04h       32    27   5   5.40\n",
       "Target_V25D3_1000nM_08h      147    31 116   0.27\n",
       "Target_V25D3_1000nM_24h      365    98 267   0.37\n",
       "Target_V25D2_1000nM_04h       20    19   1  19.00\n",
       "Target_V25D2_1000nM_08h      133    32 101   0.32\n",
       "Target_V25D2_1000nM_24h      385    67 318   0.21\n",
       "Target_V25D3_100nM_24h         0     0   0    NaN\n",
       "Target_V25D3_250nM_24h         0     0   0    NaN\n",
       "Target_V25D3_500nM_24h       322    77 245   0.31\n",
       "Target_V25D3_750nM_24h       392    97 295   0.33\n",
       "Target_V25D2_100nM_24h         0     0   0    NaN\n",
       "Target_V25D2_250nM_24h        30    19  11   1.73\n",
       "Target_V25D2_500nM_24h       342    98 244   0.40\n",
       "Target_V25D2_750nM_24h       397   119 278   0.43\n",
       "Up_Target_V125D3_1nM_24h      59    59 120   0.49\n",
       "Up_Target_V125D3_10nM_04h     13    13   3   4.33\n",
       "Up_Target_V125D3_10nM_08h     34    34 110   0.31\n",
       "Up_Target_V125D3_10nM_24h     75    75 238   0.32\n",
       "Up_Target_V125D3_0.1nM_24h     3     3   4   0.75\n",
       "Up_Target_V25D3_1000nM_04h    27    27   5   5.40\n",
       "Up_Target_V25D3_1000nM_08h    31    31 116   0.27\n",
       "Up_Target_V25D3_1000nM_24h    98    98 267   0.37\n",
       "Up_Target_V25D2_1000nM_04h    19    19   1  19.00\n",
       "Up_Target_V25D2_1000nM_08h    32    32 101   0.32\n",
       "Up_Target_V25D2_1000nM_24h    67    67 318   0.21\n",
       "Up_Target_V25D3_100nM_24h      0     0   0    NaN\n",
       "Up_Target_V25D3_250nM_24h      0     0   0    NaN\n",
       "Up_Target_V25D3_500nM_24h     77    77 245   0.31\n",
       "Up_Target_V25D3_750nM_24h     97    97 295   0.33\n",
       "Up_Target_V25D2_100nM_24h      0     0   0    NaN\n",
       "Up_Target_V25D2_250nM_24h     19    19  11   1.73\n",
       "Up_Target_V25D2_500nM_24h     98    98 244   0.40\n",
       "Up_Target_V25D2_750nM_24h    119   119 278   0.43\n",
       "Down_Target_V125D3_1nM_24h   120    59 120   0.49\n",
       "Down_Target_V125D3_10nM_04h    3    13   3   4.33\n",
       "Down_Target_V125D3_10nM_08h  110    34 110   0.31\n",
       "Down_Target_V125D3_10nM_24h  238    75 238   0.32\n",
       "Down_Target_V125D3_0.1nM_24h   4     3   4   0.75\n",
       "Down_Target_V25D3_1000nM_04h   5    27   5   5.40\n",
       "Down_Target_V25D3_1000nM_08h 116    31 116   0.27\n",
       "Down_Target_V25D3_1000nM_24h 267    98 267   0.37\n",
       "Down_Target_V25D2_1000nM_04h   1    19   1  19.00\n",
       "Down_Target_V25D2_1000nM_08h 101    32 101   0.32\n",
       "Down_Target_V25D2_1000nM_24h 318    67 318   0.21\n",
       "Down_Target_V25D3_100nM_24h    0     0   0    NaN\n",
       "Down_Target_V25D3_250nM_24h    0     0   0    NaN\n",
       "Down_Target_V25D3_500nM_24h  245    77 245   0.31\n",
       "Down_Target_V25D3_750nM_24h  295    97 295   0.33\n",
       "Down_Target_V25D2_100nM_24h    0     0   0    NaN\n",
       "Down_Target_V25D2_250nM_24h   11    19  11   1.73\n",
       "Down_Target_V25D2_500nM_24h  244    98 244   0.40\n",
       "Down_Target_V25D2_750nM_24h  278   119 278   0.43"
      ]
     },
     "metadata": {},
     "output_type": "display_data"
    }
   ],
   "source": [
    "Total$Up = Up$Up\n",
    "Total$Down = Down$Down\n",
    "\n",
    "#Targetssums$Ratio = round(Targetssums$Up/Targetssums$Down, digits = 2)\n",
    "Total$Ratio = round (Total$Up/Total$Down, digits = 2)\n",
    "Total"
   ]
  },
  {
   "cell_type": "code",
   "execution_count": 78,
   "id": "intensive-fifteen",
   "metadata": {},
   "outputs": [],
   "source": [
    "#write.xlsx (Total, \"Total.xlsx\", row.names = T)"
   ]
  },
  {
   "cell_type": "markdown",
   "id": "smart-committee",
   "metadata": {},
   "source": [
    "### Time2020"
   ]
  },
  {
   "cell_type": "code",
   "execution_count": 79,
   "id": "monthly-helena",
   "metadata": {},
   "outputs": [
    {
     "data": {
      "text/html": [
       "<table class=\"dataframe\">\n",
       "<caption>A data.frame: 6 × 11</caption>\n",
       "<thead>\n",
       "\t<tr><th></th><th scope=col>hgnc_symbol</th><th scope=col>Target_04h</th><th scope=col>Target_08h</th><th scope=col>Target_24h</th><th scope=col>Target_48h</th><th scope=col>Regulation</th><th scope=col>MA_plot</th><th scope=col>cluster</th><th scope=col>howmany</th><th scope=col>primary</th><th scope=col>general_category</th></tr>\n",
       "\t<tr><th></th><th scope=col>&lt;chr&gt;</th><th scope=col>&lt;int&gt;</th><th scope=col>&lt;int&gt;</th><th scope=col>&lt;int&gt;</th><th scope=col>&lt;int&gt;</th><th scope=col>&lt;chr&gt;</th><th scope=col>&lt;chr&gt;</th><th scope=col>&lt;int&gt;</th><th scope=col>&lt;int&gt;</th><th scope=col>&lt;int&gt;</th><th scope=col>&lt;chr&gt;</th></tr>\n",
       "</thead>\n",
       "<tbody>\n",
       "\t<tr><th scope=row>1</th><td>AATK </td><td>0</td><td>0</td><td>1</td><td>0</td><td>down</td><td></td><td>2</td><td>1</td><td>0</td><td>Enzyme/Transporter</td></tr>\n",
       "\t<tr><th scope=row>2</th><td>ABCB4</td><td>0</td><td>0</td><td>0</td><td>1</td><td>up  </td><td></td><td>1</td><td>1</td><td>0</td><td>Enzyme/Transporter</td></tr>\n",
       "\t<tr><th scope=row>3</th><td>ABCC3</td><td>0</td><td>1</td><td>1</td><td>0</td><td>down</td><td></td><td>3</td><td>2</td><td>1</td><td>Enzyme/Transporter</td></tr>\n",
       "\t<tr><th scope=row>4</th><td>ACP3 </td><td>0</td><td>0</td><td>1</td><td>0</td><td>down</td><td></td><td>3</td><td>1</td><td>0</td><td>Enzyme/Transporter</td></tr>\n",
       "\t<tr><th scope=row>5</th><td>ACSL1</td><td>0</td><td>0</td><td>0</td><td>1</td><td>up  </td><td></td><td>4</td><td>1</td><td>0</td><td>Enzyme/Transporter</td></tr>\n",
       "\t<tr><th scope=row>6</th><td>ACSM3</td><td>0</td><td>0</td><td>1</td><td>0</td><td>up  </td><td></td><td>4</td><td>1</td><td>0</td><td>Enzyme/Transporter</td></tr>\n",
       "</tbody>\n",
       "</table>\n"
      ],
      "text/latex": [
       "A data.frame: 6 × 11\n",
       "\\begin{tabular}{r|lllllllllll}\n",
       "  & hgnc\\_symbol & Target\\_04h & Target\\_08h & Target\\_24h & Target\\_48h & Regulation & MA\\_plot & cluster & howmany & primary & general\\_category\\\\\n",
       "  & <chr> & <int> & <int> & <int> & <int> & <chr> & <chr> & <int> & <int> & <int> & <chr>\\\\\n",
       "\\hline\n",
       "\t1 & AATK  & 0 & 0 & 1 & 0 & down &  & 2 & 1 & 0 & Enzyme/Transporter\\\\\n",
       "\t2 & ABCB4 & 0 & 0 & 0 & 1 & up   &  & 1 & 1 & 0 & Enzyme/Transporter\\\\\n",
       "\t3 & ABCC3 & 0 & 1 & 1 & 0 & down &  & 3 & 2 & 1 & Enzyme/Transporter\\\\\n",
       "\t4 & ACP3  & 0 & 0 & 1 & 0 & down &  & 3 & 1 & 0 & Enzyme/Transporter\\\\\n",
       "\t5 & ACSL1 & 0 & 0 & 0 & 1 & up   &  & 4 & 1 & 0 & Enzyme/Transporter\\\\\n",
       "\t6 & ACSM3 & 0 & 0 & 1 & 0 & up   &  & 4 & 1 & 0 & Enzyme/Transporter\\\\\n",
       "\\end{tabular}\n"
      ],
      "text/markdown": [
       "\n",
       "A data.frame: 6 × 11\n",
       "\n",
       "| <!--/--> | hgnc_symbol &lt;chr&gt; | Target_04h &lt;int&gt; | Target_08h &lt;int&gt; | Target_24h &lt;int&gt; | Target_48h &lt;int&gt; | Regulation &lt;chr&gt; | MA_plot &lt;chr&gt; | cluster &lt;int&gt; | howmany &lt;int&gt; | primary &lt;int&gt; | general_category &lt;chr&gt; |\n",
       "|---|---|---|---|---|---|---|---|---|---|---|---|\n",
       "| 1 | AATK  | 0 | 0 | 1 | 0 | down | <!----> | 2 | 1 | 0 | Enzyme/Transporter |\n",
       "| 2 | ABCB4 | 0 | 0 | 0 | 1 | up   | <!----> | 1 | 1 | 0 | Enzyme/Transporter |\n",
       "| 3 | ABCC3 | 0 | 1 | 1 | 0 | down | <!----> | 3 | 2 | 1 | Enzyme/Transporter |\n",
       "| 4 | ACP3  | 0 | 0 | 1 | 0 | down | <!----> | 3 | 1 | 0 | Enzyme/Transporter |\n",
       "| 5 | ACSL1 | 0 | 0 | 0 | 1 | up   | <!----> | 4 | 1 | 0 | Enzyme/Transporter |\n",
       "| 6 | ACSM3 | 0 | 0 | 1 | 0 | up   | <!----> | 4 | 1 | 0 | Enzyme/Transporter |\n",
       "\n"
      ],
      "text/plain": [
       "  hgnc_symbol Target_04h Target_08h Target_24h Target_48h Regulation MA_plot\n",
       "1 AATK        0          0          1          0          down              \n",
       "2 ABCB4       0          0          0          1          up                \n",
       "3 ABCC3       0          1          1          0          down              \n",
       "4 ACP3        0          0          1          0          down              \n",
       "5 ACSL1       0          0          0          1          up                \n",
       "6 ACSM3       0          0          1          0          up                \n",
       "  cluster howmany primary general_category  \n",
       "1 2       1       0       Enzyme/Transporter\n",
       "2 1       1       0       Enzyme/Transporter\n",
       "3 3       2       1       Enzyme/Transporter\n",
       "4 3       1       0       Enzyme/Transporter\n",
       "5 4       1       0       Enzyme/Transporter\n",
       "6 4       1       0       Enzyme/Transporter"
      ]
     },
     "metadata": {},
     "output_type": "display_data"
    }
   ],
   "source": [
    "head (xtime)"
   ]
  },
  {
   "cell_type": "code",
   "execution_count": 80,
   "id": "satellite-statement",
   "metadata": {},
   "outputs": [
    {
     "data": {
      "text/html": [
       "<style>\n",
       ".list-inline {list-style: none; margin:0; padding: 0}\n",
       ".list-inline>li {display: inline-block}\n",
       ".list-inline>li:not(:last-child)::after {content: \"\\00b7\"; padding: 0 .5ex}\n",
       "</style>\n",
       "<ol class=list-inline><li>'AATK'</li><li>'ABCB4'</li><li>'ABCC3'</li><li>'ACP3'</li><li>'ACSL1'</li><li>'ACSM3'</li></ol>\n"
      ],
      "text/latex": [
       "\\begin{enumerate*}\n",
       "\\item 'AATK'\n",
       "\\item 'ABCB4'\n",
       "\\item 'ABCC3'\n",
       "\\item 'ACP3'\n",
       "\\item 'ACSL1'\n",
       "\\item 'ACSM3'\n",
       "\\end{enumerate*}\n"
      ],
      "text/markdown": [
       "1. 'AATK'\n",
       "2. 'ABCB4'\n",
       "3. 'ABCC3'\n",
       "4. 'ACP3'\n",
       "5. 'ACSL1'\n",
       "6. 'ACSM3'\n",
       "\n",
       "\n"
      ],
      "text/plain": [
       "[1] \"AATK\"  \"ABCB4\" \"ABCC3\" \"ACP3\"  \"ACSL1\" \"ACSM3\""
      ]
     },
     "metadata": {},
     "output_type": "display_data"
    }
   ],
   "source": [
    "time = as.vector (xtime$hgnc_symbol)\n",
    "head (time)"
   ]
  },
  {
   "cell_type": "code",
   "execution_count": 81,
   "id": "configured-array",
   "metadata": {},
   "outputs": [
    {
     "data": {
      "text/html": [
       "<style>\n",
       ".list-inline {list-style: none; margin:0; padding: 0}\n",
       ".list-inline>li {display: inline-block}\n",
       ".list-inline>li:not(:last-child)::after {content: \"\\00b7\"; padding: 0 .5ex}\n",
       "</style>\n",
       "<ol class=list-inline><li>12939</li><li>140</li></ol>\n"
      ],
      "text/latex": [
       "\\begin{enumerate*}\n",
       "\\item 12939\n",
       "\\item 140\n",
       "\\end{enumerate*}\n"
      ],
      "text/markdown": [
       "1. 12939\n",
       "2. 140\n",
       "\n",
       "\n"
      ],
      "text/plain": [
       "[1] 12939   140"
      ]
     },
     "metadata": {},
     "output_type": "display_data"
    }
   ],
   "source": [
    "#head (xs5)\n",
    "dim (xs5)\n",
    "#\n",
    "xs6 = xs5 %>%\n",
    "column_to_rownames (\"hgnc_symbol\")"
   ]
  },
  {
   "cell_type": "markdown",
   "id": "alpine-input",
   "metadata": {},
   "source": [
    "### All 662 filtered"
   ]
  },
  {
   "cell_type": "code",
   "execution_count": 82,
   "id": "frank-deposit",
   "metadata": {},
   "outputs": [
    {
     "data": {
      "text/html": [
       "<table class=\"dataframe\">\n",
       "<caption>A data.frame: 6 × 139</caption>\n",
       "<thead>\n",
       "\t<tr><th></th><th scope=col>EtOH_04h.Avg</th><th scope=col>EtOH_08h.Avg</th><th scope=col>EtOH_24h.Avg</th><th scope=col>V125D3_10nM_04h.Avg</th><th scope=col>V125D3_10nM_08h.Avg</th><th scope=col>V25D3_1000nM_04h.Avg</th><th scope=col>V25D3_1000nM_08h.Avg</th><th scope=col>V25D2_1000nM_04h.Avg</th><th scope=col>V25D2_1000nM_08h.Avg</th><th scope=col>V125D3_0.1nM_24h.Avg</th><th scope=col>⋯</th><th scope=col>Down_Target_V25D2_1000nM_24h</th><th scope=col>Down_Target_V25D3_100nM_24h</th><th scope=col>Down_Target_V25D3_250nM_24h</th><th scope=col>Down_Target_V25D3_500nM_24h</th><th scope=col>Down_Target_V25D3_750nM_24h</th><th scope=col>Down_Target_V25D2_100nM_24h</th><th scope=col>Down_Target_V25D2_250nM_24h</th><th scope=col>Down_Target_V25D2_500nM_24h</th><th scope=col>Down_Target_V25D2_750nM_24h</th><th scope=col>howmany</th></tr>\n",
       "\t<tr><th></th><th scope=col>&lt;dbl&gt;</th><th scope=col>&lt;dbl&gt;</th><th scope=col>&lt;dbl&gt;</th><th scope=col>&lt;dbl&gt;</th><th scope=col>&lt;dbl&gt;</th><th scope=col>&lt;dbl&gt;</th><th scope=col>&lt;dbl&gt;</th><th scope=col>&lt;dbl&gt;</th><th scope=col>&lt;dbl&gt;</th><th scope=col>&lt;dbl&gt;</th><th scope=col>⋯</th><th scope=col>&lt;dbl&gt;</th><th scope=col>&lt;dbl&gt;</th><th scope=col>&lt;dbl&gt;</th><th scope=col>&lt;dbl&gt;</th><th scope=col>&lt;dbl&gt;</th><th scope=col>&lt;dbl&gt;</th><th scope=col>&lt;dbl&gt;</th><th scope=col>&lt;dbl&gt;</th><th scope=col>&lt;dbl&gt;</th><th scope=col>&lt;dbl&gt;</th></tr>\n",
       "</thead>\n",
       "<tbody>\n",
       "\t<tr><th scope=row>AATK</th><td>129.426485</td><td>133.914910</td><td> 53.074204</td><td> 77.176868</td><td> 44.661316</td><td>  98.652910</td><td> 59.39119</td><td> 98.645701</td><td> 72.695157</td><td> 79.49813</td><td>⋯</td><td>1</td><td>0</td><td>0</td><td>1</td><td>1</td><td>0</td><td>0</td><td>0</td><td>1</td><td>8</td></tr>\n",
       "\t<tr><th scope=row>ABCB4</th><td>  7.488497</td><td>  7.700842</td><td>  7.179503</td><td>  9.125261</td><td> 11.506705</td><td>  13.145272</td><td> 13.07155</td><td> 13.847856</td><td> 13.858732</td><td>  8.02622</td><td>⋯</td><td>0</td><td>0</td><td>0</td><td>0</td><td>0</td><td>0</td><td>0</td><td>0</td><td>0</td><td>1</td></tr>\n",
       "\t<tr><th scope=row>ABCC3</th><td> 12.230635</td><td> 42.085302</td><td>116.790128</td><td>  8.784478</td><td> 22.003349</td><td>   7.622683</td><td> 17.72755</td><td>  8.153667</td><td> 13.385738</td><td> 86.62655</td><td>⋯</td><td>1</td><td>0</td><td>0</td><td>1</td><td>1</td><td>0</td><td>0</td><td>1</td><td>1</td><td>9</td></tr>\n",
       "\t<tr><th scope=row>ACP3</th><td>  2.125970</td><td>  3.290591</td><td> 16.373274</td><td>  3.988684</td><td>  2.329825</td><td>   3.020221</td><td>  2.28304</td><td>  1.751392</td><td>  1.578878</td><td> 11.74924</td><td>⋯</td><td>0</td><td>0</td><td>0</td><td>0</td><td>0</td><td>0</td><td>0</td><td>0</td><td>1</td><td>1</td></tr>\n",
       "\t<tr><th scope=row>ACSL1</th><td>667.060536</td><td>563.321809</td><td>147.271474</td><td>753.660706</td><td>514.544157</td><td>1010.022597</td><td>530.53421</td><td>833.788391</td><td>588.072113</td><td>166.18775</td><td>⋯</td><td>0</td><td>0</td><td>0</td><td>0</td><td>0</td><td>0</td><td>0</td><td>0</td><td>0</td><td>0</td></tr>\n",
       "\t<tr><th scope=row>ACSM3</th><td> 13.580686</td><td> 18.809853</td><td> 16.234599</td><td>  8.803691</td><td> 19.317587</td><td>  10.548244</td><td> 20.44492</td><td>  9.478172</td><td> 19.230597</td><td> 22.58306</td><td>⋯</td><td>0</td><td>0</td><td>0</td><td>0</td><td>0</td><td>0</td><td>0</td><td>0</td><td>0</td><td>0</td></tr>\n",
       "</tbody>\n",
       "</table>\n"
      ],
      "text/latex": [
       "A data.frame: 6 × 139\n",
       "\\begin{tabular}{r|lllllllllllllllllllll}\n",
       "  & EtOH\\_04h.Avg & EtOH\\_08h.Avg & EtOH\\_24h.Avg & V125D3\\_10nM\\_04h.Avg & V125D3\\_10nM\\_08h.Avg & V25D3\\_1000nM\\_04h.Avg & V25D3\\_1000nM\\_08h.Avg & V25D2\\_1000nM\\_04h.Avg & V25D2\\_1000nM\\_08h.Avg & V125D3\\_0.1nM\\_24h.Avg & ⋯ & Down\\_Target\\_V25D2\\_1000nM\\_24h & Down\\_Target\\_V25D3\\_100nM\\_24h & Down\\_Target\\_V25D3\\_250nM\\_24h & Down\\_Target\\_V25D3\\_500nM\\_24h & Down\\_Target\\_V25D3\\_750nM\\_24h & Down\\_Target\\_V25D2\\_100nM\\_24h & Down\\_Target\\_V25D2\\_250nM\\_24h & Down\\_Target\\_V25D2\\_500nM\\_24h & Down\\_Target\\_V25D2\\_750nM\\_24h & howmany\\\\\n",
       "  & <dbl> & <dbl> & <dbl> & <dbl> & <dbl> & <dbl> & <dbl> & <dbl> & <dbl> & <dbl> & ⋯ & <dbl> & <dbl> & <dbl> & <dbl> & <dbl> & <dbl> & <dbl> & <dbl> & <dbl> & <dbl>\\\\\n",
       "\\hline\n",
       "\tAATK & 129.426485 & 133.914910 &  53.074204 &  77.176868 &  44.661316 &   98.652910 &  59.39119 &  98.645701 &  72.695157 &  79.49813 & ⋯ & 1 & 0 & 0 & 1 & 1 & 0 & 0 & 0 & 1 & 8\\\\\n",
       "\tABCB4 &   7.488497 &   7.700842 &   7.179503 &   9.125261 &  11.506705 &   13.145272 &  13.07155 &  13.847856 &  13.858732 &   8.02622 & ⋯ & 0 & 0 & 0 & 0 & 0 & 0 & 0 & 0 & 0 & 1\\\\\n",
       "\tABCC3 &  12.230635 &  42.085302 & 116.790128 &   8.784478 &  22.003349 &    7.622683 &  17.72755 &   8.153667 &  13.385738 &  86.62655 & ⋯ & 1 & 0 & 0 & 1 & 1 & 0 & 0 & 1 & 1 & 9\\\\\n",
       "\tACP3 &   2.125970 &   3.290591 &  16.373274 &   3.988684 &   2.329825 &    3.020221 &   2.28304 &   1.751392 &   1.578878 &  11.74924 & ⋯ & 0 & 0 & 0 & 0 & 0 & 0 & 0 & 0 & 1 & 1\\\\\n",
       "\tACSL1 & 667.060536 & 563.321809 & 147.271474 & 753.660706 & 514.544157 & 1010.022597 & 530.53421 & 833.788391 & 588.072113 & 166.18775 & ⋯ & 0 & 0 & 0 & 0 & 0 & 0 & 0 & 0 & 0 & 0\\\\\n",
       "\tACSM3 &  13.580686 &  18.809853 &  16.234599 &   8.803691 &  19.317587 &   10.548244 &  20.44492 &   9.478172 &  19.230597 &  22.58306 & ⋯ & 0 & 0 & 0 & 0 & 0 & 0 & 0 & 0 & 0 & 0\\\\\n",
       "\\end{tabular}\n"
      ],
      "text/markdown": [
       "\n",
       "A data.frame: 6 × 139\n",
       "\n",
       "| <!--/--> | EtOH_04h.Avg &lt;dbl&gt; | EtOH_08h.Avg &lt;dbl&gt; | EtOH_24h.Avg &lt;dbl&gt; | V125D3_10nM_04h.Avg &lt;dbl&gt; | V125D3_10nM_08h.Avg &lt;dbl&gt; | V25D3_1000nM_04h.Avg &lt;dbl&gt; | V25D3_1000nM_08h.Avg &lt;dbl&gt; | V25D2_1000nM_04h.Avg &lt;dbl&gt; | V25D2_1000nM_08h.Avg &lt;dbl&gt; | V125D3_0.1nM_24h.Avg &lt;dbl&gt; | ⋯ ⋯ | Down_Target_V25D2_1000nM_24h &lt;dbl&gt; | Down_Target_V25D3_100nM_24h &lt;dbl&gt; | Down_Target_V25D3_250nM_24h &lt;dbl&gt; | Down_Target_V25D3_500nM_24h &lt;dbl&gt; | Down_Target_V25D3_750nM_24h &lt;dbl&gt; | Down_Target_V25D2_100nM_24h &lt;dbl&gt; | Down_Target_V25D2_250nM_24h &lt;dbl&gt; | Down_Target_V25D2_500nM_24h &lt;dbl&gt; | Down_Target_V25D2_750nM_24h &lt;dbl&gt; | howmany &lt;dbl&gt; |\n",
       "|---|---|---|---|---|---|---|---|---|---|---|---|---|---|---|---|---|---|---|---|---|---|\n",
       "| AATK | 129.426485 | 133.914910 |  53.074204 |  77.176868 |  44.661316 |   98.652910 |  59.39119 |  98.645701 |  72.695157 |  79.49813 | ⋯ | 1 | 0 | 0 | 1 | 1 | 0 | 0 | 0 | 1 | 8 |\n",
       "| ABCB4 |   7.488497 |   7.700842 |   7.179503 |   9.125261 |  11.506705 |   13.145272 |  13.07155 |  13.847856 |  13.858732 |   8.02622 | ⋯ | 0 | 0 | 0 | 0 | 0 | 0 | 0 | 0 | 0 | 1 |\n",
       "| ABCC3 |  12.230635 |  42.085302 | 116.790128 |   8.784478 |  22.003349 |    7.622683 |  17.72755 |   8.153667 |  13.385738 |  86.62655 | ⋯ | 1 | 0 | 0 | 1 | 1 | 0 | 0 | 1 | 1 | 9 |\n",
       "| ACP3 |   2.125970 |   3.290591 |  16.373274 |   3.988684 |   2.329825 |    3.020221 |   2.28304 |   1.751392 |   1.578878 |  11.74924 | ⋯ | 0 | 0 | 0 | 0 | 0 | 0 | 0 | 0 | 1 | 1 |\n",
       "| ACSL1 | 667.060536 | 563.321809 | 147.271474 | 753.660706 | 514.544157 | 1010.022597 | 530.53421 | 833.788391 | 588.072113 | 166.18775 | ⋯ | 0 | 0 | 0 | 0 | 0 | 0 | 0 | 0 | 0 | 0 |\n",
       "| ACSM3 |  13.580686 |  18.809853 |  16.234599 |   8.803691 |  19.317587 |   10.548244 |  20.44492 |   9.478172 |  19.230597 |  22.58306 | ⋯ | 0 | 0 | 0 | 0 | 0 | 0 | 0 | 0 | 0 | 0 |\n",
       "\n"
      ],
      "text/plain": [
       "      EtOH_04h.Avg EtOH_08h.Avg EtOH_24h.Avg V125D3_10nM_04h.Avg\n",
       "AATK  129.426485   133.914910    53.074204    77.176868         \n",
       "ABCB4   7.488497     7.700842     7.179503     9.125261         \n",
       "ABCC3  12.230635    42.085302   116.790128     8.784478         \n",
       "ACP3    2.125970     3.290591    16.373274     3.988684         \n",
       "ACSL1 667.060536   563.321809   147.271474   753.660706         \n",
       "ACSM3  13.580686    18.809853    16.234599     8.803691         \n",
       "      V125D3_10nM_08h.Avg V25D3_1000nM_04h.Avg V25D3_1000nM_08h.Avg\n",
       "AATK   44.661316            98.652910           59.39119           \n",
       "ABCB4  11.506705            13.145272           13.07155           \n",
       "ABCC3  22.003349             7.622683           17.72755           \n",
       "ACP3    2.329825             3.020221            2.28304           \n",
       "ACSL1 514.544157          1010.022597          530.53421           \n",
       "ACSM3  19.317587            10.548244           20.44492           \n",
       "      V25D2_1000nM_04h.Avg V25D2_1000nM_08h.Avg V125D3_0.1nM_24h.Avg ⋯\n",
       "AATK   98.645701            72.695157            79.49813            ⋯\n",
       "ABCB4  13.847856            13.858732             8.02622            ⋯\n",
       "ABCC3   8.153667            13.385738            86.62655            ⋯\n",
       "ACP3    1.751392             1.578878            11.74924            ⋯\n",
       "ACSL1 833.788391           588.072113           166.18775            ⋯\n",
       "ACSM3   9.478172            19.230597            22.58306            ⋯\n",
       "      Down_Target_V25D2_1000nM_24h Down_Target_V25D3_100nM_24h\n",
       "AATK  1                            0                          \n",
       "ABCB4 0                            0                          \n",
       "ABCC3 1                            0                          \n",
       "ACP3  0                            0                          \n",
       "ACSL1 0                            0                          \n",
       "ACSM3 0                            0                          \n",
       "      Down_Target_V25D3_250nM_24h Down_Target_V25D3_500nM_24h\n",
       "AATK  0                           1                          \n",
       "ABCB4 0                           0                          \n",
       "ABCC3 0                           1                          \n",
       "ACP3  0                           0                          \n",
       "ACSL1 0                           0                          \n",
       "ACSM3 0                           0                          \n",
       "      Down_Target_V25D3_750nM_24h Down_Target_V25D2_100nM_24h\n",
       "AATK  1                           0                          \n",
       "ABCB4 0                           0                          \n",
       "ABCC3 1                           0                          \n",
       "ACP3  0                           0                          \n",
       "ACSL1 0                           0                          \n",
       "ACSM3 0                           0                          \n",
       "      Down_Target_V25D2_250nM_24h Down_Target_V25D2_500nM_24h\n",
       "AATK  0                           0                          \n",
       "ABCB4 0                           0                          \n",
       "ABCC3 0                           1                          \n",
       "ACP3  0                           0                          \n",
       "ACSL1 0                           0                          \n",
       "ACSM3 0                           0                          \n",
       "      Down_Target_V25D2_750nM_24h howmany\n",
       "AATK  1                           8      \n",
       "ABCB4 0                           1      \n",
       "ABCC3 1                           9      \n",
       "ACP3  1                           1      \n",
       "ACSL1 0                           0      \n",
       "ACSM3 0                           0      "
      ]
     },
     "metadata": {},
     "output_type": "display_data"
    },
    {
     "data": {
      "text/html": [
       "<style>\n",
       ".list-inline {list-style: none; margin:0; padding: 0}\n",
       ".list-inline>li {display: inline-block}\n",
       ".list-inline>li:not(:last-child)::after {content: \"\\00b7\"; padding: 0 .5ex}\n",
       "</style>\n",
       "<ol class=list-inline><li>662</li><li>139</li></ol>\n"
      ],
      "text/latex": [
       "\\begin{enumerate*}\n",
       "\\item 662\n",
       "\\item 139\n",
       "\\end{enumerate*}\n"
      ],
      "text/markdown": [
       "1. 662\n",
       "2. 139\n",
       "\n",
       "\n"
      ],
      "text/plain": [
       "[1] 662 139"
      ]
     },
     "metadata": {},
     "output_type": "display_data"
    }
   ],
   "source": [
    "umdieecke = xs6[time,]\n",
    "\n",
    "head (umdieecke)\n",
    "dim (umdieecke)\n",
    "\n",
    "\n",
    "timeUp = umdieecke %>% \n",
    "select (matches (\"Up_Target\")) %>%\n",
    "replace(is.na(.), 0) %>% summarise_all(funs(sum)) %>% \n",
    "t()%>%\n",
    "as.data.frame () %>%\n",
    "rename (Up = V1)\n",
    "\n",
    "#head(Up)\n",
    "\n",
    "timeDown = umdieecke %>% \n",
    "select (matches (\"Down_Target\")) %>%\n",
    "replace(is.na(.), 0) %>% summarise_all(funs(sum)) %>% \n",
    "t() %>%\n",
    "as.data.frame ()%>%\n",
    "rename (Down = V1)\n",
    "#Down\n",
    "\n",
    "timeTotal = umdieecke %>% \n",
    "select (matches (\"Target\")) %>%\n",
    "replace(is.na(.), 0) %>% summarise_all(funs(sum)) %>% \n",
    "t() %>%\n",
    "as.data.frame ()%>%\n",
    "rename (Total = V1)"
   ]
  },
  {
   "cell_type": "code",
   "execution_count": 83,
   "id": "innocent-starter",
   "metadata": {},
   "outputs": [],
   "source": [
    "timeTotal$Up = timeUp$Up\n",
    "timeTotal$Down = timeDown$Down\n",
    "\n",
    "#Targetssums$Ratio = round(Targetssums$Up/Targetssums$Down, digits = 2)\n",
    "#timeTotal"
   ]
  },
  {
   "cell_type": "code",
   "execution_count": 84,
   "id": "royal-snake",
   "metadata": {},
   "outputs": [],
   "source": [
    "Total = Total %>%\n",
    "add_column (timeTotal)"
   ]
  },
  {
   "cell_type": "code",
   "execution_count": 85,
   "id": "offensive-andrews",
   "metadata": {},
   "outputs": [],
   "source": [
    "Total3 = Total %>%\n",
    "slice (., 1:19)\n",
    "\n",
    "#Total3 = Total2 %>%\n",
    "#mutate (Overlap = (Total.1/Total) )"
   ]
  },
  {
   "cell_type": "code",
   "execution_count": 86,
   "id": "constant-calculator",
   "metadata": {},
   "outputs": [],
   "source": [
    "rownames (Total3) <- gsub(\"Target_V\",\"\",as.character(rownames (Total3)))\n",
    "rownames (Total3) <- gsub(\"Target_V\",\"\",as.character(rownames (Total3)))\n",
    "rownames(Total3) <- gsub(\"_\",\" \",as.character(rownames(Total3)))\n",
    "rownames(Total3) <- gsub(\"nM\",\" nM\",as.character(rownames(Total3)))\n",
    "rownames(Total3) <- gsub(\"h\",\" h\",as.character(rownames(Total3)))"
   ]
  },
  {
   "cell_type": "code",
   "execution_count": 87,
   "id": "blind-stroke",
   "metadata": {},
   "outputs": [
    {
     "data": {
      "text/html": [
       "<table class=\"dataframe\">\n",
       "<caption>A data.frame: 19 × 7</caption>\n",
       "<thead>\n",
       "\t<tr><th></th><th scope=col>Total</th><th scope=col>Up</th><th scope=col>Down</th><th scope=col>Ratio</th><th scope=col>Total.1</th><th scope=col>Up.1</th><th scope=col>Down.1</th></tr>\n",
       "\t<tr><th></th><th scope=col>&lt;dbl&gt;</th><th scope=col>&lt;dbl&gt;</th><th scope=col>&lt;dbl&gt;</th><th scope=col>&lt;dbl&gt;</th><th scope=col>&lt;dbl&gt;</th><th scope=col>&lt;dbl&gt;</th><th scope=col>&lt;dbl&gt;</th></tr>\n",
       "</thead>\n",
       "<tbody>\n",
       "\t<tr><th scope=row>125D3 1 nM 24 h</th><td>179</td><td> 59</td><td>120</td><td> 0.49</td><td>150</td><td>51</td><td> 99</td></tr>\n",
       "\t<tr><th scope=row>125D3 10 nM 04 h</th><td> 16</td><td> 13</td><td>  3</td><td> 4.33</td><td> 16</td><td>13</td><td>  3</td></tr>\n",
       "\t<tr><th scope=row>125D3 10 nM 08 h</th><td>144</td><td> 34</td><td>110</td><td> 0.31</td><td>134</td><td>33</td><td>101</td></tr>\n",
       "\t<tr><th scope=row>125D3 10 nM 24 h</th><td>313</td><td> 75</td><td>238</td><td> 0.32</td><td>254</td><td>60</td><td>194</td></tr>\n",
       "\t<tr><th scope=row>125D3 0.1 nM 24 h</th><td>  7</td><td>  3</td><td>  4</td><td> 0.75</td><td>  6</td><td> 3</td><td>  3</td></tr>\n",
       "\t<tr><th scope=row>25D3 1000 nM 04 h</th><td> 32</td><td> 27</td><td>  5</td><td> 5.40</td><td> 31</td><td>27</td><td>  4</td></tr>\n",
       "\t<tr><th scope=row>25D3 1000 nM 08 h</th><td>147</td><td> 31</td><td>116</td><td> 0.27</td><td>130</td><td>30</td><td>100</td></tr>\n",
       "\t<tr><th scope=row>25D3 1000 nM 24 h</th><td>365</td><td> 98</td><td>267</td><td> 0.37</td><td>293</td><td>81</td><td>212</td></tr>\n",
       "\t<tr><th scope=row>25D2 1000 nM 04 h</th><td> 20</td><td> 19</td><td>  1</td><td>19.00</td><td> 20</td><td>19</td><td>  1</td></tr>\n",
       "\t<tr><th scope=row>25D2 1000 nM 08 h</th><td>133</td><td> 32</td><td>101</td><td> 0.32</td><td>117</td><td>30</td><td> 87</td></tr>\n",
       "\t<tr><th scope=row>25D2 1000 nM 24 h</th><td>385</td><td> 67</td><td>318</td><td> 0.21</td><td>299</td><td>53</td><td>246</td></tr>\n",
       "\t<tr><th scope=row>25D3 100 nM 24 h</th><td>  0</td><td>  0</td><td>  0</td><td>  NaN</td><td>  0</td><td> 0</td><td>  0</td></tr>\n",
       "\t<tr><th scope=row>25D3 250 nM 24 h</th><td>  0</td><td>  0</td><td>  0</td><td>  NaN</td><td>  0</td><td> 0</td><td>  0</td></tr>\n",
       "\t<tr><th scope=row>25D3 500 nM 24 h</th><td>322</td><td> 77</td><td>245</td><td> 0.31</td><td>263</td><td>62</td><td>201</td></tr>\n",
       "\t<tr><th scope=row>25D3 750 nM 24 h</th><td>392</td><td> 97</td><td>295</td><td> 0.33</td><td>294</td><td>72</td><td>222</td></tr>\n",
       "\t<tr><th scope=row>25D2 100 nM 24 h</th><td>  0</td><td>  0</td><td>  0</td><td>  NaN</td><td>  0</td><td> 0</td><td>  0</td></tr>\n",
       "\t<tr><th scope=row>25D2 250 nM 24 h</th><td> 30</td><td> 19</td><td> 11</td><td> 1.73</td><td> 25</td><td>16</td><td>  9</td></tr>\n",
       "\t<tr><th scope=row>25D2 500 nM 24 h</th><td>342</td><td> 98</td><td>244</td><td> 0.40</td><td>278</td><td>81</td><td>197</td></tr>\n",
       "\t<tr><th scope=row>25D2 750 nM 24 h</th><td>397</td><td>119</td><td>278</td><td> 0.43</td><td>307</td><td>96</td><td>211</td></tr>\n",
       "</tbody>\n",
       "</table>\n"
      ],
      "text/latex": [
       "A data.frame: 19 × 7\n",
       "\\begin{tabular}{r|lllllll}\n",
       "  & Total & Up & Down & Ratio & Total.1 & Up.1 & Down.1\\\\\n",
       "  & <dbl> & <dbl> & <dbl> & <dbl> & <dbl> & <dbl> & <dbl>\\\\\n",
       "\\hline\n",
       "\t125D3 1 nM 24 h & 179 &  59 & 120 &  0.49 & 150 & 51 &  99\\\\\n",
       "\t125D3 10 nM 04 h &  16 &  13 &   3 &  4.33 &  16 & 13 &   3\\\\\n",
       "\t125D3 10 nM 08 h & 144 &  34 & 110 &  0.31 & 134 & 33 & 101\\\\\n",
       "\t125D3 10 nM 24 h & 313 &  75 & 238 &  0.32 & 254 & 60 & 194\\\\\n",
       "\t125D3 0.1 nM 24 h &   7 &   3 &   4 &  0.75 &   6 &  3 &   3\\\\\n",
       "\t25D3 1000 nM 04 h &  32 &  27 &   5 &  5.40 &  31 & 27 &   4\\\\\n",
       "\t25D3 1000 nM 08 h & 147 &  31 & 116 &  0.27 & 130 & 30 & 100\\\\\n",
       "\t25D3 1000 nM 24 h & 365 &  98 & 267 &  0.37 & 293 & 81 & 212\\\\\n",
       "\t25D2 1000 nM 04 h &  20 &  19 &   1 & 19.00 &  20 & 19 &   1\\\\\n",
       "\t25D2 1000 nM 08 h & 133 &  32 & 101 &  0.32 & 117 & 30 &  87\\\\\n",
       "\t25D2 1000 nM 24 h & 385 &  67 & 318 &  0.21 & 299 & 53 & 246\\\\\n",
       "\t25D3 100 nM 24 h &   0 &   0 &   0 &   NaN &   0 &  0 &   0\\\\\n",
       "\t25D3 250 nM 24 h &   0 &   0 &   0 &   NaN &   0 &  0 &   0\\\\\n",
       "\t25D3 500 nM 24 h & 322 &  77 & 245 &  0.31 & 263 & 62 & 201\\\\\n",
       "\t25D3 750 nM 24 h & 392 &  97 & 295 &  0.33 & 294 & 72 & 222\\\\\n",
       "\t25D2 100 nM 24 h &   0 &   0 &   0 &   NaN &   0 &  0 &   0\\\\\n",
       "\t25D2 250 nM 24 h &  30 &  19 &  11 &  1.73 &  25 & 16 &   9\\\\\n",
       "\t25D2 500 nM 24 h & 342 &  98 & 244 &  0.40 & 278 & 81 & 197\\\\\n",
       "\t25D2 750 nM 24 h & 397 & 119 & 278 &  0.43 & 307 & 96 & 211\\\\\n",
       "\\end{tabular}\n"
      ],
      "text/markdown": [
       "\n",
       "A data.frame: 19 × 7\n",
       "\n",
       "| <!--/--> | Total &lt;dbl&gt; | Up &lt;dbl&gt; | Down &lt;dbl&gt; | Ratio &lt;dbl&gt; | Total.1 &lt;dbl&gt; | Up.1 &lt;dbl&gt; | Down.1 &lt;dbl&gt; |\n",
       "|---|---|---|---|---|---|---|---|\n",
       "| 125D3 1 nM 24 h | 179 |  59 | 120 |  0.49 | 150 | 51 |  99 |\n",
       "| 125D3 10 nM 04 h |  16 |  13 |   3 |  4.33 |  16 | 13 |   3 |\n",
       "| 125D3 10 nM 08 h | 144 |  34 | 110 |  0.31 | 134 | 33 | 101 |\n",
       "| 125D3 10 nM 24 h | 313 |  75 | 238 |  0.32 | 254 | 60 | 194 |\n",
       "| 125D3 0.1 nM 24 h |   7 |   3 |   4 |  0.75 |   6 |  3 |   3 |\n",
       "| 25D3 1000 nM 04 h |  32 |  27 |   5 |  5.40 |  31 | 27 |   4 |\n",
       "| 25D3 1000 nM 08 h | 147 |  31 | 116 |  0.27 | 130 | 30 | 100 |\n",
       "| 25D3 1000 nM 24 h | 365 |  98 | 267 |  0.37 | 293 | 81 | 212 |\n",
       "| 25D2 1000 nM 04 h |  20 |  19 |   1 | 19.00 |  20 | 19 |   1 |\n",
       "| 25D2 1000 nM 08 h | 133 |  32 | 101 |  0.32 | 117 | 30 |  87 |\n",
       "| 25D2 1000 nM 24 h | 385 |  67 | 318 |  0.21 | 299 | 53 | 246 |\n",
       "| 25D3 100 nM 24 h |   0 |   0 |   0 |   NaN |   0 |  0 |   0 |\n",
       "| 25D3 250 nM 24 h |   0 |   0 |   0 |   NaN |   0 |  0 |   0 |\n",
       "| 25D3 500 nM 24 h | 322 |  77 | 245 |  0.31 | 263 | 62 | 201 |\n",
       "| 25D3 750 nM 24 h | 392 |  97 | 295 |  0.33 | 294 | 72 | 222 |\n",
       "| 25D2 100 nM 24 h |   0 |   0 |   0 |   NaN |   0 |  0 |   0 |\n",
       "| 25D2 250 nM 24 h |  30 |  19 |  11 |  1.73 |  25 | 16 |   9 |\n",
       "| 25D2 500 nM 24 h | 342 |  98 | 244 |  0.40 | 278 | 81 | 197 |\n",
       "| 25D2 750 nM 24 h | 397 | 119 | 278 |  0.43 | 307 | 96 | 211 |\n",
       "\n"
      ],
      "text/plain": [
       "                  Total Up  Down Ratio Total.1 Up.1 Down.1\n",
       "125D3 1 nM 24 h   179    59 120   0.49 150     51    99   \n",
       "125D3 10 nM 04 h   16    13   3   4.33  16     13     3   \n",
       "125D3 10 nM 08 h  144    34 110   0.31 134     33   101   \n",
       "125D3 10 nM 24 h  313    75 238   0.32 254     60   194   \n",
       "125D3 0.1 nM 24 h   7     3   4   0.75   6      3     3   \n",
       "25D3 1000 nM 04 h  32    27   5   5.40  31     27     4   \n",
       "25D3 1000 nM 08 h 147    31 116   0.27 130     30   100   \n",
       "25D3 1000 nM 24 h 365    98 267   0.37 293     81   212   \n",
       "25D2 1000 nM 04 h  20    19   1  19.00  20     19     1   \n",
       "25D2 1000 nM 08 h 133    32 101   0.32 117     30    87   \n",
       "25D2 1000 nM 24 h 385    67 318   0.21 299     53   246   \n",
       "25D3 100 nM 24 h    0     0   0    NaN   0      0     0   \n",
       "25D3 250 nM 24 h    0     0   0    NaN   0      0     0   \n",
       "25D3 500 nM 24 h  322    77 245   0.31 263     62   201   \n",
       "25D3 750 nM 24 h  392    97 295   0.33 294     72   222   \n",
       "25D2 100 nM 24 h    0     0   0    NaN   0      0     0   \n",
       "25D2 250 nM 24 h   30    19  11   1.73  25     16     9   \n",
       "25D2 500 nM 24 h  342    98 244   0.40 278     81   197   \n",
       "25D2 750 nM 24 h  397   119 278   0.43 307     96   211   "
      ]
     },
     "metadata": {},
     "output_type": "display_data"
    }
   ],
   "source": [
    "Total3"
   ]
  },
  {
   "cell_type": "code",
   "execution_count": 88,
   "id": "17afbfa4-d0a5-4b28-9535-bcb071e7cec0",
   "metadata": {},
   "outputs": [
    {
     "data": {
      "text/plain": [
       "R version 4.1.2 (2021-11-01)\n",
       "Platform: x86_64-conda-linux-gnu (64-bit)\n",
       "Running under: Rocky Linux 8.5 (Green Obsidian)\n",
       "\n",
       "Matrix products: default\n",
       "BLAS/LAPACK: /research/users/andreha/miniconda3/envs/Mamba-14/lib/libopenblasp-r0.3.18.so\n",
       "\n",
       "locale:\n",
       " [1] LC_CTYPE=C.UTF-8           LC_NUMERIC=C              \n",
       " [3] LC_TIME=en_US.UTF-8        LC_COLLATE=en_US.UTF-8    \n",
       " [5] LC_MONETARY=en_US.UTF-8    LC_MESSAGES=en_US.UTF-8   \n",
       " [7] LC_PAPER=en_US.UTF-8       LC_NAME=C                 \n",
       " [9] LC_ADDRESS=C               LC_TELEPHONE=C            \n",
       "[11] LC_MEASUREMENT=en_US.UTF-8 LC_IDENTIFICATION=C       \n",
       "\n",
       "attached base packages:\n",
       "[1] stats     graphics  grDevices utils     datasets  methods   base     \n",
       "\n",
       "other attached packages:\n",
       " [1] eulerr_6.1.1    reshape2_1.4.4  ggrepel_0.9.1   openxlsx_4.2.5 \n",
       " [5] forcats_0.5.1   stringr_1.4.0   dplyr_1.0.7     purrr_0.3.4    \n",
       " [9] readr_2.1.1     tidyr_1.1.4     tibble_3.1.6    ggplot2_3.3.5  \n",
       "[13] tidyverse_1.3.1 edgeR_3.36.0    limma_3.50.0   \n",
       "\n",
       "loaded via a namespace (and not attached):\n",
       " [1] Rcpp_1.0.7       locfit_1.5-9.4   lubridate_1.8.0  lattice_0.20-45 \n",
       " [5] assertthat_0.2.1 digest_0.6.29    utf8_1.2.2       IRdisplay_1.1   \n",
       " [9] plyr_1.8.6       R6_2.5.1         cellranger_1.1.0 repr_1.1.4      \n",
       "[13] backports_1.4.1  reprex_2.0.1     evaluate_0.14    httr_1.4.2      \n",
       "[17] pillar_1.6.4     rlang_0.4.12     uuid_1.0-3       readxl_1.3.1    \n",
       "[21] rstudioapi_0.13  polyclip_1.10-0  munsell_0.5.0    broom_0.7.11    \n",
       "[25] polylabelr_0.2.0 compiler_4.1.2   modelr_0.1.8     pkgconfig_2.0.3 \n",
       "[29] base64enc_0.1-3  htmltools_0.5.2  tidyselect_1.1.1 fansi_0.4.2     \n",
       "[33] crayon_1.4.2     tzdb_0.2.0       dbplyr_2.1.1     withr_2.4.3     \n",
       "[37] grid_4.1.2       jsonlite_1.7.2   gtable_0.3.0     lifecycle_1.0.1 \n",
       "[41] DBI_1.1.2        magrittr_2.0.1   scales_1.1.1     zip_2.2.0       \n",
       "[45] cli_3.1.0        stringi_1.7.6    fs_1.5.2         xml2_1.3.3      \n",
       "[49] ellipsis_0.3.2   generics_0.1.1   vctrs_0.3.8      IRkernel_1.3    \n",
       "[53] tools_4.1.2      glue_1.6.0       hms_1.1.1        fastmap_1.1.0   \n",
       "[57] colorspace_2.0-2 rvest_1.0.2      pbdZMQ_0.3-6     haven_2.4.3     "
      ]
     },
     "metadata": {},
     "output_type": "display_data"
    }
   ],
   "source": [
    "sessionInfo()"
   ]
  }
 ],
 "metadata": {
  "kernelspec": {
   "display_name": "R",
   "language": "R",
   "name": "ir"
  },
  "language_info": {
   "codemirror_mode": "r",
   "file_extension": ".r",
   "mimetype": "text/x-r-source",
   "name": "R",
   "pygments_lexer": "r",
   "version": "4.1.2"
  }
 },
 "nbformat": 4,
 "nbformat_minor": 5
}
