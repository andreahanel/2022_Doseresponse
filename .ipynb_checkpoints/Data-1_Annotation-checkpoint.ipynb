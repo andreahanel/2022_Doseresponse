{
 "cells": [
  {
   "cell_type": "code",
   "execution_count": 1,
   "metadata": {},
   "outputs": [
    {
     "name": "stderr",
     "output_type": "stream",
     "text": [
      "Warning message:\n",
      "\"package 'dplyr' was built under R version 4.0.3\"\n",
      "\n",
      "Attaching package: 'dplyr'\n",
      "\n",
      "\n",
      "The following objects are masked from 'package:stats':\n",
      "\n",
      "    filter, lag\n",
      "\n",
      "\n",
      "The following objects are masked from 'package:base':\n",
      "\n",
      "    intersect, setdiff, setequal, union\n",
      "\n",
      "\n",
      "Warning message:\n",
      "\"package 'magrittr' was built under R version 4.0.3\"\n"
     ]
    }
   ],
   "source": [
    "library (dplyr)\n",
    "library (magrittr)  \n",
    "library (httr)"
   ]
  },
  {
   "cell_type": "code",
   "execution_count": 2,
   "metadata": {},
   "outputs": [
    {
     "data": {
      "text/html": [
       "'/research/groups/RawdataCarlberg/2022_Doseresponse-final'"
      ],
      "text/latex": [
       "'/research/groups/RawdataCarlberg/2022\\_Doseresponse-final'"
      ],
      "text/markdown": [
       "'/research/groups/RawdataCarlberg/2022_Doseresponse-final'"
      ],
      "text/plain": [
       "[1] \"/research/groups/RawdataCarlberg/2022_Doseresponse-final\""
      ]
     },
     "metadata": {},
     "output_type": "display_data"
    }
   ],
   "source": [
    "getwd()"
   ]
  },
  {
   "cell_type": "code",
   "execution_count": 3,
   "metadata": {},
   "outputs": [
    {
     "data": {
      "text/html": [
       "<table class=\"dataframe\">\n",
       "<caption>A data.frame: 6 × 97</caption>\n",
       "<thead>\n",
       "\t<tr><th></th><th scope=col>gene_id</th><th scope=col>EtOH_x_24h_R1</th><th scope=col>EtOH_x_24h_R2</th><th scope=col>EtOH_x_24h_R3</th><th scope=col>EtOH_x_4h_R1</th><th scope=col>EtOH_x_4h_R2</th><th scope=col>EtOH_x_4h_R3</th><th scope=col>EtOH_x_6h_R1</th><th scope=col>EtOH_x_6h_R2</th><th scope=col>EtOH_x_6h_R3</th><th scope=col>⋯</th><th scope=col>V25D3_100nM_24h_R3</th><th scope=col>V25D3_250nM_24h_R1</th><th scope=col>V25D3_250nM_24h_R2</th><th scope=col>V25D3_250nM_24h_R3</th><th scope=col>V25D3_500nM_24h_R1</th><th scope=col>V25D3_500nM_24h_R2</th><th scope=col>V25D3_500nM_24h_R3</th><th scope=col>V25D3_750nM_24h_R1</th><th scope=col>V25D3_750nM_24h_R2</th><th scope=col>V25D3_750nM_24h_R3</th></tr>\n",
       "\t<tr><th></th><th scope=col>&lt;chr&gt;</th><th scope=col>&lt;dbl&gt;</th><th scope=col>&lt;dbl&gt;</th><th scope=col>&lt;dbl&gt;</th><th scope=col>&lt;dbl&gt;</th><th scope=col>&lt;dbl&gt;</th><th scope=col>&lt;dbl&gt;</th><th scope=col>&lt;dbl&gt;</th><th scope=col>&lt;dbl&gt;</th><th scope=col>&lt;dbl&gt;</th><th scope=col>⋯</th><th scope=col>&lt;dbl&gt;</th><th scope=col>&lt;dbl&gt;</th><th scope=col>&lt;dbl&gt;</th><th scope=col>&lt;dbl&gt;</th><th scope=col>&lt;dbl&gt;</th><th scope=col>&lt;dbl&gt;</th><th scope=col>&lt;dbl&gt;</th><th scope=col>&lt;dbl&gt;</th><th scope=col>&lt;dbl&gt;</th><th scope=col>&lt;dbl&gt;</th></tr>\n",
       "</thead>\n",
       "<tbody>\n",
       "\t<tr><th scope=row>1</th><td>ENSG00000000003</td><td>  10.000</td><td>  4.000</td><td>  1</td><td>   1.000</td><td>   3.000</td><td>  1.000</td><td>   4.000</td><td>  1</td><td>  1.000</td><td>⋯</td><td>  4.000</td><td>  3.000</td><td>  2</td><td>  3</td><td> 10.000</td><td>  3.000</td><td>  3.000</td><td>   9.000</td><td>  8.000</td><td>  3.000</td></tr>\n",
       "\t<tr><th scope=row>2</th><td>ENSG00000000005</td><td>   0.000</td><td>  0.000</td><td>  0</td><td>   0.000</td><td>   0.000</td><td>  0.000</td><td>   0.000</td><td>  0</td><td>  0.000</td><td>⋯</td><td>  0.000</td><td>  0.000</td><td>  0</td><td>  0</td><td>  0.000</td><td>  0.000</td><td>  0.000</td><td>   0.000</td><td>  0.000</td><td>  0.000</td></tr>\n",
       "\t<tr><th scope=row>3</th><td>ENSG00000000419</td><td> 140.999</td><td> 75.000</td><td>123</td><td>  80.000</td><td>  65.000</td><td> 48.000</td><td> 108.999</td><td>101</td><td>133.999</td><td>⋯</td><td> 97.000</td><td> 59.000</td><td> 66</td><td>124</td><td>122.000</td><td> 81.000</td><td>108.000</td><td> 158.000</td><td> 92.000</td><td> 83.000</td></tr>\n",
       "\t<tr><th scope=row>4</th><td>ENSG00000000457</td><td> 268.999</td><td>191.999</td><td>290</td><td> 196.999</td><td> 175.001</td><td>147.000</td><td> 266.000</td><td>310</td><td>319.000</td><td>⋯</td><td>198.999</td><td>167.367</td><td>125</td><td>338</td><td>266.999</td><td>170.000</td><td>270.000</td><td> 399.999</td><td>295.999</td><td>133.000</td></tr>\n",
       "\t<tr><th scope=row>5</th><td>ENSG00000000460</td><td> 120.000</td><td> 77.000</td><td>114</td><td>  42.000</td><td>  45.999</td><td> 43.000</td><td>  87.999</td><td>117</td><td> 90.001</td><td>⋯</td><td> 95.000</td><td> 51.000</td><td> 43</td><td>119</td><td> 86.999</td><td> 71.000</td><td>126.999</td><td> 151.000</td><td> 75.001</td><td> 70.999</td></tr>\n",
       "\t<tr><th scope=row>6</th><td>ENSG00000000938</td><td>1202.000</td><td>662.000</td><td>811</td><td>1064.999</td><td>1000.999</td><td>892.999</td><td>1019.001</td><td>882</td><td>860.000</td><td>⋯</td><td>850.000</td><td>464.000</td><td>362</td><td>989</td><td>941.999</td><td>452.001</td><td>741.001</td><td>1221.000</td><td>803.000</td><td>471.000</td></tr>\n",
       "</tbody>\n",
       "</table>\n"
      ],
      "text/latex": [
       "A data.frame: 6 × 97\n",
       "\\begin{tabular}{r|lllllllllllllllllllll}\n",
       "  & gene\\_id & EtOH\\_x\\_24h\\_R1 & EtOH\\_x\\_24h\\_R2 & EtOH\\_x\\_24h\\_R3 & EtOH\\_x\\_4h\\_R1 & EtOH\\_x\\_4h\\_R2 & EtOH\\_x\\_4h\\_R3 & EtOH\\_x\\_6h\\_R1 & EtOH\\_x\\_6h\\_R2 & EtOH\\_x\\_6h\\_R3 & ⋯ & V25D3\\_100nM\\_24h\\_R3 & V25D3\\_250nM\\_24h\\_R1 & V25D3\\_250nM\\_24h\\_R2 & V25D3\\_250nM\\_24h\\_R3 & V25D3\\_500nM\\_24h\\_R1 & V25D3\\_500nM\\_24h\\_R2 & V25D3\\_500nM\\_24h\\_R3 & V25D3\\_750nM\\_24h\\_R1 & V25D3\\_750nM\\_24h\\_R2 & V25D3\\_750nM\\_24h\\_R3\\\\\n",
       "  & <chr> & <dbl> & <dbl> & <dbl> & <dbl> & <dbl> & <dbl> & <dbl> & <dbl> & <dbl> & ⋯ & <dbl> & <dbl> & <dbl> & <dbl> & <dbl> & <dbl> & <dbl> & <dbl> & <dbl> & <dbl>\\\\\n",
       "\\hline\n",
       "\t1 & ENSG00000000003 &   10.000 &   4.000 &   1 &    1.000 &    3.000 &   1.000 &    4.000 &   1 &   1.000 & ⋯ &   4.000 &   3.000 &   2 &   3 &  10.000 &   3.000 &   3.000 &    9.000 &   8.000 &   3.000\\\\\n",
       "\t2 & ENSG00000000005 &    0.000 &   0.000 &   0 &    0.000 &    0.000 &   0.000 &    0.000 &   0 &   0.000 & ⋯ &   0.000 &   0.000 &   0 &   0 &   0.000 &   0.000 &   0.000 &    0.000 &   0.000 &   0.000\\\\\n",
       "\t3 & ENSG00000000419 &  140.999 &  75.000 & 123 &   80.000 &   65.000 &  48.000 &  108.999 & 101 & 133.999 & ⋯ &  97.000 &  59.000 &  66 & 124 & 122.000 &  81.000 & 108.000 &  158.000 &  92.000 &  83.000\\\\\n",
       "\t4 & ENSG00000000457 &  268.999 & 191.999 & 290 &  196.999 &  175.001 & 147.000 &  266.000 & 310 & 319.000 & ⋯ & 198.999 & 167.367 & 125 & 338 & 266.999 & 170.000 & 270.000 &  399.999 & 295.999 & 133.000\\\\\n",
       "\t5 & ENSG00000000460 &  120.000 &  77.000 & 114 &   42.000 &   45.999 &  43.000 &   87.999 & 117 &  90.001 & ⋯ &  95.000 &  51.000 &  43 & 119 &  86.999 &  71.000 & 126.999 &  151.000 &  75.001 &  70.999\\\\\n",
       "\t6 & ENSG00000000938 & 1202.000 & 662.000 & 811 & 1064.999 & 1000.999 & 892.999 & 1019.001 & 882 & 860.000 & ⋯ & 850.000 & 464.000 & 362 & 989 & 941.999 & 452.001 & 741.001 & 1221.000 & 803.000 & 471.000\\\\\n",
       "\\end{tabular}\n"
      ],
      "text/markdown": [
       "\n",
       "A data.frame: 6 × 97\n",
       "\n",
       "| <!--/--> | gene_id &lt;chr&gt; | EtOH_x_24h_R1 &lt;dbl&gt; | EtOH_x_24h_R2 &lt;dbl&gt; | EtOH_x_24h_R3 &lt;dbl&gt; | EtOH_x_4h_R1 &lt;dbl&gt; | EtOH_x_4h_R2 &lt;dbl&gt; | EtOH_x_4h_R3 &lt;dbl&gt; | EtOH_x_6h_R1 &lt;dbl&gt; | EtOH_x_6h_R2 &lt;dbl&gt; | EtOH_x_6h_R3 &lt;dbl&gt; | ⋯ ⋯ | V25D3_100nM_24h_R3 &lt;dbl&gt; | V25D3_250nM_24h_R1 &lt;dbl&gt; | V25D3_250nM_24h_R2 &lt;dbl&gt; | V25D3_250nM_24h_R3 &lt;dbl&gt; | V25D3_500nM_24h_R1 &lt;dbl&gt; | V25D3_500nM_24h_R2 &lt;dbl&gt; | V25D3_500nM_24h_R3 &lt;dbl&gt; | V25D3_750nM_24h_R1 &lt;dbl&gt; | V25D3_750nM_24h_R2 &lt;dbl&gt; | V25D3_750nM_24h_R3 &lt;dbl&gt; |\n",
       "|---|---|---|---|---|---|---|---|---|---|---|---|---|---|---|---|---|---|---|---|---|---|\n",
       "| 1 | ENSG00000000003 |   10.000 |   4.000 |   1 |    1.000 |    3.000 |   1.000 |    4.000 |   1 |   1.000 | ⋯ |   4.000 |   3.000 |   2 |   3 |  10.000 |   3.000 |   3.000 |    9.000 |   8.000 |   3.000 |\n",
       "| 2 | ENSG00000000005 |    0.000 |   0.000 |   0 |    0.000 |    0.000 |   0.000 |    0.000 |   0 |   0.000 | ⋯ |   0.000 |   0.000 |   0 |   0 |   0.000 |   0.000 |   0.000 |    0.000 |   0.000 |   0.000 |\n",
       "| 3 | ENSG00000000419 |  140.999 |  75.000 | 123 |   80.000 |   65.000 |  48.000 |  108.999 | 101 | 133.999 | ⋯ |  97.000 |  59.000 |  66 | 124 | 122.000 |  81.000 | 108.000 |  158.000 |  92.000 |  83.000 |\n",
       "| 4 | ENSG00000000457 |  268.999 | 191.999 | 290 |  196.999 |  175.001 | 147.000 |  266.000 | 310 | 319.000 | ⋯ | 198.999 | 167.367 | 125 | 338 | 266.999 | 170.000 | 270.000 |  399.999 | 295.999 | 133.000 |\n",
       "| 5 | ENSG00000000460 |  120.000 |  77.000 | 114 |   42.000 |   45.999 |  43.000 |   87.999 | 117 |  90.001 | ⋯ |  95.000 |  51.000 |  43 | 119 |  86.999 |  71.000 | 126.999 |  151.000 |  75.001 |  70.999 |\n",
       "| 6 | ENSG00000000938 | 1202.000 | 662.000 | 811 | 1064.999 | 1000.999 | 892.999 | 1019.001 | 882 | 860.000 | ⋯ | 850.000 | 464.000 | 362 | 989 | 941.999 | 452.001 | 741.001 | 1221.000 | 803.000 | 471.000 |\n",
       "\n"
      ],
      "text/plain": [
       "  gene_id         EtOH_x_24h_R1 EtOH_x_24h_R2 EtOH_x_24h_R3 EtOH_x_4h_R1\n",
       "1 ENSG00000000003   10.000        4.000         1              1.000    \n",
       "2 ENSG00000000005    0.000        0.000         0              0.000    \n",
       "3 ENSG00000000419  140.999       75.000       123             80.000    \n",
       "4 ENSG00000000457  268.999      191.999       290            196.999    \n",
       "5 ENSG00000000460  120.000       77.000       114             42.000    \n",
       "6 ENSG00000000938 1202.000      662.000       811           1064.999    \n",
       "  EtOH_x_4h_R2 EtOH_x_4h_R3 EtOH_x_6h_R1 EtOH_x_6h_R2 EtOH_x_6h_R3 <U+22EF>  \n",
       "1    3.000       1.000         4.000       1            1.000      <U+22EF>\n",
       "2    0.000       0.000         0.000       0            0.000      <U+22EF>\n",
       "3   65.000      48.000       108.999     101          133.999      <U+22EF>\n",
       "4  175.001     147.000       266.000     310          319.000      <U+22EF>\n",
       "5   45.999      43.000        87.999     117           90.001      <U+22EF>\n",
       "6 1000.999     892.999      1019.001     882          860.000      <U+22EF>\n",
       "  V25D3_100nM_24h_R3 V25D3_250nM_24h_R1 V25D3_250nM_24h_R2 V25D3_250nM_24h_R3\n",
       "1   4.000              3.000              2                  3               \n",
       "2   0.000              0.000              0                  0               \n",
       "3  97.000             59.000             66                124               \n",
       "4 198.999            167.367            125                338               \n",
       "5  95.000             51.000             43                119               \n",
       "6 850.000            464.000            362                989               \n",
       "  V25D3_500nM_24h_R1 V25D3_500nM_24h_R2 V25D3_500nM_24h_R3 V25D3_750nM_24h_R1\n",
       "1  10.000              3.000              3.000               9.000          \n",
       "2   0.000              0.000              0.000               0.000          \n",
       "3 122.000             81.000            108.000             158.000          \n",
       "4 266.999            170.000            270.000             399.999          \n",
       "5  86.999             71.000            126.999             151.000          \n",
       "6 941.999            452.001            741.001            1221.000          \n",
       "  V25D3_750nM_24h_R2 V25D3_750nM_24h_R3\n",
       "1   8.000              3.000           \n",
       "2   0.000              0.000           \n",
       "3  92.000             83.000           \n",
       "4 295.999            133.000           \n",
       "5  75.001             70.999           \n",
       "6 803.000            471.000           "
      ]
     },
     "metadata": {},
     "output_type": "display_data"
    }
   ],
   "source": [
    "Salmonresult_CA2021 <- read.table(file = \"../EMBL_06-2021/Alignresults_CA2021_v2/star_salmon/salmon.merged.gene_counts.tsv\", sep = '\\t', header = TRUE)\n",
    "head (Salmonresult_CA2021)"
   ]
  },
  {
   "cell_type": "code",
   "execution_count": 4,
   "metadata": {},
   "outputs": [
    {
     "name": "stdout",
     "output_type": "stream",
     "text": [
      "'data.frame':\t60666 obs. of  97 variables:\n",
      " $ gene_id            : chr  \"ENSG00000000003\" \"ENSG00000000005\" \"ENSG00000000419\" \"ENSG00000000457\" ...\n",
      " $ EtOH_x_24h_R1      : num  10 0 141 269 120 ...\n",
      " $ EtOH_x_24h_R2      : num  4 0 75 192 77 ...\n",
      " $ EtOH_x_24h_R3      : num  1 0 123 290 114 ...\n",
      " $ EtOH_x_4h_R1       : num  1 0 80 197 42 ...\n",
      " $ EtOH_x_4h_R2       : num  3 0 65 175 46 ...\n",
      " $ EtOH_x_4h_R3       : num  1 0 48 147 43 ...\n",
      " $ EtOH_x_6h_R1       : num  4 0 109 266 88 ...\n",
      " $ EtOH_x_6h_R2       : num  1 0 101 310 117 882 31 58 581 436 ...\n",
      " $ EtOH_x_6h_R3       : num  1 0 134 319 90 ...\n",
      " $ EtOH_x_8h_R1       : num  1 0 105 255 77 ...\n",
      " $ EtOH_x_8h_R2       : num  7 0 143 408 110 ...\n",
      " $ EtOH_x_8h_R3       : num  5 0 110 380 98 ...\n",
      " $ V125D2_0.1nM_24h_R1: num  3 0 89 161 69 ...\n",
      " $ V125D2_0.1nM_24h_R2: num  3 0 125 245 125 ...\n",
      " $ V125D2_0.1nM_24h_R3: num  4 0 67 165 68 ...\n",
      " $ V125D2_10nM_24h_R1 : num  4 0 105 285 103 ...\n",
      " $ V125D2_10nM_24h_R2 : num  8 0 148 273 96 ...\n",
      " $ V125D2_10nM_24h_R3 : num  2 0 39 116 46 ...\n",
      " $ V125D2_1nM_24h_R1  : num  3 0 141 282 119 ...\n",
      " $ V125D2_1nM_24h_R2  : num  0 0 157 286 125 ...\n",
      " $ V125D2_1nM_24h_R3  : num  4 0 105 263 90 ...\n",
      " $ V125D3_0.1nM_24h_R1: num  6 0 157 322 139 ...\n",
      " $ V125D3_0.1nM_24h_R2: num  7 0 136 261 112 722 41 174 597 503 ...\n",
      " $ V125D3_0.1nM_24h_R3: num  2 0 123 278 113 787 37 167 595 486 ...\n",
      " $ V125D3_10nM_24h_R1 : num  9 0 142 342 112 901 41 172 413 589 ...\n",
      " $ V125D3_10nM_24h_R2 : num  2 0 31 67 34 235 10 54 75 134 ...\n",
      " $ V125D3_10nM_24h_R3 : num  5 0 76 148 53 ...\n",
      " $ V125D3_10nM_4h_R1  : num  4 0 55 152 36 ...\n",
      " $ V125D3_10nM_4h_R2  : num  1 0 25 105 33 ...\n",
      " $ V125D3_10nM_4h_R3  : num  1 0 51 103 20 596 12 23 151 131 ...\n",
      " $ V125D3_10nM_6h_R1  : num  1 0 70 140 55 780 21 41 260 227 ...\n",
      " $ V125D3_10nM_6h_R2  : num  5 0 56 140 49 ...\n",
      " $ V125D3_10nM_6h_R3  : num  1 0 52 119 43 ...\n",
      " $ V125D3_10nM_8h_R1  : num  6 0 129 395 135 ...\n",
      " $ V125D3_10nM_8h_R2  : num  5 0 118 318 119 ...\n",
      " $ V125D3_10nM_8h_R3  : num  5 0 116 301 108 ...\n",
      " $ V125D3_1nM_24h_R1  : num  7 0 109 280 86 ...\n",
      " $ V125D3_1nM_24h_R2  : num  1 0 72 215 91 ...\n",
      " $ V125D3_1nM_24h_R3  : num  3 0 128 275 97 ...\n",
      " $ V125D3_1nM_4h_R1   : num  2 0 47 136 36 ...\n",
      " $ V125D3_1nM_4h_R2   : num  2 0 54 127 26 ...\n",
      " $ V125D3_1nM_4h_R3   : num  0 0 38 121 27 ...\n",
      " $ V125D3_1nM_6h_R1   : num  2 0 68 181 40 ...\n",
      " $ V125D3_1nM_6h_R2   : num  2 0 40 107 31 752 21 17 262 191 ...\n",
      " $ V125D3_1nM_6h_R3   : num  0 0 40 121 35 ...\n",
      " $ V125D3_1nM_8h_R1   : num  0 0 99 256 92 ...\n",
      " $ V125D3_1nM_8h_R2   : num  1 0 79 261 79 ...\n",
      " $ V125D3_1nM_8h_R3   : num  2 0 58 217 55 ...\n",
      " $ V25D2_1000nM_24h_R1: num  2 0 99 214 105 ...\n",
      " $ V25D2_1000nM_24h_R2: num  5 0 123 304 110 ...\n",
      " $ V25D2_1000nM_24h_R3: num  8 0 135 363 178 ...\n",
      " $ V25D2_1000nM_4h_R1 : num  2 0 27 96 25 ...\n",
      " $ V25D2_1000nM_4h_R2 : num  2 0 45 113 33 766 19 29 170 163 ...\n",
      " $ V25D2_1000nM_4h_R3 : num  4 0 52 156 36 ...\n",
      " $ V25D2_1000nM_6h_R1 : num  3 0 60 141 52 ...\n",
      " $ V25D2_1000nM_6h_R2 : num  1 0 29 74 24 ...\n",
      " $ V25D2_1000nM_6h_R3 : num  0 0 55 133 47 ...\n",
      " $ V25D2_1000nM_8h_R1 : num  2 0 109 358 95 ...\n",
      " $ V25D2_1000nM_8h_R2 : num  8 0 107 335 88 ...\n",
      " $ V25D2_1000nM_8h_R3 : num  4 0 89 214 71 ...\n",
      " $ V25D2_100nM_24h_R1 : num  1 0 183 421 133 ...\n",
      " $ V25D2_100nM_24h_R2 : num  5 0 100 253 107 ...\n",
      " $ V25D2_100nM_24h_R3 : num  1 0 80 213 98 ...\n",
      " $ V25D2_250nM_24h_R1 : num  3 0 103 233 70 ...\n",
      " $ V25D2_250nM_24h_R2 : num  3 0 100 234 68 637 22 160 529 385 ...\n",
      " $ V25D2_250nM_24h_R3 : num  6 0 147 296 136 ...\n",
      " $ V25D2_500nM_24h_R1 : num  9 0 149 303 130 ...\n",
      " $ V25D2_500nM_24h_R2 : num  5 0 182 422 147 ...\n",
      " $ V25D2_500nM_24h_R3 : num  4 0 108 261 93 ...\n",
      " $ V25D2_750nM_24h_R1 : num  5 0 114 265 93 ...\n",
      " $ V25D2_750nM_24h_R2 : num  6 0 125 275 89 ...\n",
      " $ V25D2_750nM_24h_R3 : num  2 0 185 404 163 ...\n",
      " $ V25D3_1000nM_24h_R1: num  7 0 161 351 124 ...\n",
      " $ V25D3_1000nM_24h_R2: num  3 0 107 290 90 ...\n",
      " $ V25D3_1000nM_24h_R3: num  3 0 104 229 76 ...\n",
      " $ V25D3_1000nM_4h_R1 : num  3 0 83 205 62 ...\n",
      " $ V25D3_1000nM_4h_R2 : num  2 0 57 167 37 ...\n",
      " $ V25D3_1000nM_4h_R3 : num  1 0 75 177 44 ...\n",
      " $ V25D3_1000nM_6h_R1 : num  5 0 94 237 84 ...\n",
      " $ V25D3_1000nM_6h_R2 : num  14 0 154 421 139 ...\n",
      " $ V25D3_1000nM_6h_R3 : num  2 0 84 222 60 ...\n",
      " $ V25D3_1000nM_8h_R1 : num  5 0 93 220 75 ...\n",
      " $ V25D3_1000nM_8h_R2 : num  4 0 96 300 78 ...\n",
      " $ V25D3_1000nM_8h_R3 : num  5 0 85 300 96 ...\n",
      " $ V25D3_100nM_24h_R1 : num  11 0 158 389 140 ...\n",
      " $ V25D3_100nM_24h_R2 : num  3 0 110 259 92 ...\n",
      " $ V25D3_100nM_24h_R3 : num  4 0 97 199 95 ...\n",
      " $ V25D3_250nM_24h_R1 : num  3 0 59 167 51 ...\n",
      " $ V25D3_250nM_24h_R2 : num  2 0 66 125 43 ...\n",
      " $ V25D3_250nM_24h_R3 : num  3 0 124 338 119 989 37 191 550 584 ...\n",
      " $ V25D3_500nM_24h_R1 : num  10 0 122 267 87 ...\n",
      " $ V25D3_500nM_24h_R2 : num  3 0 81 170 71 ...\n",
      " $ V25D3_500nM_24h_R3 : num  3 0 108 270 127 ...\n",
      " $ V25D3_750nM_24h_R1 : num  9 0 158 400 151 ...\n",
      " $ V25D3_750nM_24h_R2 : num  8 0 92 296 75 ...\n",
      " $ V25D3_750nM_24h_R3 : num  3 0 83 133 71 ...\n"
     ]
    }
   ],
   "source": [
    "str (Salmonresult_CA2021)"
   ]
  },
  {
   "cell_type": "code",
   "execution_count": 5,
   "metadata": {},
   "outputs": [],
   "source": [
    "#Exclude samples as discussed"
   ]
  },
  {
   "cell_type": "code",
   "execution_count": 6,
   "metadata": {},
   "outputs": [],
   "source": [
    "x = Salmonresult_CA2021 %>%\n",
    "select (., -matches (\"V125D2\")) %>%\n",
    "select (., -matches (\"6h\"))"
   ]
  },
  {
   "cell_type": "markdown",
   "metadata": {},
   "source": [
    "# Biomart"
   ]
  },
  {
   "cell_type": "code",
   "execution_count": 7,
   "metadata": {},
   "outputs": [
    {
     "name": "stdout",
     "output_type": "stream",
     "text": [
      "'data.frame':\t60666 obs. of  73 variables:\n",
      " $ gene_id            : chr  \"ENSG00000000003\" \"ENSG00000000005\" \"ENSG00000000419\" \"ENSG00000000457\" ...\n",
      " $ EtOH_x_24h_R1      : num  10 0 141 269 120 ...\n",
      " $ EtOH_x_24h_R2      : num  4 0 75 192 77 ...\n",
      " $ EtOH_x_24h_R3      : num  1 0 123 290 114 ...\n",
      " $ EtOH_x_4h_R1       : num  1 0 80 197 42 ...\n",
      " $ EtOH_x_4h_R2       : num  3 0 65 175 46 ...\n",
      " $ EtOH_x_4h_R3       : num  1 0 48 147 43 ...\n",
      " $ EtOH_x_8h_R1       : num  1 0 105 255 77 ...\n",
      " $ EtOH_x_8h_R2       : num  7 0 143 408 110 ...\n",
      " $ EtOH_x_8h_R3       : num  5 0 110 380 98 ...\n",
      " $ V125D3_0.1nM_24h_R1: num  6 0 157 322 139 ...\n",
      " $ V125D3_0.1nM_24h_R2: num  7 0 136 261 112 722 41 174 597 503 ...\n",
      " $ V125D3_0.1nM_24h_R3: num  2 0 123 278 113 787 37 167 595 486 ...\n",
      " $ V125D3_10nM_24h_R1 : num  9 0 142 342 112 901 41 172 413 589 ...\n",
      " $ V125D3_10nM_24h_R2 : num  2 0 31 67 34 235 10 54 75 134 ...\n",
      " $ V125D3_10nM_24h_R3 : num  5 0 76 148 53 ...\n",
      " $ V125D3_10nM_4h_R1  : num  4 0 55 152 36 ...\n",
      " $ V125D3_10nM_4h_R2  : num  1 0 25 105 33 ...\n",
      " $ V125D3_10nM_4h_R3  : num  1 0 51 103 20 596 12 23 151 131 ...\n",
      " $ V125D3_10nM_8h_R1  : num  6 0 129 395 135 ...\n",
      " $ V125D3_10nM_8h_R2  : num  5 0 118 318 119 ...\n",
      " $ V125D3_10nM_8h_R3  : num  5 0 116 301 108 ...\n",
      " $ V125D3_1nM_24h_R1  : num  7 0 109 280 86 ...\n",
      " $ V125D3_1nM_24h_R2  : num  1 0 72 215 91 ...\n",
      " $ V125D3_1nM_24h_R3  : num  3 0 128 275 97 ...\n",
      " $ V125D3_1nM_4h_R1   : num  2 0 47 136 36 ...\n",
      " $ V125D3_1nM_4h_R2   : num  2 0 54 127 26 ...\n",
      " $ V125D3_1nM_4h_R3   : num  0 0 38 121 27 ...\n",
      " $ V125D3_1nM_8h_R1   : num  0 0 99 256 92 ...\n",
      " $ V125D3_1nM_8h_R2   : num  1 0 79 261 79 ...\n",
      " $ V125D3_1nM_8h_R3   : num  2 0 58 217 55 ...\n",
      " $ V25D2_1000nM_24h_R1: num  2 0 99 214 105 ...\n",
      " $ V25D2_1000nM_24h_R2: num  5 0 123 304 110 ...\n",
      " $ V25D2_1000nM_24h_R3: num  8 0 135 363 178 ...\n",
      " $ V25D2_1000nM_4h_R1 : num  2 0 27 96 25 ...\n",
      " $ V25D2_1000nM_4h_R2 : num  2 0 45 113 33 766 19 29 170 163 ...\n",
      " $ V25D2_1000nM_4h_R3 : num  4 0 52 156 36 ...\n",
      " $ V25D2_1000nM_8h_R1 : num  2 0 109 358 95 ...\n",
      " $ V25D2_1000nM_8h_R2 : num  8 0 107 335 88 ...\n",
      " $ V25D2_1000nM_8h_R3 : num  4 0 89 214 71 ...\n",
      " $ V25D2_100nM_24h_R1 : num  1 0 183 421 133 ...\n",
      " $ V25D2_100nM_24h_R2 : num  5 0 100 253 107 ...\n",
      " $ V25D2_100nM_24h_R3 : num  1 0 80 213 98 ...\n",
      " $ V25D2_250nM_24h_R1 : num  3 0 103 233 70 ...\n",
      " $ V25D2_250nM_24h_R2 : num  3 0 100 234 68 637 22 160 529 385 ...\n",
      " $ V25D2_250nM_24h_R3 : num  6 0 147 296 136 ...\n",
      " $ V25D2_500nM_24h_R1 : num  9 0 149 303 130 ...\n",
      " $ V25D2_500nM_24h_R2 : num  5 0 182 422 147 ...\n",
      " $ V25D2_500nM_24h_R3 : num  4 0 108 261 93 ...\n",
      " $ V25D2_750nM_24h_R1 : num  5 0 114 265 93 ...\n",
      " $ V25D2_750nM_24h_R2 : num  6 0 125 275 89 ...\n",
      " $ V25D2_750nM_24h_R3 : num  2 0 185 404 163 ...\n",
      " $ V25D3_1000nM_24h_R1: num  7 0 161 351 124 ...\n",
      " $ V25D3_1000nM_24h_R2: num  3 0 107 290 90 ...\n",
      " $ V25D3_1000nM_24h_R3: num  3 0 104 229 76 ...\n",
      " $ V25D3_1000nM_4h_R1 : num  3 0 83 205 62 ...\n",
      " $ V25D3_1000nM_4h_R2 : num  2 0 57 167 37 ...\n",
      " $ V25D3_1000nM_4h_R3 : num  1 0 75 177 44 ...\n",
      " $ V25D3_1000nM_8h_R1 : num  5 0 93 220 75 ...\n",
      " $ V25D3_1000nM_8h_R2 : num  4 0 96 300 78 ...\n",
      " $ V25D3_1000nM_8h_R3 : num  5 0 85 300 96 ...\n",
      " $ V25D3_100nM_24h_R1 : num  11 0 158 389 140 ...\n",
      " $ V25D3_100nM_24h_R2 : num  3 0 110 259 92 ...\n",
      " $ V25D3_100nM_24h_R3 : num  4 0 97 199 95 ...\n",
      " $ V25D3_250nM_24h_R1 : num  3 0 59 167 51 ...\n",
      " $ V25D3_250nM_24h_R2 : num  2 0 66 125 43 ...\n",
      " $ V25D3_250nM_24h_R3 : num  3 0 124 338 119 989 37 191 550 584 ...\n",
      " $ V25D3_500nM_24h_R1 : num  10 0 122 267 87 ...\n",
      " $ V25D3_500nM_24h_R2 : num  3 0 81 170 71 ...\n",
      " $ V25D3_500nM_24h_R3 : num  3 0 108 270 127 ...\n",
      " $ V25D3_750nM_24h_R1 : num  9 0 158 400 151 ...\n",
      " $ V25D3_750nM_24h_R2 : num  8 0 92 296 75 ...\n",
      " $ V25D3_750nM_24h_R3 : num  3 0 83 133 71 ...\n"
     ]
    }
   ],
   "source": [
    "str (x)"
   ]
  },
  {
   "cell_type": "code",
   "execution_count": 8,
   "metadata": {},
   "outputs": [
    {
     "data": {
      "text/html": [
       "<table class=\"dataframe\">\n",
       "<caption>A data.frame: 6 × 73</caption>\n",
       "<thead>\n",
       "\t<tr><th></th><th scope=col>gene_id</th><th scope=col>EtOH_x_24h_R1</th><th scope=col>EtOH_x_24h_R2</th><th scope=col>EtOH_x_24h_R3</th><th scope=col>EtOH_x_4h_R1</th><th scope=col>EtOH_x_4h_R2</th><th scope=col>EtOH_x_4h_R3</th><th scope=col>EtOH_x_8h_R1</th><th scope=col>EtOH_x_8h_R2</th><th scope=col>EtOH_x_8h_R3</th><th scope=col>⋯</th><th scope=col>V25D3_100nM_24h_R3</th><th scope=col>V25D3_250nM_24h_R1</th><th scope=col>V25D3_250nM_24h_R2</th><th scope=col>V25D3_250nM_24h_R3</th><th scope=col>V25D3_500nM_24h_R1</th><th scope=col>V25D3_500nM_24h_R2</th><th scope=col>V25D3_500nM_24h_R3</th><th scope=col>V25D3_750nM_24h_R1</th><th scope=col>V25D3_750nM_24h_R2</th><th scope=col>V25D3_750nM_24h_R3</th></tr>\n",
       "\t<tr><th></th><th scope=col>&lt;chr&gt;</th><th scope=col>&lt;dbl&gt;</th><th scope=col>&lt;dbl&gt;</th><th scope=col>&lt;dbl&gt;</th><th scope=col>&lt;dbl&gt;</th><th scope=col>&lt;dbl&gt;</th><th scope=col>&lt;dbl&gt;</th><th scope=col>&lt;dbl&gt;</th><th scope=col>&lt;dbl&gt;</th><th scope=col>&lt;dbl&gt;</th><th scope=col>⋯</th><th scope=col>&lt;dbl&gt;</th><th scope=col>&lt;dbl&gt;</th><th scope=col>&lt;dbl&gt;</th><th scope=col>&lt;dbl&gt;</th><th scope=col>&lt;dbl&gt;</th><th scope=col>&lt;dbl&gt;</th><th scope=col>&lt;dbl&gt;</th><th scope=col>&lt;dbl&gt;</th><th scope=col>&lt;dbl&gt;</th><th scope=col>&lt;dbl&gt;</th></tr>\n",
       "</thead>\n",
       "<tbody>\n",
       "\t<tr><th scope=row>60661</th><td>ENSG00000288694</td><td> 1.045</td><td> 0.000</td><td> 0.000</td><td> 0.000</td><td>0.000</td><td>0.000</td><td> 0.000</td><td> 1.024</td><td> 1.028</td><td>⋯</td><td> 0.000</td><td> 0.000</td><td>1.283</td><td> 0.000</td><td> 1.000</td><td>1.000</td><td>1.026</td><td> 1.083</td><td>0.000</td><td>0.000</td></tr>\n",
       "\t<tr><th scope=row>60662</th><td>ENSG00000288695</td><td>23.878</td><td>15.359</td><td>19.335</td><td> 4.507</td><td>5.812</td><td>2.877</td><td>16.029</td><td>22.140</td><td>22.446</td><td>⋯</td><td>14.486</td><td>15.289</td><td>5.651</td><td>27.883</td><td>11.665</td><td>8.127</td><td>9.484</td><td>18.932</td><td>7.723</td><td>7.542</td></tr>\n",
       "\t<tr><th scope=row>60663</th><td>ENSG00000288696</td><td> 0.000</td><td> 0.000</td><td> 1.000</td><td> 0.000</td><td>0.000</td><td>0.000</td><td> 0.000</td><td> 0.000</td><td> 0.000</td><td>⋯</td><td> 0.000</td><td> 0.000</td><td>0.000</td><td> 0.000</td><td> 0.000</td><td>0.000</td><td>1.000</td><td> 0.000</td><td>0.000</td><td>1.000</td></tr>\n",
       "\t<tr><th scope=row>60664</th><td>ENSG00000288697</td><td> 0.000</td><td> 0.000</td><td> 0.000</td><td> 0.000</td><td>0.000</td><td>0.000</td><td> 0.000</td><td> 0.000</td><td> 0.000</td><td>⋯</td><td> 0.000</td><td> 0.000</td><td>0.000</td><td> 0.000</td><td> 0.000</td><td>0.000</td><td>0.000</td><td> 0.000</td><td>0.000</td><td>0.000</td></tr>\n",
       "\t<tr><th scope=row>60665</th><td>ENSG00000288698</td><td> 0.000</td><td> 0.000</td><td> 0.000</td><td> 0.000</td><td>0.000</td><td>1.484</td><td> 0.000</td><td> 0.000</td><td>22.194</td><td>⋯</td><td> 0.000</td><td> 0.000</td><td>0.000</td><td> 0.000</td><td> 0.000</td><td>0.000</td><td>0.493</td><td> 0.000</td><td>0.000</td><td>0.000</td></tr>\n",
       "\t<tr><th scope=row>60666</th><td>ENSG00000288699</td><td> 0.000</td><td> 0.000</td><td> 0.000</td><td>34.630</td><td>0.000</td><td>0.000</td><td>30.177</td><td> 0.000</td><td> 0.000</td><td>⋯</td><td> 0.000</td><td> 0.000</td><td>0.000</td><td>27.447</td><td> 0.000</td><td>0.000</td><td>0.000</td><td> 0.000</td><td>0.000</td><td>0.000</td></tr>\n",
       "</tbody>\n",
       "</table>\n"
      ],
      "text/latex": [
       "A data.frame: 6 × 73\n",
       "\\begin{tabular}{r|lllllllllllllllllllll}\n",
       "  & gene\\_id & EtOH\\_x\\_24h\\_R1 & EtOH\\_x\\_24h\\_R2 & EtOH\\_x\\_24h\\_R3 & EtOH\\_x\\_4h\\_R1 & EtOH\\_x\\_4h\\_R2 & EtOH\\_x\\_4h\\_R3 & EtOH\\_x\\_8h\\_R1 & EtOH\\_x\\_8h\\_R2 & EtOH\\_x\\_8h\\_R3 & ⋯ & V25D3\\_100nM\\_24h\\_R3 & V25D3\\_250nM\\_24h\\_R1 & V25D3\\_250nM\\_24h\\_R2 & V25D3\\_250nM\\_24h\\_R3 & V25D3\\_500nM\\_24h\\_R1 & V25D3\\_500nM\\_24h\\_R2 & V25D3\\_500nM\\_24h\\_R3 & V25D3\\_750nM\\_24h\\_R1 & V25D3\\_750nM\\_24h\\_R2 & V25D3\\_750nM\\_24h\\_R3\\\\\n",
       "  & <chr> & <dbl> & <dbl> & <dbl> & <dbl> & <dbl> & <dbl> & <dbl> & <dbl> & <dbl> & ⋯ & <dbl> & <dbl> & <dbl> & <dbl> & <dbl> & <dbl> & <dbl> & <dbl> & <dbl> & <dbl>\\\\\n",
       "\\hline\n",
       "\t60661 & ENSG00000288694 &  1.045 &  0.000 &  0.000 &  0.000 & 0.000 & 0.000 &  0.000 &  1.024 &  1.028 & ⋯ &  0.000 &  0.000 & 1.283 &  0.000 &  1.000 & 1.000 & 1.026 &  1.083 & 0.000 & 0.000\\\\\n",
       "\t60662 & ENSG00000288695 & 23.878 & 15.359 & 19.335 &  4.507 & 5.812 & 2.877 & 16.029 & 22.140 & 22.446 & ⋯ & 14.486 & 15.289 & 5.651 & 27.883 & 11.665 & 8.127 & 9.484 & 18.932 & 7.723 & 7.542\\\\\n",
       "\t60663 & ENSG00000288696 &  0.000 &  0.000 &  1.000 &  0.000 & 0.000 & 0.000 &  0.000 &  0.000 &  0.000 & ⋯ &  0.000 &  0.000 & 0.000 &  0.000 &  0.000 & 0.000 & 1.000 &  0.000 & 0.000 & 1.000\\\\\n",
       "\t60664 & ENSG00000288697 &  0.000 &  0.000 &  0.000 &  0.000 & 0.000 & 0.000 &  0.000 &  0.000 &  0.000 & ⋯ &  0.000 &  0.000 & 0.000 &  0.000 &  0.000 & 0.000 & 0.000 &  0.000 & 0.000 & 0.000\\\\\n",
       "\t60665 & ENSG00000288698 &  0.000 &  0.000 &  0.000 &  0.000 & 0.000 & 1.484 &  0.000 &  0.000 & 22.194 & ⋯ &  0.000 &  0.000 & 0.000 &  0.000 &  0.000 & 0.000 & 0.493 &  0.000 & 0.000 & 0.000\\\\\n",
       "\t60666 & ENSG00000288699 &  0.000 &  0.000 &  0.000 & 34.630 & 0.000 & 0.000 & 30.177 &  0.000 &  0.000 & ⋯ &  0.000 &  0.000 & 0.000 & 27.447 &  0.000 & 0.000 & 0.000 &  0.000 & 0.000 & 0.000\\\\\n",
       "\\end{tabular}\n"
      ],
      "text/markdown": [
       "\n",
       "A data.frame: 6 × 73\n",
       "\n",
       "| <!--/--> | gene_id &lt;chr&gt; | EtOH_x_24h_R1 &lt;dbl&gt; | EtOH_x_24h_R2 &lt;dbl&gt; | EtOH_x_24h_R3 &lt;dbl&gt; | EtOH_x_4h_R1 &lt;dbl&gt; | EtOH_x_4h_R2 &lt;dbl&gt; | EtOH_x_4h_R3 &lt;dbl&gt; | EtOH_x_8h_R1 &lt;dbl&gt; | EtOH_x_8h_R2 &lt;dbl&gt; | EtOH_x_8h_R3 &lt;dbl&gt; | ⋯ ⋯ | V25D3_100nM_24h_R3 &lt;dbl&gt; | V25D3_250nM_24h_R1 &lt;dbl&gt; | V25D3_250nM_24h_R2 &lt;dbl&gt; | V25D3_250nM_24h_R3 &lt;dbl&gt; | V25D3_500nM_24h_R1 &lt;dbl&gt; | V25D3_500nM_24h_R2 &lt;dbl&gt; | V25D3_500nM_24h_R3 &lt;dbl&gt; | V25D3_750nM_24h_R1 &lt;dbl&gt; | V25D3_750nM_24h_R2 &lt;dbl&gt; | V25D3_750nM_24h_R3 &lt;dbl&gt; |\n",
       "|---|---|---|---|---|---|---|---|---|---|---|---|---|---|---|---|---|---|---|---|---|---|\n",
       "| 60661 | ENSG00000288694 |  1.045 |  0.000 |  0.000 |  0.000 | 0.000 | 0.000 |  0.000 |  1.024 |  1.028 | ⋯ |  0.000 |  0.000 | 1.283 |  0.000 |  1.000 | 1.000 | 1.026 |  1.083 | 0.000 | 0.000 |\n",
       "| 60662 | ENSG00000288695 | 23.878 | 15.359 | 19.335 |  4.507 | 5.812 | 2.877 | 16.029 | 22.140 | 22.446 | ⋯ | 14.486 | 15.289 | 5.651 | 27.883 | 11.665 | 8.127 | 9.484 | 18.932 | 7.723 | 7.542 |\n",
       "| 60663 | ENSG00000288696 |  0.000 |  0.000 |  1.000 |  0.000 | 0.000 | 0.000 |  0.000 |  0.000 |  0.000 | ⋯ |  0.000 |  0.000 | 0.000 |  0.000 |  0.000 | 0.000 | 1.000 |  0.000 | 0.000 | 1.000 |\n",
       "| 60664 | ENSG00000288697 |  0.000 |  0.000 |  0.000 |  0.000 | 0.000 | 0.000 |  0.000 |  0.000 |  0.000 | ⋯ |  0.000 |  0.000 | 0.000 |  0.000 |  0.000 | 0.000 | 0.000 |  0.000 | 0.000 | 0.000 |\n",
       "| 60665 | ENSG00000288698 |  0.000 |  0.000 |  0.000 |  0.000 | 0.000 | 1.484 |  0.000 |  0.000 | 22.194 | ⋯ |  0.000 |  0.000 | 0.000 |  0.000 |  0.000 | 0.000 | 0.493 |  0.000 | 0.000 | 0.000 |\n",
       "| 60666 | ENSG00000288699 |  0.000 |  0.000 |  0.000 | 34.630 | 0.000 | 0.000 | 30.177 |  0.000 |  0.000 | ⋯ |  0.000 |  0.000 | 0.000 | 27.447 |  0.000 | 0.000 | 0.000 |  0.000 | 0.000 | 0.000 |\n",
       "\n"
      ],
      "text/plain": [
       "      gene_id         EtOH_x_24h_R1 EtOH_x_24h_R2 EtOH_x_24h_R3 EtOH_x_4h_R1\n",
       "60661 ENSG00000288694  1.045         0.000         0.000         0.000      \n",
       "60662 ENSG00000288695 23.878        15.359        19.335         4.507      \n",
       "60663 ENSG00000288696  0.000         0.000         1.000         0.000      \n",
       "60664 ENSG00000288697  0.000         0.000         0.000         0.000      \n",
       "60665 ENSG00000288698  0.000         0.000         0.000         0.000      \n",
       "60666 ENSG00000288699  0.000         0.000         0.000        34.630      \n",
       "      EtOH_x_4h_R2 EtOH_x_4h_R3 EtOH_x_8h_R1 EtOH_x_8h_R2 EtOH_x_8h_R3 <U+22EF>  \n",
       "60661 0.000        0.000         0.000        1.024        1.028       <U+22EF>\n",
       "60662 5.812        2.877        16.029       22.140       22.446       <U+22EF>\n",
       "60663 0.000        0.000         0.000        0.000        0.000       <U+22EF>\n",
       "60664 0.000        0.000         0.000        0.000        0.000       <U+22EF>\n",
       "60665 0.000        1.484         0.000        0.000       22.194       <U+22EF>\n",
       "60666 0.000        0.000        30.177        0.000        0.000       <U+22EF>\n",
       "      V25D3_100nM_24h_R3 V25D3_250nM_24h_R1 V25D3_250nM_24h_R2\n",
       "60661  0.000              0.000             1.283             \n",
       "60662 14.486             15.289             5.651             \n",
       "60663  0.000              0.000             0.000             \n",
       "60664  0.000              0.000             0.000             \n",
       "60665  0.000              0.000             0.000             \n",
       "60666  0.000              0.000             0.000             \n",
       "      V25D3_250nM_24h_R3 V25D3_500nM_24h_R1 V25D3_500nM_24h_R2\n",
       "60661  0.000              1.000             1.000             \n",
       "60662 27.883             11.665             8.127             \n",
       "60663  0.000              0.000             0.000             \n",
       "60664  0.000              0.000             0.000             \n",
       "60665  0.000              0.000             0.000             \n",
       "60666 27.447              0.000             0.000             \n",
       "      V25D3_500nM_24h_R3 V25D3_750nM_24h_R1 V25D3_750nM_24h_R2\n",
       "60661 1.026               1.083             0.000             \n",
       "60662 9.484              18.932             7.723             \n",
       "60663 1.000               0.000             0.000             \n",
       "60664 0.000               0.000             0.000             \n",
       "60665 0.493               0.000             0.000             \n",
       "60666 0.000               0.000             0.000             \n",
       "      V25D3_750nM_24h_R3\n",
       "60661 0.000             \n",
       "60662 7.542             \n",
       "60663 1.000             \n",
       "60664 0.000             \n",
       "60665 0.000             \n",
       "60666 0.000             "
      ]
     },
     "metadata": {},
     "output_type": "display_data"
    }
   ],
   "source": [
    "tail (x)"
   ]
  },
  {
   "cell_type": "code",
   "execution_count": 9,
   "metadata": {},
   "outputs": [
    {
     "data": {
      "text/html": [
       "<table class=\"dataframe\">\n",
       "<caption>A data.frame: 6 × 74</caption>\n",
       "<thead>\n",
       "\t<tr><th></th><th scope=col>gene_id</th><th scope=col>EtOH_x_24h_R1</th><th scope=col>EtOH_x_24h_R2</th><th scope=col>EtOH_x_24h_R3</th><th scope=col>EtOH_x_4h_R1</th><th scope=col>EtOH_x_4h_R2</th><th scope=col>EtOH_x_4h_R3</th><th scope=col>EtOH_x_8h_R1</th><th scope=col>EtOH_x_8h_R2</th><th scope=col>EtOH_x_8h_R3</th><th scope=col>⋯</th><th scope=col>V25D3_250nM_24h_R1</th><th scope=col>V25D3_250nM_24h_R2</th><th scope=col>V25D3_250nM_24h_R3</th><th scope=col>V25D3_500nM_24h_R1</th><th scope=col>V25D3_500nM_24h_R2</th><th scope=col>V25D3_500nM_24h_R3</th><th scope=col>V25D3_750nM_24h_R1</th><th scope=col>V25D3_750nM_24h_R2</th><th scope=col>V25D3_750nM_24h_R3</th><th scope=col>Avgexpression</th></tr>\n",
       "\t<tr><th></th><th scope=col>&lt;chr&gt;</th><th scope=col>&lt;dbl&gt;</th><th scope=col>&lt;dbl&gt;</th><th scope=col>&lt;dbl&gt;</th><th scope=col>&lt;dbl&gt;</th><th scope=col>&lt;dbl&gt;</th><th scope=col>&lt;dbl&gt;</th><th scope=col>&lt;dbl&gt;</th><th scope=col>&lt;dbl&gt;</th><th scope=col>&lt;dbl&gt;</th><th scope=col>⋯</th><th scope=col>&lt;dbl&gt;</th><th scope=col>&lt;dbl&gt;</th><th scope=col>&lt;dbl&gt;</th><th scope=col>&lt;dbl&gt;</th><th scope=col>&lt;dbl&gt;</th><th scope=col>&lt;dbl&gt;</th><th scope=col>&lt;dbl&gt;</th><th scope=col>&lt;dbl&gt;</th><th scope=col>&lt;dbl&gt;</th><th scope=col>&lt;dbl&gt;</th></tr>\n",
       "</thead>\n",
       "<tbody>\n",
       "\t<tr><th scope=row>1</th><td>ENSG00000251562</td><td>247628.00</td><td>159590.00</td><td>240717.00</td><td>171888.00</td><td>162884.00</td><td>123218.00</td><td>195379.00</td><td>286562.00</td><td>258203.00</td><td>⋯</td><td>121444.00</td><td>103015.00</td><td>259189.00</td><td>263243.00</td><td>151057.00</td><td>251254.00</td><td>365694.00</td><td>204136.00</td><td>127747.00</td><td>212013.11</td></tr>\n",
       "\t<tr><th scope=row>2</th><td>ENSG00000210082</td><td>158156.96</td><td>103865.96</td><td>151443.69</td><td>299272.80</td><td>205643.92</td><td>400707.58</td><td> 41704.98</td><td> 61994.79</td><td> 33768.97</td><td>⋯</td><td> 79538.00</td><td> 96818.91</td><td> 64347.94</td><td>148453.72</td><td> 88256.86</td><td>105344.85</td><td> 59665.00</td><td>103010.93</td><td> 78947.95</td><td>133324.63</td></tr>\n",
       "\t<tr><th scope=row>3</th><td>ENSG00000211459</td><td> 87422.00</td><td> 57156.00</td><td> 89667.00</td><td>189384.00</td><td>129230.00</td><td>240999.00</td><td> 21010.00</td><td> 31685.00</td><td> 13193.00</td><td>⋯</td><td> 39802.00</td><td> 50354.00</td><td> 31536.00</td><td> 83173.00</td><td> 49873.00</td><td> 50338.00</td><td> 19205.00</td><td> 45653.00</td><td> 43190.00</td><td> 71793.35</td></tr>\n",
       "\t<tr><th scope=row>4</th><td>ENSG00000198804</td><td> 63166.97</td><td> 40236.55</td><td> 54058.12</td><td> 40721.42</td><td> 32647.28</td><td> 29320.93</td><td> 38582.90</td><td> 56344.89</td><td> 58769.42</td><td>⋯</td><td> 29494.71</td><td> 25618.49</td><td> 72231.45</td><td> 69361.02</td><td> 36392.89</td><td> 54959.38</td><td> 85341.69</td><td> 50650.27</td><td> 30885.59</td><td> 49324.54</td></tr>\n",
       "\t<tr><th scope=row>5</th><td>ENSG00000156508</td><td> 60775.70</td><td> 36756.48</td><td> 46582.43</td><td> 37846.41</td><td> 35743.96</td><td> 29848.29</td><td> 41801.00</td><td> 61261.94</td><td> 67442.56</td><td>⋯</td><td> 25408.75</td><td> 22842.85</td><td> 57377.42</td><td> 55799.39</td><td> 29249.54</td><td> 45732.44</td><td> 70410.79</td><td> 48950.20</td><td> 23126.15</td><td> 44368.09</td></tr>\n",
       "\t<tr><th scope=row>6</th><td>ENSG00000202198</td><td> 79288.06</td><td> 39570.85</td><td> 45137.22</td><td> 22140.05</td><td> 21505.51</td><td> 18869.93</td><td> 20668.33</td><td> 30631.40</td><td> 34076.68</td><td>⋯</td><td> 21204.19</td><td> 20327.00</td><td> 58698.60</td><td> 42222.44</td><td> 29108.19</td><td> 39170.94</td><td> 55999.12</td><td> 40496.07</td><td> 21371.16</td><td> 34032.92</td></tr>\n",
       "</tbody>\n",
       "</table>\n"
      ],
      "text/latex": [
       "A data.frame: 6 × 74\n",
       "\\begin{tabular}{r|lllllllllllllllllllll}\n",
       "  & gene\\_id & EtOH\\_x\\_24h\\_R1 & EtOH\\_x\\_24h\\_R2 & EtOH\\_x\\_24h\\_R3 & EtOH\\_x\\_4h\\_R1 & EtOH\\_x\\_4h\\_R2 & EtOH\\_x\\_4h\\_R3 & EtOH\\_x\\_8h\\_R1 & EtOH\\_x\\_8h\\_R2 & EtOH\\_x\\_8h\\_R3 & ⋯ & V25D3\\_250nM\\_24h\\_R1 & V25D3\\_250nM\\_24h\\_R2 & V25D3\\_250nM\\_24h\\_R3 & V25D3\\_500nM\\_24h\\_R1 & V25D3\\_500nM\\_24h\\_R2 & V25D3\\_500nM\\_24h\\_R3 & V25D3\\_750nM\\_24h\\_R1 & V25D3\\_750nM\\_24h\\_R2 & V25D3\\_750nM\\_24h\\_R3 & Avgexpression\\\\\n",
       "  & <chr> & <dbl> & <dbl> & <dbl> & <dbl> & <dbl> & <dbl> & <dbl> & <dbl> & <dbl> & ⋯ & <dbl> & <dbl> & <dbl> & <dbl> & <dbl> & <dbl> & <dbl> & <dbl> & <dbl> & <dbl>\\\\\n",
       "\\hline\n",
       "\t1 & ENSG00000251562 & 247628.00 & 159590.00 & 240717.00 & 171888.00 & 162884.00 & 123218.00 & 195379.00 & 286562.00 & 258203.00 & ⋯ & 121444.00 & 103015.00 & 259189.00 & 263243.00 & 151057.00 & 251254.00 & 365694.00 & 204136.00 & 127747.00 & 212013.11\\\\\n",
       "\t2 & ENSG00000210082 & 158156.96 & 103865.96 & 151443.69 & 299272.80 & 205643.92 & 400707.58 &  41704.98 &  61994.79 &  33768.97 & ⋯ &  79538.00 &  96818.91 &  64347.94 & 148453.72 &  88256.86 & 105344.85 &  59665.00 & 103010.93 &  78947.95 & 133324.63\\\\\n",
       "\t3 & ENSG00000211459 &  87422.00 &  57156.00 &  89667.00 & 189384.00 & 129230.00 & 240999.00 &  21010.00 &  31685.00 &  13193.00 & ⋯ &  39802.00 &  50354.00 &  31536.00 &  83173.00 &  49873.00 &  50338.00 &  19205.00 &  45653.00 &  43190.00 &  71793.35\\\\\n",
       "\t4 & ENSG00000198804 &  63166.97 &  40236.55 &  54058.12 &  40721.42 &  32647.28 &  29320.93 &  38582.90 &  56344.89 &  58769.42 & ⋯ &  29494.71 &  25618.49 &  72231.45 &  69361.02 &  36392.89 &  54959.38 &  85341.69 &  50650.27 &  30885.59 &  49324.54\\\\\n",
       "\t5 & ENSG00000156508 &  60775.70 &  36756.48 &  46582.43 &  37846.41 &  35743.96 &  29848.29 &  41801.00 &  61261.94 &  67442.56 & ⋯ &  25408.75 &  22842.85 &  57377.42 &  55799.39 &  29249.54 &  45732.44 &  70410.79 &  48950.20 &  23126.15 &  44368.09\\\\\n",
       "\t6 & ENSG00000202198 &  79288.06 &  39570.85 &  45137.22 &  22140.05 &  21505.51 &  18869.93 &  20668.33 &  30631.40 &  34076.68 & ⋯ &  21204.19 &  20327.00 &  58698.60 &  42222.44 &  29108.19 &  39170.94 &  55999.12 &  40496.07 &  21371.16 &  34032.92\\\\\n",
       "\\end{tabular}\n"
      ],
      "text/markdown": [
       "\n",
       "A data.frame: 6 × 74\n",
       "\n",
       "| <!--/--> | gene_id &lt;chr&gt; | EtOH_x_24h_R1 &lt;dbl&gt; | EtOH_x_24h_R2 &lt;dbl&gt; | EtOH_x_24h_R3 &lt;dbl&gt; | EtOH_x_4h_R1 &lt;dbl&gt; | EtOH_x_4h_R2 &lt;dbl&gt; | EtOH_x_4h_R3 &lt;dbl&gt; | EtOH_x_8h_R1 &lt;dbl&gt; | EtOH_x_8h_R2 &lt;dbl&gt; | EtOH_x_8h_R3 &lt;dbl&gt; | ⋯ ⋯ | V25D3_250nM_24h_R1 &lt;dbl&gt; | V25D3_250nM_24h_R2 &lt;dbl&gt; | V25D3_250nM_24h_R3 &lt;dbl&gt; | V25D3_500nM_24h_R1 &lt;dbl&gt; | V25D3_500nM_24h_R2 &lt;dbl&gt; | V25D3_500nM_24h_R3 &lt;dbl&gt; | V25D3_750nM_24h_R1 &lt;dbl&gt; | V25D3_750nM_24h_R2 &lt;dbl&gt; | V25D3_750nM_24h_R3 &lt;dbl&gt; | Avgexpression &lt;dbl&gt; |\n",
       "|---|---|---|---|---|---|---|---|---|---|---|---|---|---|---|---|---|---|---|---|---|---|\n",
       "| 1 | ENSG00000251562 | 247628.00 | 159590.00 | 240717.00 | 171888.00 | 162884.00 | 123218.00 | 195379.00 | 286562.00 | 258203.00 | ⋯ | 121444.00 | 103015.00 | 259189.00 | 263243.00 | 151057.00 | 251254.00 | 365694.00 | 204136.00 | 127747.00 | 212013.11 |\n",
       "| 2 | ENSG00000210082 | 158156.96 | 103865.96 | 151443.69 | 299272.80 | 205643.92 | 400707.58 |  41704.98 |  61994.79 |  33768.97 | ⋯ |  79538.00 |  96818.91 |  64347.94 | 148453.72 |  88256.86 | 105344.85 |  59665.00 | 103010.93 |  78947.95 | 133324.63 |\n",
       "| 3 | ENSG00000211459 |  87422.00 |  57156.00 |  89667.00 | 189384.00 | 129230.00 | 240999.00 |  21010.00 |  31685.00 |  13193.00 | ⋯ |  39802.00 |  50354.00 |  31536.00 |  83173.00 |  49873.00 |  50338.00 |  19205.00 |  45653.00 |  43190.00 |  71793.35 |\n",
       "| 4 | ENSG00000198804 |  63166.97 |  40236.55 |  54058.12 |  40721.42 |  32647.28 |  29320.93 |  38582.90 |  56344.89 |  58769.42 | ⋯ |  29494.71 |  25618.49 |  72231.45 |  69361.02 |  36392.89 |  54959.38 |  85341.69 |  50650.27 |  30885.59 |  49324.54 |\n",
       "| 5 | ENSG00000156508 |  60775.70 |  36756.48 |  46582.43 |  37846.41 |  35743.96 |  29848.29 |  41801.00 |  61261.94 |  67442.56 | ⋯ |  25408.75 |  22842.85 |  57377.42 |  55799.39 |  29249.54 |  45732.44 |  70410.79 |  48950.20 |  23126.15 |  44368.09 |\n",
       "| 6 | ENSG00000202198 |  79288.06 |  39570.85 |  45137.22 |  22140.05 |  21505.51 |  18869.93 |  20668.33 |  30631.40 |  34076.68 | ⋯ |  21204.19 |  20327.00 |  58698.60 |  42222.44 |  29108.19 |  39170.94 |  55999.12 |  40496.07 |  21371.16 |  34032.92 |\n",
       "\n"
      ],
      "text/plain": [
       "  gene_id         EtOH_x_24h_R1 EtOH_x_24h_R2 EtOH_x_24h_R3 EtOH_x_4h_R1\n",
       "1 ENSG00000251562 247628.00     159590.00     240717.00     171888.00   \n",
       "2 ENSG00000210082 158156.96     103865.96     151443.69     299272.80   \n",
       "3 ENSG00000211459  87422.00      57156.00      89667.00     189384.00   \n",
       "4 ENSG00000198804  63166.97      40236.55      54058.12      40721.42   \n",
       "5 ENSG00000156508  60775.70      36756.48      46582.43      37846.41   \n",
       "6 ENSG00000202198  79288.06      39570.85      45137.22      22140.05   \n",
       "  EtOH_x_4h_R2 EtOH_x_4h_R3 EtOH_x_8h_R1 EtOH_x_8h_R2 EtOH_x_8h_R3 <U+22EF>  \n",
       "1 162884.00    123218.00    195379.00    286562.00    258203.00    <U+22EF>\n",
       "2 205643.92    400707.58     41704.98     61994.79     33768.97    <U+22EF>\n",
       "3 129230.00    240999.00     21010.00     31685.00     13193.00    <U+22EF>\n",
       "4  32647.28     29320.93     38582.90     56344.89     58769.42    <U+22EF>\n",
       "5  35743.96     29848.29     41801.00     61261.94     67442.56    <U+22EF>\n",
       "6  21505.51     18869.93     20668.33     30631.40     34076.68    <U+22EF>\n",
       "  V25D3_250nM_24h_R1 V25D3_250nM_24h_R2 V25D3_250nM_24h_R3 V25D3_500nM_24h_R1\n",
       "1 121444.00          103015.00          259189.00          263243.00         \n",
       "2  79538.00           96818.91           64347.94          148453.72         \n",
       "3  39802.00           50354.00           31536.00           83173.00         \n",
       "4  29494.71           25618.49           72231.45           69361.02         \n",
       "5  25408.75           22842.85           57377.42           55799.39         \n",
       "6  21204.19           20327.00           58698.60           42222.44         \n",
       "  V25D3_500nM_24h_R2 V25D3_500nM_24h_R3 V25D3_750nM_24h_R1 V25D3_750nM_24h_R2\n",
       "1 151057.00          251254.00          365694.00          204136.00         \n",
       "2  88256.86          105344.85           59665.00          103010.93         \n",
       "3  49873.00           50338.00           19205.00           45653.00         \n",
       "4  36392.89           54959.38           85341.69           50650.27         \n",
       "5  29249.54           45732.44           70410.79           48950.20         \n",
       "6  29108.19           39170.94           55999.12           40496.07         \n",
       "  V25D3_750nM_24h_R3 Avgexpression\n",
       "1 127747.00          212013.11    \n",
       "2  78947.95          133324.63    \n",
       "3  43190.00           71793.35    \n",
       "4  30885.59           49324.54    \n",
       "5  23126.15           44368.09    \n",
       "6  21371.16           34032.92    "
      ]
     },
     "metadata": {},
     "output_type": "display_data"
    }
   ],
   "source": [
    "# if you have opened Biomart, dplyr:select is conficlitng! do before biomart!\n",
    "xarr <- x %>%\n",
    "  dplyr::mutate (Avgexpression = rowMeans(select(.,EtOH_x_24h_R1:V25D3_750nM_24h_R3))) %>% \n",
    "  arrange(desc(Avgexpression))\n",
    "\n",
    "head(xarr)"
   ]
  },
  {
   "cell_type": "code",
   "execution_count": 10,
   "metadata": {},
   "outputs": [
    {
     "name": "stdout",
     "output_type": "stream",
     "text": [
      "'data.frame':\t60666 obs. of  74 variables:\n",
      " $ gene_id            : chr  \"ENSG00000251562\" \"ENSG00000210082\" \"ENSG00000211459\" \"ENSG00000198804\" ...\n",
      " $ EtOH_x_24h_R1      : num  247628 158157 87422 63167 60776 ...\n",
      " $ EtOH_x_24h_R2      : num  159590 103866 57156 40237 36756 ...\n",
      " $ EtOH_x_24h_R3      : num  240717 151444 89667 54058 46582 ...\n",
      " $ EtOH_x_4h_R1       : num  171888 299273 189384 40721 37846 ...\n",
      " $ EtOH_x_4h_R2       : num  162884 205644 129230 32647 35744 ...\n",
      " $ EtOH_x_4h_R3       : num  123218 400708 240999 29321 29848 ...\n",
      " $ EtOH_x_8h_R1       : num  195379 41705 21010 38583 41801 ...\n",
      " $ EtOH_x_8h_R2       : num  286562 61995 31685 56345 61262 ...\n",
      " $ EtOH_x_8h_R3       : num  258203 33769 13193 58769 67443 ...\n",
      " $ V125D3_0.1nM_24h_R1: num  306013 90659 41042 60051 57886 ...\n",
      " $ V125D3_0.1nM_24h_R2: num  244911 83158 39533 46455 47362 ...\n",
      " $ V125D3_0.1nM_24h_R3: num  245661 46939 18247 51987 47444 ...\n",
      " $ V125D3_10nM_24h_R1 : num  271236 84285 47918 76947 53800 ...\n",
      " $ V125D3_10nM_24h_R2 : num  65196 352416 207088 21443 12813 ...\n",
      " $ V125D3_10nM_24h_R3 : num  154010 79527 45657 35571 25460 ...\n",
      " $ V125D3_10nM_4h_R1  : num  153353 348919 194523 31032 33085 ...\n",
      " $ V125D3_10nM_4h_R2  : num  91165 290086 167767 22101 18402 ...\n",
      " $ V125D3_10nM_4h_R3  : num  97865 238703 131669 22680 20632 ...\n",
      " $ V125D3_10nM_8h_R1  : num  313055 67108 35188 75734 53830 ...\n",
      " $ V125D3_10nM_8h_R2  : num  268375 46998 24860 59714 48123 ...\n",
      " $ V125D3_10nM_8h_R3  : num  258150 31071 12314 51940 53822 ...\n",
      " $ V125D3_1nM_24h_R1  : num  202916 44616 17457 48276 48038 ...\n",
      " $ V125D3_1nM_24h_R2  : num  164143 107621 61821 45172 43757 ...\n",
      " $ V125D3_1nM_24h_R3  : num  252889 53683 34044 71537 49072 ...\n",
      " $ V125D3_1nM_4h_R1   : num  126058 363681 199221 27725 24252 ...\n",
      " $ V125D3_1nM_4h_R2   : num  135989 295469 161704 25015 25773 ...\n",
      " $ V125D3_1nM_4h_R3   : num  108683 418938 212235 31404 21013 ...\n",
      " $ V125D3_1nM_8h_R1   : num  243461 177119 102363 59711 51029 ...\n",
      " $ V125D3_1nM_8h_R2   : num  186651 70122 39321 43778 45076 ...\n",
      " $ V125D3_1nM_8h_R3   : num  143407 74418 46742 30565 30933 ...\n",
      " $ V25D2_1000nM_24h_R1: num  205924 116760 59790 47468 39266 ...\n",
      " $ V25D2_1000nM_24h_R2: num  280133 97051 50082 64225 49761 ...\n",
      " $ V25D2_1000nM_24h_R3: num  335660 159698 73070 83474 69395 ...\n",
      " $ V25D2_1000nM_4h_R1 : num  79005 277603 164506 17654 17956 ...\n",
      " $ V25D2_1000nM_4h_R2 : num  127317 239214 143348 25117 27339 ...\n",
      " $ V25D2_1000nM_4h_R3 : num  146904 347984 201591 25361 30690 ...\n",
      " $ V25D2_1000nM_8h_R1 : num  242836 58812 37739 69064 52951 ...\n",
      " $ V25D2_1000nM_8h_R2 : num  250145 80787 39480 60629 63558 ...\n",
      " $ V25D2_1000nM_8h_R3 : num  192408 120821 68874 46931 48290 ...\n",
      " $ V25D2_100nM_24h_R1 : num  322767 113223 45305 71550 69632 ...\n",
      " $ V25D2_100nM_24h_R2 : num  205550 73297 31561 45061 41921 ...\n",
      " $ V25D2_100nM_24h_R3 : num  195634 72352 30635 42744 39051 ...\n",
      " $ V25D2_250nM_24h_R1 : num  191021 60957 27048 42517 38852 ...\n",
      " $ V25D2_250nM_24h_R2 : num  186010 65342 30302 42912 39218 ...\n",
      " $ V25D2_250nM_24h_R3 : num  289115 83542 30242 64147 59343 ...\n",
      " $ V25D2_500nM_24h_R1 : num  284369 76818 28175 61814 54716 ...\n",
      " $ V25D2_500nM_24h_R2 : num  379198 92002 38547 83272 70045 ...\n",
      " $ V25D2_500nM_24h_R3 : num  223655 113516 56191 51835 44513 ...\n",
      " $ V25D2_750nM_24h_R1 : num  205635 89390 38924 50141 48321 ...\n",
      " $ V25D2_750nM_24h_R2 : num  204756 69786 32683 49164 41896 ...\n",
      " $ V25D2_750nM_24h_R3 : num  334344 93352 36334 84853 74628 ...\n",
      " $ V25D3_1000nM_24h_R1: num  326347 61590 23972 74412 56298 ...\n",
      " $ V25D3_1000nM_24h_R2: num  221068 81285 32298 52574 48065 ...\n",
      " $ V25D3_1000nM_24h_R3: num  223419 133669 80213 53451 42327 ...\n",
      " $ V25D3_1000nM_4h_R1 : num  213683 355760 220795 48527 44162 ...\n",
      " $ V25D3_1000nM_4h_R2 : num  186129 198551 121084 36352 36742 ...\n",
      " $ V25D3_1000nM_4h_R3 : num  185354 179250 107126 34470 37582 ...\n",
      " $ V25D3_1000nM_8h_R1 : num  188504 98120 52348 50227 41331 ...\n",
      " $ V25D3_1000nM_8h_R2 : num  214094 33876 12010 44484 47721 ...\n",
      " $ V25D3_1000nM_8h_R3 : num  214669 31403 11021 43228 45978 ...\n",
      " $ V25D3_100nM_24h_R1 : num  280785 81998 27035 69559 71092 ...\n",
      " $ V25D3_100nM_24h_R2 : num  211493 89325 46401 54175 50214 ...\n",
      " $ V25D3_100nM_24h_R3 : num  190978 105764 56807 52352 43091 ...\n",
      " $ V25D3_250nM_24h_R1 : num  121444 79538 39802 29495 25409 ...\n",
      " $ V25D3_250nM_24h_R2 : num  103015 96819 50354 25618 22843 ...\n",
      " $ V25D3_250nM_24h_R3 : num  259189 64348 31536 72231 57377 ...\n",
      " $ V25D3_500nM_24h_R1 : num  263243 148454 83173 69361 55799 ...\n",
      " $ V25D3_500nM_24h_R2 : num  151057 88257 49873 36393 29250 ...\n",
      " $ V25D3_500nM_24h_R3 : num  251254 105345 50338 54959 45732 ...\n",
      " $ V25D3_750nM_24h_R1 : num  365694 59665 19205 85342 70411 ...\n",
      " $ V25D3_750nM_24h_R2 : num  204136 103011 45653 50650 48950 ...\n",
      " $ V25D3_750nM_24h_R3 : num  127747 78948 43190 30886 23126 ...\n",
      " $ Avgexpression      : num  212013 133325 71793 49325 44368 ...\n"
     ]
    }
   ],
   "source": [
    "str (xarr)"
   ]
  },
  {
   "cell_type": "code",
   "execution_count": 11,
   "metadata": {},
   "outputs": [],
   "source": [
    "geneid <- xarr$gene_id  #gene_id"
   ]
  },
  {
   "cell_type": "code",
   "execution_count": 12,
   "metadata": {},
   "outputs": [],
   "source": [
    "library(httr)\n",
    "#https://www.r-bloggers.com/2016/09/fixing-peer-certificate-cannot-be-authenticated/\n",
    "set_config(config(ssl_verifypeer = 0L))"
   ]
  },
  {
   "cell_type": "code",
   "execution_count": 13,
   "metadata": {},
   "outputs": [],
   "source": [
    "#listEnsemblArchives()"
   ]
  },
  {
   "cell_type": "code",
   "execution_count": 14,
   "metadata": {},
   "outputs": [
    {
     "name": "stderr",
     "output_type": "stream",
     "text": [
      "Warning message:\n",
      "\"package 'biomaRt' was built under R version 4.0.3\"\n"
     ]
    }
   ],
   "source": [
    "#when Biomart is loaded, dplyr::select makes problems!\n",
    "library (biomaRt)\n",
    "\n",
    "mart <- useEnsembl(biomart = \"ensembl\", \n",
    "                   dataset = \"hsapiens_gene_ensembl\", \n",
    "                  # mirror = \"uswest\", \n",
    "                   version = 104)  #uswest #asia mirrors"
   ]
  },
  {
   "cell_type": "code",
   "execution_count": 15,
   "metadata": {},
   "outputs": [
    {
     "data": {
      "text/plain": [
       "[1] '2.46.0'"
      ]
     },
     "metadata": {},
     "output_type": "display_data"
    },
    {
     "data": {
      "text/html": [
       "<table class=\"dataframe\">\n",
       "<caption>A data.frame: 4 × 2</caption>\n",
       "<thead>\n",
       "\t<tr><th scope=col>biomart</th><th scope=col>version</th></tr>\n",
       "\t<tr><th scope=col>&lt;chr&gt;</th><th scope=col>&lt;chr&gt;</th></tr>\n",
       "</thead>\n",
       "<tbody>\n",
       "\t<tr><td>ENSEMBL_MART_ENSEMBL</td><td>Ensembl Genes 105     </td></tr>\n",
       "\t<tr><td>ENSEMBL_MART_MOUSE  </td><td>Mouse strains 105     </td></tr>\n",
       "\t<tr><td>ENSEMBL_MART_SNP    </td><td>Ensembl Variation 105 </td></tr>\n",
       "\t<tr><td>ENSEMBL_MART_FUNCGEN</td><td>Ensembl Regulation 105</td></tr>\n",
       "</tbody>\n",
       "</table>\n"
      ],
      "text/latex": [
       "A data.frame: 4 × 2\n",
       "\\begin{tabular}{ll}\n",
       " biomart & version\\\\\n",
       " <chr> & <chr>\\\\\n",
       "\\hline\n",
       "\t ENSEMBL\\_MART\\_ENSEMBL & Ensembl Genes 105     \\\\\n",
       "\t ENSEMBL\\_MART\\_MOUSE   & Mouse strains 105     \\\\\n",
       "\t ENSEMBL\\_MART\\_SNP     & Ensembl Variation 105 \\\\\n",
       "\t ENSEMBL\\_MART\\_FUNCGEN & Ensembl Regulation 105\\\\\n",
       "\\end{tabular}\n"
      ],
      "text/markdown": [
       "\n",
       "A data.frame: 4 × 2\n",
       "\n",
       "| biomart &lt;chr&gt; | version &lt;chr&gt; |\n",
       "|---|---|\n",
       "| ENSEMBL_MART_ENSEMBL | Ensembl Genes 105      |\n",
       "| ENSEMBL_MART_MOUSE   | Mouse strains 105      |\n",
       "| ENSEMBL_MART_SNP     | Ensembl Variation 105  |\n",
       "| ENSEMBL_MART_FUNCGEN | Ensembl Regulation 105 |\n",
       "\n"
      ],
      "text/plain": [
       "  biomart              version               \n",
       "1 ENSEMBL_MART_ENSEMBL Ensembl Genes 105     \n",
       "2 ENSEMBL_MART_MOUSE   Mouse strains 105     \n",
       "3 ENSEMBL_MART_SNP     Ensembl Variation 105 \n",
       "4 ENSEMBL_MART_FUNCGEN Ensembl Regulation 105"
      ]
     },
     "metadata": {},
     "output_type": "display_data"
    }
   ],
   "source": [
    "packageVersion('biomaRt')\n",
    "listMarts()  #Ensembl Genes version"
   ]
  },
  {
   "cell_type": "code",
   "execution_count": 16,
   "metadata": {},
   "outputs": [],
   "source": [
    "dat <- getBM (values = geneid,\n",
    "              filters = \"ensembl_gene_id\",\n",
    "              attributes = c(\"ensembl_gene_id\",\n",
    "                              \"entrezgene_id\",\n",
    "                             \"external_gene_name\",\n",
    "                             \"hgnc_symbol\",\n",
    "                             \"description\",\n",
    "                             \"chromosome_name\",\n",
    "                             \"start_position\",\n",
    "                             \"end_position\",\n",
    "#                             \"percentage_gene_gc_content\",\n",
    "                             \"gene_biotype\", \n",
    "                             \"strand\"),\n",
    "              mart = mart)\n"
   ]
  },
  {
   "cell_type": "code",
   "execution_count": 17,
   "metadata": {},
   "outputs": [
    {
     "data": {
      "text/html": [
       "<table class=\"dataframe\">\n",
       "<caption>A data.frame: 6 × 10</caption>\n",
       "<thead>\n",
       "\t<tr><th></th><th scope=col>ensembl_gene_id</th><th scope=col>entrezgene_id</th><th scope=col>external_gene_name</th><th scope=col>hgnc_symbol</th><th scope=col>description</th><th scope=col>chromosome_name</th><th scope=col>start_position</th><th scope=col>end_position</th><th scope=col>gene_biotype</th><th scope=col>strand</th></tr>\n",
       "\t<tr><th></th><th scope=col>&lt;chr&gt;</th><th scope=col>&lt;int&gt;</th><th scope=col>&lt;chr&gt;</th><th scope=col>&lt;chr&gt;</th><th scope=col>&lt;chr&gt;</th><th scope=col>&lt;chr&gt;</th><th scope=col>&lt;int&gt;</th><th scope=col>&lt;int&gt;</th><th scope=col>&lt;chr&gt;</th><th scope=col>&lt;int&gt;</th></tr>\n",
       "</thead>\n",
       "<tbody>\n",
       "\t<tr><th scope=row>1</th><td>ENSG00000000938</td><td> 2268</td><td>FGR   </td><td>FGR   </td><td>FGR proto-oncogene, Src family tyrosine kinase [Source:HGNC Symbol;Acc:HGNC:3697]</td><td>1</td><td>27612064</td><td>27635185</td><td>protein_coding</td><td>-1</td></tr>\n",
       "\t<tr><th scope=row>2</th><td>ENSG00000001084</td><td> 2729</td><td>GCLC  </td><td>GCLC  </td><td>glutamate-cysteine ligase catalytic subunit [Source:HGNC Symbol;Acc:HGNC:4311]   </td><td>6</td><td>53497341</td><td>53616970</td><td>protein_coding</td><td>-1</td></tr>\n",
       "\t<tr><th scope=row>3</th><td>ENSG00000001167</td><td> 4800</td><td>NFYA  </td><td>NFYA  </td><td>nuclear transcription factor Y subunit alpha [Source:HGNC Symbol;Acc:HGNC:7804]  </td><td>6</td><td>41072974</td><td>41102403</td><td>protein_coding</td><td> 1</td></tr>\n",
       "\t<tr><th scope=row>4</th><td>ENSG00000001461</td><td>57185</td><td>NIPAL3</td><td>NIPAL3</td><td>NIPA like domain containing 3 [Source:HGNC Symbol;Acc:HGNC:25233]                </td><td>1</td><td>24415802</td><td>24472976</td><td>protein_coding</td><td> 1</td></tr>\n",
       "\t<tr><th scope=row>5</th><td>ENSG00000001497</td><td>81887</td><td>LAS1L </td><td>LAS1L </td><td>LAS1 like ribosome biogenesis factor [Source:HGNC Symbol;Acc:HGNC:25726]         </td><td>X</td><td>65438549</td><td>65534810</td><td>protein_coding</td><td>-1</td></tr>\n",
       "\t<tr><th scope=row>6</th><td>ENSG00000001629</td><td>54467</td><td>ANKIB1</td><td>ANKIB1</td><td>ankyrin repeat and IBR domain containing 1 [Source:HGNC Symbol;Acc:HGNC:22215]   </td><td>7</td><td>92245974</td><td>92401383</td><td>protein_coding</td><td> 1</td></tr>\n",
       "</tbody>\n",
       "</table>\n"
      ],
      "text/latex": [
       "A data.frame: 6 × 10\n",
       "\\begin{tabular}{r|llllllllll}\n",
       "  & ensembl\\_gene\\_id & entrezgene\\_id & external\\_gene\\_name & hgnc\\_symbol & description & chromosome\\_name & start\\_position & end\\_position & gene\\_biotype & strand\\\\\n",
       "  & <chr> & <int> & <chr> & <chr> & <chr> & <chr> & <int> & <int> & <chr> & <int>\\\\\n",
       "\\hline\n",
       "\t1 & ENSG00000000938 &  2268 & FGR    & FGR    & FGR proto-oncogene, Src family tyrosine kinase {[}Source:HGNC Symbol;Acc:HGNC:3697{]} & 1 & 27612064 & 27635185 & protein\\_coding & -1\\\\\n",
       "\t2 & ENSG00000001084 &  2729 & GCLC   & GCLC   & glutamate-cysteine ligase catalytic subunit {[}Source:HGNC Symbol;Acc:HGNC:4311{]}    & 6 & 53497341 & 53616970 & protein\\_coding & -1\\\\\n",
       "\t3 & ENSG00000001167 &  4800 & NFYA   & NFYA   & nuclear transcription factor Y subunit alpha {[}Source:HGNC Symbol;Acc:HGNC:7804{]}   & 6 & 41072974 & 41102403 & protein\\_coding &  1\\\\\n",
       "\t4 & ENSG00000001461 & 57185 & NIPAL3 & NIPAL3 & NIPA like domain containing 3 {[}Source:HGNC Symbol;Acc:HGNC:25233{]}                 & 1 & 24415802 & 24472976 & protein\\_coding &  1\\\\\n",
       "\t5 & ENSG00000001497 & 81887 & LAS1L  & LAS1L  & LAS1 like ribosome biogenesis factor {[}Source:HGNC Symbol;Acc:HGNC:25726{]}          & X & 65438549 & 65534810 & protein\\_coding & -1\\\\\n",
       "\t6 & ENSG00000001629 & 54467 & ANKIB1 & ANKIB1 & ankyrin repeat and IBR domain containing 1 {[}Source:HGNC Symbol;Acc:HGNC:22215{]}    & 7 & 92245974 & 92401383 & protein\\_coding &  1\\\\\n",
       "\\end{tabular}\n"
      ],
      "text/markdown": [
       "\n",
       "A data.frame: 6 × 10\n",
       "\n",
       "| <!--/--> | ensembl_gene_id &lt;chr&gt; | entrezgene_id &lt;int&gt; | external_gene_name &lt;chr&gt; | hgnc_symbol &lt;chr&gt; | description &lt;chr&gt; | chromosome_name &lt;chr&gt; | start_position &lt;int&gt; | end_position &lt;int&gt; | gene_biotype &lt;chr&gt; | strand &lt;int&gt; |\n",
       "|---|---|---|---|---|---|---|---|---|---|---|\n",
       "| 1 | ENSG00000000938 |  2268 | FGR    | FGR    | FGR proto-oncogene, Src family tyrosine kinase [Source:HGNC Symbol;Acc:HGNC:3697] | 1 | 27612064 | 27635185 | protein_coding | -1 |\n",
       "| 2 | ENSG00000001084 |  2729 | GCLC   | GCLC   | glutamate-cysteine ligase catalytic subunit [Source:HGNC Symbol;Acc:HGNC:4311]    | 6 | 53497341 | 53616970 | protein_coding | -1 |\n",
       "| 3 | ENSG00000001167 |  4800 | NFYA   | NFYA   | nuclear transcription factor Y subunit alpha [Source:HGNC Symbol;Acc:HGNC:7804]   | 6 | 41072974 | 41102403 | protein_coding |  1 |\n",
       "| 4 | ENSG00000001461 | 57185 | NIPAL3 | NIPAL3 | NIPA like domain containing 3 [Source:HGNC Symbol;Acc:HGNC:25233]                 | 1 | 24415802 | 24472976 | protein_coding |  1 |\n",
       "| 5 | ENSG00000001497 | 81887 | LAS1L  | LAS1L  | LAS1 like ribosome biogenesis factor [Source:HGNC Symbol;Acc:HGNC:25726]          | X | 65438549 | 65534810 | protein_coding | -1 |\n",
       "| 6 | ENSG00000001629 | 54467 | ANKIB1 | ANKIB1 | ankyrin repeat and IBR domain containing 1 [Source:HGNC Symbol;Acc:HGNC:22215]    | 7 | 92245974 | 92401383 | protein_coding |  1 |\n",
       "\n"
      ],
      "text/plain": [
       "  ensembl_gene_id entrezgene_id external_gene_name hgnc_symbol\n",
       "1 ENSG00000000938  2268         FGR                FGR        \n",
       "2 ENSG00000001084  2729         GCLC               GCLC       \n",
       "3 ENSG00000001167  4800         NFYA               NFYA       \n",
       "4 ENSG00000001461 57185         NIPAL3             NIPAL3     \n",
       "5 ENSG00000001497 81887         LAS1L              LAS1L      \n",
       "6 ENSG00000001629 54467         ANKIB1             ANKIB1     \n",
       "  description                                                                      \n",
       "1 FGR proto-oncogene, Src family tyrosine kinase [Source:HGNC Symbol;Acc:HGNC:3697]\n",
       "2 glutamate-cysteine ligase catalytic subunit [Source:HGNC Symbol;Acc:HGNC:4311]   \n",
       "3 nuclear transcription factor Y subunit alpha [Source:HGNC Symbol;Acc:HGNC:7804]  \n",
       "4 NIPA like domain containing 3 [Source:HGNC Symbol;Acc:HGNC:25233]                \n",
       "5 LAS1 like ribosome biogenesis factor [Source:HGNC Symbol;Acc:HGNC:25726]         \n",
       "6 ankyrin repeat and IBR domain containing 1 [Source:HGNC Symbol;Acc:HGNC:22215]   \n",
       "  chromosome_name start_position end_position gene_biotype   strand\n",
       "1 1               27612064       27635185     protein_coding -1    \n",
       "2 6               53497341       53616970     protein_coding -1    \n",
       "3 6               41072974       41102403     protein_coding  1    \n",
       "4 1               24415802       24472976     protein_coding  1    \n",
       "5 X               65438549       65534810     protein_coding -1    \n",
       "6 7               92245974       92401383     protein_coding  1    "
      ]
     },
     "metadata": {},
     "output_type": "display_data"
    }
   ],
   "source": [
    "head (dat)"
   ]
  },
  {
   "cell_type": "code",
   "execution_count": 18,
   "metadata": {},
   "outputs": [],
   "source": [
    "#regex\n",
    "dat$description <- gsub(\"\\\\s*\\\\[[^\\\\)]+\\\\]\",\"\",as.character(dat$description)) \n",
    "\n",
    "#gene_biotype regex\n",
    "dat$gene_biotype= gsub(\"_\", \" \", (dat$gene_biotype))"
   ]
  },
  {
   "cell_type": "code",
   "execution_count": 19,
   "metadata": {},
   "outputs": [
    {
     "data": {
      "text/html": [
       "<style>\n",
       ".list-inline {list-style: none; margin:0; padding: 0}\n",
       ".list-inline>li {display: inline-block}\n",
       ".list-inline>li:not(:last-child)::after {content: \"\\00b7\"; padding: 0 .5ex}\n",
       "</style>\n",
       "<ol class=list-inline><li>60854</li><li>10</li></ol>\n"
      ],
      "text/latex": [
       "\\begin{enumerate*}\n",
       "\\item 60854\n",
       "\\item 10\n",
       "\\end{enumerate*}\n"
      ],
      "text/markdown": [
       "1. 60854\n",
       "2. 10\n",
       "\n",
       "\n"
      ],
      "text/plain": [
       "[1] 60854    10"
      ]
     },
     "metadata": {},
     "output_type": "display_data"
    },
    {
     "data": {
      "text/html": [
       "<style>\n",
       ".list-inline {list-style: none; margin:0; padding: 0}\n",
       ".list-inline>li {display: inline-block}\n",
       ".list-inline>li:not(:last-child)::after {content: \"\\00b7\"; padding: 0 .5ex}\n",
       "</style>\n",
       "<ol class=list-inline><li>60666</li><li>74</li></ol>\n"
      ],
      "text/latex": [
       "\\begin{enumerate*}\n",
       "\\item 60666\n",
       "\\item 74\n",
       "\\end{enumerate*}\n"
      ],
      "text/markdown": [
       "1. 60666\n",
       "2. 74\n",
       "\n",
       "\n"
      ],
      "text/plain": [
       "[1] 60666    74"
      ]
     },
     "metadata": {},
     "output_type": "display_data"
    }
   ],
   "source": [
    "#clean duplicates\n",
    "\n",
    "dim (dat) #dimensions of the Biomart annotated file\n",
    "dim (xarr) #dimensions of the original raw file"
   ]
  },
  {
   "cell_type": "markdown",
   "metadata": {},
   "source": [
    "There are # duplicates"
   ]
  },
  {
   "cell_type": "code",
   "execution_count": 20,
   "metadata": {},
   "outputs": [
    {
     "data": {
      "text/html": [
       "<style>\n",
       ".list-inline {list-style: none; margin:0; padding: 0}\n",
       ".list-inline>li {display: inline-block}\n",
       ".list-inline>li:not(:last-child)::after {content: \"\\00b7\"; padding: 0 .5ex}\n",
       "</style>\n",
       "<ol class=list-inline><li>60882</li><li>84</li></ol>\n"
      ],
      "text/latex": [
       "\\begin{enumerate*}\n",
       "\\item 60882\n",
       "\\item 84\n",
       "\\end{enumerate*}\n"
      ],
      "text/markdown": [
       "1. 60882\n",
       "2. 84\n",
       "\n",
       "\n"
      ],
      "text/plain": [
       "[1] 60882    84"
      ]
     },
     "metadata": {},
     "output_type": "display_data"
    }
   ],
   "source": [
    "dat$gene_id <- dat$ensembl_gene_id #need to have the same name when merging\n",
    "\n",
    "#left, because in df2 more rows (the original)\n",
    "ann_Xarr = merge(x=xarr,y=dat,by=\"gene_id\",all.x=TRUE)\n",
    "dim (ann_Xarr)"
   ]
  },
  {
   "cell_type": "code",
   "execution_count": 21,
   "metadata": {},
   "outputs": [
    {
     "data": {
      "text/html": [
       "<table class=\"dataframe\">\n",
       "<caption>A data.frame: 6 × 84</caption>\n",
       "<thead>\n",
       "\t<tr><th></th><th scope=col>gene_id</th><th scope=col>EtOH_x_24h_R1</th><th scope=col>EtOH_x_24h_R2</th><th scope=col>EtOH_x_24h_R3</th><th scope=col>EtOH_x_4h_R1</th><th scope=col>EtOH_x_4h_R2</th><th scope=col>EtOH_x_4h_R3</th><th scope=col>EtOH_x_8h_R1</th><th scope=col>EtOH_x_8h_R2</th><th scope=col>EtOH_x_8h_R3</th><th scope=col>⋯</th><th scope=col>ensembl_gene_id</th><th scope=col>entrezgene_id</th><th scope=col>external_gene_name</th><th scope=col>hgnc_symbol</th><th scope=col>description</th><th scope=col>chromosome_name</th><th scope=col>start_position</th><th scope=col>end_position</th><th scope=col>gene_biotype</th><th scope=col>strand</th></tr>\n",
       "\t<tr><th></th><th scope=col>&lt;chr&gt;</th><th scope=col>&lt;dbl&gt;</th><th scope=col>&lt;dbl&gt;</th><th scope=col>&lt;dbl&gt;</th><th scope=col>&lt;dbl&gt;</th><th scope=col>&lt;dbl&gt;</th><th scope=col>&lt;dbl&gt;</th><th scope=col>&lt;dbl&gt;</th><th scope=col>&lt;dbl&gt;</th><th scope=col>&lt;dbl&gt;</th><th scope=col>⋯</th><th scope=col>&lt;chr&gt;</th><th scope=col>&lt;int&gt;</th><th scope=col>&lt;chr&gt;</th><th scope=col>&lt;chr&gt;</th><th scope=col>&lt;chr&gt;</th><th scope=col>&lt;chr&gt;</th><th scope=col>&lt;int&gt;</th><th scope=col>&lt;int&gt;</th><th scope=col>&lt;chr&gt;</th><th scope=col>&lt;int&gt;</th></tr>\n",
       "</thead>\n",
       "<tbody>\n",
       "\t<tr><th scope=row>1</th><td>ENSG00000251562</td><td>247628.00</td><td>159590.00</td><td>240717.00</td><td>171888.00</td><td>162884.00</td><td>123218.00</td><td>195379.00</td><td>286562.00</td><td>258203.00</td><td>⋯</td><td>ENSG00000251562</td><td>378938</td><td>MALAT1 </td><td>MALAT1 </td><td>metastasis associated lung adenocarcinoma transcript 1</td><td>11</td><td>65497688</td><td>65506516</td><td>lncRNA        </td><td> 1</td></tr>\n",
       "\t<tr><th scope=row>2</th><td>ENSG00000210082</td><td>158156.96</td><td>103865.96</td><td>151443.69</td><td>299272.80</td><td>205643.92</td><td>400707.58</td><td> 41704.98</td><td> 61994.79</td><td> 33768.97</td><td>⋯</td><td>ENSG00000210082</td><td>    NA</td><td>MT-RNR2</td><td>MT-RNR2</td><td>mitochondrially encoded 16S rRNA                      </td><td>MT</td><td>    1671</td><td>    3229</td><td>Mt rRNA       </td><td> 1</td></tr>\n",
       "\t<tr><th scope=row>3</th><td>ENSG00000211459</td><td> 87422.00</td><td> 57156.00</td><td> 89667.00</td><td>189384.00</td><td>129230.00</td><td>240999.00</td><td> 21010.00</td><td> 31685.00</td><td> 13193.00</td><td>⋯</td><td>ENSG00000211459</td><td>    NA</td><td>MT-RNR1</td><td>MT-RNR1</td><td>mitochondrially encoded 12S rRNA                      </td><td>MT</td><td>     648</td><td>    1601</td><td>Mt rRNA       </td><td> 1</td></tr>\n",
       "\t<tr><th scope=row>4</th><td>ENSG00000198804</td><td> 63166.97</td><td> 40236.55</td><td> 54058.12</td><td> 40721.42</td><td> 32647.28</td><td> 29320.93</td><td> 38582.90</td><td> 56344.89</td><td> 58769.42</td><td>⋯</td><td>ENSG00000198804</td><td>  4512</td><td>MT-CO1 </td><td>MT-CO1 </td><td>mitochondrially encoded cytochrome c oxidase I        </td><td>MT</td><td>    5904</td><td>    7445</td><td>protein coding</td><td> 1</td></tr>\n",
       "\t<tr><th scope=row>5</th><td>ENSG00000156508</td><td> 60775.70</td><td> 36756.48</td><td> 46582.43</td><td> 37846.41</td><td> 35743.96</td><td> 29848.29</td><td> 41801.00</td><td> 61261.94</td><td> 67442.56</td><td>⋯</td><td>ENSG00000156508</td><td>  1915</td><td>EEF1A1 </td><td>EEF1A1 </td><td>eukaryotic translation elongation factor 1 alpha 1    </td><td>6 </td><td>73489308</td><td>73525587</td><td>protein coding</td><td>-1</td></tr>\n",
       "\t<tr><th scope=row>6</th><td>ENSG00000202198</td><td> 79288.06</td><td> 39570.85</td><td> 45137.22</td><td> 22140.05</td><td> 21505.51</td><td> 18869.93</td><td> 20668.33</td><td> 30631.40</td><td> 34076.68</td><td>⋯</td><td>ENSG00000202198</td><td>    NA</td><td>7SK    </td><td>       </td><td>7SK RNA                                               </td><td>6 </td><td>52995620</td><td>52995950</td><td>misc RNA      </td><td> 1</td></tr>\n",
       "</tbody>\n",
       "</table>\n"
      ],
      "text/latex": [
       "A data.frame: 6 × 84\n",
       "\\begin{tabular}{r|lllllllllllllllllllll}\n",
       "  & gene\\_id & EtOH\\_x\\_24h\\_R1 & EtOH\\_x\\_24h\\_R2 & EtOH\\_x\\_24h\\_R3 & EtOH\\_x\\_4h\\_R1 & EtOH\\_x\\_4h\\_R2 & EtOH\\_x\\_4h\\_R3 & EtOH\\_x\\_8h\\_R1 & EtOH\\_x\\_8h\\_R2 & EtOH\\_x\\_8h\\_R3 & ⋯ & ensembl\\_gene\\_id & entrezgene\\_id & external\\_gene\\_name & hgnc\\_symbol & description & chromosome\\_name & start\\_position & end\\_position & gene\\_biotype & strand\\\\\n",
       "  & <chr> & <dbl> & <dbl> & <dbl> & <dbl> & <dbl> & <dbl> & <dbl> & <dbl> & <dbl> & ⋯ & <chr> & <int> & <chr> & <chr> & <chr> & <chr> & <int> & <int> & <chr> & <int>\\\\\n",
       "\\hline\n",
       "\t1 & ENSG00000251562 & 247628.00 & 159590.00 & 240717.00 & 171888.00 & 162884.00 & 123218.00 & 195379.00 & 286562.00 & 258203.00 & ⋯ & ENSG00000251562 & 378938 & MALAT1  & MALAT1  & metastasis associated lung adenocarcinoma transcript 1 & 11 & 65497688 & 65506516 & lncRNA         &  1\\\\\n",
       "\t2 & ENSG00000210082 & 158156.96 & 103865.96 & 151443.69 & 299272.80 & 205643.92 & 400707.58 &  41704.98 &  61994.79 &  33768.97 & ⋯ & ENSG00000210082 &     NA & MT-RNR2 & MT-RNR2 & mitochondrially encoded 16S rRNA                       & MT &     1671 &     3229 & Mt rRNA        &  1\\\\\n",
       "\t3 & ENSG00000211459 &  87422.00 &  57156.00 &  89667.00 & 189384.00 & 129230.00 & 240999.00 &  21010.00 &  31685.00 &  13193.00 & ⋯ & ENSG00000211459 &     NA & MT-RNR1 & MT-RNR1 & mitochondrially encoded 12S rRNA                       & MT &      648 &     1601 & Mt rRNA        &  1\\\\\n",
       "\t4 & ENSG00000198804 &  63166.97 &  40236.55 &  54058.12 &  40721.42 &  32647.28 &  29320.93 &  38582.90 &  56344.89 &  58769.42 & ⋯ & ENSG00000198804 &   4512 & MT-CO1  & MT-CO1  & mitochondrially encoded cytochrome c oxidase I         & MT &     5904 &     7445 & protein coding &  1\\\\\n",
       "\t5 & ENSG00000156508 &  60775.70 &  36756.48 &  46582.43 &  37846.41 &  35743.96 &  29848.29 &  41801.00 &  61261.94 &  67442.56 & ⋯ & ENSG00000156508 &   1915 & EEF1A1  & EEF1A1  & eukaryotic translation elongation factor 1 alpha 1     & 6  & 73489308 & 73525587 & protein coding & -1\\\\\n",
       "\t6 & ENSG00000202198 &  79288.06 &  39570.85 &  45137.22 &  22140.05 &  21505.51 &  18869.93 &  20668.33 &  30631.40 &  34076.68 & ⋯ & ENSG00000202198 &     NA & 7SK     &         & 7SK RNA                                                & 6  & 52995620 & 52995950 & misc RNA       &  1\\\\\n",
       "\\end{tabular}\n"
      ],
      "text/markdown": [
       "\n",
       "A data.frame: 6 × 84\n",
       "\n",
       "| <!--/--> | gene_id &lt;chr&gt; | EtOH_x_24h_R1 &lt;dbl&gt; | EtOH_x_24h_R2 &lt;dbl&gt; | EtOH_x_24h_R3 &lt;dbl&gt; | EtOH_x_4h_R1 &lt;dbl&gt; | EtOH_x_4h_R2 &lt;dbl&gt; | EtOH_x_4h_R3 &lt;dbl&gt; | EtOH_x_8h_R1 &lt;dbl&gt; | EtOH_x_8h_R2 &lt;dbl&gt; | EtOH_x_8h_R3 &lt;dbl&gt; | ⋯ ⋯ | ensembl_gene_id &lt;chr&gt; | entrezgene_id &lt;int&gt; | external_gene_name &lt;chr&gt; | hgnc_symbol &lt;chr&gt; | description &lt;chr&gt; | chromosome_name &lt;chr&gt; | start_position &lt;int&gt; | end_position &lt;int&gt; | gene_biotype &lt;chr&gt; | strand &lt;int&gt; |\n",
       "|---|---|---|---|---|---|---|---|---|---|---|---|---|---|---|---|---|---|---|---|---|---|\n",
       "| 1 | ENSG00000251562 | 247628.00 | 159590.00 | 240717.00 | 171888.00 | 162884.00 | 123218.00 | 195379.00 | 286562.00 | 258203.00 | ⋯ | ENSG00000251562 | 378938 | MALAT1  | MALAT1  | metastasis associated lung adenocarcinoma transcript 1 | 11 | 65497688 | 65506516 | lncRNA         |  1 |\n",
       "| 2 | ENSG00000210082 | 158156.96 | 103865.96 | 151443.69 | 299272.80 | 205643.92 | 400707.58 |  41704.98 |  61994.79 |  33768.97 | ⋯ | ENSG00000210082 |     NA | MT-RNR2 | MT-RNR2 | mitochondrially encoded 16S rRNA                       | MT |     1671 |     3229 | Mt rRNA        |  1 |\n",
       "| 3 | ENSG00000211459 |  87422.00 |  57156.00 |  89667.00 | 189384.00 | 129230.00 | 240999.00 |  21010.00 |  31685.00 |  13193.00 | ⋯ | ENSG00000211459 |     NA | MT-RNR1 | MT-RNR1 | mitochondrially encoded 12S rRNA                       | MT |      648 |     1601 | Mt rRNA        |  1 |\n",
       "| 4 | ENSG00000198804 |  63166.97 |  40236.55 |  54058.12 |  40721.42 |  32647.28 |  29320.93 |  38582.90 |  56344.89 |  58769.42 | ⋯ | ENSG00000198804 |   4512 | MT-CO1  | MT-CO1  | mitochondrially encoded cytochrome c oxidase I         | MT |     5904 |     7445 | protein coding |  1 |\n",
       "| 5 | ENSG00000156508 |  60775.70 |  36756.48 |  46582.43 |  37846.41 |  35743.96 |  29848.29 |  41801.00 |  61261.94 |  67442.56 | ⋯ | ENSG00000156508 |   1915 | EEF1A1  | EEF1A1  | eukaryotic translation elongation factor 1 alpha 1     | 6  | 73489308 | 73525587 | protein coding | -1 |\n",
       "| 6 | ENSG00000202198 |  79288.06 |  39570.85 |  45137.22 |  22140.05 |  21505.51 |  18869.93 |  20668.33 |  30631.40 |  34076.68 | ⋯ | ENSG00000202198 |     NA | 7SK     | <!----> | 7SK RNA                                                | 6  | 52995620 | 52995950 | misc RNA       |  1 |\n",
       "\n"
      ],
      "text/plain": [
       "  gene_id         EtOH_x_24h_R1 EtOH_x_24h_R2 EtOH_x_24h_R3 EtOH_x_4h_R1\n",
       "1 ENSG00000251562 247628.00     159590.00     240717.00     171888.00   \n",
       "2 ENSG00000210082 158156.96     103865.96     151443.69     299272.80   \n",
       "3 ENSG00000211459  87422.00      57156.00      89667.00     189384.00   \n",
       "4 ENSG00000198804  63166.97      40236.55      54058.12      40721.42   \n",
       "5 ENSG00000156508  60775.70      36756.48      46582.43      37846.41   \n",
       "6 ENSG00000202198  79288.06      39570.85      45137.22      22140.05   \n",
       "  EtOH_x_4h_R2 EtOH_x_4h_R3 EtOH_x_8h_R1 EtOH_x_8h_R2 EtOH_x_8h_R3 <U+22EF>  \n",
       "1 162884.00    123218.00    195379.00    286562.00    258203.00    <U+22EF>\n",
       "2 205643.92    400707.58     41704.98     61994.79     33768.97    <U+22EF>\n",
       "3 129230.00    240999.00     21010.00     31685.00     13193.00    <U+22EF>\n",
       "4  32647.28     29320.93     38582.90     56344.89     58769.42    <U+22EF>\n",
       "5  35743.96     29848.29     41801.00     61261.94     67442.56    <U+22EF>\n",
       "6  21505.51     18869.93     20668.33     30631.40     34076.68    <U+22EF>\n",
       "  ensembl_gene_id entrezgene_id external_gene_name hgnc_symbol\n",
       "1 ENSG00000251562 378938        MALAT1             MALAT1     \n",
       "2 ENSG00000210082     NA        MT-RNR2            MT-RNR2    \n",
       "3 ENSG00000211459     NA        MT-RNR1            MT-RNR1    \n",
       "4 ENSG00000198804   4512        MT-CO1             MT-CO1     \n",
       "5 ENSG00000156508   1915        EEF1A1             EEF1A1     \n",
       "6 ENSG00000202198     NA        7SK                           \n",
       "  description                                            chromosome_name\n",
       "1 metastasis associated lung adenocarcinoma transcript 1 11             \n",
       "2 mitochondrially encoded 16S rRNA                       MT             \n",
       "3 mitochondrially encoded 12S rRNA                       MT             \n",
       "4 mitochondrially encoded cytochrome c oxidase I         MT             \n",
       "5 eukaryotic translation elongation factor 1 alpha 1     6              \n",
       "6 7SK RNA                                                6              \n",
       "  start_position end_position gene_biotype   strand\n",
       "1 65497688       65506516     lncRNA          1    \n",
       "2     1671           3229     Mt rRNA         1    \n",
       "3      648           1601     Mt rRNA         1    \n",
       "4     5904           7445     protein coding  1    \n",
       "5 73489308       73525587     protein coding -1    \n",
       "6 52995620       52995950     misc RNA        1    "
      ]
     },
     "metadata": {},
     "output_type": "display_data"
    }
   ],
   "source": [
    "#head (ann_Xarr) #need to sort it again desc!!!!!\n",
    "\n",
    "ann_Xarr_desc <- ann_Xarr %>%\n",
    "  arrange(desc(Avgexpression)) \n",
    "\n",
    "head (ann_Xarr_desc)"
   ]
  },
  {
   "cell_type": "code",
   "execution_count": 22,
   "metadata": {},
   "outputs": [
    {
     "data": {
      "text/html": [
       "<style>\n",
       ".list-inline {list-style: none; margin:0; padding: 0}\n",
       ".list-inline>li {display: inline-block}\n",
       ".list-inline>li:not(:last-child)::after {content: \"\\00b7\"; padding: 0 .5ex}\n",
       "</style>\n",
       "<ol class=list-inline><li>39502</li><li>84</li></ol>\n"
      ],
      "text/latex": [
       "\\begin{enumerate*}\n",
       "\\item 39502\n",
       "\\item 84\n",
       "\\end{enumerate*}\n"
      ],
      "text/markdown": [
       "1. 39502\n",
       "2. 84\n",
       "\n",
       "\n"
      ],
      "text/plain": [
       "[1] 39502    84"
      ]
     },
     "metadata": {},
     "output_type": "display_data"
    }
   ],
   "source": [
    "#drop genes with empty HGNC symbol\n",
    "#You can use ‘!=’ operator as ‘not equal’.\n",
    "emptyHGNC <- ann_Xarr_desc %>%\n",
    "filter (., hgnc_symbol != \"\")\n",
    "dim(emptyHGNC)"
   ]
  },
  {
   "cell_type": "code",
   "execution_count": 23,
   "metadata": {},
   "outputs": [
    {
     "data": {
      "text/html": [
       "<table class=\"dataframe\">\n",
       "<caption>A data.frame: 6 × 84</caption>\n",
       "<thead>\n",
       "\t<tr><th></th><th scope=col>gene_id</th><th scope=col>EtOH_x_24h_R1</th><th scope=col>EtOH_x_24h_R2</th><th scope=col>EtOH_x_24h_R3</th><th scope=col>EtOH_x_4h_R1</th><th scope=col>EtOH_x_4h_R2</th><th scope=col>EtOH_x_4h_R3</th><th scope=col>EtOH_x_8h_R1</th><th scope=col>EtOH_x_8h_R2</th><th scope=col>EtOH_x_8h_R3</th><th scope=col>⋯</th><th scope=col>ensembl_gene_id</th><th scope=col>entrezgene_id</th><th scope=col>external_gene_name</th><th scope=col>hgnc_symbol</th><th scope=col>description</th><th scope=col>chromosome_name</th><th scope=col>start_position</th><th scope=col>end_position</th><th scope=col>gene_biotype</th><th scope=col>strand</th></tr>\n",
       "\t<tr><th></th><th scope=col>&lt;chr&gt;</th><th scope=col>&lt;dbl&gt;</th><th scope=col>&lt;dbl&gt;</th><th scope=col>&lt;dbl&gt;</th><th scope=col>&lt;dbl&gt;</th><th scope=col>&lt;dbl&gt;</th><th scope=col>&lt;dbl&gt;</th><th scope=col>&lt;dbl&gt;</th><th scope=col>&lt;dbl&gt;</th><th scope=col>&lt;dbl&gt;</th><th scope=col>⋯</th><th scope=col>&lt;chr&gt;</th><th scope=col>&lt;int&gt;</th><th scope=col>&lt;chr&gt;</th><th scope=col>&lt;chr&gt;</th><th scope=col>&lt;chr&gt;</th><th scope=col>&lt;chr&gt;</th><th scope=col>&lt;int&gt;</th><th scope=col>&lt;int&gt;</th><th scope=col>&lt;chr&gt;</th><th scope=col>&lt;int&gt;</th></tr>\n",
       "</thead>\n",
       "<tbody>\n",
       "\t<tr><th scope=row>1</th><td>ENSG00000251562</td><td>247628.00</td><td>159590.00</td><td>240717.00</td><td>171888.00</td><td>162884.00</td><td>123218.00</td><td>195379.00</td><td>286562.00</td><td>258203.00</td><td>⋯</td><td>ENSG00000251562</td><td>378938</td><td>MALAT1 </td><td>MALAT1 </td><td>metastasis associated lung adenocarcinoma transcript 1</td><td>11</td><td>65497688</td><td>65506516</td><td>lncRNA        </td><td> 1</td></tr>\n",
       "\t<tr><th scope=row>2</th><td>ENSG00000210082</td><td>158156.96</td><td>103865.96</td><td>151443.69</td><td>299272.80</td><td>205643.92</td><td>400707.58</td><td> 41704.98</td><td> 61994.79</td><td> 33768.97</td><td>⋯</td><td>ENSG00000210082</td><td>    NA</td><td>MT-RNR2</td><td>MT-RNR2</td><td>mitochondrially encoded 16S rRNA                      </td><td>MT</td><td>    1671</td><td>    3229</td><td>Mt rRNA       </td><td> 1</td></tr>\n",
       "\t<tr><th scope=row>3</th><td>ENSG00000211459</td><td> 87422.00</td><td> 57156.00</td><td> 89667.00</td><td>189384.00</td><td>129230.00</td><td>240999.00</td><td> 21010.00</td><td> 31685.00</td><td> 13193.00</td><td>⋯</td><td>ENSG00000211459</td><td>    NA</td><td>MT-RNR1</td><td>MT-RNR1</td><td>mitochondrially encoded 12S rRNA                      </td><td>MT</td><td>     648</td><td>    1601</td><td>Mt rRNA       </td><td> 1</td></tr>\n",
       "\t<tr><th scope=row>4</th><td>ENSG00000198804</td><td> 63166.97</td><td> 40236.55</td><td> 54058.12</td><td> 40721.42</td><td> 32647.28</td><td> 29320.93</td><td> 38582.90</td><td> 56344.89</td><td> 58769.42</td><td>⋯</td><td>ENSG00000198804</td><td>  4512</td><td>MT-CO1 </td><td>MT-CO1 </td><td>mitochondrially encoded cytochrome c oxidase I        </td><td>MT</td><td>    5904</td><td>    7445</td><td>protein coding</td><td> 1</td></tr>\n",
       "\t<tr><th scope=row>5</th><td>ENSG00000156508</td><td> 60775.70</td><td> 36756.48</td><td> 46582.43</td><td> 37846.41</td><td> 35743.96</td><td> 29848.29</td><td> 41801.00</td><td> 61261.94</td><td> 67442.56</td><td>⋯</td><td>ENSG00000156508</td><td>  1915</td><td>EEF1A1 </td><td>EEF1A1 </td><td>eukaryotic translation elongation factor 1 alpha 1    </td><td>6 </td><td>73489308</td><td>73525587</td><td>protein coding</td><td>-1</td></tr>\n",
       "\t<tr><th scope=row>6</th><td>ENSG00000137801</td><td> 21645.00</td><td> 11172.00</td><td> 20194.00</td><td> 42044.00</td><td> 39283.00</td><td> 28412.00</td><td> 56997.00</td><td> 82207.00</td><td> 70708.00</td><td>⋯</td><td>ENSG00000137801</td><td>  7057</td><td>THBS1  </td><td>THBS1  </td><td>thrombospondin 1                                      </td><td>15</td><td>39581079</td><td>39599466</td><td>protein coding</td><td> 1</td></tr>\n",
       "</tbody>\n",
       "</table>\n"
      ],
      "text/latex": [
       "A data.frame: 6 × 84\n",
       "\\begin{tabular}{r|lllllllllllllllllllll}\n",
       "  & gene\\_id & EtOH\\_x\\_24h\\_R1 & EtOH\\_x\\_24h\\_R2 & EtOH\\_x\\_24h\\_R3 & EtOH\\_x\\_4h\\_R1 & EtOH\\_x\\_4h\\_R2 & EtOH\\_x\\_4h\\_R3 & EtOH\\_x\\_8h\\_R1 & EtOH\\_x\\_8h\\_R2 & EtOH\\_x\\_8h\\_R3 & ⋯ & ensembl\\_gene\\_id & entrezgene\\_id & external\\_gene\\_name & hgnc\\_symbol & description & chromosome\\_name & start\\_position & end\\_position & gene\\_biotype & strand\\\\\n",
       "  & <chr> & <dbl> & <dbl> & <dbl> & <dbl> & <dbl> & <dbl> & <dbl> & <dbl> & <dbl> & ⋯ & <chr> & <int> & <chr> & <chr> & <chr> & <chr> & <int> & <int> & <chr> & <int>\\\\\n",
       "\\hline\n",
       "\t1 & ENSG00000251562 & 247628.00 & 159590.00 & 240717.00 & 171888.00 & 162884.00 & 123218.00 & 195379.00 & 286562.00 & 258203.00 & ⋯ & ENSG00000251562 & 378938 & MALAT1  & MALAT1  & metastasis associated lung adenocarcinoma transcript 1 & 11 & 65497688 & 65506516 & lncRNA         &  1\\\\\n",
       "\t2 & ENSG00000210082 & 158156.96 & 103865.96 & 151443.69 & 299272.80 & 205643.92 & 400707.58 &  41704.98 &  61994.79 &  33768.97 & ⋯ & ENSG00000210082 &     NA & MT-RNR2 & MT-RNR2 & mitochondrially encoded 16S rRNA                       & MT &     1671 &     3229 & Mt rRNA        &  1\\\\\n",
       "\t3 & ENSG00000211459 &  87422.00 &  57156.00 &  89667.00 & 189384.00 & 129230.00 & 240999.00 &  21010.00 &  31685.00 &  13193.00 & ⋯ & ENSG00000211459 &     NA & MT-RNR1 & MT-RNR1 & mitochondrially encoded 12S rRNA                       & MT &      648 &     1601 & Mt rRNA        &  1\\\\\n",
       "\t4 & ENSG00000198804 &  63166.97 &  40236.55 &  54058.12 &  40721.42 &  32647.28 &  29320.93 &  38582.90 &  56344.89 &  58769.42 & ⋯ & ENSG00000198804 &   4512 & MT-CO1  & MT-CO1  & mitochondrially encoded cytochrome c oxidase I         & MT &     5904 &     7445 & protein coding &  1\\\\\n",
       "\t5 & ENSG00000156508 &  60775.70 &  36756.48 &  46582.43 &  37846.41 &  35743.96 &  29848.29 &  41801.00 &  61261.94 &  67442.56 & ⋯ & ENSG00000156508 &   1915 & EEF1A1  & EEF1A1  & eukaryotic translation elongation factor 1 alpha 1     & 6  & 73489308 & 73525587 & protein coding & -1\\\\\n",
       "\t6 & ENSG00000137801 &  21645.00 &  11172.00 &  20194.00 &  42044.00 &  39283.00 &  28412.00 &  56997.00 &  82207.00 &  70708.00 & ⋯ & ENSG00000137801 &   7057 & THBS1   & THBS1   & thrombospondin 1                                       & 15 & 39581079 & 39599466 & protein coding &  1\\\\\n",
       "\\end{tabular}\n"
      ],
      "text/markdown": [
       "\n",
       "A data.frame: 6 × 84\n",
       "\n",
       "| <!--/--> | gene_id &lt;chr&gt; | EtOH_x_24h_R1 &lt;dbl&gt; | EtOH_x_24h_R2 &lt;dbl&gt; | EtOH_x_24h_R3 &lt;dbl&gt; | EtOH_x_4h_R1 &lt;dbl&gt; | EtOH_x_4h_R2 &lt;dbl&gt; | EtOH_x_4h_R3 &lt;dbl&gt; | EtOH_x_8h_R1 &lt;dbl&gt; | EtOH_x_8h_R2 &lt;dbl&gt; | EtOH_x_8h_R3 &lt;dbl&gt; | ⋯ ⋯ | ensembl_gene_id &lt;chr&gt; | entrezgene_id &lt;int&gt; | external_gene_name &lt;chr&gt; | hgnc_symbol &lt;chr&gt; | description &lt;chr&gt; | chromosome_name &lt;chr&gt; | start_position &lt;int&gt; | end_position &lt;int&gt; | gene_biotype &lt;chr&gt; | strand &lt;int&gt; |\n",
       "|---|---|---|---|---|---|---|---|---|---|---|---|---|---|---|---|---|---|---|---|---|---|\n",
       "| 1 | ENSG00000251562 | 247628.00 | 159590.00 | 240717.00 | 171888.00 | 162884.00 | 123218.00 | 195379.00 | 286562.00 | 258203.00 | ⋯ | ENSG00000251562 | 378938 | MALAT1  | MALAT1  | metastasis associated lung adenocarcinoma transcript 1 | 11 | 65497688 | 65506516 | lncRNA         |  1 |\n",
       "| 2 | ENSG00000210082 | 158156.96 | 103865.96 | 151443.69 | 299272.80 | 205643.92 | 400707.58 |  41704.98 |  61994.79 |  33768.97 | ⋯ | ENSG00000210082 |     NA | MT-RNR2 | MT-RNR2 | mitochondrially encoded 16S rRNA                       | MT |     1671 |     3229 | Mt rRNA        |  1 |\n",
       "| 3 | ENSG00000211459 |  87422.00 |  57156.00 |  89667.00 | 189384.00 | 129230.00 | 240999.00 |  21010.00 |  31685.00 |  13193.00 | ⋯ | ENSG00000211459 |     NA | MT-RNR1 | MT-RNR1 | mitochondrially encoded 12S rRNA                       | MT |      648 |     1601 | Mt rRNA        |  1 |\n",
       "| 4 | ENSG00000198804 |  63166.97 |  40236.55 |  54058.12 |  40721.42 |  32647.28 |  29320.93 |  38582.90 |  56344.89 |  58769.42 | ⋯ | ENSG00000198804 |   4512 | MT-CO1  | MT-CO1  | mitochondrially encoded cytochrome c oxidase I         | MT |     5904 |     7445 | protein coding |  1 |\n",
       "| 5 | ENSG00000156508 |  60775.70 |  36756.48 |  46582.43 |  37846.41 |  35743.96 |  29848.29 |  41801.00 |  61261.94 |  67442.56 | ⋯ | ENSG00000156508 |   1915 | EEF1A1  | EEF1A1  | eukaryotic translation elongation factor 1 alpha 1     | 6  | 73489308 | 73525587 | protein coding | -1 |\n",
       "| 6 | ENSG00000137801 |  21645.00 |  11172.00 |  20194.00 |  42044.00 |  39283.00 |  28412.00 |  56997.00 |  82207.00 |  70708.00 | ⋯ | ENSG00000137801 |   7057 | THBS1   | THBS1   | thrombospondin 1                                       | 15 | 39581079 | 39599466 | protein coding |  1 |\n",
       "\n"
      ],
      "text/plain": [
       "  gene_id         EtOH_x_24h_R1 EtOH_x_24h_R2 EtOH_x_24h_R3 EtOH_x_4h_R1\n",
       "1 ENSG00000251562 247628.00     159590.00     240717.00     171888.00   \n",
       "2 ENSG00000210082 158156.96     103865.96     151443.69     299272.80   \n",
       "3 ENSG00000211459  87422.00      57156.00      89667.00     189384.00   \n",
       "4 ENSG00000198804  63166.97      40236.55      54058.12      40721.42   \n",
       "5 ENSG00000156508  60775.70      36756.48      46582.43      37846.41   \n",
       "6 ENSG00000137801  21645.00      11172.00      20194.00      42044.00   \n",
       "  EtOH_x_4h_R2 EtOH_x_4h_R3 EtOH_x_8h_R1 EtOH_x_8h_R2 EtOH_x_8h_R3 <U+22EF>  \n",
       "1 162884.00    123218.00    195379.00    286562.00    258203.00    <U+22EF>\n",
       "2 205643.92    400707.58     41704.98     61994.79     33768.97    <U+22EF>\n",
       "3 129230.00    240999.00     21010.00     31685.00     13193.00    <U+22EF>\n",
       "4  32647.28     29320.93     38582.90     56344.89     58769.42    <U+22EF>\n",
       "5  35743.96     29848.29     41801.00     61261.94     67442.56    <U+22EF>\n",
       "6  39283.00     28412.00     56997.00     82207.00     70708.00    <U+22EF>\n",
       "  ensembl_gene_id entrezgene_id external_gene_name hgnc_symbol\n",
       "1 ENSG00000251562 378938        MALAT1             MALAT1     \n",
       "2 ENSG00000210082     NA        MT-RNR2            MT-RNR2    \n",
       "3 ENSG00000211459     NA        MT-RNR1            MT-RNR1    \n",
       "4 ENSG00000198804   4512        MT-CO1             MT-CO1     \n",
       "5 ENSG00000156508   1915        EEF1A1             EEF1A1     \n",
       "6 ENSG00000137801   7057        THBS1              THBS1      \n",
       "  description                                            chromosome_name\n",
       "1 metastasis associated lung adenocarcinoma transcript 1 11             \n",
       "2 mitochondrially encoded 16S rRNA                       MT             \n",
       "3 mitochondrially encoded 12S rRNA                       MT             \n",
       "4 mitochondrially encoded cytochrome c oxidase I         MT             \n",
       "5 eukaryotic translation elongation factor 1 alpha 1     6              \n",
       "6 thrombospondin 1                                       15             \n",
       "  start_position end_position gene_biotype   strand\n",
       "1 65497688       65506516     lncRNA          1    \n",
       "2     1671           3229     Mt rRNA         1    \n",
       "3      648           1601     Mt rRNA         1    \n",
       "4     5904           7445     protein coding  1    \n",
       "5 73489308       73525587     protein coding -1    \n",
       "6 39581079       39599466     protein coding  1    "
      ]
     },
     "metadata": {},
     "output_type": "display_data"
    }
   ],
   "source": [
    "head (emptyHGNC) #srted desc!!"
   ]
  },
  {
   "cell_type": "code",
   "execution_count": 24,
   "metadata": {},
   "outputs": [
    {
     "data": {
      "text/html": [
       "<style>\n",
       ".list-inline {list-style: none; margin:0; padding: 0}\n",
       ".list-inline>li {display: inline-block}\n",
       ".list-inline>li:not(:last-child)::after {content: \"\\00b7\"; padding: 0 .5ex}\n",
       "</style>\n",
       "<ol class=list-inline><li>39502</li><li>84</li></ol>\n"
      ],
      "text/latex": [
       "\\begin{enumerate*}\n",
       "\\item 39502\n",
       "\\item 84\n",
       "\\end{enumerate*}\n"
      ],
      "text/markdown": [
       "1. 39502\n",
       "2. 84\n",
       "\n",
       "\n"
      ],
      "text/plain": [
       "[1] 39502    84"
      ]
     },
     "metadata": {},
     "output_type": "display_data"
    },
    {
     "data": {
      "text/html": [
       "<style>\n",
       ".list-inline {list-style: none; margin:0; padding: 0}\n",
       ".list-inline>li {display: inline-block}\n",
       ".list-inline>li:not(:last-child)::after {content: \"\\00b7\"; padding: 0 .5ex}\n",
       "</style>\n",
       "<ol class=list-inline><li>39275</li><li>84</li></ol>\n"
      ],
      "text/latex": [
       "\\begin{enumerate*}\n",
       "\\item 39275\n",
       "\\item 84\n",
       "\\end{enumerate*}\n"
      ],
      "text/markdown": [
       "1. 39275\n",
       "2. 84\n",
       "\n",
       "\n"
      ],
      "text/plain": [
       "[1] 39275    84"
      ]
     },
     "metadata": {},
     "output_type": "display_data"
    }
   ],
   "source": [
    "dropdupl <- emptyHGNC[!duplicated(emptyHGNC$hgnc_symbol),]\n",
    "\n",
    "dim (emptyHGNC)\n",
    "dim (dropdupl)"
   ]
  },
  {
   "cell_type": "code",
   "execution_count": 25,
   "metadata": {},
   "outputs": [
    {
     "data": {
      "text/html": [
       "<style>\n",
       ".list-inline {list-style: none; margin:0; padding: 0}\n",
       ".list-inline>li {display: inline-block}\n",
       ".list-inline>li:not(:last-child)::after {content: \"\\00b7\"; padding: 0 .5ex}\n",
       "</style>\n",
       "<ol class=list-inline><li>'1'</li><li>'10'</li><li>'11'</li><li>'12'</li><li>'13'</li><li>'14'</li><li>'15'</li><li>'16'</li><li>'17'</li><li>'18'</li><li>'19'</li><li>'2'</li><li>'20'</li><li>'21'</li><li>'22'</li><li>'3'</li><li>'4'</li><li>'5'</li><li>'6'</li><li>'7'</li><li>'8'</li><li>'9'</li><li>'GL000009.2'</li><li>'GL000194.1'</li><li>'GL000195.1'</li><li>'GL000205.2'</li><li>'GL000213.1'</li><li>'GL000216.2'</li><li>'GL000218.1'</li><li>'GL000219.1'</li><li>'GL000220.1'</li><li>'GL000225.1'</li><li>'KI270442.1'</li><li>'KI270711.1'</li><li>'KI270713.1'</li><li>'KI270721.1'</li><li>'KI270726.1'</li><li>'KI270727.1'</li><li>'KI270728.1'</li><li>'KI270731.1'</li><li>'KI270733.1'</li><li>'KI270734.1'</li><li>'KI270744.1'</li><li>'KI270750.1'</li><li>'MT'</li><li>'X'</li><li>'Y'</li></ol>\n"
      ],
      "text/latex": [
       "\\begin{enumerate*}\n",
       "\\item '1'\n",
       "\\item '10'\n",
       "\\item '11'\n",
       "\\item '12'\n",
       "\\item '13'\n",
       "\\item '14'\n",
       "\\item '15'\n",
       "\\item '16'\n",
       "\\item '17'\n",
       "\\item '18'\n",
       "\\item '19'\n",
       "\\item '2'\n",
       "\\item '20'\n",
       "\\item '21'\n",
       "\\item '22'\n",
       "\\item '3'\n",
       "\\item '4'\n",
       "\\item '5'\n",
       "\\item '6'\n",
       "\\item '7'\n",
       "\\item '8'\n",
       "\\item '9'\n",
       "\\item 'GL000009.2'\n",
       "\\item 'GL000194.1'\n",
       "\\item 'GL000195.1'\n",
       "\\item 'GL000205.2'\n",
       "\\item 'GL000213.1'\n",
       "\\item 'GL000216.2'\n",
       "\\item 'GL000218.1'\n",
       "\\item 'GL000219.1'\n",
       "\\item 'GL000220.1'\n",
       "\\item 'GL000225.1'\n",
       "\\item 'KI270442.1'\n",
       "\\item 'KI270711.1'\n",
       "\\item 'KI270713.1'\n",
       "\\item 'KI270721.1'\n",
       "\\item 'KI270726.1'\n",
       "\\item 'KI270727.1'\n",
       "\\item 'KI270728.1'\n",
       "\\item 'KI270731.1'\n",
       "\\item 'KI270733.1'\n",
       "\\item 'KI270734.1'\n",
       "\\item 'KI270744.1'\n",
       "\\item 'KI270750.1'\n",
       "\\item 'MT'\n",
       "\\item 'X'\n",
       "\\item 'Y'\n",
       "\\end{enumerate*}\n"
      ],
      "text/markdown": [
       "1. '1'\n",
       "2. '10'\n",
       "3. '11'\n",
       "4. '12'\n",
       "5. '13'\n",
       "6. '14'\n",
       "7. '15'\n",
       "8. '16'\n",
       "9. '17'\n",
       "10. '18'\n",
       "11. '19'\n",
       "12. '2'\n",
       "13. '20'\n",
       "14. '21'\n",
       "15. '22'\n",
       "16. '3'\n",
       "17. '4'\n",
       "18. '5'\n",
       "19. '6'\n",
       "20. '7'\n",
       "21. '8'\n",
       "22. '9'\n",
       "23. 'GL000009.2'\n",
       "24. 'GL000194.1'\n",
       "25. 'GL000195.1'\n",
       "26. 'GL000205.2'\n",
       "27. 'GL000213.1'\n",
       "28. 'GL000216.2'\n",
       "29. 'GL000218.1'\n",
       "30. 'GL000219.1'\n",
       "31. 'GL000220.1'\n",
       "32. 'GL000225.1'\n",
       "33. 'KI270442.1'\n",
       "34. 'KI270711.1'\n",
       "35. 'KI270713.1'\n",
       "36. 'KI270721.1'\n",
       "37. 'KI270726.1'\n",
       "38. 'KI270727.1'\n",
       "39. 'KI270728.1'\n",
       "40. 'KI270731.1'\n",
       "41. 'KI270733.1'\n",
       "42. 'KI270734.1'\n",
       "43. 'KI270744.1'\n",
       "44. 'KI270750.1'\n",
       "45. 'MT'\n",
       "46. 'X'\n",
       "47. 'Y'\n",
       "\n",
       "\n"
      ],
      "text/plain": [
       " [1] \"1\"          \"10\"         \"11\"         \"12\"         \"13\"        \n",
       " [6] \"14\"         \"15\"         \"16\"         \"17\"         \"18\"        \n",
       "[11] \"19\"         \"2\"          \"20\"         \"21\"         \"22\"        \n",
       "[16] \"3\"          \"4\"          \"5\"          \"6\"          \"7\"         \n",
       "[21] \"8\"          \"9\"          \"GL000009.2\" \"GL000194.1\" \"GL000195.1\"\n",
       "[26] \"GL000205.2\" \"GL000213.1\" \"GL000216.2\" \"GL000218.1\" \"GL000219.1\"\n",
       "[31] \"GL000220.1\" \"GL000225.1\" \"KI270442.1\" \"KI270711.1\" \"KI270713.1\"\n",
       "[36] \"KI270721.1\" \"KI270726.1\" \"KI270727.1\" \"KI270728.1\" \"KI270731.1\"\n",
       "[41] \"KI270733.1\" \"KI270734.1\" \"KI270744.1\" \"KI270750.1\" \"MT\"        \n",
       "[46] \"X\"          \"Y\"         "
      ]
     },
     "metadata": {},
     "output_type": "display_data"
    }
   ],
   "source": [
    "#Drop rows with conditions using subset function:\n",
    "chr <- factor (dat$chromosome_name)\n",
    "levels(chr)"
   ]
  },
  {
   "cell_type": "code",
   "execution_count": 26,
   "metadata": {},
   "outputs": [
    {
     "data": {
      "text/html": [
       "<style>\n",
       ".list-inline {list-style: none; margin:0; padding: 0}\n",
       ".list-inline>li {display: inline-block}\n",
       ".list-inline>li:not(:last-child)::after {content: \"\\00b7\"; padding: 0 .5ex}\n",
       "</style>\n",
       "<ol class=list-inline><li>39238</li><li>84</li></ol>\n"
      ],
      "text/latex": [
       "\\begin{enumerate*}\n",
       "\\item 39238\n",
       "\\item 84\n",
       "\\end{enumerate*}\n"
      ],
      "text/markdown": [
       "1. 39238\n",
       "2. 84\n",
       "\n",
       "\n"
      ],
      "text/plain": [
       "[1] 39238    84"
      ]
     },
     "metadata": {},
     "output_type": "display_data"
    }
   ],
   "source": [
    "#drop MT genes\n",
    "mt <- subset(dropdupl, chromosome_name!=\"MT\")\n",
    "dim (mt)"
   ]
  },
  {
   "cell_type": "code",
   "execution_count": 27,
   "metadata": {},
   "outputs": [
    {
     "data": {
      "text/html": [
       "<style>\n",
       ".list-inline {list-style: none; margin:0; padding: 0}\n",
       ".list-inline>li {display: inline-block}\n",
       ".list-inline>li:not(:last-child)::after {content: \"\\00b7\"; padding: 0 .5ex}\n",
       "</style>\n",
       "<ol class=list-inline><li>39237</li><li>84</li></ol>\n"
      ],
      "text/latex": [
       "\\begin{enumerate*}\n",
       "\\item 39237\n",
       "\\item 84\n",
       "\\end{enumerate*}\n"
      ],
      "text/markdown": [
       "1. 39237\n",
       "2. 84\n",
       "\n",
       "\n"
      ],
      "text/plain": [
       "[1] 39237    84"
      ]
     },
     "metadata": {},
     "output_type": "display_data"
    }
   ],
   "source": [
    "#drop KI scaffold genes\n",
    "ki <- filter(mt, !grepl(\"^KI\",mt$chromosome_name)) #works\n",
    "dim (ki)\n"
   ]
  },
  {
   "cell_type": "code",
   "execution_count": 28,
   "metadata": {},
   "outputs": [
    {
     "data": {
      "text/html": [
       "<style>\n",
       ".list-inline {list-style: none; margin:0; padding: 0}\n",
       ".list-inline>li {display: inline-block}\n",
       ".list-inline>li:not(:last-child)::after {content: \"\\00b7\"; padding: 0 .5ex}\n",
       "</style>\n",
       "<ol class=list-inline><li>39235</li><li>84</li></ol>\n"
      ],
      "text/latex": [
       "\\begin{enumerate*}\n",
       "\\item 39235\n",
       "\\item 84\n",
       "\\end{enumerate*}\n"
      ],
      "text/markdown": [
       "1. 39235\n",
       "2. 84\n",
       "\n",
       "\n"
      ],
      "text/plain": [
       "[1] 39235    84"
      ]
     },
     "metadata": {},
     "output_type": "display_data"
    }
   ],
   "source": [
    "#drop GL scaffold genes\n",
    "gl <- filter(ki, !grepl(\"^GL\",ki$chromosome_name)) #works\n",
    "dim (gl)"
   ]
  },
  {
   "cell_type": "code",
   "execution_count": 29,
   "metadata": {},
   "outputs": [],
   "source": [
    "#hgnc is unique?\n",
    "\n",
    "test<- gl$hgnc_symbol\n"
   ]
  },
  {
   "cell_type": "code",
   "execution_count": 30,
   "metadata": {},
   "outputs": [
    {
     "data": {
      "text/html": [
       "TRUE"
      ],
      "text/latex": [
       "TRUE"
      ],
      "text/markdown": [
       "TRUE"
      ],
      "text/plain": [
       "[1] TRUE"
      ]
     },
     "metadata": {},
     "output_type": "display_data"
    }
   ],
   "source": [
    "isUnique <- function(vector){\n",
    "                 return(!any(duplicated(vector)))\n",
    "           }\n",
    "isUnique(test)"
   ]
  },
  {
   "cell_type": "code",
   "execution_count": 31,
   "metadata": {},
   "outputs": [],
   "source": [
    "#entrez ID is unique?\n",
    "\n",
    "test<- gl$entrezgene_id"
   ]
  },
  {
   "cell_type": "code",
   "execution_count": 32,
   "metadata": {},
   "outputs": [
    {
     "data": {
      "text/html": [
       "FALSE"
      ],
      "text/latex": [
       "FALSE"
      ],
      "text/markdown": [
       "FALSE"
      ],
      "text/plain": [
       "[1] FALSE"
      ]
     },
     "metadata": {},
     "output_type": "display_data"
    }
   ],
   "source": [
    "isUnique <- function(vector){\n",
    "                 return(!any(duplicated(vector)))\n",
    "           }\n",
    "isUnique(test)"
   ]
  },
  {
   "cell_type": "code",
   "execution_count": 33,
   "metadata": {},
   "outputs": [
    {
     "data": {
      "text/html": [
       "<style>\n",
       ".list-inline {list-style: none; margin:0; padding: 0}\n",
       ".list-inline>li {display: inline-block}\n",
       ".list-inline>li:not(:last-child)::after {content: \"\\00b7\"; padding: 0 .5ex}\n",
       "</style>\n",
       "<ol class=list-inline><li>24518</li><li>84</li></ol>\n"
      ],
      "text/latex": [
       "\\begin{enumerate*}\n",
       "\\item 24518\n",
       "\\item 84\n",
       "\\end{enumerate*}\n"
      ],
      "text/markdown": [
       "1. 24518\n",
       "2. 84\n",
       "\n",
       "\n"
      ],
      "text/plain": [
       "[1] 24518    84"
      ]
     },
     "metadata": {},
     "output_type": "display_data"
    },
    {
     "data": {
      "text/html": [
       "<style>\n",
       ".list-inline {list-style: none; margin:0; padding: 0}\n",
       ".list-inline>li {display: inline-block}\n",
       ".list-inline>li:not(:last-child)::after {content: \"\\00b7\"; padding: 0 .5ex}\n",
       "</style>\n",
       "<ol class=list-inline><li>39235</li><li>84</li></ol>\n"
      ],
      "text/latex": [
       "\\begin{enumerate*}\n",
       "\\item 39235\n",
       "\\item 84\n",
       "\\end{enumerate*}\n"
      ],
      "text/markdown": [
       "1. 39235\n",
       "2. 84\n",
       "\n",
       "\n"
      ],
      "text/plain": [
       "[1] 39235    84"
      ]
     },
     "metadata": {},
     "output_type": "display_data"
    }
   ],
   "source": [
    "dropID <- gl[!duplicated(gl$entrezgene_id),]\n",
    "\n",
    "dim (dropID)\n",
    "dim (gl)"
   ]
  },
  {
   "cell_type": "code",
   "execution_count": 34,
   "metadata": {},
   "outputs": [
    {
     "data": {
      "text/html": [
       "TRUE"
      ],
      "text/latex": [
       "TRUE"
      ],
      "text/markdown": [
       "TRUE"
      ],
      "text/plain": [
       "[1] TRUE"
      ]
     },
     "metadata": {},
     "output_type": "display_data"
    }
   ],
   "source": [
    "isUnique(dropID)"
   ]
  },
  {
   "cell_type": "code",
   "execution_count": 35,
   "metadata": {},
   "outputs": [
    {
     "data": {
      "text/html": [
       "<table class=\"dataframe\">\n",
       "<caption>A data.frame: 6 × 84</caption>\n",
       "<thead>\n",
       "\t<tr><th></th><th scope=col>gene_id</th><th scope=col>EtOH_x_24h_R1</th><th scope=col>EtOH_x_24h_R2</th><th scope=col>EtOH_x_24h_R3</th><th scope=col>EtOH_x_4h_R1</th><th scope=col>EtOH_x_4h_R2</th><th scope=col>EtOH_x_4h_R3</th><th scope=col>EtOH_x_8h_R1</th><th scope=col>EtOH_x_8h_R2</th><th scope=col>EtOH_x_8h_R3</th><th scope=col>⋯</th><th scope=col>ensembl_gene_id</th><th scope=col>entrezgene_id</th><th scope=col>external_gene_name</th><th scope=col>hgnc_symbol</th><th scope=col>description</th><th scope=col>chromosome_name</th><th scope=col>start_position</th><th scope=col>end_position</th><th scope=col>gene_biotype</th><th scope=col>strand</th></tr>\n",
       "\t<tr><th></th><th scope=col>&lt;chr&gt;</th><th scope=col>&lt;dbl&gt;</th><th scope=col>&lt;dbl&gt;</th><th scope=col>&lt;dbl&gt;</th><th scope=col>&lt;dbl&gt;</th><th scope=col>&lt;dbl&gt;</th><th scope=col>&lt;dbl&gt;</th><th scope=col>&lt;dbl&gt;</th><th scope=col>&lt;dbl&gt;</th><th scope=col>&lt;dbl&gt;</th><th scope=col>⋯</th><th scope=col>&lt;chr&gt;</th><th scope=col>&lt;int&gt;</th><th scope=col>&lt;chr&gt;</th><th scope=col>&lt;chr&gt;</th><th scope=col>&lt;chr&gt;</th><th scope=col>&lt;chr&gt;</th><th scope=col>&lt;int&gt;</th><th scope=col>&lt;int&gt;</th><th scope=col>&lt;chr&gt;</th><th scope=col>&lt;int&gt;</th></tr>\n",
       "</thead>\n",
       "<tbody>\n",
       "\t<tr><th scope=row>1</th><td>ENSG00000251562</td><td>247628.00</td><td>159590.00</td><td>240717.00</td><td>171888.00</td><td>162884.00</td><td>123218.00</td><td>195379.00</td><td>286562.00</td><td>258203.00</td><td>⋯</td><td>ENSG00000251562</td><td>378938</td><td>MALAT1</td><td>MALAT1</td><td>metastasis associated lung adenocarcinoma transcript 1</td><td>11</td><td>65497688</td><td>65506516</td><td>lncRNA        </td><td> 1</td></tr>\n",
       "\t<tr><th scope=row>2</th><td>ENSG00000156508</td><td> 60775.70</td><td> 36756.48</td><td> 46582.43</td><td> 37846.41</td><td> 35743.96</td><td> 29848.29</td><td> 41801.00</td><td> 61261.94</td><td> 67442.56</td><td>⋯</td><td>ENSG00000156508</td><td>  1915</td><td>EEF1A1</td><td>EEF1A1</td><td>eukaryotic translation elongation factor 1 alpha 1    </td><td>6 </td><td>73489308</td><td>73525587</td><td>protein coding</td><td>-1</td></tr>\n",
       "\t<tr><th scope=row>3</th><td>ENSG00000137801</td><td> 21645.00</td><td> 11172.00</td><td> 20194.00</td><td> 42044.00</td><td> 39283.00</td><td> 28412.00</td><td> 56997.00</td><td> 82207.00</td><td> 70708.00</td><td>⋯</td><td>ENSG00000137801</td><td>  7057</td><td>THBS1 </td><td>THBS1 </td><td>thrombospondin 1                                      </td><td>15</td><td>39581079</td><td>39599466</td><td>protein coding</td><td> 1</td></tr>\n",
       "\t<tr><th scope=row>4</th><td>ENSG00000124942</td><td> 32367.00</td><td> 20048.00</td><td> 31599.00</td><td> 19041.00</td><td> 17841.00</td><td> 14409.00</td><td> 24314.00</td><td> 35440.00</td><td> 40691.00</td><td>⋯</td><td>ENSG00000124942</td><td> 79026</td><td>AHNAK </td><td>AHNAK </td><td>AHNAK nucleoprotein                                   </td><td>11</td><td>62433542</td><td>62556235</td><td>protein coding</td><td>-1</td></tr>\n",
       "\t<tr><th scope=row>5</th><td>ENSG00000075624</td><td> 54915.86</td><td> 28939.51</td><td> 35311.03</td><td> 13455.77</td><td> 12195.00</td><td> 10414.00</td><td> 19042.83</td><td> 27443.00</td><td> 27813.81</td><td>⋯</td><td>ENSG00000075624</td><td>    60</td><td>ACTB  </td><td>ACTB  </td><td>actin beta                                            </td><td>7 </td><td> 5526409</td><td> 5563902</td><td>protein coding</td><td>-1</td></tr>\n",
       "\t<tr><th scope=row>6</th><td>ENSG00000234745</td><td> 27599.65</td><td> 16239.46</td><td> 20550.06</td><td> 15298.02</td><td> 14933.48</td><td> 12658.56</td><td> 17392.44</td><td> 25332.35</td><td> 28814.25</td><td>⋯</td><td>ENSG00000234745</td><td>  3106</td><td>HLA-B </td><td>HLA-B </td><td>major histocompatibility complex, class I, B          </td><td>6 </td><td>31353872</td><td>31357188</td><td>protein coding</td><td>-1</td></tr>\n",
       "</tbody>\n",
       "</table>\n"
      ],
      "text/latex": [
       "A data.frame: 6 × 84\n",
       "\\begin{tabular}{r|lllllllllllllllllllll}\n",
       "  & gene\\_id & EtOH\\_x\\_24h\\_R1 & EtOH\\_x\\_24h\\_R2 & EtOH\\_x\\_24h\\_R3 & EtOH\\_x\\_4h\\_R1 & EtOH\\_x\\_4h\\_R2 & EtOH\\_x\\_4h\\_R3 & EtOH\\_x\\_8h\\_R1 & EtOH\\_x\\_8h\\_R2 & EtOH\\_x\\_8h\\_R3 & ⋯ & ensembl\\_gene\\_id & entrezgene\\_id & external\\_gene\\_name & hgnc\\_symbol & description & chromosome\\_name & start\\_position & end\\_position & gene\\_biotype & strand\\\\\n",
       "  & <chr> & <dbl> & <dbl> & <dbl> & <dbl> & <dbl> & <dbl> & <dbl> & <dbl> & <dbl> & ⋯ & <chr> & <int> & <chr> & <chr> & <chr> & <chr> & <int> & <int> & <chr> & <int>\\\\\n",
       "\\hline\n",
       "\t1 & ENSG00000251562 & 247628.00 & 159590.00 & 240717.00 & 171888.00 & 162884.00 & 123218.00 & 195379.00 & 286562.00 & 258203.00 & ⋯ & ENSG00000251562 & 378938 & MALAT1 & MALAT1 & metastasis associated lung adenocarcinoma transcript 1 & 11 & 65497688 & 65506516 & lncRNA         &  1\\\\\n",
       "\t2 & ENSG00000156508 &  60775.70 &  36756.48 &  46582.43 &  37846.41 &  35743.96 &  29848.29 &  41801.00 &  61261.94 &  67442.56 & ⋯ & ENSG00000156508 &   1915 & EEF1A1 & EEF1A1 & eukaryotic translation elongation factor 1 alpha 1     & 6  & 73489308 & 73525587 & protein coding & -1\\\\\n",
       "\t3 & ENSG00000137801 &  21645.00 &  11172.00 &  20194.00 &  42044.00 &  39283.00 &  28412.00 &  56997.00 &  82207.00 &  70708.00 & ⋯ & ENSG00000137801 &   7057 & THBS1  & THBS1  & thrombospondin 1                                       & 15 & 39581079 & 39599466 & protein coding &  1\\\\\n",
       "\t4 & ENSG00000124942 &  32367.00 &  20048.00 &  31599.00 &  19041.00 &  17841.00 &  14409.00 &  24314.00 &  35440.00 &  40691.00 & ⋯ & ENSG00000124942 &  79026 & AHNAK  & AHNAK  & AHNAK nucleoprotein                                    & 11 & 62433542 & 62556235 & protein coding & -1\\\\\n",
       "\t5 & ENSG00000075624 &  54915.86 &  28939.51 &  35311.03 &  13455.77 &  12195.00 &  10414.00 &  19042.83 &  27443.00 &  27813.81 & ⋯ & ENSG00000075624 &     60 & ACTB   & ACTB   & actin beta                                             & 7  &  5526409 &  5563902 & protein coding & -1\\\\\n",
       "\t6 & ENSG00000234745 &  27599.65 &  16239.46 &  20550.06 &  15298.02 &  14933.48 &  12658.56 &  17392.44 &  25332.35 &  28814.25 & ⋯ & ENSG00000234745 &   3106 & HLA-B  & HLA-B  & major histocompatibility complex, class I, B           & 6  & 31353872 & 31357188 & protein coding & -1\\\\\n",
       "\\end{tabular}\n"
      ],
      "text/markdown": [
       "\n",
       "A data.frame: 6 × 84\n",
       "\n",
       "| <!--/--> | gene_id &lt;chr&gt; | EtOH_x_24h_R1 &lt;dbl&gt; | EtOH_x_24h_R2 &lt;dbl&gt; | EtOH_x_24h_R3 &lt;dbl&gt; | EtOH_x_4h_R1 &lt;dbl&gt; | EtOH_x_4h_R2 &lt;dbl&gt; | EtOH_x_4h_R3 &lt;dbl&gt; | EtOH_x_8h_R1 &lt;dbl&gt; | EtOH_x_8h_R2 &lt;dbl&gt; | EtOH_x_8h_R3 &lt;dbl&gt; | ⋯ ⋯ | ensembl_gene_id &lt;chr&gt; | entrezgene_id &lt;int&gt; | external_gene_name &lt;chr&gt; | hgnc_symbol &lt;chr&gt; | description &lt;chr&gt; | chromosome_name &lt;chr&gt; | start_position &lt;int&gt; | end_position &lt;int&gt; | gene_biotype &lt;chr&gt; | strand &lt;int&gt; |\n",
       "|---|---|---|---|---|---|---|---|---|---|---|---|---|---|---|---|---|---|---|---|---|---|\n",
       "| 1 | ENSG00000251562 | 247628.00 | 159590.00 | 240717.00 | 171888.00 | 162884.00 | 123218.00 | 195379.00 | 286562.00 | 258203.00 | ⋯ | ENSG00000251562 | 378938 | MALAT1 | MALAT1 | metastasis associated lung adenocarcinoma transcript 1 | 11 | 65497688 | 65506516 | lncRNA         |  1 |\n",
       "| 2 | ENSG00000156508 |  60775.70 |  36756.48 |  46582.43 |  37846.41 |  35743.96 |  29848.29 |  41801.00 |  61261.94 |  67442.56 | ⋯ | ENSG00000156508 |   1915 | EEF1A1 | EEF1A1 | eukaryotic translation elongation factor 1 alpha 1     | 6  | 73489308 | 73525587 | protein coding | -1 |\n",
       "| 3 | ENSG00000137801 |  21645.00 |  11172.00 |  20194.00 |  42044.00 |  39283.00 |  28412.00 |  56997.00 |  82207.00 |  70708.00 | ⋯ | ENSG00000137801 |   7057 | THBS1  | THBS1  | thrombospondin 1                                       | 15 | 39581079 | 39599466 | protein coding |  1 |\n",
       "| 4 | ENSG00000124942 |  32367.00 |  20048.00 |  31599.00 |  19041.00 |  17841.00 |  14409.00 |  24314.00 |  35440.00 |  40691.00 | ⋯ | ENSG00000124942 |  79026 | AHNAK  | AHNAK  | AHNAK nucleoprotein                                    | 11 | 62433542 | 62556235 | protein coding | -1 |\n",
       "| 5 | ENSG00000075624 |  54915.86 |  28939.51 |  35311.03 |  13455.77 |  12195.00 |  10414.00 |  19042.83 |  27443.00 |  27813.81 | ⋯ | ENSG00000075624 |     60 | ACTB   | ACTB   | actin beta                                             | 7  |  5526409 |  5563902 | protein coding | -1 |\n",
       "| 6 | ENSG00000234745 |  27599.65 |  16239.46 |  20550.06 |  15298.02 |  14933.48 |  12658.56 |  17392.44 |  25332.35 |  28814.25 | ⋯ | ENSG00000234745 |   3106 | HLA-B  | HLA-B  | major histocompatibility complex, class I, B           | 6  | 31353872 | 31357188 | protein coding | -1 |\n",
       "\n"
      ],
      "text/plain": [
       "  gene_id         EtOH_x_24h_R1 EtOH_x_24h_R2 EtOH_x_24h_R3 EtOH_x_4h_R1\n",
       "1 ENSG00000251562 247628.00     159590.00     240717.00     171888.00   \n",
       "2 ENSG00000156508  60775.70      36756.48      46582.43      37846.41   \n",
       "3 ENSG00000137801  21645.00      11172.00      20194.00      42044.00   \n",
       "4 ENSG00000124942  32367.00      20048.00      31599.00      19041.00   \n",
       "5 ENSG00000075624  54915.86      28939.51      35311.03      13455.77   \n",
       "6 ENSG00000234745  27599.65      16239.46      20550.06      15298.02   \n",
       "  EtOH_x_4h_R2 EtOH_x_4h_R3 EtOH_x_8h_R1 EtOH_x_8h_R2 EtOH_x_8h_R3 <U+22EF>  \n",
       "1 162884.00    123218.00    195379.00    286562.00    258203.00    <U+22EF>\n",
       "2  35743.96     29848.29     41801.00     61261.94     67442.56    <U+22EF>\n",
       "3  39283.00     28412.00     56997.00     82207.00     70708.00    <U+22EF>\n",
       "4  17841.00     14409.00     24314.00     35440.00     40691.00    <U+22EF>\n",
       "5  12195.00     10414.00     19042.83     27443.00     27813.81    <U+22EF>\n",
       "6  14933.48     12658.56     17392.44     25332.35     28814.25    <U+22EF>\n",
       "  ensembl_gene_id entrezgene_id external_gene_name hgnc_symbol\n",
       "1 ENSG00000251562 378938        MALAT1             MALAT1     \n",
       "2 ENSG00000156508   1915        EEF1A1             EEF1A1     \n",
       "3 ENSG00000137801   7057        THBS1              THBS1      \n",
       "4 ENSG00000124942  79026        AHNAK              AHNAK      \n",
       "5 ENSG00000075624     60        ACTB               ACTB       \n",
       "6 ENSG00000234745   3106        HLA-B              HLA-B      \n",
       "  description                                            chromosome_name\n",
       "1 metastasis associated lung adenocarcinoma transcript 1 11             \n",
       "2 eukaryotic translation elongation factor 1 alpha 1     6              \n",
       "3 thrombospondin 1                                       15             \n",
       "4 AHNAK nucleoprotein                                    11             \n",
       "5 actin beta                                             7              \n",
       "6 major histocompatibility complex, class I, B           6              \n",
       "  start_position end_position gene_biotype   strand\n",
       "1 65497688       65506516     lncRNA          1    \n",
       "2 73489308       73525587     protein coding -1    \n",
       "3 39581079       39599466     protein coding  1    \n",
       "4 62433542       62556235     protein coding -1    \n",
       "5  5526409        5563902     protein coding -1    \n",
       "6 31353872       31357188     protein coding -1    "
      ]
     },
     "metadata": {},
     "output_type": "display_data"
    }
   ],
   "source": [
    "head (dropID)"
   ]
  },
  {
   "cell_type": "code",
   "execution_count": 36,
   "metadata": {},
   "outputs": [],
   "source": [
    "write.table (dropID, file = \"./data/salmon.merged.gene_counts_annotated_CA2021.tsv\",\n",
    "             sep = \"\\t\",\n",
    "           row.names =T\n",
    "            )"
   ]
  },
  {
   "cell_type": "code",
   "execution_count": 37,
   "metadata": {},
   "outputs": [
    {
     "data": {
      "text/plain": [
       "R version 4.0.2 (2020-06-22)\n",
       "Platform: x86_64-conda_cos6-linux-gnu (64-bit)\n",
       "Running under: CentOS Linux 7 (Core)\n",
       "\n",
       "Matrix products: default\n",
       "BLAS/LAPACK: /home/users/andreha/miniconda3/envs/Fragile-like-a-bomb/lib/libopenblasp-r0.3.10.so\n",
       "\n",
       "locale:\n",
       " [1] LC_CTYPE=C                 LC_NUMERIC=C              \n",
       " [3] LC_TIME=en_US.UTF-8        LC_COLLATE=en_US.UTF-8    \n",
       " [5] LC_MONETARY=en_US.UTF-8    LC_MESSAGES=en_US.UTF-8   \n",
       " [7] LC_PAPER=en_US.UTF-8       LC_NAME=C                 \n",
       " [9] LC_ADDRESS=C               LC_TELEPHONE=C            \n",
       "[11] LC_MEASUREMENT=en_US.UTF-8 LC_IDENTIFICATION=C       \n",
       "\n",
       "attached base packages:\n",
       "[1] stats     graphics  grDevices utils     datasets  methods   base     \n",
       "\n",
       "other attached packages:\n",
       "[1] biomaRt_2.46.0 httr_1.4.2     magrittr_2.0.1 dplyr_1.0.4   \n",
       "\n",
       "loaded via a namespace (and not attached):\n",
       " [1] pbdZMQ_0.3-5         progress_1.2.2       tidyselect_1.1.0    \n",
       " [4] repr_1.1.3           purrr_0.3.4          vctrs_0.3.6         \n",
       " [7] generics_0.1.0       htmltools_0.5.1.1    stats4_4.0.2        \n",
       "[10] BiocFileCache_1.14.0 base64enc_0.1-3      utf8_1.1.4          \n",
       "[13] blob_1.2.1           XML_3.99-0.5         rlang_0.4.10        \n",
       "[16] pillar_1.5.0         withr_2.4.1          glue_1.4.2          \n",
       "[19] DBI_1.1.1            rappdirs_0.3.3       BiocGenerics_0.36.0 \n",
       "[22] bit64_4.0.5          dbplyr_2.1.0         uuid_0.1-4          \n",
       "[25] lifecycle_1.0.0      stringr_1.4.0        evaluate_0.14       \n",
       "[28] memoise_2.0.0        Biobase_2.50.0       IRanges_2.24.0      \n",
       "[31] fastmap_1.1.0        parallel_4.0.2       curl_4.3            \n",
       "[34] AnnotationDbi_1.52.0 fansi_0.4.2          IRdisplay_1.0       \n",
       "[37] Rcpp_1.0.6           openssl_1.4.3        cachem_1.0.4        \n",
       "[40] IRkernel_1.1.1       S4Vectors_0.28.0     jsonlite_1.7.2      \n",
       "[43] bit_4.0.4            hms_1.0.0            askpass_1.1         \n",
       "[46] digest_0.6.27        stringi_1.5.3        tools_4.0.2         \n",
       "[49] tibble_3.0.6         RSQLite_2.2.3        crayon_1.4.1        \n",
       "[52] pkgconfig_2.0.3      ellipsis_0.3.1       xml2_1.3.2          \n",
       "[55] prettyunits_1.1.1    assertthat_0.2.1     R6_2.5.0            \n",
       "[58] compiler_4.0.2      "
      ]
     },
     "metadata": {},
     "output_type": "display_data"
    }
   ],
   "source": [
    "sessionInfo()"
   ]
  },
  {
   "cell_type": "code",
   "execution_count": null,
   "metadata": {},
   "outputs": [],
   "source": []
  },
  {
   "cell_type": "code",
   "execution_count": null,
   "metadata": {},
   "outputs": [],
   "source": []
  }
 ],
 "metadata": {
  "kernelspec": {
   "display_name": "R",
   "language": "R",
   "name": "ir"
  },
  "language_info": {
   "codemirror_mode": "r",
   "file_extension": ".r",
   "mimetype": "text/x-r-source",
   "name": "R",
   "pygments_lexer": "r",
   "version": "4.1.2"
  }
 },
 "nbformat": 4,
 "nbformat_minor": 4
}
