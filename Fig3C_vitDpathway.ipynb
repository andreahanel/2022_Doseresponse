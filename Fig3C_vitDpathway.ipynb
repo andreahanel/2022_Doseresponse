{
 "cells": [
  {
   "cell_type": "code",
   "execution_count": 1,
   "id": "c1b8577a-ed05-4ece-b479-b43b1f736a51",
   "metadata": {},
   "outputs": [
    {
     "name": "stderr",
     "output_type": "stream",
     "text": [
      "── \u001b[1mAttaching packages\u001b[22m ──────────────────────────────────────────────────────────────────────────────────────────────────────────────────────────────────────────────────────── tidyverse 1.3.1 ──\n",
      "\n",
      "\u001b[32m✔\u001b[39m \u001b[34mggplot2\u001b[39m 3.3.5     \u001b[32m✔\u001b[39m \u001b[34mpurrr  \u001b[39m 0.3.4\n",
      "\u001b[32m✔\u001b[39m \u001b[34mtibble \u001b[39m 3.1.6     \u001b[32m✔\u001b[39m \u001b[34mdplyr  \u001b[39m 1.0.7\n",
      "\u001b[32m✔\u001b[39m \u001b[34mtidyr  \u001b[39m 1.1.4     \u001b[32m✔\u001b[39m \u001b[34mstringr\u001b[39m 1.4.0\n",
      "\u001b[32m✔\u001b[39m \u001b[34mreadr  \u001b[39m 2.1.1     \u001b[32m✔\u001b[39m \u001b[34mforcats\u001b[39m 0.5.1\n",
      "\n",
      "── \u001b[1mConflicts\u001b[22m ─────────────────────────────────────────────────────────────────────────────────────────────────────────────────────────────────────────────────────────── tidyverse_conflicts() ──\n",
      "\u001b[31m✖\u001b[39m \u001b[34mdplyr\u001b[39m::\u001b[32mfilter()\u001b[39m masks \u001b[34mstats\u001b[39m::filter()\n",
      "\u001b[31m✖\u001b[39m \u001b[34mdplyr\u001b[39m::\u001b[32mlag()\u001b[39m    masks \u001b[34mstats\u001b[39m::lag()\n",
      "\n",
      "\n",
      "Attaching package: ‘magrittr’\n",
      "\n",
      "\n",
      "The following object is masked from ‘package:purrr’:\n",
      "\n",
      "    set_names\n",
      "\n",
      "\n",
      "The following object is masked from ‘package:tidyr’:\n",
      "\n",
      "    extract\n",
      "\n",
      "\n",
      "\n",
      "Attaching package: ‘reshape2’\n",
      "\n",
      "\n",
      "The following object is masked from ‘package:tidyr’:\n",
      "\n",
      "    smiths\n",
      "\n",
      "\n",
      "\n",
      "Attaching package: ‘ggpubr’\n",
      "\n",
      "\n",
      "The following object is masked from ‘package:cowplot’:\n",
      "\n",
      "    get_legend\n",
      "\n",
      "\n"
     ]
    }
   ],
   "source": [
    "#library(edgeR)\n",
    "#library(RColorBrewer)\n",
    "library (tidyverse)\n",
    "library (openxlsx)\n",
    "library(magrittr)  \n",
    "library (statmod)\n",
    "library(ggrepel)\n",
    "library (cowplot)\n",
    "#library (circlize)\n",
    "library (reshape2)\n",
    "library (readr)\n",
    "library (ggpubr)\n",
    "#library (eulerr)\n",
    "#library (ComplexHeatmap)"
   ]
  },
  {
   "cell_type": "code",
   "execution_count": 2,
   "id": "572a66ad-0c37-4498-bf61-024d2d738f35",
   "metadata": {},
   "outputs": [],
   "source": [
    "fig <- function(width, heigth){\n",
    "options(repr.plot.width = width, repr.plot.height = heigth) }"
   ]
  },
  {
   "cell_type": "code",
   "execution_count": 5,
   "id": "372553b2-911d-43c0-9736-f7984f930010",
   "metadata": {},
   "outputs": [],
   "source": [
    "#long = read.table(\"./data/expressiontable_nonlog.tsv\", sep = '\\t',  header = T)\n",
    "long = read.table(\"./data/f_CA2021_inlog_FC15_FC2_evidence-threshold_final.tsv\", sep = '\\t', header = T, row.names =1)#row.names =1, \n",
    "#long = read.table(\"../2022_Doseresponse/data/f_CA2021_inlog_FC15_FC2_evidence-threshold_v3.tsv\", sep = '\\t', header = T, row.names =1)#row.names =1, "
   ]
  },
  {
   "cell_type": "code",
   "execution_count": 6,
   "id": "54ef7a41-e146-445c-84d9-d9015a4d1336",
   "metadata": {},
   "outputs": [],
   "source": [
    "metabol = c(\"DHCR7\", \"CYP2R1\", \"CYP27A1\", \"CYP27B1\", \"CYP24A1\")"
   ]
  },
  {
   "cell_type": "code",
   "execution_count": 7,
   "id": "0f8a2c33-c5de-4623-9194-53e0e0acbd55",
   "metadata": {},
   "outputs": [
    {
     "data": {
      "text/html": [
       "<table class=\"dataframe\">\n",
       "<caption>A data.frame: 5 × 150</caption>\n",
       "<thead>\n",
       "\t<tr><th></th><th scope=col>EtOH_x_04h_R1</th><th scope=col>EtOH_x_04h_R2</th><th scope=col>EtOH_x_04h_R3</th><th scope=col>EtOH_x_08h_R1</th><th scope=col>EtOH_x_08h_R2</th><th scope=col>EtOH_x_08h_R3</th><th scope=col>EtOH_x_24h_R1</th><th scope=col>EtOH_x_24h_R2</th><th scope=col>EtOH_x_24h_R3</th><th scope=col>V125D3_0.1nM_24h_R1</th><th scope=col>⋯</th><th scope=col>ensembl_gene_id</th><th scope=col>entrezgene_id</th><th scope=col>external_gene_name</th><th scope=col>description</th><th scope=col>chromosome_name</th><th scope=col>start_position</th><th scope=col>end_position</th><th scope=col>gene_biotype</th><th scope=col>strand</th><th scope=col>ref_206</th></tr>\n",
       "\t<tr><th></th><th scope=col>&lt;dbl&gt;</th><th scope=col>&lt;dbl&gt;</th><th scope=col>&lt;dbl&gt;</th><th scope=col>&lt;dbl&gt;</th><th scope=col>&lt;dbl&gt;</th><th scope=col>&lt;dbl&gt;</th><th scope=col>&lt;dbl&gt;</th><th scope=col>&lt;dbl&gt;</th><th scope=col>&lt;dbl&gt;</th><th scope=col>&lt;dbl&gt;</th><th scope=col>⋯</th><th scope=col>&lt;chr&gt;</th><th scope=col>&lt;int&gt;</th><th scope=col>&lt;chr&gt;</th><th scope=col>&lt;chr&gt;</th><th scope=col>&lt;chr&gt;</th><th scope=col>&lt;int&gt;</th><th scope=col>&lt;int&gt;</th><th scope=col>&lt;chr&gt;</th><th scope=col>&lt;int&gt;</th><th scope=col>&lt;chr&gt;</th></tr>\n",
       "</thead>\n",
       "<tbody>\n",
       "\t<tr><th scope=row>CYP24A1</th><td>0.1689674</td><td>0.4891467</td><td>0.6090954</td><td>8.619740</td><td>8.689233</td><td>8.570202</td><td>7.0281908</td><td>8.8271080</td><td>8.153132</td><td>8.137063</td><td>⋯</td><td>ENSG00000019186</td><td>  1591</td><td>CYP24A1</td><td>cytochrome P450 family 24 subfamily A member 1</td><td>20</td><td> 54153446</td><td> 54173986</td><td>protein coding</td><td>-1</td><td>yes</td></tr>\n",
       "\t<tr><th scope=row>CYP27A1</th><td>5.4053908</td><td>5.2811330</td><td>5.3165515</td><td>6.852982</td><td>6.834079</td><td>7.100526</td><td>6.6276068</td><td>6.6624312</td><td>7.083301</td><td>5.715863</td><td>⋯</td><td>ENSG00000135929</td><td>  1593</td><td>CYP27A1</td><td>cytochrome P450 family 27 subfamily A member 1</td><td>2 </td><td>218781749</td><td>218815293</td><td>protein coding</td><td> 1</td><td>yes</td></tr>\n",
       "\t<tr><th scope=row>CYP27B1</th><td>1.2430393</td><td>0.9497351</td><td>1.9255715</td><td>1.371835</td><td>0.732087</td><td>1.094899</td><td>0.9934789</td><td>0.6101155</td><td>1.001807</td><td>0.711605</td><td>⋯</td><td>ENSG00000111012</td><td>  1594</td><td>CYP27B1</td><td>cytochrome P450 family 27 subfamily B member 1</td><td>12</td><td> 57762334</td><td> 57768986</td><td>protein coding</td><td>-1</td><td>no </td></tr>\n",
       "\t<tr><th scope=row>CYP2R1</th><td>4.8683690</td><td>4.7267784</td><td>4.9579944</td><td>4.699841</td><td>4.757736</td><td>4.596382</td><td>4.6674173</td><td>4.6903097</td><td>4.529176</td><td>4.481318</td><td>⋯</td><td>ENSG00000186104</td><td>120227</td><td>CYP2R1 </td><td>cytochrome P450 family 2 subfamily R member 1 </td><td>11</td><td> 14877440</td><td> 14892231</td><td>protein coding</td><td>-1</td><td>no </td></tr>\n",
       "\t<tr><th scope=row>DHCR7</th><td>3.5621306</td><td>3.6426540</td><td>3.7594485</td><td>3.478896</td><td>3.676554</td><td>3.930056</td><td>3.5715549</td><td>3.3811279</td><td>3.523535</td><td>3.378461</td><td>⋯</td><td>ENSG00000172893</td><td>  1717</td><td>DHCR7  </td><td>7-dehydrocholesterol reductase                </td><td>11</td><td> 71428193</td><td> 71452868</td><td>protein coding</td><td>-1</td><td>no </td></tr>\n",
       "</tbody>\n",
       "</table>\n"
      ],
      "text/latex": [
       "A data.frame: 5 × 150\n",
       "\\begin{tabular}{r|lllllllllllllllllllll}\n",
       "  & EtOH\\_x\\_04h\\_R1 & EtOH\\_x\\_04h\\_R2 & EtOH\\_x\\_04h\\_R3 & EtOH\\_x\\_08h\\_R1 & EtOH\\_x\\_08h\\_R2 & EtOH\\_x\\_08h\\_R3 & EtOH\\_x\\_24h\\_R1 & EtOH\\_x\\_24h\\_R2 & EtOH\\_x\\_24h\\_R3 & V125D3\\_0.1nM\\_24h\\_R1 & ⋯ & ensembl\\_gene\\_id & entrezgene\\_id & external\\_gene\\_name & description & chromosome\\_name & start\\_position & end\\_position & gene\\_biotype & strand & ref\\_206\\\\\n",
       "  & <dbl> & <dbl> & <dbl> & <dbl> & <dbl> & <dbl> & <dbl> & <dbl> & <dbl> & <dbl> & ⋯ & <chr> & <int> & <chr> & <chr> & <chr> & <int> & <int> & <chr> & <int> & <chr>\\\\\n",
       "\\hline\n",
       "\tCYP24A1 & 0.1689674 & 0.4891467 & 0.6090954 & 8.619740 & 8.689233 & 8.570202 & 7.0281908 & 8.8271080 & 8.153132 & 8.137063 & ⋯ & ENSG00000019186 &   1591 & CYP24A1 & cytochrome P450 family 24 subfamily A member 1 & 20 &  54153446 &  54173986 & protein coding & -1 & yes\\\\\n",
       "\tCYP27A1 & 5.4053908 & 5.2811330 & 5.3165515 & 6.852982 & 6.834079 & 7.100526 & 6.6276068 & 6.6624312 & 7.083301 & 5.715863 & ⋯ & ENSG00000135929 &   1593 & CYP27A1 & cytochrome P450 family 27 subfamily A member 1 & 2  & 218781749 & 218815293 & protein coding &  1 & yes\\\\\n",
       "\tCYP27B1 & 1.2430393 & 0.9497351 & 1.9255715 & 1.371835 & 0.732087 & 1.094899 & 0.9934789 & 0.6101155 & 1.001807 & 0.711605 & ⋯ & ENSG00000111012 &   1594 & CYP27B1 & cytochrome P450 family 27 subfamily B member 1 & 12 &  57762334 &  57768986 & protein coding & -1 & no \\\\\n",
       "\tCYP2R1 & 4.8683690 & 4.7267784 & 4.9579944 & 4.699841 & 4.757736 & 4.596382 & 4.6674173 & 4.6903097 & 4.529176 & 4.481318 & ⋯ & ENSG00000186104 & 120227 & CYP2R1  & cytochrome P450 family 2 subfamily R member 1  & 11 &  14877440 &  14892231 & protein coding & -1 & no \\\\\n",
       "\tDHCR7 & 3.5621306 & 3.6426540 & 3.7594485 & 3.478896 & 3.676554 & 3.930056 & 3.5715549 & 3.3811279 & 3.523535 & 3.378461 & ⋯ & ENSG00000172893 &   1717 & DHCR7   & 7-dehydrocholesterol reductase                 & 11 &  71428193 &  71452868 & protein coding & -1 & no \\\\\n",
       "\\end{tabular}\n"
      ],
      "text/markdown": [
       "\n",
       "A data.frame: 5 × 150\n",
       "\n",
       "| <!--/--> | EtOH_x_04h_R1 &lt;dbl&gt; | EtOH_x_04h_R2 &lt;dbl&gt; | EtOH_x_04h_R3 &lt;dbl&gt; | EtOH_x_08h_R1 &lt;dbl&gt; | EtOH_x_08h_R2 &lt;dbl&gt; | EtOH_x_08h_R3 &lt;dbl&gt; | EtOH_x_24h_R1 &lt;dbl&gt; | EtOH_x_24h_R2 &lt;dbl&gt; | EtOH_x_24h_R3 &lt;dbl&gt; | V125D3_0.1nM_24h_R1 &lt;dbl&gt; | ⋯ ⋯ | ensembl_gene_id &lt;chr&gt; | entrezgene_id &lt;int&gt; | external_gene_name &lt;chr&gt; | description &lt;chr&gt; | chromosome_name &lt;chr&gt; | start_position &lt;int&gt; | end_position &lt;int&gt; | gene_biotype &lt;chr&gt; | strand &lt;int&gt; | ref_206 &lt;chr&gt; |\n",
       "|---|---|---|---|---|---|---|---|---|---|---|---|---|---|---|---|---|---|---|---|---|---|\n",
       "| CYP24A1 | 0.1689674 | 0.4891467 | 0.6090954 | 8.619740 | 8.689233 | 8.570202 | 7.0281908 | 8.8271080 | 8.153132 | 8.137063 | ⋯ | ENSG00000019186 |   1591 | CYP24A1 | cytochrome P450 family 24 subfamily A member 1 | 20 |  54153446 |  54173986 | protein coding | -1 | yes |\n",
       "| CYP27A1 | 5.4053908 | 5.2811330 | 5.3165515 | 6.852982 | 6.834079 | 7.100526 | 6.6276068 | 6.6624312 | 7.083301 | 5.715863 | ⋯ | ENSG00000135929 |   1593 | CYP27A1 | cytochrome P450 family 27 subfamily A member 1 | 2  | 218781749 | 218815293 | protein coding |  1 | yes |\n",
       "| CYP27B1 | 1.2430393 | 0.9497351 | 1.9255715 | 1.371835 | 0.732087 | 1.094899 | 0.9934789 | 0.6101155 | 1.001807 | 0.711605 | ⋯ | ENSG00000111012 |   1594 | CYP27B1 | cytochrome P450 family 27 subfamily B member 1 | 12 |  57762334 |  57768986 | protein coding | -1 | no  |\n",
       "| CYP2R1 | 4.8683690 | 4.7267784 | 4.9579944 | 4.699841 | 4.757736 | 4.596382 | 4.6674173 | 4.6903097 | 4.529176 | 4.481318 | ⋯ | ENSG00000186104 | 120227 | CYP2R1  | cytochrome P450 family 2 subfamily R member 1  | 11 |  14877440 |  14892231 | protein coding | -1 | no  |\n",
       "| DHCR7 | 3.5621306 | 3.6426540 | 3.7594485 | 3.478896 | 3.676554 | 3.930056 | 3.5715549 | 3.3811279 | 3.523535 | 3.378461 | ⋯ | ENSG00000172893 |   1717 | DHCR7   | 7-dehydrocholesterol reductase                 | 11 |  71428193 |  71452868 | protein coding | -1 | no  |\n",
       "\n"
      ],
      "text/plain": [
       "        EtOH_x_04h_R1 EtOH_x_04h_R2 EtOH_x_04h_R3 EtOH_x_08h_R1 EtOH_x_08h_R2\n",
       "CYP24A1 0.1689674     0.4891467     0.6090954     8.619740      8.689233     \n",
       "CYP27A1 5.4053908     5.2811330     5.3165515     6.852982      6.834079     \n",
       "CYP27B1 1.2430393     0.9497351     1.9255715     1.371835      0.732087     \n",
       "CYP2R1  4.8683690     4.7267784     4.9579944     4.699841      4.757736     \n",
       "DHCR7   3.5621306     3.6426540     3.7594485     3.478896      3.676554     \n",
       "        EtOH_x_08h_R3 EtOH_x_24h_R1 EtOH_x_24h_R2 EtOH_x_24h_R3\n",
       "CYP24A1 8.570202      7.0281908     8.8271080     8.153132     \n",
       "CYP27A1 7.100526      6.6276068     6.6624312     7.083301     \n",
       "CYP27B1 1.094899      0.9934789     0.6101155     1.001807     \n",
       "CYP2R1  4.596382      4.6674173     4.6903097     4.529176     \n",
       "DHCR7   3.930056      3.5715549     3.3811279     3.523535     \n",
       "        V125D3_0.1nM_24h_R1 ⋯ ensembl_gene_id entrezgene_id external_gene_name\n",
       "CYP24A1 8.137063            ⋯ ENSG00000019186   1591        CYP24A1           \n",
       "CYP27A1 5.715863            ⋯ ENSG00000135929   1593        CYP27A1           \n",
       "CYP27B1 0.711605            ⋯ ENSG00000111012   1594        CYP27B1           \n",
       "CYP2R1  4.481318            ⋯ ENSG00000186104 120227        CYP2R1            \n",
       "DHCR7   3.378461            ⋯ ENSG00000172893   1717        DHCR7             \n",
       "        description                                    chromosome_name\n",
       "CYP24A1 cytochrome P450 family 24 subfamily A member 1 20             \n",
       "CYP27A1 cytochrome P450 family 27 subfamily A member 1 2              \n",
       "CYP27B1 cytochrome P450 family 27 subfamily B member 1 12             \n",
       "CYP2R1  cytochrome P450 family 2 subfamily R member 1  11             \n",
       "DHCR7   7-dehydrocholesterol reductase                 11             \n",
       "        start_position end_position gene_biotype   strand ref_206\n",
       "CYP24A1  54153446       54173986    protein coding -1     yes    \n",
       "CYP27A1 218781749      218815293    protein coding  1     yes    \n",
       "CYP27B1  57762334       57768986    protein coding -1     no     \n",
       "CYP2R1   14877440       14892231    protein coding -1     no     \n",
       "DHCR7    71428193       71452868    protein coding -1     no     "
      ]
     },
     "metadata": {},
     "output_type": "display_data"
    }
   ],
   "source": [
    "long2 = long %>%\n",
    "filter (., row.names(.) %in% metabol)\n",
    "\n",
    "head (long2)"
   ]
  },
  {
   "cell_type": "code",
   "execution_count": 8,
   "id": "b59468b9-469b-458a-9bc3-9d7b3ea5250d",
   "metadata": {},
   "outputs": [],
   "source": [
    "#because dplyr conflicting with drc, old fashioned way\n",
    "\n",
    "CCcols_Ind = as.vector (c(\n",
    "  \n",
    "  \"EtOH_x_04h_R1\",\n",
    "  \"EtOH_x_04h_R2\",\n",
    "  \"EtOH_x_04h_R3\",\n",
    "  \n",
    "  \"EtOH_x_08h_R1\",\n",
    "  \"EtOH_x_08h_R2\",\n",
    "  \"EtOH_x_08h_R3\",\n",
    "  \n",
    "  \"EtOH_x_24h_R1\",\n",
    "  \"EtOH_x_24h_R2\",\n",
    "  \"EtOH_x_24h_R3\",\n",
    "  \n",
    "#  \"V125D3_1nM_04h_R1\",\n",
    "#  \"V125D3_1nM_04h_R2\",\n",
    "#  \"V125D3_1nM_04h_R3\",\n",
    "  \n",
    "#  \"V125D3_1nM_08h_R1\",\n",
    "#  \"V125D3_1nM_08h_R2\",\n",
    "#  \"V125D3_1nM_08h_R3\",\n",
    "  \n",
    "  \"V125D3_1nM_24h_R1\",\n",
    "  \"V125D3_1nM_24h_R2\",\n",
    "  \"V125D3_1nM_24h_R3\",\n",
    "  \n",
    "  \"V125D3_10nM_04h_R1\",\n",
    "  \"V125D3_10nM_04h_R2\",\n",
    "  \"V125D3_10nM_04h_R3\",\n",
    "  \n",
    "  \"V125D3_10nM_08h_R1\",\n",
    "  \"V125D3_10nM_08h_R2\",\n",
    "  \"V125D3_10nM_08h_R3\",\n",
    "  \n",
    "  \"V125D3_10nM_24h_R1\",\n",
    "  \"V125D3_10nM_24h_R2\",\n",
    "  \"V125D3_10nM_24h_R3\",\n",
    "  \n",
    "  \"V25D3_1000nM_04h_R1\",\n",
    "  \"V25D3_1000nM_04h_R2\",\n",
    "  \"V25D3_1000nM_04h_R3\",\n",
    "  \n",
    "  \"V25D3_1000nM_08h_R1\",\n",
    "  \"V25D3_1000nM_08h_R2\",\n",
    "  \"V25D3_1000nM_08h_R3\",\n",
    "  \n",
    "  \"V25D3_1000nM_24h_R1\",\n",
    "  \"V25D3_1000nM_24h_R2\",\n",
    "  \"V25D3_1000nM_24h_R3\",\n",
    "  \n",
    "  \"V25D2_1000nM_04h_R1\",\n",
    "  \"V25D2_1000nM_04h_R2\",\n",
    "  \"V25D2_1000nM_04h_R3\",\n",
    "  \n",
    "  \"V25D2_1000nM_08h_R1\",\n",
    "  \"V25D2_1000nM_08h_R2\",\n",
    "  \"V25D2_1000nM_08h_R3\",\n",
    "  \n",
    "  \"V25D2_1000nM_24h_R1\",\n",
    "  \"V25D2_1000nM_24h_R2\",\n",
    "  \"V25D2_1000nM_24h_R3\",\n",
    "  \n",
    "  \n",
    "  \"V125D3_10nM_24h_R1\",\n",
    "  \"V125D3_10nM_24h_R2\",\n",
    "  \"V125D3_10nM_24h_R3\"#,\n",
    "))\n",
    "\n",
    "df_Ind = long2 [, CCcols_Ind]"
   ]
  },
  {
   "cell_type": "code",
   "execution_count": 9,
   "id": "2c07ba55-149e-421c-a085-0dc90db36fad",
   "metadata": {},
   "outputs": [],
   "source": [
    "d = df_Ind"
   ]
  },
  {
   "cell_type": "code",
   "execution_count": 10,
   "id": "ef61941d-f931-41ab-8a63-5ccb716d6fae",
   "metadata": {},
   "outputs": [],
   "source": [
    "df2_Ind = as.vector (colnames (d))\n",
    "#df2_Ind"
   ]
  },
  {
   "cell_type": "code",
   "execution_count": 11,
   "id": "8588c9c2-35ab-432a-b043-7c266b1a4813",
   "metadata": {},
   "outputs": [
    {
     "data": {
      "text/html": [
       "<table class=\"dataframe\">\n",
       "<caption>A data.frame: 6 × 6</caption>\n",
       "<thead>\n",
       "\t<tr><th></th><th scope=col>sample</th><th scope=col>CYP24A1</th><th scope=col>CYP27A1</th><th scope=col>CYP27B1</th><th scope=col>CYP2R1</th><th scope=col>DHCR7</th></tr>\n",
       "\t<tr><th></th><th scope=col>&lt;chr&gt;</th><th scope=col>&lt;dbl&gt;</th><th scope=col>&lt;dbl&gt;</th><th scope=col>&lt;dbl&gt;</th><th scope=col>&lt;dbl&gt;</th><th scope=col>&lt;dbl&gt;</th></tr>\n",
       "</thead>\n",
       "<tbody>\n",
       "\t<tr><th scope=row>1</th><td>EtOH_x_04h_R1</td><td>0.1689674</td><td>5.405391</td><td>1.2430393</td><td>4.868369</td><td>3.562131</td></tr>\n",
       "\t<tr><th scope=row>2</th><td>EtOH_x_04h_R2</td><td>0.4891467</td><td>5.281133</td><td>0.9497351</td><td>4.726778</td><td>3.642654</td></tr>\n",
       "\t<tr><th scope=row>3</th><td>EtOH_x_04h_R3</td><td>0.6090954</td><td>5.316551</td><td>1.9255715</td><td>4.957994</td><td>3.759448</td></tr>\n",
       "\t<tr><th scope=row>4</th><td>EtOH_x_08h_R1</td><td>8.6197402</td><td>6.852982</td><td>1.3718347</td><td>4.699841</td><td>3.478896</td></tr>\n",
       "\t<tr><th scope=row>5</th><td>EtOH_x_08h_R2</td><td>8.6892326</td><td>6.834079</td><td>0.7320870</td><td>4.757736</td><td>3.676554</td></tr>\n",
       "\t<tr><th scope=row>6</th><td>EtOH_x_08h_R3</td><td>8.5702019</td><td>7.100526</td><td>1.0948994</td><td>4.596382</td><td>3.930056</td></tr>\n",
       "</tbody>\n",
       "</table>\n"
      ],
      "text/latex": [
       "A data.frame: 6 × 6\n",
       "\\begin{tabular}{r|llllll}\n",
       "  & sample & CYP24A1 & CYP27A1 & CYP27B1 & CYP2R1 & DHCR7\\\\\n",
       "  & <chr> & <dbl> & <dbl> & <dbl> & <dbl> & <dbl>\\\\\n",
       "\\hline\n",
       "\t1 & EtOH\\_x\\_04h\\_R1 & 0.1689674 & 5.405391 & 1.2430393 & 4.868369 & 3.562131\\\\\n",
       "\t2 & EtOH\\_x\\_04h\\_R2 & 0.4891467 & 5.281133 & 0.9497351 & 4.726778 & 3.642654\\\\\n",
       "\t3 & EtOH\\_x\\_04h\\_R3 & 0.6090954 & 5.316551 & 1.9255715 & 4.957994 & 3.759448\\\\\n",
       "\t4 & EtOH\\_x\\_08h\\_R1 & 8.6197402 & 6.852982 & 1.3718347 & 4.699841 & 3.478896\\\\\n",
       "\t5 & EtOH\\_x\\_08h\\_R2 & 8.6892326 & 6.834079 & 0.7320870 & 4.757736 & 3.676554\\\\\n",
       "\t6 & EtOH\\_x\\_08h\\_R3 & 8.5702019 & 7.100526 & 1.0948994 & 4.596382 & 3.930056\\\\\n",
       "\\end{tabular}\n"
      ],
      "text/markdown": [
       "\n",
       "A data.frame: 6 × 6\n",
       "\n",
       "| <!--/--> | sample &lt;chr&gt; | CYP24A1 &lt;dbl&gt; | CYP27A1 &lt;dbl&gt; | CYP27B1 &lt;dbl&gt; | CYP2R1 &lt;dbl&gt; | DHCR7 &lt;dbl&gt; |\n",
       "|---|---|---|---|---|---|---|\n",
       "| 1 | EtOH_x_04h_R1 | 0.1689674 | 5.405391 | 1.2430393 | 4.868369 | 3.562131 |\n",
       "| 2 | EtOH_x_04h_R2 | 0.4891467 | 5.281133 | 0.9497351 | 4.726778 | 3.642654 |\n",
       "| 3 | EtOH_x_04h_R3 | 0.6090954 | 5.316551 | 1.9255715 | 4.957994 | 3.759448 |\n",
       "| 4 | EtOH_x_08h_R1 | 8.6197402 | 6.852982 | 1.3718347 | 4.699841 | 3.478896 |\n",
       "| 5 | EtOH_x_08h_R2 | 8.6892326 | 6.834079 | 0.7320870 | 4.757736 | 3.676554 |\n",
       "| 6 | EtOH_x_08h_R3 | 8.5702019 | 7.100526 | 1.0948994 | 4.596382 | 3.930056 |\n",
       "\n"
      ],
      "text/plain": [
       "  sample        CYP24A1   CYP27A1  CYP27B1   CYP2R1   DHCR7   \n",
       "1 EtOH_x_04h_R1 0.1689674 5.405391 1.2430393 4.868369 3.562131\n",
       "2 EtOH_x_04h_R2 0.4891467 5.281133 0.9497351 4.726778 3.642654\n",
       "3 EtOH_x_04h_R3 0.6090954 5.316551 1.9255715 4.957994 3.759448\n",
       "4 EtOH_x_08h_R1 8.6197402 6.852982 1.3718347 4.699841 3.478896\n",
       "5 EtOH_x_08h_R2 8.6892326 6.834079 0.7320870 4.757736 3.676554\n",
       "6 EtOH_x_08h_R3 8.5702019 7.100526 1.0948994 4.596382 3.930056"
      ]
     },
     "metadata": {},
     "output_type": "display_data"
    }
   ],
   "source": [
    "df_y = colsplit(df2_Ind, \"_\", c(\"treatment\", \"concentration\",\"time\",\"replicate\"))\n",
    "df_y = as.data.frame(unclass(df_y))\n",
    "#df_y\n",
    "df_y$Treatconcstudy <- factor(paste(df_y$treatment, df_y$time, sep=\"_\"))\n",
    "df_y$sample <- colnames(d)\n",
    "#df_y\n",
    "\n",
    "small_pwt_T = as.data.frame (t(d))\n",
    "#small_pwt_T\n",
    "\n",
    "small_pwt_T = small_pwt_T %>%\n",
    "  rownames_to_column (\"sample\")\n",
    "head (small_pwt_T)"
   ]
  },
  {
   "cell_type": "code",
   "execution_count": 12,
   "id": "5faa22f8-1c61-4b14-8722-60774dfe0b1d",
   "metadata": {},
   "outputs": [
    {
     "data": {
      "text/html": [
       "<table class=\"dataframe\">\n",
       "<caption>A tibble: 6 × 8</caption>\n",
       "<thead>\n",
       "\t<tr><th scope=col>sample</th><th scope=col>treatment</th><th scope=col>concentration</th><th scope=col>time</th><th scope=col>replicate</th><th scope=col>Treatconcstudy</th><th scope=col>name</th><th scope=col>value</th></tr>\n",
       "\t<tr><th scope=col>&lt;chr&gt;</th><th scope=col>&lt;chr&gt;</th><th scope=col>&lt;chr&gt;</th><th scope=col>&lt;chr&gt;</th><th scope=col>&lt;chr&gt;</th><th scope=col>&lt;fct&gt;</th><th scope=col>&lt;fct&gt;</th><th scope=col>&lt;dbl&gt;</th></tr>\n",
       "</thead>\n",
       "<tbody>\n",
       "\t<tr><td>EtOH_x_04h_R1</td><td>EtOH</td><td>x</td><td>04h</td><td>R1</td><td>EtOH_04h</td><td>CYP24A1</td><td>0.1689674</td></tr>\n",
       "\t<tr><td>EtOH_x_04h_R2</td><td>EtOH</td><td>x</td><td>04h</td><td>R2</td><td>EtOH_04h</td><td>CYP24A1</td><td>0.4891467</td></tr>\n",
       "\t<tr><td>EtOH_x_04h_R3</td><td>EtOH</td><td>x</td><td>04h</td><td>R3</td><td>EtOH_04h</td><td>CYP24A1</td><td>0.6090954</td></tr>\n",
       "\t<tr><td>EtOH_x_08h_R1</td><td>EtOH</td><td>x</td><td>08h</td><td>R1</td><td>EtOH_08h</td><td>CYP24A1</td><td>8.6197402</td></tr>\n",
       "\t<tr><td>EtOH_x_08h_R2</td><td>EtOH</td><td>x</td><td>08h</td><td>R2</td><td>EtOH_08h</td><td>CYP24A1</td><td>8.6892326</td></tr>\n",
       "\t<tr><td>EtOH_x_08h_R3</td><td>EtOH</td><td>x</td><td>08h</td><td>R3</td><td>EtOH_08h</td><td>CYP24A1</td><td>8.5702019</td></tr>\n",
       "</tbody>\n",
       "</table>\n"
      ],
      "text/latex": [
       "A tibble: 6 × 8\n",
       "\\begin{tabular}{llllllll}\n",
       " sample & treatment & concentration & time & replicate & Treatconcstudy & name & value\\\\\n",
       " <chr> & <chr> & <chr> & <chr> & <chr> & <fct> & <fct> & <dbl>\\\\\n",
       "\\hline\n",
       "\t EtOH\\_x\\_04h\\_R1 & EtOH & x & 04h & R1 & EtOH\\_04h & CYP24A1 & 0.1689674\\\\\n",
       "\t EtOH\\_x\\_04h\\_R2 & EtOH & x & 04h & R2 & EtOH\\_04h & CYP24A1 & 0.4891467\\\\\n",
       "\t EtOH\\_x\\_04h\\_R3 & EtOH & x & 04h & R3 & EtOH\\_04h & CYP24A1 & 0.6090954\\\\\n",
       "\t EtOH\\_x\\_08h\\_R1 & EtOH & x & 08h & R1 & EtOH\\_08h & CYP24A1 & 8.6197402\\\\\n",
       "\t EtOH\\_x\\_08h\\_R2 & EtOH & x & 08h & R2 & EtOH\\_08h & CYP24A1 & 8.6892326\\\\\n",
       "\t EtOH\\_x\\_08h\\_R3 & EtOH & x & 08h & R3 & EtOH\\_08h & CYP24A1 & 8.5702019\\\\\n",
       "\\end{tabular}\n"
      ],
      "text/markdown": [
       "\n",
       "A tibble: 6 × 8\n",
       "\n",
       "| sample &lt;chr&gt; | treatment &lt;chr&gt; | concentration &lt;chr&gt; | time &lt;chr&gt; | replicate &lt;chr&gt; | Treatconcstudy &lt;fct&gt; | name &lt;fct&gt; | value &lt;dbl&gt; |\n",
       "|---|---|---|---|---|---|---|---|\n",
       "| EtOH_x_04h_R1 | EtOH | x | 04h | R1 | EtOH_04h | CYP24A1 | 0.1689674 |\n",
       "| EtOH_x_04h_R2 | EtOH | x | 04h | R2 | EtOH_04h | CYP24A1 | 0.4891467 |\n",
       "| EtOH_x_04h_R3 | EtOH | x | 04h | R3 | EtOH_04h | CYP24A1 | 0.6090954 |\n",
       "| EtOH_x_08h_R1 | EtOH | x | 08h | R1 | EtOH_08h | CYP24A1 | 8.6197402 |\n",
       "| EtOH_x_08h_R2 | EtOH | x | 08h | R2 | EtOH_08h | CYP24A1 | 8.6892326 |\n",
       "| EtOH_x_08h_R3 | EtOH | x | 08h | R3 | EtOH_08h | CYP24A1 | 8.5702019 |\n",
       "\n"
      ],
      "text/plain": [
       "  sample        treatment concentration time replicate Treatconcstudy name   \n",
       "1 EtOH_x_04h_R1 EtOH      x             04h  R1        EtOH_04h       CYP24A1\n",
       "2 EtOH_x_04h_R2 EtOH      x             04h  R2        EtOH_04h       CYP24A1\n",
       "3 EtOH_x_04h_R3 EtOH      x             04h  R3        EtOH_04h       CYP24A1\n",
       "4 EtOH_x_08h_R1 EtOH      x             08h  R1        EtOH_08h       CYP24A1\n",
       "5 EtOH_x_08h_R2 EtOH      x             08h  R2        EtOH_08h       CYP24A1\n",
       "6 EtOH_x_08h_R3 EtOH      x             08h  R3        EtOH_08h       CYP24A1\n",
       "  value    \n",
       "1 0.1689674\n",
       "2 0.4891467\n",
       "3 0.6090954\n",
       "4 8.6197402\n",
       "5 8.6892326\n",
       "6 8.5702019"
      ]
     },
     "metadata": {},
     "output_type": "display_data"
    }
   ],
   "source": [
    "mrg = merge(x=small_pwt_T,y=df_y,by.x=\"sample\", all.x =T)\n",
    "\n",
    "mrg2 = mrg %>% \n",
    "  pivot_longer(all_of(metabol)) %>%  #eighthours\n",
    "  arrange (name)\n",
    "\n",
    "mrg2$name <- as.factor(mrg2$name)\n",
    "head (mrg2)"
   ]
  },
  {
   "cell_type": "code",
   "execution_count": 13,
   "id": "36decb30-27f2-49fa-b162-7e4be422f802",
   "metadata": {},
   "outputs": [
    {
     "name": "stderr",
     "output_type": "stream",
     "text": [
      "`summarise()` has grouped output by 'time'. You can override using the `.groups` argument.\n",
      "\n"
     ]
    },
    {
     "data": {
      "text/html": [
       "<table class=\"dataframe\">\n",
       "<caption>A grouped_df: 15 × 4</caption>\n",
       "<thead>\n",
       "\t<tr><th scope=col>time</th><th scope=col>name</th><th scope=col>mean</th><th scope=col>sd</th></tr>\n",
       "\t<tr><th scope=col>&lt;chr&gt;</th><th scope=col>&lt;fct&gt;</th><th scope=col>&lt;dbl&gt;</th><th scope=col>&lt;dbl&gt;</th></tr>\n",
       "</thead>\n",
       "<tbody>\n",
       "\t<tr><td>04h</td><td>CYP24A1</td><td>3.5619997</td><td>2.1314928</td></tr>\n",
       "\t<tr><td>04h</td><td>CYP27A1</td><td>4.6818155</td><td>0.4593639</td></tr>\n",
       "\t<tr><td>04h</td><td>CYP27B1</td><td>0.8991959</td><td>0.5281523</td></tr>\n",
       "\t<tr><td>04h</td><td>CYP2R1 </td><td>4.7756091</td><td>0.1440057</td></tr>\n",
       "\t<tr><td>04h</td><td>DHCR7  </td><td>3.6595612</td><td>0.2216134</td></tr>\n",
       "\t<tr><td>08h</td><td>CYP24A1</td><td>8.8831220</td><td>0.5039124</td></tr>\n",
       "\t<tr><td>08h</td><td>CYP27A1</td><td>5.1615122</td><td>1.1052300</td></tr>\n",
       "\t<tr><td>08h</td><td>CYP27B1</td><td>1.4025121</td><td>0.3878126</td></tr>\n",
       "\t<tr><td>08h</td><td>CYP2R1 </td><td>4.7122268</td><td>0.0982057</td></tr>\n",
       "\t<tr><td>08h</td><td>DHCR7  </td><td>3.7834833</td><td>0.1957466</td></tr>\n",
       "\t<tr><td>24h</td><td>CYP24A1</td><td>9.9848042</td><td>1.0759934</td></tr>\n",
       "\t<tr><td>24h</td><td>CYP27A1</td><td>4.3442142</td><td>1.2567660</td></tr>\n",
       "\t<tr><td>24h</td><td>CYP27B1</td><td>0.9511841</td><td>0.4738961</td></tr>\n",
       "\t<tr><td>24h</td><td>CYP2R1 </td><td>4.4191434</td><td>0.2304507</td></tr>\n",
       "\t<tr><td>24h</td><td>DHCR7  </td><td>3.4455043</td><td>0.1574206</td></tr>\n",
       "</tbody>\n",
       "</table>\n"
      ],
      "text/latex": [
       "A grouped\\_df: 15 × 4\n",
       "\\begin{tabular}{llll}\n",
       " time & name & mean & sd\\\\\n",
       " <chr> & <fct> & <dbl> & <dbl>\\\\\n",
       "\\hline\n",
       "\t 04h & CYP24A1 & 3.5619997 & 2.1314928\\\\\n",
       "\t 04h & CYP27A1 & 4.6818155 & 0.4593639\\\\\n",
       "\t 04h & CYP27B1 & 0.8991959 & 0.5281523\\\\\n",
       "\t 04h & CYP2R1  & 4.7756091 & 0.1440057\\\\\n",
       "\t 04h & DHCR7   & 3.6595612 & 0.2216134\\\\\n",
       "\t 08h & CYP24A1 & 8.8831220 & 0.5039124\\\\\n",
       "\t 08h & CYP27A1 & 5.1615122 & 1.1052300\\\\\n",
       "\t 08h & CYP27B1 & 1.4025121 & 0.3878126\\\\\n",
       "\t 08h & CYP2R1  & 4.7122268 & 0.0982057\\\\\n",
       "\t 08h & DHCR7   & 3.7834833 & 0.1957466\\\\\n",
       "\t 24h & CYP24A1 & 9.9848042 & 1.0759934\\\\\n",
       "\t 24h & CYP27A1 & 4.3442142 & 1.2567660\\\\\n",
       "\t 24h & CYP27B1 & 0.9511841 & 0.4738961\\\\\n",
       "\t 24h & CYP2R1  & 4.4191434 & 0.2304507\\\\\n",
       "\t 24h & DHCR7   & 3.4455043 & 0.1574206\\\\\n",
       "\\end{tabular}\n"
      ],
      "text/markdown": [
       "\n",
       "A grouped_df: 15 × 4\n",
       "\n",
       "| time &lt;chr&gt; | name &lt;fct&gt; | mean &lt;dbl&gt; | sd &lt;dbl&gt; |\n",
       "|---|---|---|---|\n",
       "| 04h | CYP24A1 | 3.5619997 | 2.1314928 |\n",
       "| 04h | CYP27A1 | 4.6818155 | 0.4593639 |\n",
       "| 04h | CYP27B1 | 0.8991959 | 0.5281523 |\n",
       "| 04h | CYP2R1  | 4.7756091 | 0.1440057 |\n",
       "| 04h | DHCR7   | 3.6595612 | 0.2216134 |\n",
       "| 08h | CYP24A1 | 8.8831220 | 0.5039124 |\n",
       "| 08h | CYP27A1 | 5.1615122 | 1.1052300 |\n",
       "| 08h | CYP27B1 | 1.4025121 | 0.3878126 |\n",
       "| 08h | CYP2R1  | 4.7122268 | 0.0982057 |\n",
       "| 08h | DHCR7   | 3.7834833 | 0.1957466 |\n",
       "| 24h | CYP24A1 | 9.9848042 | 1.0759934 |\n",
       "| 24h | CYP27A1 | 4.3442142 | 1.2567660 |\n",
       "| 24h | CYP27B1 | 0.9511841 | 0.4738961 |\n",
       "| 24h | CYP2R1  | 4.4191434 | 0.2304507 |\n",
       "| 24h | DHCR7   | 3.4455043 | 0.1574206 |\n",
       "\n"
      ],
      "text/plain": [
       "   time name    mean      sd       \n",
       "1  04h  CYP24A1 3.5619997 2.1314928\n",
       "2  04h  CYP27A1 4.6818155 0.4593639\n",
       "3  04h  CYP27B1 0.8991959 0.5281523\n",
       "4  04h  CYP2R1  4.7756091 0.1440057\n",
       "5  04h  DHCR7   3.6595612 0.2216134\n",
       "6  08h  CYP24A1 8.8831220 0.5039124\n",
       "7  08h  CYP27A1 5.1615122 1.1052300\n",
       "8  08h  CYP27B1 1.4025121 0.3878126\n",
       "9  08h  CYP2R1  4.7122268 0.0982057\n",
       "10 08h  DHCR7   3.7834833 0.1957466\n",
       "11 24h  CYP24A1 9.9848042 1.0759934\n",
       "12 24h  CYP27A1 4.3442142 1.2567660\n",
       "13 24h  CYP27B1 0.9511841 0.4738961\n",
       "14 24h  CYP2R1  4.4191434 0.2304507\n",
       "15 24h  DHCR7   3.4455043 0.1574206"
      ]
     },
     "metadata": {},
     "output_type": "display_data"
    }
   ],
   "source": [
    "# to plot for comparison v3\n",
    "mrg2 = mrg2 %>%\n",
    "  dplyr::group_by(time,name) %>% # works too Treatconcstudy,name\n",
    "  dplyr::summarize(mean=mean(value), sd=sd(value))\n",
    "\n",
    "mrg2"
   ]
  },
  {
   "cell_type": "code",
   "execution_count": 14,
   "id": "387daeab-9607-4ddb-a27c-08e876acd629",
   "metadata": {},
   "outputs": [
    {
     "ename": "ERROR",
     "evalue": "Error: Problem with `summarise()` column `mean`.\n\u001b[34mℹ\u001b[39m `mean = mean(value)`.\n\u001b[31m✖\u001b[39m object 'value' not found\n\u001b[34mℹ\u001b[39m The error occurred in group 1: time = \"04h\", name = CYP24A1.\n",
     "output_type": "error",
     "traceback": [
      "Error: Problem with `summarise()` column `mean`.\n\u001b[34mℹ\u001b[39m `mean = mean(value)`.\n\u001b[31m✖\u001b[39m object 'value' not found\n\u001b[34mℹ\u001b[39m The error occurred in group 1: time = \"04h\", name = CYP24A1.\nTraceback:\n",
      "1. mrg2 %>% dplyr::group_by(time, name) %>% dplyr::summarize(mean = mean(value), \n .     sd = sd(value))",
      "2. dplyr::summarize(., mean = mean(value), sd = sd(value))",
      "3. summarise.grouped_df(., mean = mean(value), sd = sd(value))",
      "4. summarise_cols(.data, ..., caller_env = caller_env())",
      "5. withCallingHandlers({\n .     for (i in seq_along(dots)) {\n .         mask$across_cache_reset()\n .         context_poke(\"column\", old_current_column)\n .         quosures <- expand_across(dots[[i]])\n .         quosures_results <- vector(mode = \"list\", length = length(quosures))\n .         for (k in seq_along(quosures)) {\n .             quo <- quosures[[k]]\n .             quo_data <- attr(quo, \"dplyr:::data\")\n .             if (!is.null(quo_data$column)) {\n .                 context_poke(\"column\", quo_data$column)\n .             }\n .             chunks_k <- mask$eval_all_summarise(quo)\n .             if (is.null(chunks_k)) {\n .                 next\n .             }\n .             types_k <- withCallingHandlers(vec_ptype_common(!!!chunks_k), \n .                 vctrs_error_incompatible_type = function(cnd) {\n .                   abort(class = \"dplyr:::error_summarise_incompatible_combine\", \n .                     parent = cnd)\n .                 })\n .             chunks_k <- vec_cast_common(!!!chunks_k, .to = types_k)\n .             quosures_results[[k]] <- list(chunks = chunks_k, \n .                 types = types_k)\n .         }\n .         for (k in seq_along(quosures)) {\n .             quo <- quosures[[k]]\n .             quo_data <- attr(quo, \"dplyr:::data\")\n .             quo_result <- quosures_results[[k]]\n .             if (is.null(quo_result)) {\n .                 next\n .             }\n .             types_k <- quo_result$types\n .             chunks_k <- quo_result$chunks\n .             if (!quo_data$is_named && is.data.frame(types_k)) {\n .                 chunks_extracted <- .Call(dplyr_extract_chunks, \n .                   chunks_k, types_k)\n .                 walk2(chunks_extracted, names(types_k), function(chunks_k_j, \n .                   nm) {\n .                   mask$add_one(nm, chunks_k_j)\n .                 })\n .                 chunks <- append(chunks, chunks_extracted)\n .                 types <- append(types, as.list(types_k))\n .                 out_names <- c(out_names, names(types_k))\n .             }\n .             else {\n .                 name <- quo_data$name_auto\n .                 mask$add_one(name, chunks_k)\n .                 chunks <- append(chunks, list(chunks_k))\n .                 types <- append(types, list(types_k))\n .                 out_names <- c(out_names, name)\n .             }\n .         }\n .     }\n .     recycle_info <- .Call(dplyr_summarise_recycle_chunks, chunks, \n .         mask$get_rows(), types)\n .     chunks <- recycle_info$chunks\n .     sizes <- recycle_info$sizes\n .     for (i in seq_along(chunks)) {\n .         result <- vec_c(!!!chunks[[i]], .ptype = types[[i]])\n .         cols[[out_names[i]]] <- result\n .     }\n . }, error = function(e) {\n .     local_call_step(dots = dots, .index = i, .fn = \"summarise\", \n .         .dot_data = inherits(e, \"rlang_error_data_pronoun_not_found\"))\n .     call_step <- peek_call_step()\n .     error_name <- call_step$error_name\n .     show_group_details <- TRUE\n .     if (inherits(e, \"dplyr:::error_summarise_incompatible_combine\")) {\n .         show_group_details <- FALSE\n .         bullets <- c(x = glue(\"`{error_name}` must return compatible vectors across groups\", \n .             .envir = peek_call_step()), i = cnd_bullet_combine_details(e$parent$x, \n .             e$parent$x_arg), i = cnd_bullet_combine_details(e$parent$y, \n .             e$parent$y_arg))\n .     }\n .     else if (inherits(e, \"dplyr:::summarise_unsupported_type\")) {\n .         bullets <- c(x = glue(\"`{error_name}` must be a vector, not {friendly_type_of(result)}.\", \n .             result = e$result), i = cnd_bullet_rowwise_unlist())\n .     }\n .     else if (inherits(e, \"dplyr:::summarise_incompatible_size\")) {\n .         peek_mask()$set_current_group(e$group)\n .         bullets <- c(x = glue(\"`{error_name}` must be size {or_1(expected_size)}, not {size}.\", \n .             expected_size = e$expected_size, size = e$size), \n .             i = glue(\"An earlier column had size {expected_size}.\", \n .                 expected_size = e$expected_size))\n .     }\n .     else if (inherits(e, \"dplyr:::summarise_mixed_null\")) {\n .         show_group_details <- FALSE\n .         bullets <- c(x = glue(\"`{error_name}` must return compatible vectors across groups.\"), \n .             i = \"Cannot combine NULL and non NULL results.\")\n .     }\n .     else {\n .         bullets <- c(x = conditionMessage(e))\n .     }\n .     bullets <- c(cnd_bullet_header(), i = cnd_bullet_column_info(), \n .         bullets, i = if (show_group_details) cnd_bullet_cur_group_label())\n .     abort(bullets, class = \"dplyr_error\")\n . })",
      "6. mask$eval_all_summarise(quo)",
      "7. mean(value)",
      "8. .handleSimpleError(function (e) \n . {\n .     local_call_step(dots = dots, .index = i, .fn = \"summarise\", \n .         .dot_data = inherits(e, \"rlang_error_data_pronoun_not_found\"))\n .     call_step <- peek_call_step()\n .     error_name <- call_step$error_name\n .     show_group_details <- TRUE\n .     if (inherits(e, \"dplyr:::error_summarise_incompatible_combine\")) {\n .         show_group_details <- FALSE\n .         bullets <- c(x = glue(\"`{error_name}` must return compatible vectors across groups\", \n .             .envir = peek_call_step()), i = cnd_bullet_combine_details(e$parent$x, \n .             e$parent$x_arg), i = cnd_bullet_combine_details(e$parent$y, \n .             e$parent$y_arg))\n .     }\n .     else if (inherits(e, \"dplyr:::summarise_unsupported_type\")) {\n .         bullets <- c(x = glue(\"`{error_name}` must be a vector, not {friendly_type_of(result)}.\", \n .             result = e$result), i = cnd_bullet_rowwise_unlist())\n .     }\n .     else if (inherits(e, \"dplyr:::summarise_incompatible_size\")) {\n .         peek_mask()$set_current_group(e$group)\n .         bullets <- c(x = glue(\"`{error_name}` must be size {or_1(expected_size)}, not {size}.\", \n .             expected_size = e$expected_size, size = e$size), \n .             i = glue(\"An earlier column had size {expected_size}.\", \n .                 expected_size = e$expected_size))\n .     }\n .     else if (inherits(e, \"dplyr:::summarise_mixed_null\")) {\n .         show_group_details <- FALSE\n .         bullets <- c(x = glue(\"`{error_name}` must return compatible vectors across groups.\"), \n .             i = \"Cannot combine NULL and non NULL results.\")\n .     }\n .     else {\n .         bullets <- c(x = conditionMessage(e))\n .     }\n .     bullets <- c(cnd_bullet_header(), i = cnd_bullet_column_info(), \n .         bullets, i = if (show_group_details) cnd_bullet_cur_group_label())\n .     abort(bullets, class = \"dplyr_error\")\n . }, \"object 'value' not found\", base::quote(mean(value)))",
      "9. h(simpleError(msg, call))",
      "10. abort(bullets, class = \"dplyr_error\")",
      "11. signal_abort(cnd)"
     ]
    }
   ],
   "source": [
    "mrg2 = mrg2 %>%\n",
    "  dplyr::group_by(time,name) %>% # works too Treatconcstudy,name\n",
    "  dplyr::summarize(mean=mean(value), sd=sd(value))\n",
    "\n",
    "mrg2"
   ]
  },
  {
   "cell_type": "code",
   "execution_count": 15,
   "id": "7648ed78-13bb-489c-a862-489b76004121",
   "metadata": {},
   "outputs": [],
   "source": [
    "mrg2$time <-factor (mrg2$time, levels = c(\"04h\", \"08h\", \"24h\"))\n",
    "mrg2$name <-factor (mrg2$name, levels = c(\"DHCR7\", \"CYP2R1\", \"CYP27A1\", \"CYP27B1\", \"CYP24A1\"))"
   ]
  },
  {
   "cell_type": "code",
   "execution_count": 16,
   "id": "031cfa6d-edcc-4364-b897-774e25883f79",
   "metadata": {},
   "outputs": [
    {
     "data": {
      "text/html": [
       "<style>\n",
       ".list-inline {list-style: none; margin:0; padding: 0}\n",
       ".list-inline>li {display: inline-block}\n",
       ".list-inline>li:not(:last-child)::after {content: \"\\00b7\"; padding: 0 .5ex}\n",
       "</style>\n",
       "<ol class=list-inline><li>'DHCR7'</li><li>'CYP2R1'</li><li>'CYP27A1'</li><li>'CYP27B1'</li><li>'CYP24A1'</li></ol>\n"
      ],
      "text/latex": [
       "\\begin{enumerate*}\n",
       "\\item 'DHCR7'\n",
       "\\item 'CYP2R1'\n",
       "\\item 'CYP27A1'\n",
       "\\item 'CYP27B1'\n",
       "\\item 'CYP24A1'\n",
       "\\end{enumerate*}\n"
      ],
      "text/markdown": [
       "1. 'DHCR7'\n",
       "2. 'CYP2R1'\n",
       "3. 'CYP27A1'\n",
       "4. 'CYP27B1'\n",
       "5. 'CYP24A1'\n",
       "\n",
       "\n"
      ],
      "text/plain": [
       "[1] \"DHCR7\"   \"CYP2R1\"  \"CYP27A1\" \"CYP27B1\" \"CYP24A1\""
      ]
     },
     "metadata": {},
     "output_type": "display_data"
    }
   ],
   "source": [
    "levels (mrg2$name)"
   ]
  },
  {
   "cell_type": "code",
   "execution_count": 17,
   "id": "77b0d027-3afe-4bf1-9d85-0b839e9685f6",
   "metadata": {},
   "outputs": [],
   "source": [
    "cols <- c(\"DHCR7\" = \"#DBC0BE\", \n",
    "          \"CYP27B1\" = \"#008394\", \n",
    "          \"CYP27A1\" = \"#F2666D\",\n",
    "          \"CYP2R1\" = \"blue\",\n",
    "          \"CYP24A1\" = \"red\")"
   ]
  },
  {
   "cell_type": "code",
   "execution_count": 18,
   "id": "e12f1e5b-685e-4123-80df-c63f41a18b23",
   "metadata": {},
   "outputs": [
    {
     "data": {
      "image/png": "[encoded data removed]",
      "text/plain": [
       "plot without title"
      ]
     },
     "metadata": {
      "image/png": {
       "height": 360,
       "width": 420
      }
     },
     "output_type": "display_data"
    }
   ],
   "source": [
    "fig (7,6)\n",
    "\n",
    "ggplot(mrg2, aes(x=time, y=mean, fill=name)) + \n",
    "geom_errorbar(aes(ymin=mean-sd, ymax=mean+sd)\n",
    "                                     , width=1, size = 0.29,\n",
    "                                     position=position_dodge())+\n",
    "  geom_bar(stat=\"identity\", color=\"black\", \n",
    "           position=position_dodge()\n",
    "          ) +\n",
    "theme_classic(base_size = 14,base_family = \"sans\")+\n",
    "scale_y_continuous(expand = expansion(mult = c(0, 0.04)))+ \n",
    "    # theme_minimal()+ \n",
    "    theme_classic(base_size = 14,base_family = \"sans\")+\n",
    "scale_colour_manual(values = cols)"
   ]
  },
  {
   "cell_type": "code",
   "execution_count": 19,
   "id": "1e48b565-1f55-416b-a865-22678265d2e8",
   "metadata": {},
   "outputs": [
    {
     "data": {
      "image/png": "[encoded data removed]",
      "text/plain": [
       "plot without title"
      ]
     },
     "metadata": {
      "image/png": {
       "height": 330,
       "width": 540
      }
     },
     "output_type": "display_data"
    }
   ],
   "source": [
    "fig (9,5.5)\n",
    "\n",
    "bars = ggplot(mrg2, aes(x=time, y=mean, fill=name)) + \n",
    "geom_errorbar(aes(ymin=mean-sd, ymax=mean+sd)\n",
    "                                     , width=0.73, size = 0.2,\n",
    "                                      position=position_dodge(0.73))+\n",
    "  geom_bar(stat=\"identity\", color=\"black\", \n",
    "            position=position_dodge2(width = 0.73, padding = 0.15)) +\n",
    "theme_classic(base_size = 14,base_family = \"sans\")+\n",
    "scale_y_continuous(expand = expansion(mult = c(0, 0.04)))+ \n",
    "    # theme_minimal()+ \n",
    "    theme_classic(base_size = 14,base_family = \"sans\")+\n",
    "scale_colour_manual(values = cols)\n",
    "\n",
    "bars"
   ]
  },
  {
   "cell_type": "code",
   "execution_count": 20,
   "id": "fcb44d89-d0b4-4849-a817-e4ba5696dc42",
   "metadata": {},
   "outputs": [],
   "source": [
    "ggsave(\"./plots/Fig3D.pdf\", \n",
    "       plot = bars, width = 9, height = 5.5)"
   ]
  },
  {
   "cell_type": "code",
   "execution_count": 21,
   "id": "e23f5af2-70fd-49ae-b269-43cd1414794c",
   "metadata": {},
   "outputs": [
    {
     "data": {
      "text/plain": [
       "R version 4.1.2 (2021-11-01)\n",
       "Platform: x86_64-conda-linux-gnu (64-bit)\n",
       "Running under: Rocky Linux 8.5 (Green Obsidian)\n",
       "\n",
       "Matrix products: default\n",
       "BLAS/LAPACK: /research/users/andreha/miniconda3/envs/Mamba-14/lib/libopenblasp-r0.3.18.so\n",
       "\n",
       "locale:\n",
       " [1] LC_CTYPE=C.UTF-8           LC_NUMERIC=C              \n",
       " [3] LC_TIME=en_US.UTF-8        LC_COLLATE=en_US.UTF-8    \n",
       " [5] LC_MONETARY=en_US.UTF-8    LC_MESSAGES=en_US.UTF-8   \n",
       " [7] LC_PAPER=en_US.UTF-8       LC_NAME=C                 \n",
       " [9] LC_ADDRESS=C               LC_TELEPHONE=C            \n",
       "[11] LC_MEASUREMENT=en_US.UTF-8 LC_IDENTIFICATION=C       \n",
       "\n",
       "attached base packages:\n",
       "[1] stats     graphics  grDevices utils     datasets  methods   base     \n",
       "\n",
       "other attached packages:\n",
       " [1] ggpubr_0.4.0    reshape2_1.4.4  cowplot_1.1.1   ggrepel_0.9.1  \n",
       " [5] statmod_1.4.36  magrittr_2.0.1  openxlsx_4.2.5  forcats_0.5.1  \n",
       " [9] stringr_1.4.0   dplyr_1.0.7     purrr_0.3.4     readr_2.1.1    \n",
       "[13] tidyr_1.1.4     tibble_3.1.6    ggplot2_3.3.5   tidyverse_1.3.1\n",
       "\n",
       "loaded via a namespace (and not attached):\n",
       " [1] Rcpp_1.0.7       lubridate_1.8.0  assertthat_0.2.1 digest_0.6.29   \n",
       " [5] utf8_1.2.2       IRdisplay_1.1    plyr_1.8.6       R6_2.5.1        \n",
       " [9] cellranger_1.1.0 repr_1.1.4       backports_1.4.1  reprex_2.0.1    \n",
       "[13] evaluate_0.14    httr_1.4.2       pillar_1.6.4     rlang_0.4.12    \n",
       "[17] uuid_1.0-3       readxl_1.3.1     rstudioapi_0.13  car_3.0-12      \n",
       "[21] labeling_0.4.2   munsell_0.5.0    broom_0.7.11     compiler_4.1.2  \n",
       "[25] modelr_0.1.8     pkgconfig_2.0.3  base64enc_0.1-3  htmltools_0.5.2 \n",
       "[29] tidyselect_1.1.1 fansi_0.4.2      crayon_1.4.2     tzdb_0.2.0      \n",
       "[33] dbplyr_2.1.1     withr_2.4.3      grid_4.1.2       jsonlite_1.7.2  \n",
       "[37] gtable_0.3.0     lifecycle_1.0.1  DBI_1.1.2        scales_1.1.1    \n",
       "[41] zip_2.2.0        carData_3.0-5    cli_3.1.0        stringi_1.7.6   \n",
       "[45] farver_2.1.0     ggsignif_0.6.3   fs_1.5.2         xml2_1.3.3      \n",
       "[49] ellipsis_0.3.2   generics_0.1.1   vctrs_0.3.8      IRkernel_1.3    \n",
       "[53] tools_4.1.2      glue_1.6.0       hms_1.1.1        abind_1.4-5     \n",
       "[57] fastmap_1.1.0    colorspace_2.0-2 rstatix_0.7.0    rvest_1.0.2     \n",
       "[61] pbdZMQ_0.3-6     haven_2.4.3     "
      ]
     },
     "metadata": {},
     "output_type": "display_data"
    }
   ],
   "source": [
    "sessionInfo()"
   ]
  },
  {
   "cell_type": "code",
   "execution_count": null,
   "id": "368622f4-3a01-44cf-b4b6-dcdd66040bbc",
   "metadata": {},
   "outputs": [],
   "source": []
  }
 ],
 "metadata": {
  "kernelspec": {
   "display_name": "R",
   "language": "R",
   "name": "ir"
  },
  "language_info": {
   "codemirror_mode": "r",
   "file_extension": ".r",
   "mimetype": "text/x-r-source",
   "name": "R",
   "pygments_lexer": "r",
   "version": "4.1.2"
  }
 },
 "nbformat": 4,
 "nbformat_minor": 5
}
