{
 "cells": [
  {
   "cell_type": "code",
   "execution_count": 1,
   "id": "196789ad-f889-42b3-86e5-1c3ea2c1e5ff",
   "metadata": {},
   "outputs": [
    {
     "name": "stderr",
     "output_type": "stream",
     "text": [
      "── \u001b[1mAttaching packages\u001b[22m ─────────────────────────────────────────────────────────── tidyverse 1.3.1 ──\n",
      "\n",
      "\u001b[32m✔\u001b[39m \u001b[34mggplot2\u001b[39m 3.3.5     \u001b[32m✔\u001b[39m \u001b[34mpurrr  \u001b[39m 0.3.4\n",
      "\u001b[32m✔\u001b[39m \u001b[34mtibble \u001b[39m 3.1.6     \u001b[32m✔\u001b[39m \u001b[34mdplyr  \u001b[39m 1.0.7\n",
      "\u001b[32m✔\u001b[39m \u001b[34mtidyr  \u001b[39m 1.1.4     \u001b[32m✔\u001b[39m \u001b[34mstringr\u001b[39m 1.4.0\n",
      "\u001b[32m✔\u001b[39m \u001b[34mreadr  \u001b[39m 2.1.1     \u001b[32m✔\u001b[39m \u001b[34mforcats\u001b[39m 0.5.1\n",
      "\n",
      "── \u001b[1mConflicts\u001b[22m ────────────────────────────────────────────────────────────── tidyverse_conflicts() ──\n",
      "\u001b[31m✖\u001b[39m \u001b[34mdplyr\u001b[39m::\u001b[32mfilter()\u001b[39m masks \u001b[34mstats\u001b[39m::filter()\n",
      "\u001b[31m✖\u001b[39m \u001b[34mdplyr\u001b[39m::\u001b[32mlag()\u001b[39m    masks \u001b[34mstats\u001b[39m::lag()\n",
      "\n",
      "\n",
      "Attaching package: ‘reshape2’\n",
      "\n",
      "\n",
      "The following object is masked from ‘package:tidyr’:\n",
      "\n",
      "    smiths\n",
      "\n",
      "\n",
      "Loading required package: MASS\n",
      "\n",
      "\n",
      "Attaching package: ‘MASS’\n",
      "\n",
      "\n",
      "The following object is masked from ‘package:dplyr’:\n",
      "\n",
      "    select\n",
      "\n",
      "\n",
      "\n",
      "'drc' has been loaded.\n",
      "\n",
      "\n",
      "Please cite R and 'drc' if used for a publication,\n",
      "\n",
      "for references type 'citation()' and 'citation('drc')'.\n",
      "\n",
      "\n",
      "\n",
      "Attaching package: ‘drc’\n",
      "\n",
      "\n",
      "The following objects are masked from ‘package:stats’:\n",
      "\n",
      "    gaussian, getInitial\n",
      "\n",
      "\n",
      "Loading required package: mvtnorm\n",
      "\n",
      "Loading required package: survival\n",
      "\n",
      "Loading required package: TH.data\n",
      "\n",
      "\n",
      "Attaching package: ‘TH.data’\n",
      "\n",
      "\n",
      "The following object is masked from ‘package:MASS’:\n",
      "\n",
      "    geyser\n",
      "\n",
      "\n"
     ]
    }
   ],
   "source": [
    "library (tidyverse)\n",
    "library (openxlsx)\n",
    "library (reshape2)\n",
    "library (readr)\n",
    "library (drc)\n",
    "library (multcomp)\n",
    "library (sandwich)"
   ]
  },
  {
   "cell_type": "code",
   "execution_count": 2,
   "id": "2dc65df7-253a-4e98-9835-a17cb1fde919",
   "metadata": {},
   "outputs": [],
   "source": [
    "registerS3method(\"estfun\", \"drc\", drc::estfun.drc)\n",
    "registerS3method(\"bread\", \"drc\", drc::bread.drc)\n",
    "\n",
    "glht.table <- function(x) {\n",
    "\n",
    "  pq <- summary(x)$test\n",
    "  mtests <- cbind(pq$coefficients, pq$sigma, pq$tstat, pq$pvalues)\n",
    "  error <- attr(pq$pvalues, \"error\")\n",
    "  pname <- switch(x$alternativ, less = paste(\"Pr(<\", ifelse(x$df ==0, \"z\", \"t\"), \")\", sep = \"\"), \n",
    "  greater = paste(\"Pr(>\", ifelse(x$df == 0, \"z\", \"t\"), \")\", sep = \"\"), two.sided = paste(\"Pr(>|\",ifelse(x$df == 0, \"z\", \"t\"), \"|)\", sep = \"\"))\n",
    "  colnames(mtests) <- c(\"Estimate\", \"Std. Error\", ifelse(x$df ==0, \"z value\", \"t value\"), pname)\n",
    "  return(mtests)\n",
    "\n",
    "}"
   ]
  },
  {
   "cell_type": "code",
   "execution_count": 3,
   "id": "eb5c6048-6f2b-4ae2-b651-9677455429ab",
   "metadata": {},
   "outputs": [],
   "source": [
    "long = read.table(\"./data/f_CA2021_inlog_FC15_FC2_evidence-threshold_final.tsv\", sep = '\\t', row.names =1, header = T)"
   ]
  },
  {
   "cell_type": "code",
   "execution_count": 4,
   "id": "944ddce9-4813-4092-af11-844e91391ec2",
   "metadata": {},
   "outputs": [],
   "source": [
    "long$primary <- gsub(\"1\",\"primary\",as.character(long$primary))\n",
    "long$primary <- gsub(\"0\",\"secondary\",as.character(long$primary))\n",
    "\n",
    "long$cluster <- gsub(\"1\",\"dirup\",as.character(long$cluster))\n",
    "long$cluster <- gsub(\"2\",\"dirdown\",as.character(long$cluster))\n",
    "long$cluster <- gsub(\"3\",\"indirdown\",as.character(long$cluster))\n",
    "long$cluster <- gsub(\"4\",\"indirup\",as.character(long$cluster))"
   ]
  },
  {
   "cell_type": "code",
   "execution_count": 5,
   "id": "3ab975a3-c3fe-4a5a-9f48-d5a472d5e670",
   "metadata": {},
   "outputs": [
    {
     "data": {
      "text/plain": [
       "\n",
       "down   up \n",
       " 164   42 "
      ]
     },
     "metadata": {},
     "output_type": "display_data"
    },
    {
     "data": {
      "text/plain": [
       "\n",
       "  primary_down     primary_NA     primary_up secondary_down   secondary_NA \n",
       "            60             94             25            104          12640 \n",
       "  secondary_up \n",
       "            17 "
      ]
     },
     "metadata": {},
     "output_type": "display_data"
    }
   ],
   "source": [
    "long = long %>%\n",
    "mutate (reg =case_when (\n",
    "ref_206 == \"yes\" & cluster == \"dirup\" ~ \"up\",\n",
    "ref_206 == \"yes\" & cluster == \"indirup\" ~ \"up\",   \n",
    "ref_206 == \"yes\" & TRUE ~ \"down\"\n",
    "))\n",
    "\n",
    "table (long$reg)\n",
    "long$class = factor(paste(long$primary, long$reg,  sep=\"_\"))\n",
    "table (long$class)"
   ]
  },
  {
   "cell_type": "markdown",
   "id": "166a9047-5b50-418c-a233-9af73538674d",
   "metadata": {},
   "source": [
    "## 125D "
   ]
  },
  {
   "cell_type": "code",
   "execution_count": 6,
   "id": "d360701f-42c6-478f-b7a5-b540e25805ef",
   "metadata": {},
   "outputs": [
    {
     "data": {
      "text/html": [
       "<table class=\"dataframe\">\n",
       "<caption>A data.frame: 6 × 4</caption>\n",
       "<thead>\n",
       "\t<tr><th></th><th scope=col>abs_logFC_V125D3_0.1nM_24h</th><th scope=col>abs_logFC_V125D3_1nM_24h</th><th scope=col>abs_logFC_V125D3_10nM_24h</th><th scope=col>abs_logFC_V125D3_0nM_24h</th></tr>\n",
       "\t<tr><th></th><th scope=col>&lt;dbl&gt;</th><th scope=col>&lt;dbl&gt;</th><th scope=col>&lt;dbl&gt;</th><th scope=col>&lt;dbl&gt;</th></tr>\n",
       "</thead>\n",
       "<tbody>\n",
       "\t<tr><th scope=row>ABCC3</th><td>0.4393014</td><td>0.4772106</td><td>1.433093</td><td>0</td></tr>\n",
       "\t<tr><th scope=row>ACTB</th><td>0.4093385</td><td>0.8379242</td><td>1.312556</td><td>0</td></tr>\n",
       "\t<tr><th scope=row>ACVRL1</th><td>0.3542608</td><td>2.0012889</td><td>1.835546</td><td>0</td></tr>\n",
       "\t<tr><th scope=row>ADAMTSL4</th><td>0.2488015</td><td>0.8881514</td><td>2.255927</td><td>0</td></tr>\n",
       "\t<tr><th scope=row>ADGRE1</th><td>0.5175299</td><td>2.4298480</td><td>2.444798</td><td>0</td></tr>\n",
       "\t<tr><th scope=row>ADGRE3</th><td>0.3603708</td><td>3.5436203</td><td>2.815850</td><td>0</td></tr>\n",
       "</tbody>\n",
       "</table>\n"
      ],
      "text/latex": [
       "A data.frame: 6 × 4\n",
       "\\begin{tabular}{r|llll}\n",
       "  & abs\\_logFC\\_V125D3\\_0.1nM\\_24h & abs\\_logFC\\_V125D3\\_1nM\\_24h & abs\\_logFC\\_V125D3\\_10nM\\_24h & abs\\_logFC\\_V125D3\\_0nM\\_24h\\\\\n",
       "  & <dbl> & <dbl> & <dbl> & <dbl>\\\\\n",
       "\\hline\n",
       "\tABCC3 & 0.4393014 & 0.4772106 & 1.433093 & 0\\\\\n",
       "\tACTB & 0.4093385 & 0.8379242 & 1.312556 & 0\\\\\n",
       "\tACVRL1 & 0.3542608 & 2.0012889 & 1.835546 & 0\\\\\n",
       "\tADAMTSL4 & 0.2488015 & 0.8881514 & 2.255927 & 0\\\\\n",
       "\tADGRE1 & 0.5175299 & 2.4298480 & 2.444798 & 0\\\\\n",
       "\tADGRE3 & 0.3603708 & 3.5436203 & 2.815850 & 0\\\\\n",
       "\\end{tabular}\n"
      ],
      "text/markdown": [
       "\n",
       "A data.frame: 6 × 4\n",
       "\n",
       "| <!--/--> | abs_logFC_V125D3_0.1nM_24h &lt;dbl&gt; | abs_logFC_V125D3_1nM_24h &lt;dbl&gt; | abs_logFC_V125D3_10nM_24h &lt;dbl&gt; | abs_logFC_V125D3_0nM_24h &lt;dbl&gt; |\n",
       "|---|---|---|---|---|\n",
       "| ABCC3 | 0.4393014 | 0.4772106 | 1.433093 | 0 |\n",
       "| ACTB | 0.4093385 | 0.8379242 | 1.312556 | 0 |\n",
       "| ACVRL1 | 0.3542608 | 2.0012889 | 1.835546 | 0 |\n",
       "| ADAMTSL4 | 0.2488015 | 0.8881514 | 2.255927 | 0 |\n",
       "| ADGRE1 | 0.5175299 | 2.4298480 | 2.444798 | 0 |\n",
       "| ADGRE3 | 0.3603708 | 3.5436203 | 2.815850 | 0 |\n",
       "\n"
      ],
      "text/plain": [
       "         abs_logFC_V125D3_0.1nM_24h abs_logFC_V125D3_1nM_24h\n",
       "ABCC3    0.4393014                  0.4772106               \n",
       "ACTB     0.4093385                  0.8379242               \n",
       "ACVRL1   0.3542608                  2.0012889               \n",
       "ADAMTSL4 0.2488015                  0.8881514               \n",
       "ADGRE1   0.5175299                  2.4298480               \n",
       "ADGRE3   0.3603708                  3.5436203               \n",
       "         abs_logFC_V125D3_10nM_24h abs_logFC_V125D3_0nM_24h\n",
       "ABCC3    1.433093                  0                       \n",
       "ACTB     1.312556                  0                       \n",
       "ACVRL1   1.835546                  0                       \n",
       "ADAMTSL4 2.255927                  0                       \n",
       "ADGRE1   2.444798                  0                       \n",
       "ADGRE3   2.815850                  0                       "
      ]
     },
     "metadata": {},
     "output_type": "display_data"
    },
    {
     "data": {
      "text/plain": [
       "\n",
       "Model fitted: Log-logistic (ED50 as parameter) with lower limit at 0 (3 parms)\n",
       "\n",
       "Parameter estimates:\n",
       "\n",
       "               Estimate Std. Error  t-value   p-value    \n",
       "b:(Intercept) -0.837343   0.077980 -10.7380 < 2.2e-16 ***\n",
       "d:(Intercept)  2.772329   0.100980  27.4543 < 2.2e-16 ***\n",
       "e:(Intercept)  0.484675   0.066957   7.2387 1.042e-12 ***\n",
       "---\n",
       "Signif. codes:  0 ‘***’ 0.001 ‘**’ 0.01 ‘*’ 0.05 ‘.’ 0.1 ‘ ’ 1\n",
       "\n",
       "Residual standard error:\n",
       "\n",
       " 0.8140876 (821 degrees of freedom)"
      ]
     },
     "metadata": {},
     "output_type": "display_data"
    },
    {
     "data": {
      "image/png": "[encoded data removed]",
      "text/plain": [
       "plot without title"
      ]
     },
     "metadata": {
      "image/png": {
       "height": 420,
       "width": 420
      }
     },
     "output_type": "display_data"
    }
   ],
   "source": [
    "d = long %>%\n",
    "filter (., ref_206 == \"yes\")\n",
    "#dim (d)\n",
    "\n",
    "d$abs_logFC_V125D3_0.1nM_24h = abs(d$logFC_V125D3_0.1nM_24h)\n",
    "d$abs_logFC_V125D3_1nM_24h = abs(d$logFC_V125D3_1nM_24h)\n",
    "d$abs_logFC_V125D3_10nM_24h = abs(d$logFC_V125D3_10nM_24h)\n",
    "\n",
    "Dave_125D = d %>%\n",
    "dplyr::select (., abs_logFC_V125D3_0.1nM_24h:abs_logFC_V125D3_10nM_24h) %>%\n",
    "mutate (abs_logFC_V125D3_0nM_24h = rep(0,nrow(.)))\n",
    "head (Dave_125D)\n",
    "\n",
    "dt = Dave_125D\n",
    "\n",
    "newfishes = rownames (dt)\n",
    "#head(newfishes)\n",
    "\n",
    "df2_Ind = as.vector (colnames (dt))\n",
    "\n",
    "df_y = colsplit(df2_Ind, \"_\", c(\"placeholder\",\"placeholder2\",\"treatment\", \"concentration\", \"time\"))\n",
    "df_y = as.data.frame(unclass(df_y))\n",
    "#df_y$Treatconcstudy <- factor(paste(df_y$treatment, df_y$time, sep=\"_\"))\n",
    "df_y$sample <- df2_Ind\n",
    "df_y$type <- factor(paste(\"avg_125D\"))\n",
    "#df_ya\n",
    "\n",
    "df_y = df_y %>%\n",
    "  mutate(., conc = concentration)\n",
    "\n",
    "df_y$conc <- gsub(\"nM\",\"\",as.character(df_y$conc))\n",
    "df_y$conc = as.numeric (df_y$conc)\n",
    "\n",
    "#df_y\n",
    "\n",
    "small_pwt_T = as.data.frame (t(dt))\n",
    "#small_pwt_T\n",
    "\n",
    "small_pwt_T = small_pwt_T %>%\n",
    "  rownames_to_column (\"sample\")\n",
    "\n",
    "mrg = merge(x=small_pwt_T,y=df_y,by.x=\"sample\", all.x =T)\n",
    "\n",
    "#head(mrg)\n",
    "mrg2 = mrg %>% \n",
    "  pivot_longer(all_of(newfishes)) %>%  #eighthours\n",
    "  arrange (name)\n",
    "\n",
    "mrg2$name <- as.factor(mrg2$name)\n",
    "\n",
    "mrg2 = mrg2 %>%\n",
    "  dplyr::group_by(name) \n",
    "\n",
    "mrg2_125D = mrg2\n",
    "\n",
    "test_LL.3 <- drm(value ~ conc,\n",
    "                   curveid = type, \n",
    "                   data = mrg2_125D,\n",
    "  fct = LL.3(\n",
    "))\n",
    "\n",
    "plot(test_LL.3, bty=\"l\", type = \"all\")#log = \"\"\n",
    "\n",
    "summary (test_LL.3) #Fig 2 EC50"
   ]
  },
  {
   "cell_type": "code",
   "execution_count": 7,
   "id": "1124fe91-1236-4ac4-be1a-e20bc1cda62a",
   "metadata": {},
   "outputs": [
    {
     "data": {
      "text/html": [
       "0.48"
      ],
      "text/latex": [
       "0.48"
      ],
      "text/markdown": [
       "0.48"
      ],
      "text/plain": [
       "[1] 0.48"
      ]
     },
     "metadata": {},
     "output_type": "display_data"
    },
    {
     "data": {
      "text/html": [
       "0.07"
      ],
      "text/latex": [
       "0.07"
      ],
      "text/markdown": [
       "0.07"
      ],
      "text/plain": [
       "[1] 0.07"
      ]
     },
     "metadata": {},
     "output_type": "display_data"
    }
   ],
   "source": [
    "round (0.484675,2)\n",
    "round (0.066957,2)"
   ]
  },
  {
   "cell_type": "markdown",
   "id": "a93a6f9b-3aef-41aa-a0dd-460336a3bbbb",
   "metadata": {},
   "source": [
    "## Fig. 2: 1,25D\n",
    "#### with adjusted conﬁdence intervals"
   ]
  },
  {
   "cell_type": "code",
   "execution_count": 8,
   "id": "5fe18120-ad22-488f-9e16-c5d83d961028",
   "metadata": {},
   "outputs": [
    {
     "data": {
      "text/plain": [
       "\n",
       "\t Simultaneous Confidence Intervals\n",
       "\n",
       "Fit: NULL\n",
       "\n",
       "Quantile = 1.96\n",
       "95% family-wise confidence level\n",
       " \n",
       "\n",
       "Linear Hypotheses:\n",
       "        Estimate lwr    upr   \n",
       "V1 == 0 0.4847   0.3534 0.6159\n"
      ]
     },
     "metadata": {},
     "output_type": "display_data"
    },
    {
     "data": {
      "text/plain": [
       "\n",
       "\t Simultaneous Tests for General Linear Hypotheses\n",
       "\n",
       "Linear Hypotheses:\n",
       "        Estimate Std. Error z value Pr(>|z|)    \n",
       "V1 == 0  0.48468    0.06696   7.239 4.53e-13 ***\n",
       "---\n",
       "Signif. codes:  0 ‘***’ 0.001 ‘**’ 0.01 ‘*’ 0.05 ‘.’ 0.1 ‘ ’ 1\n",
       "(Adjusted p values reported -- single-step method)\n"
      ]
     },
     "metadata": {},
     "output_type": "display_data"
    }
   ],
   "source": [
    "V125D.EDres <- ED(test_LL.3, c(50),\n",
    "interval = \"delta\",\n",
    "multcomp = TRUE, \n",
    "display = F)\n",
    "\n",
    "confint(glht(V125D.EDres[[\"EDmultcomp\"]]))\n",
    "summary(glht(V125D.EDres[[\"EDmultcomp\"]]))"
   ]
  },
  {
   "cell_type": "markdown",
   "id": "60254f81-b334-48f6-8bb4-ccdf1b62a2d2",
   "metadata": {},
   "source": [
    "## Fig. S4: 1,25D"
   ]
  },
  {
   "cell_type": "code",
   "execution_count": 9,
   "id": "8d2e14e5-ae48-4b20-8c09-51c27e7046a8",
   "metadata": {},
   "outputs": [
    {
     "data": {
      "text/html": [
       "<table class=\"dataframe\">\n",
       "<caption>A grouped_df: 6 × 12</caption>\n",
       "<thead>\n",
       "\t<tr><th scope=col>sample</th><th scope=col>placeholder</th><th scope=col>placeholder2</th><th scope=col>treatment</th><th scope=col>concentration</th><th scope=col>time</th><th scope=col>type</th><th scope=col>conc</th><th scope=col>name</th><th scope=col>value</th><th scope=col>cluster</th><th scope=col>class</th></tr>\n",
       "\t<tr><th scope=col>&lt;chr&gt;</th><th scope=col>&lt;chr&gt;</th><th scope=col>&lt;chr&gt;</th><th scope=col>&lt;chr&gt;</th><th scope=col>&lt;chr&gt;</th><th scope=col>&lt;chr&gt;</th><th scope=col>&lt;fct&gt;</th><th scope=col>&lt;dbl&gt;</th><th scope=col>&lt;fct&gt;</th><th scope=col>&lt;dbl&gt;</th><th scope=col>&lt;chr&gt;</th><th scope=col>&lt;fct&gt;</th></tr>\n",
       "</thead>\n",
       "<tbody>\n",
       "\t<tr><td>abs_logFC_V125D3_0.1nM_24h</td><td>abs</td><td>logFC</td><td>V125D3</td><td>0.1nM</td><td>24h</td><td>avg_125D</td><td> 0.1</td><td>ABCC3</td><td>0.4393014</td><td>indirdown</td><td>primary_down  </td></tr>\n",
       "\t<tr><td>abs_logFC_V125D3_0nM_24h  </td><td>abs</td><td>logFC</td><td>V125D3</td><td>0nM  </td><td>24h</td><td>avg_125D</td><td> 0.0</td><td>ABCC3</td><td>0.0000000</td><td>indirdown</td><td>primary_down  </td></tr>\n",
       "\t<tr><td>abs_logFC_V125D3_10nM_24h </td><td>abs</td><td>logFC</td><td>V125D3</td><td>10nM </td><td>24h</td><td>avg_125D</td><td>10.0</td><td>ABCC3</td><td>1.4330934</td><td>indirdown</td><td>primary_down  </td></tr>\n",
       "\t<tr><td>abs_logFC_V125D3_1nM_24h  </td><td>abs</td><td>logFC</td><td>V125D3</td><td>1nM  </td><td>24h</td><td>avg_125D</td><td> 1.0</td><td>ABCC3</td><td>0.4772106</td><td>indirdown</td><td>primary_down  </td></tr>\n",
       "\t<tr><td>abs_logFC_V125D3_0.1nM_24h</td><td>abs</td><td>logFC</td><td>V125D3</td><td>0.1nM</td><td>24h</td><td>avg_125D</td><td> 0.1</td><td>ACTB </td><td>0.4093385</td><td>indirdown</td><td>secondary_down</td></tr>\n",
       "\t<tr><td>abs_logFC_V125D3_0nM_24h  </td><td>abs</td><td>logFC</td><td>V125D3</td><td>0nM  </td><td>24h</td><td>avg_125D</td><td> 0.0</td><td>ACTB </td><td>0.0000000</td><td>indirdown</td><td>secondary_down</td></tr>\n",
       "</tbody>\n",
       "</table>\n"
      ],
      "text/latex": [
       "A grouped\\_df: 6 × 12\n",
       "\\begin{tabular}{llllllllllll}\n",
       " sample & placeholder & placeholder2 & treatment & concentration & time & type & conc & name & value & cluster & class\\\\\n",
       " <chr> & <chr> & <chr> & <chr> & <chr> & <chr> & <fct> & <dbl> & <fct> & <dbl> & <chr> & <fct>\\\\\n",
       "\\hline\n",
       "\t abs\\_logFC\\_V125D3\\_0.1nM\\_24h & abs & logFC & V125D3 & 0.1nM & 24h & avg\\_125D &  0.1 & ABCC3 & 0.4393014 & indirdown & primary\\_down  \\\\\n",
       "\t abs\\_logFC\\_V125D3\\_0nM\\_24h   & abs & logFC & V125D3 & 0nM   & 24h & avg\\_125D &  0.0 & ABCC3 & 0.0000000 & indirdown & primary\\_down  \\\\\n",
       "\t abs\\_logFC\\_V125D3\\_10nM\\_24h  & abs & logFC & V125D3 & 10nM  & 24h & avg\\_125D & 10.0 & ABCC3 & 1.4330934 & indirdown & primary\\_down  \\\\\n",
       "\t abs\\_logFC\\_V125D3\\_1nM\\_24h   & abs & logFC & V125D3 & 1nM   & 24h & avg\\_125D &  1.0 & ABCC3 & 0.4772106 & indirdown & primary\\_down  \\\\\n",
       "\t abs\\_logFC\\_V125D3\\_0.1nM\\_24h & abs & logFC & V125D3 & 0.1nM & 24h & avg\\_125D &  0.1 & ACTB  & 0.4093385 & indirdown & secondary\\_down\\\\\n",
       "\t abs\\_logFC\\_V125D3\\_0nM\\_24h   & abs & logFC & V125D3 & 0nM   & 24h & avg\\_125D &  0.0 & ACTB  & 0.0000000 & indirdown & secondary\\_down\\\\\n",
       "\\end{tabular}\n"
      ],
      "text/markdown": [
       "\n",
       "A grouped_df: 6 × 12\n",
       "\n",
       "| sample &lt;chr&gt; | placeholder &lt;chr&gt; | placeholder2 &lt;chr&gt; | treatment &lt;chr&gt; | concentration &lt;chr&gt; | time &lt;chr&gt; | type &lt;fct&gt; | conc &lt;dbl&gt; | name &lt;fct&gt; | value &lt;dbl&gt; | cluster &lt;chr&gt; | class &lt;fct&gt; |\n",
       "|---|---|---|---|---|---|---|---|---|---|---|---|\n",
       "| abs_logFC_V125D3_0.1nM_24h | abs | logFC | V125D3 | 0.1nM | 24h | avg_125D |  0.1 | ABCC3 | 0.4393014 | indirdown | primary_down   |\n",
       "| abs_logFC_V125D3_0nM_24h   | abs | logFC | V125D3 | 0nM   | 24h | avg_125D |  0.0 | ABCC3 | 0.0000000 | indirdown | primary_down   |\n",
       "| abs_logFC_V125D3_10nM_24h  | abs | logFC | V125D3 | 10nM  | 24h | avg_125D | 10.0 | ABCC3 | 1.4330934 | indirdown | primary_down   |\n",
       "| abs_logFC_V125D3_1nM_24h   | abs | logFC | V125D3 | 1nM   | 24h | avg_125D |  1.0 | ABCC3 | 0.4772106 | indirdown | primary_down   |\n",
       "| abs_logFC_V125D3_0.1nM_24h | abs | logFC | V125D3 | 0.1nM | 24h | avg_125D |  0.1 | ACTB  | 0.4093385 | indirdown | secondary_down |\n",
       "| abs_logFC_V125D3_0nM_24h   | abs | logFC | V125D3 | 0nM   | 24h | avg_125D |  0.0 | ACTB  | 0.0000000 | indirdown | secondary_down |\n",
       "\n"
      ],
      "text/plain": [
       "  sample                     placeholder placeholder2 treatment concentration\n",
       "1 abs_logFC_V125D3_0.1nM_24h abs         logFC        V125D3    0.1nM        \n",
       "2 abs_logFC_V125D3_0nM_24h   abs         logFC        V125D3    0nM          \n",
       "3 abs_logFC_V125D3_10nM_24h  abs         logFC        V125D3    10nM         \n",
       "4 abs_logFC_V125D3_1nM_24h   abs         logFC        V125D3    1nM          \n",
       "5 abs_logFC_V125D3_0.1nM_24h abs         logFC        V125D3    0.1nM        \n",
       "6 abs_logFC_V125D3_0nM_24h   abs         logFC        V125D3    0nM          \n",
       "  time type     conc name  value     cluster   class         \n",
       "1 24h  avg_125D  0.1 ABCC3 0.4393014 indirdown primary_down  \n",
       "2 24h  avg_125D  0.0 ABCC3 0.0000000 indirdown primary_down  \n",
       "3 24h  avg_125D 10.0 ABCC3 1.4330934 indirdown primary_down  \n",
       "4 24h  avg_125D  1.0 ABCC3 0.4772106 indirdown primary_down  \n",
       "5 24h  avg_125D  0.1 ACTB  0.4093385 indirdown secondary_down\n",
       "6 24h  avg_125D  0.0 ACTB  0.0000000 indirdown secondary_down"
      ]
     },
     "metadata": {},
     "output_type": "display_data"
    }
   ],
   "source": [
    "d2 = long %>%\n",
    "filter (., ref_206 == \"yes\") %>%\n",
    "rownames_to_column (\"gene\")\n",
    "\n",
    "mrg2_125D$cluster =  d2$cluster[match(mrg2_125D$name, d2$gene)]\n",
    "\n",
    "mrg2_125D$class =  d2$class[match(mrg2_125D$name, d2$gene)] #class\n",
    "head (mrg2_125D)\n",
    "\n",
    "figS4_125D_cluster <- drm(value ~ conc,\n",
    "                   curveid = cluster, \n",
    "                   data = mrg2_125D,\n",
    "  fct = LL.3(\n",
    "))\n",
    "\n",
    "figS4_125D_class <- drm(value ~ conc,\n",
    "                   curveid = class, \n",
    "                   data = mrg2_125D,\n",
    "  fct = LL.3(\n",
    "))"
   ]
  },
  {
   "cell_type": "code",
   "execution_count": 10,
   "id": "dfdd248e-1459-44e8-89aa-9b777004412c",
   "metadata": {},
   "outputs": [
    {
     "name": "stdout",
     "output_type": "stream",
     "text": [
      "\n",
      "Comparison of parameter 'e' \n",
      "\n",
      "                   Estimate Std. Error t-value p-value\n",
      "indirdown-dirup    0.407617   0.263035  1.5497  0.1216\n",
      "indirdown-dirdown  0.255138   0.297651  0.8572  0.3916\n",
      "indirdown-indirup  0.239852   0.370500  0.6474  0.5176\n",
      "dirup-dirdown     -0.152479   0.169283 -0.9007  0.3680\n",
      "dirup-indirup     -0.167765   0.278085 -0.6033  0.5465\n",
      "dirdown-indirup   -0.015286   0.311030 -0.0491  0.9608\n"
     ]
    }
   ],
   "source": [
    "compParm (figS4_125D_cluster, \"e\", \"-\", vcov = sandwich)"
   ]
  },
  {
   "cell_type": "markdown",
   "id": "de9a5717-d3e5-4828-9c01-ce807bede87b",
   "metadata": {},
   "source": [
    "#### obtaining confidence intervals adjusted for multiplicity (multcomp)"
   ]
  },
  {
   "cell_type": "code",
   "execution_count": 11,
   "id": "11b47605-7cc9-480c-ab73-0fe29fa5c633",
   "metadata": {},
   "outputs": [
    {
     "data": {
      "text/plain": [
       "\n",
       "\t Simultaneous Confidence Intervals\n",
       "\n",
       "Fit: NULL\n",
       "\n",
       "Quantile = 2.4908\n",
       "95% family-wise confidence level\n",
       " \n",
       "\n",
       "Linear Hypotheses:\n",
       "                    Estimate lwr      upr     \n",
       "e:dirdown:50 == 0    0.44375  0.17204  0.71546\n",
       "e:dirup:50 == 0      0.29127  0.07431  0.50823\n",
       "e:indirdown:50 == 0  0.69889  0.21016  1.18761\n",
       "e:indirup:50 == 0    0.45903 -0.56369  1.48176\n"
      ]
     },
     "metadata": {},
     "output_type": "display_data"
    },
    {
     "data": {
      "text/html": [
       "<table class=\"dataframe\">\n",
       "<caption>A matrix: 6 × 4 of type dbl</caption>\n",
       "<thead>\n",
       "\t<tr><th></th><th scope=col>Estimate</th><th scope=col>Std. Error</th><th scope=col>z value</th><th scope=col>Pr(&gt;|z|)</th></tr>\n",
       "</thead>\n",
       "<tbody>\n",
       "\t<tr><th scope=row>2 - 1</th><td>-0.15247870</td><td>0.1395921</td><td>-1.09231591</td><td>0.6715839</td></tr>\n",
       "\t<tr><th scope=row>3 - 1</th><td> 0.25513848</td><td>0.2244932</td><td> 1.13650879</td><td>0.6430800</td></tr>\n",
       "\t<tr><th scope=row>4 - 1</th><td> 0.01528616</td><td>0.4248364</td><td> 0.03598129</td><td>0.9999814</td></tr>\n",
       "\t<tr><th scope=row>3 - 2</th><td> 0.40761718</td><td>0.2146740</td><td> 1.89877259</td><td>0.2070365</td></tr>\n",
       "\t<tr><th scope=row>4 - 2</th><td> 0.16776486</td><td>0.4197305</td><td> 0.39969661</td><td>0.9760409</td></tr>\n",
       "\t<tr><th scope=row>4 - 3</th><td>-0.23985232</td><td>0.4550658</td><td>-0.52707170</td><td>0.9476126</td></tr>\n",
       "</tbody>\n",
       "</table>\n"
      ],
      "text/latex": [
       "A matrix: 6 × 4 of type dbl\n",
       "\\begin{tabular}{r|llll}\n",
       "  & Estimate & Std. Error & z value & Pr(>\\textbar{}z\\textbar{})\\\\\n",
       "\\hline\n",
       "\t2 - 1 & -0.15247870 & 0.1395921 & -1.09231591 & 0.6715839\\\\\n",
       "\t3 - 1 &  0.25513848 & 0.2244932 &  1.13650879 & 0.6430800\\\\\n",
       "\t4 - 1 &  0.01528616 & 0.4248364 &  0.03598129 & 0.9999814\\\\\n",
       "\t3 - 2 &  0.40761718 & 0.2146740 &  1.89877259 & 0.2070365\\\\\n",
       "\t4 - 2 &  0.16776486 & 0.4197305 &  0.39969661 & 0.9760409\\\\\n",
       "\t4 - 3 & -0.23985232 & 0.4550658 & -0.52707170 & 0.9476126\\\\\n",
       "\\end{tabular}\n"
      ],
      "text/markdown": [
       "\n",
       "A matrix: 6 × 4 of type dbl\n",
       "\n",
       "| <!--/--> | Estimate | Std. Error | z value | Pr(&gt;|z|) |\n",
       "|---|---|---|---|---|\n",
       "| 2 - 1 | -0.15247870 | 0.1395921 | -1.09231591 | 0.6715839 |\n",
       "| 3 - 1 |  0.25513848 | 0.2244932 |  1.13650879 | 0.6430800 |\n",
       "| 4 - 1 |  0.01528616 | 0.4248364 |  0.03598129 | 0.9999814 |\n",
       "| 3 - 2 |  0.40761718 | 0.2146740 |  1.89877259 | 0.2070365 |\n",
       "| 4 - 2 |  0.16776486 | 0.4197305 |  0.39969661 | 0.9760409 |\n",
       "| 4 - 3 | -0.23985232 | 0.4550658 | -0.52707170 | 0.9476126 |\n",
       "\n"
      ],
      "text/plain": [
       "      Estimate    Std. Error z value     Pr(>|z|) \n",
       "2 - 1 -0.15247870 0.1395921  -1.09231591 0.6715839\n",
       "3 - 1  0.25513848 0.2244932   1.13650879 0.6430800\n",
       "4 - 1  0.01528616 0.4248364   0.03598129 0.9999814\n",
       "3 - 2  0.40761718 0.2146740   1.89877259 0.2070365\n",
       "4 - 2  0.16776486 0.4197305   0.39969661 0.9760409\n",
       "4 - 3 -0.23985232 0.4550658  -0.52707170 0.9476126"
      ]
     },
     "metadata": {},
     "output_type": "display_data"
    },
    {
     "data": {
      "text/plain": [
       "\n",
       "\t Simultaneous Confidence Intervals\n",
       "\n",
       "Fit: NULL\n",
       "\n",
       "Quantile = 2.4908\n",
       "95% family-wise confidence level\n",
       " \n",
       "\n",
       "Linear Hypotheses:\n",
       "                         Estimate lwr      upr     \n",
       "e:primary_down:50 == 0    0.73970 -0.05063  1.53003\n",
       "e:primary_up:50 == 0      0.30296  0.03222  0.57370\n",
       "e:secondary_down:50 == 0  0.51591  0.24804  0.78378\n",
       "e:secondary_up:50 == 0    0.33206 -0.03800  0.70212\n"
      ]
     },
     "metadata": {},
     "output_type": "display_data"
    },
    {
     "data": {
      "text/html": [
       "<table class=\"dataframe\">\n",
       "<caption>A matrix: 6 × 4 of type dbl</caption>\n",
       "<thead>\n",
       "\t<tr><th></th><th scope=col>Estimate</th><th scope=col>Std. Error</th><th scope=col>z value</th><th scope=col>Pr(&gt;|z|)</th></tr>\n",
       "</thead>\n",
       "<tbody>\n",
       "\t<tr><th scope=row>2 - 1</th><td>-0.43674191</td><td>0.3353944</td><td>-1.3021741</td><td>0.5443075</td></tr>\n",
       "\t<tr><th scope=row>3 - 1</th><td>-0.22378878</td><td>0.3350230</td><td>-0.6679805</td><td>0.9035717</td></tr>\n",
       "\t<tr><th scope=row>4 - 1</th><td>-0.40764263</td><td>0.3503542</td><td>-1.1635158</td><td>0.6342925</td></tr>\n",
       "\t<tr><th scope=row>3 - 2</th><td> 0.21295312</td><td>0.1529036</td><td> 1.3927284</td><td>0.4860864</td></tr>\n",
       "\t<tr><th scope=row>4 - 2</th><td> 0.02909928</td><td>0.1840847</td><td> 0.1580755</td><td>0.9984939</td></tr>\n",
       "\t<tr><th scope=row>4 - 3</th><td>-0.18385384</td><td>0.1834070</td><td>-1.0024362</td><td>0.7351732</td></tr>\n",
       "</tbody>\n",
       "</table>\n"
      ],
      "text/latex": [
       "A matrix: 6 × 4 of type dbl\n",
       "\\begin{tabular}{r|llll}\n",
       "  & Estimate & Std. Error & z value & Pr(>\\textbar{}z\\textbar{})\\\\\n",
       "\\hline\n",
       "\t2 - 1 & -0.43674191 & 0.3353944 & -1.3021741 & 0.5443075\\\\\n",
       "\t3 - 1 & -0.22378878 & 0.3350230 & -0.6679805 & 0.9035717\\\\\n",
       "\t4 - 1 & -0.40764263 & 0.3503542 & -1.1635158 & 0.6342925\\\\\n",
       "\t3 - 2 &  0.21295312 & 0.1529036 &  1.3927284 & 0.4860864\\\\\n",
       "\t4 - 2 &  0.02909928 & 0.1840847 &  0.1580755 & 0.9984939\\\\\n",
       "\t4 - 3 & -0.18385384 & 0.1834070 & -1.0024362 & 0.7351732\\\\\n",
       "\\end{tabular}\n"
      ],
      "text/markdown": [
       "\n",
       "A matrix: 6 × 4 of type dbl\n",
       "\n",
       "| <!--/--> | Estimate | Std. Error | z value | Pr(&gt;|z|) |\n",
       "|---|---|---|---|---|\n",
       "| 2 - 1 | -0.43674191 | 0.3353944 | -1.3021741 | 0.5443075 |\n",
       "| 3 - 1 | -0.22378878 | 0.3350230 | -0.6679805 | 0.9035717 |\n",
       "| 4 - 1 | -0.40764263 | 0.3503542 | -1.1635158 | 0.6342925 |\n",
       "| 3 - 2 |  0.21295312 | 0.1529036 |  1.3927284 | 0.4860864 |\n",
       "| 4 - 2 |  0.02909928 | 0.1840847 |  0.1580755 | 0.9984939 |\n",
       "| 4 - 3 | -0.18385384 | 0.1834070 | -1.0024362 | 0.7351732 |\n",
       "\n"
      ],
      "text/plain": [
       "      Estimate    Std. Error z value    Pr(>|z|) \n",
       "2 - 1 -0.43674191 0.3353944  -1.3021741 0.5443075\n",
       "3 - 1 -0.22378878 0.3350230  -0.6679805 0.9035717\n",
       "4 - 1 -0.40764263 0.3503542  -1.1635158 0.6342925\n",
       "3 - 2  0.21295312 0.1529036   1.3927284 0.4860864\n",
       "4 - 2  0.02909928 0.1840847   0.1580755 0.9984939\n",
       "4 - 3 -0.18385384 0.1834070  -1.0024362 0.7351732"
      ]
     },
     "metadata": {},
     "output_type": "display_data"
    }
   ],
   "source": [
    "V125D_cluster.EDres <- ED(figS4_125D_cluster, c(50),\n",
    "interval = \"delta\",\n",
    "multcomp = TRUE, \n",
    "display = F)\n",
    "\n",
    "confint(glht(V125D_cluster.EDres[[\"EDmultcomp\"]])) #multiplicity adjusted 95% confidence interval\n",
    "\n",
    "test_V125D_cluster = glht.table(summary(glht(V125D_cluster.EDres[[\"EDmultcomp\"]], \n",
    "             linfct = contrMat(1:4, \"Tukey\"))))\n",
    "test_V125D_cluster\n",
    "#############################\n",
    "\n",
    "V125D_class.EDres <- ED(figS4_125D_class, c(50),\n",
    "interval = \"delta\",\n",
    "multcomp = TRUE, \n",
    "display = F)\n",
    "\n",
    "confint(glht(V125D_class.EDres[[\"EDmultcomp\"]])) #multiplicity adjusted 95% confidence interval\n",
    "test_V125D_class = glht.table(summary(glht(V125D_class.EDres[[\"EDmultcomp\"]], \n",
    "             linfct = contrMat(1:4, \"Tukey\"))))\n",
    "test_V125D_class"
   ]
  },
  {
   "cell_type": "code",
   "execution_count": 12,
   "id": "8c926957-f589-4e18-8833-5dcefaae118f",
   "metadata": {},
   "outputs": [
    {
     "data": {
      "text/html": [
       "<table class=\"dataframe\">\n",
       "<caption>A matrix: 6 × 4 of type dbl</caption>\n",
       "<thead>\n",
       "\t<tr><th></th><th scope=col>Estimate</th><th scope=col>Std. Error</th><th scope=col>z value</th><th scope=col>Pr(&gt;|z|)</th></tr>\n",
       "</thead>\n",
       "<tbody>\n",
       "\t<tr><th scope=row>2 - 1</th><td>-0.15247870</td><td>0.1395921</td><td>-1.09231591</td><td>0.6715839</td></tr>\n",
       "\t<tr><th scope=row>3 - 1</th><td> 0.25513848</td><td>0.2244932</td><td> 1.13650879</td><td>0.6430800</td></tr>\n",
       "\t<tr><th scope=row>4 - 1</th><td> 0.01528616</td><td>0.4248364</td><td> 0.03598129</td><td>0.9999814</td></tr>\n",
       "\t<tr><th scope=row>3 - 2</th><td> 0.40761718</td><td>0.2146740</td><td> 1.89877259</td><td>0.2070365</td></tr>\n",
       "\t<tr><th scope=row>4 - 2</th><td> 0.16776486</td><td>0.4197305</td><td> 0.39969661</td><td>0.9760409</td></tr>\n",
       "\t<tr><th scope=row>4 - 3</th><td>-0.23985232</td><td>0.4550658</td><td>-0.52707170</td><td>0.9476126</td></tr>\n",
       "</tbody>\n",
       "</table>\n"
      ],
      "text/latex": [
       "A matrix: 6 × 4 of type dbl\n",
       "\\begin{tabular}{r|llll}\n",
       "  & Estimate & Std. Error & z value & Pr(>\\textbar{}z\\textbar{})\\\\\n",
       "\\hline\n",
       "\t2 - 1 & -0.15247870 & 0.1395921 & -1.09231591 & 0.6715839\\\\\n",
       "\t3 - 1 &  0.25513848 & 0.2244932 &  1.13650879 & 0.6430800\\\\\n",
       "\t4 - 1 &  0.01528616 & 0.4248364 &  0.03598129 & 0.9999814\\\\\n",
       "\t3 - 2 &  0.40761718 & 0.2146740 &  1.89877259 & 0.2070365\\\\\n",
       "\t4 - 2 &  0.16776486 & 0.4197305 &  0.39969661 & 0.9760409\\\\\n",
       "\t4 - 3 & -0.23985232 & 0.4550658 & -0.52707170 & 0.9476126\\\\\n",
       "\\end{tabular}\n"
      ],
      "text/markdown": [
       "\n",
       "A matrix: 6 × 4 of type dbl\n",
       "\n",
       "| <!--/--> | Estimate | Std. Error | z value | Pr(&gt;|z|) |\n",
       "|---|---|---|---|---|\n",
       "| 2 - 1 | -0.15247870 | 0.1395921 | -1.09231591 | 0.6715839 |\n",
       "| 3 - 1 |  0.25513848 | 0.2244932 |  1.13650879 | 0.6430800 |\n",
       "| 4 - 1 |  0.01528616 | 0.4248364 |  0.03598129 | 0.9999814 |\n",
       "| 3 - 2 |  0.40761718 | 0.2146740 |  1.89877259 | 0.2070365 |\n",
       "| 4 - 2 |  0.16776486 | 0.4197305 |  0.39969661 | 0.9760409 |\n",
       "| 4 - 3 | -0.23985232 | 0.4550658 | -0.52707170 | 0.9476126 |\n",
       "\n"
      ],
      "text/plain": [
       "      Estimate    Std. Error z value     Pr(>|z|) \n",
       "2 - 1 -0.15247870 0.1395921  -1.09231591 0.6715839\n",
       "3 - 1  0.25513848 0.2244932   1.13650879 0.6430800\n",
       "4 - 1  0.01528616 0.4248364   0.03598129 0.9999814\n",
       "3 - 2  0.40761718 0.2146740   1.89877259 0.2070365\n",
       "4 - 2  0.16776486 0.4197305   0.39969661 0.9760409\n",
       "4 - 3 -0.23985232 0.4550658  -0.52707170 0.9476126"
      ]
     },
     "metadata": {},
     "output_type": "display_data"
    },
    {
     "data": {
      "text/html": [
       "<table class=\"dataframe\">\n",
       "<caption>A matrix: 6 × 4 of type dbl</caption>\n",
       "<thead>\n",
       "\t<tr><th></th><th scope=col>Estimate</th><th scope=col>Std. Error</th><th scope=col>z value</th><th scope=col>Pr(&gt;|z|)</th></tr>\n",
       "</thead>\n",
       "<tbody>\n",
       "\t<tr><th scope=row>2 - 1</th><td>-0.43674191</td><td>0.3353944</td><td>-1.3021741</td><td>0.5443075</td></tr>\n",
       "\t<tr><th scope=row>3 - 1</th><td>-0.22378878</td><td>0.3350230</td><td>-0.6679805</td><td>0.9035717</td></tr>\n",
       "\t<tr><th scope=row>4 - 1</th><td>-0.40764263</td><td>0.3503542</td><td>-1.1635158</td><td>0.6342925</td></tr>\n",
       "\t<tr><th scope=row>3 - 2</th><td> 0.21295312</td><td>0.1529036</td><td> 1.3927284</td><td>0.4860864</td></tr>\n",
       "\t<tr><th scope=row>4 - 2</th><td> 0.02909928</td><td>0.1840847</td><td> 0.1580755</td><td>0.9984939</td></tr>\n",
       "\t<tr><th scope=row>4 - 3</th><td>-0.18385384</td><td>0.1834070</td><td>-1.0024362</td><td>0.7351732</td></tr>\n",
       "</tbody>\n",
       "</table>\n"
      ],
      "text/latex": [
       "A matrix: 6 × 4 of type dbl\n",
       "\\begin{tabular}{r|llll}\n",
       "  & Estimate & Std. Error & z value & Pr(>\\textbar{}z\\textbar{})\\\\\n",
       "\\hline\n",
       "\t2 - 1 & -0.43674191 & 0.3353944 & -1.3021741 & 0.5443075\\\\\n",
       "\t3 - 1 & -0.22378878 & 0.3350230 & -0.6679805 & 0.9035717\\\\\n",
       "\t4 - 1 & -0.40764263 & 0.3503542 & -1.1635158 & 0.6342925\\\\\n",
       "\t3 - 2 &  0.21295312 & 0.1529036 &  1.3927284 & 0.4860864\\\\\n",
       "\t4 - 2 &  0.02909928 & 0.1840847 &  0.1580755 & 0.9984939\\\\\n",
       "\t4 - 3 & -0.18385384 & 0.1834070 & -1.0024362 & 0.7351732\\\\\n",
       "\\end{tabular}\n"
      ],
      "text/markdown": [
       "\n",
       "A matrix: 6 × 4 of type dbl\n",
       "\n",
       "| <!--/--> | Estimate | Std. Error | z value | Pr(&gt;|z|) |\n",
       "|---|---|---|---|---|\n",
       "| 2 - 1 | -0.43674191 | 0.3353944 | -1.3021741 | 0.5443075 |\n",
       "| 3 - 1 | -0.22378878 | 0.3350230 | -0.6679805 | 0.9035717 |\n",
       "| 4 - 1 | -0.40764263 | 0.3503542 | -1.1635158 | 0.6342925 |\n",
       "| 3 - 2 |  0.21295312 | 0.1529036 |  1.3927284 | 0.4860864 |\n",
       "| 4 - 2 |  0.02909928 | 0.1840847 |  0.1580755 | 0.9984939 |\n",
       "| 4 - 3 | -0.18385384 | 0.1834070 | -1.0024362 | 0.7351732 |\n",
       "\n"
      ],
      "text/plain": [
       "      Estimate    Std. Error z value    Pr(>|z|) \n",
       "2 - 1 -0.43674191 0.3353944  -1.3021741 0.5443075\n",
       "3 - 1 -0.22378878 0.3350230  -0.6679805 0.9035717\n",
       "4 - 1 -0.40764263 0.3503542  -1.1635158 0.6342925\n",
       "3 - 2  0.21295312 0.1529036   1.3927284 0.4860864\n",
       "4 - 2  0.02909928 0.1840847   0.1580755 0.9984939\n",
       "4 - 3 -0.18385384 0.1834070  -1.0024362 0.7351732"
      ]
     },
     "metadata": {},
     "output_type": "display_data"
    }
   ],
   "source": [
    "test_V125D_cluster\n",
    "test_V125D_class"
   ]
  },
  {
   "cell_type": "code",
   "execution_count": 15,
   "id": "960b32bb-8428-4caf-9393-1bb83570f83f",
   "metadata": {},
   "outputs": [],
   "source": [
    "##try with compparm\n",
    "V125D.EDres <- ED(figS4_125D_cluster, c(50),\n",
    "interval = \"delta\",\n",
    "multcomp = TRUE, \n",
    "display = F)"
   ]
  },
  {
   "cell_type": "code",
   "execution_count": 16,
   "id": "e6535cb4-490b-4bfa-9799-a438e157f665",
   "metadata": {},
   "outputs": [
    {
     "name": "stdout",
     "output_type": "stream",
     "text": [
      "\n",
      "Comparison of parameter 'e' \n",
      "\n",
      "                   Estimate Std. Error t-value p-value\n",
      "indirdown-dirup    0.407617   0.263035  1.5497  0.1216\n",
      "indirdown-dirdown  0.255138   0.297651  0.8572  0.3916\n",
      "indirdown-indirup  0.239852   0.370500  0.6474  0.5176\n",
      "dirup-dirdown     -0.152479   0.169283 -0.9007  0.3680\n",
      "dirup-indirup     -0.167765   0.278085 -0.6033  0.5465\n",
      "dirdown-indirup   -0.015286   0.311030 -0.0491  0.9608\n"
     ]
    }
   ],
   "source": [
    "V125D.compparm =  compParm(figS4_125D_cluster, \"e\", \"-\", \n",
    "          vcov = sandwich#,\n",
    "                          )"
   ]
  },
  {
   "cell_type": "markdown",
   "id": "91275cfe-952e-483f-a21a-207fcfb9602c",
   "metadata": {},
   "source": [
    "## 25D3"
   ]
  },
  {
   "cell_type": "code",
   "execution_count": 17,
   "id": "6d6d77f5-e993-40f7-bb30-2168ef6a6d37",
   "metadata": {},
   "outputs": [
    {
     "data": {
      "text/html": [
       "<style>\n",
       ".list-inline {list-style: none; margin:0; padding: 0}\n",
       ".list-inline>li {display: inline-block}\n",
       ".list-inline>li:not(:last-child)::after {content: \"\\00b7\"; padding: 0 .5ex}\n",
       "</style>\n",
       "<ol class=list-inline><li>206</li><li>152</li></ol>\n"
      ],
      "text/latex": [
       "\\begin{enumerate*}\n",
       "\\item 206\n",
       "\\item 152\n",
       "\\end{enumerate*}\n"
      ],
      "text/markdown": [
       "1. 206\n",
       "2. 152\n",
       "\n",
       "\n"
      ],
      "text/plain": [
       "[1] 206 152"
      ]
     },
     "metadata": {},
     "output_type": "display_data"
    },
    {
     "data": {
      "text/html": [
       "<table class=\"dataframe\">\n",
       "<caption>A data.frame: 6 × 6</caption>\n",
       "<thead>\n",
       "\t<tr><th></th><th scope=col>abs_logFC_V25D3_100nM_24h</th><th scope=col>abs_logFC_V25D3_250nM_24h</th><th scope=col>abs_logFC_V25D3_500nM_24h</th><th scope=col>abs_logFC_V25D3_750nM_24h</th><th scope=col>abs_logFC_V25D3_1000nM_24h</th><th scope=col>abs_logFC_V25D3_0nM_24h</th></tr>\n",
       "\t<tr><th></th><th scope=col>&lt;dbl&gt;</th><th scope=col>&lt;dbl&gt;</th><th scope=col>&lt;dbl&gt;</th><th scope=col>&lt;dbl&gt;</th><th scope=col>&lt;dbl&gt;</th><th scope=col>&lt;dbl&gt;</th></tr>\n",
       "</thead>\n",
       "<tbody>\n",
       "\t<tr><th scope=row>ABCC3</th><td>0.4560737628</td><td>0.3646486</td><td>1.339799</td><td>1.544729</td><td>1.547650</td><td>0</td></tr>\n",
       "\t<tr><th scope=row>ACTB</th><td>0.1396877914</td><td>0.1657075</td><td>1.290586</td><td>1.361878</td><td>1.467328</td><td>0</td></tr>\n",
       "\t<tr><th scope=row>ACVRL1</th><td>0.3551800103</td><td>0.8042271</td><td>2.102989</td><td>2.247590</td><td>2.333229</td><td>0</td></tr>\n",
       "\t<tr><th scope=row>ADAMTSL4</th><td>0.0009974205</td><td>0.2840163</td><td>1.736644</td><td>2.498829</td><td>2.122494</td><td>0</td></tr>\n",
       "\t<tr><th scope=row>ADGRE1</th><td>0.0008389146</td><td>0.6319969</td><td>2.451953</td><td>2.473238</td><td>2.863103</td><td>0</td></tr>\n",
       "\t<tr><th scope=row>ADGRE3</th><td>0.9945369972</td><td>0.1492797</td><td>3.600812</td><td>2.380731</td><td>2.284476</td><td>0</td></tr>\n",
       "</tbody>\n",
       "</table>\n"
      ],
      "text/latex": [
       "A data.frame: 6 × 6\n",
       "\\begin{tabular}{r|llllll}\n",
       "  & abs\\_logFC\\_V25D3\\_100nM\\_24h & abs\\_logFC\\_V25D3\\_250nM\\_24h & abs\\_logFC\\_V25D3\\_500nM\\_24h & abs\\_logFC\\_V25D3\\_750nM\\_24h & abs\\_logFC\\_V25D3\\_1000nM\\_24h & abs\\_logFC\\_V25D3\\_0nM\\_24h\\\\\n",
       "  & <dbl> & <dbl> & <dbl> & <dbl> & <dbl> & <dbl>\\\\\n",
       "\\hline\n",
       "\tABCC3 & 0.4560737628 & 0.3646486 & 1.339799 & 1.544729 & 1.547650 & 0\\\\\n",
       "\tACTB & 0.1396877914 & 0.1657075 & 1.290586 & 1.361878 & 1.467328 & 0\\\\\n",
       "\tACVRL1 & 0.3551800103 & 0.8042271 & 2.102989 & 2.247590 & 2.333229 & 0\\\\\n",
       "\tADAMTSL4 & 0.0009974205 & 0.2840163 & 1.736644 & 2.498829 & 2.122494 & 0\\\\\n",
       "\tADGRE1 & 0.0008389146 & 0.6319969 & 2.451953 & 2.473238 & 2.863103 & 0\\\\\n",
       "\tADGRE3 & 0.9945369972 & 0.1492797 & 3.600812 & 2.380731 & 2.284476 & 0\\\\\n",
       "\\end{tabular}\n"
      ],
      "text/markdown": [
       "\n",
       "A data.frame: 6 × 6\n",
       "\n",
       "| <!--/--> | abs_logFC_V25D3_100nM_24h &lt;dbl&gt; | abs_logFC_V25D3_250nM_24h &lt;dbl&gt; | abs_logFC_V25D3_500nM_24h &lt;dbl&gt; | abs_logFC_V25D3_750nM_24h &lt;dbl&gt; | abs_logFC_V25D3_1000nM_24h &lt;dbl&gt; | abs_logFC_V25D3_0nM_24h &lt;dbl&gt; |\n",
       "|---|---|---|---|---|---|---|\n",
       "| ABCC3 | 0.4560737628 | 0.3646486 | 1.339799 | 1.544729 | 1.547650 | 0 |\n",
       "| ACTB | 0.1396877914 | 0.1657075 | 1.290586 | 1.361878 | 1.467328 | 0 |\n",
       "| ACVRL1 | 0.3551800103 | 0.8042271 | 2.102989 | 2.247590 | 2.333229 | 0 |\n",
       "| ADAMTSL4 | 0.0009974205 | 0.2840163 | 1.736644 | 2.498829 | 2.122494 | 0 |\n",
       "| ADGRE1 | 0.0008389146 | 0.6319969 | 2.451953 | 2.473238 | 2.863103 | 0 |\n",
       "| ADGRE3 | 0.9945369972 | 0.1492797 | 3.600812 | 2.380731 | 2.284476 | 0 |\n",
       "\n"
      ],
      "text/plain": [
       "         abs_logFC_V25D3_100nM_24h abs_logFC_V25D3_250nM_24h\n",
       "ABCC3    0.4560737628              0.3646486                \n",
       "ACTB     0.1396877914              0.1657075                \n",
       "ACVRL1   0.3551800103              0.8042271                \n",
       "ADAMTSL4 0.0009974205              0.2840163                \n",
       "ADGRE1   0.0008389146              0.6319969                \n",
       "ADGRE3   0.9945369972              0.1492797                \n",
       "         abs_logFC_V25D3_500nM_24h abs_logFC_V25D3_750nM_24h\n",
       "ABCC3    1.339799                  1.544729                 \n",
       "ACTB     1.290586                  1.361878                 \n",
       "ACVRL1   2.102989                  2.247590                 \n",
       "ADAMTSL4 1.736644                  2.498829                 \n",
       "ADGRE1   2.451953                  2.473238                 \n",
       "ADGRE3   3.600812                  2.380731                 \n",
       "         abs_logFC_V25D3_1000nM_24h abs_logFC_V25D3_0nM_24h\n",
       "ABCC3    1.547650                   0                      \n",
       "ACTB     1.467328                   0                      \n",
       "ACVRL1   2.333229                   0                      \n",
       "ADAMTSL4 2.122494                   0                      \n",
       "ADGRE1   2.863103                   0                      \n",
       "ADGRE3   2.284476                   0                      "
      ]
     },
     "metadata": {},
     "output_type": "display_data"
    },
    {
     "data": {
      "text/plain": [
       "\n",
       "Model fitted: Log-logistic (ED50 as parameter) with lower limit at 0 (3 parms)\n",
       "\n",
       "Parameter estimates:\n",
       "\n",
       "                Estimate Std. Error t-value   p-value    \n",
       "b:(Intercept)  -5.394918   0.609755 -8.8477 < 2.2e-16 ***\n",
       "d:(Intercept)   2.689336   0.050406 53.3534 < 2.2e-16 ***\n",
       "e:(Intercept) 321.900399  10.401874 30.9464 < 2.2e-16 ***\n",
       "---\n",
       "Signif. codes:  0 ‘***’ 0.001 ‘**’ 0.01 ‘*’ 0.05 ‘.’ 0.1 ‘ ’ 1\n",
       "\n",
       "Residual standard error:\n",
       "\n",
       " 0.8829503 (1233 degrees of freedom)"
      ]
     },
     "metadata": {},
     "output_type": "display_data"
    },
    {
     "data": {
      "image/png": "[encoded data removed]",
      "text/plain": [
       "plot without title"
      ]
     },
     "metadata": {
      "image/png": {
       "height": 420,
       "width": 420
      }
     },
     "output_type": "display_data"
    }
   ],
   "source": [
    "d = long %>%\n",
    "filter (., ref_206 == \"yes\") \n",
    "\n",
    "dim (d)\n",
    "\n",
    "d$abs_logFC_V25D3_100nM_24h = abs(d$logFC_V25D3_100nM_24h)\n",
    "d$abs_logFC_V25D3_250nM_24h = abs(d$logFC_V25D3_250nM_24h)\n",
    "d$abs_logFC_V25D3_500nM_24h = abs(d$logFC_V25D3_500nM_24h)\n",
    "d$abs_logFC_V25D3_750nM_24h = abs(d$logFC_V25D3_750nM_24h)\n",
    "d$abs_logFC_V25D3_1000nM_24h = abs(d$logFC_V25D3_1000nM_24h)\n",
    "\n",
    "\n",
    "davg_D3 = d %>%\n",
    "dplyr::select (., abs_logFC_V25D3_100nM_24h:abs_logFC_V25D3_1000nM_24h) %>%\n",
    "mutate (abs_logFC_V25D3_0nM_24h = rep(0,nrow(.)))\n",
    "head (davg_D3)\n",
    "\n",
    "dt = davg_D3\n",
    "\n",
    "newfishes = rownames (dt)\n",
    "\n",
    "df2_Ind = as.vector (colnames (dt))\n",
    "\n",
    "df_y = colsplit(df2_Ind, \"_\", c(\"placeholder\",\"placeholder2\",\"treatment\", \"concentration\", \"time\"))\n",
    "df_y = as.data.frame(unclass(df_y))\n",
    "\n",
    "df_y$sample <- df2_Ind\n",
    "df_y$type <- factor(paste(\"V25D3\"))\n",
    "\n",
    "df_y = df_y %>%\n",
    "  mutate(., conc = concentration)\n",
    "\n",
    "df_y$conc <- gsub(\"nM\",\"\",as.character(df_y$conc))\n",
    "df_y$conc = as.numeric (df_y$conc)\n",
    "\n",
    "small_pwt_T = as.data.frame (t(dt))\n",
    "\n",
    "small_pwt_T = small_pwt_T %>%\n",
    "  rownames_to_column (\"sample\")\n",
    "\n",
    "mrg = merge(x=small_pwt_T,y=df_y,by.x=\"sample\", all.x =T)\n",
    "\n",
    "\n",
    "mrg2 = mrg %>% \n",
    "  pivot_longer(all_of(newfishes)) %>%  \n",
    "  arrange (name)\n",
    "\n",
    "mrg2$name <- as.factor(mrg2$name)\n",
    "\n",
    "mrg2 = mrg2 %>%\n",
    "  dplyr::group_by(name) \n",
    "\n",
    "mrg2_25D3 = mrg2\n",
    "\n",
    "\n",
    "test_LL.3 <- drm(value ~ conc,\n",
    "                   curveid = type, \n",
    "                   data = mrg2_25D3,\n",
    "\n",
    "  fct = LL.3(\n",
    "))\n",
    "\n",
    "plot(test_LL.3, bty=\"l\", type = \"all\", log = \"\")#\n",
    "\n",
    "summary (test_LL.3) #Fig 2 EC50"
   ]
  },
  {
   "cell_type": "markdown",
   "id": "03053ba6-5c0f-4bcf-8668-31dda71efaa3",
   "metadata": {},
   "source": [
    "## Fig. 2: 25D3"
   ]
  },
  {
   "cell_type": "code",
   "execution_count": 18,
   "id": "bdf007a0-59de-40d9-b4f7-4b8ca3caee2e",
   "metadata": {},
   "outputs": [
    {
     "data": {
      "text/plain": [
       "\n",
       "\t Simultaneous Confidence Intervals\n",
       "\n",
       "Fit: NULL\n",
       "\n",
       "Quantile = 1.96\n",
       "95% family-wise confidence level\n",
       " \n",
       "\n",
       "Linear Hypotheses:\n",
       "        Estimate lwr      upr     \n",
       "V1 == 0 321.9004 301.5131 342.2877\n"
      ]
     },
     "metadata": {},
     "output_type": "display_data"
    },
    {
     "data": {
      "text/plain": [
       "\n",
       "\t Simultaneous Tests for General Linear Hypotheses\n",
       "\n",
       "Linear Hypotheses:\n",
       "        Estimate Std. Error z value Pr(>|z|)    \n",
       "V1 == 0    321.9       10.4   30.95   <2e-16 ***\n",
       "---\n",
       "Signif. codes:  0 ‘***’ 0.001 ‘**’ 0.01 ‘*’ 0.05 ‘.’ 0.1 ‘ ’ 1\n",
       "(Adjusted p values reported -- single-step method)\n"
      ]
     },
     "metadata": {},
     "output_type": "display_data"
    }
   ],
   "source": [
    "V25D3.EDres <- ED(test_LL.3, c(50),\n",
    "interval = \"delta\",\n",
    "multcomp = TRUE, \n",
    "display = F)\n",
    "\n",
    "confint(glht(V25D3.EDres[[\"EDmultcomp\"]]))\n",
    "summary(glht(V25D3.EDres[[\"EDmultcomp\"]]))"
   ]
  },
  {
   "cell_type": "markdown",
   "id": "ce5be8ee-c785-4c54-8dca-176d58f29e08",
   "metadata": {},
   "source": [
    "# Fig. S4"
   ]
  },
  {
   "cell_type": "code",
   "execution_count": 19,
   "id": "d623d0b6-2fbc-4e06-b00f-334e774df062",
   "metadata": {},
   "outputs": [
    {
     "data": {
      "text/plain": [
       "\n",
       "\t Simultaneous Confidence Intervals\n",
       "\n",
       "Fit: NULL\n",
       "\n",
       "Quantile = 2.4908\n",
       "95% family-wise confidence level\n",
       " \n",
       "\n",
       "Linear Hypotheses:\n",
       "                    Estimate  lwr       upr      \n",
       "e:dirdown:50 == 0    329.8323  283.9997  375.6649\n",
       "e:dirup:50 == 0      326.2056   22.0197  630.3915\n",
       "e:indirdown:50 == 0  333.2126  291.7072  374.7180\n",
       "e:indirup:50 == 0    388.7516 -533.0582 1310.5615\n"
      ]
     },
     "metadata": {},
     "output_type": "display_data"
    },
    {
     "data": {
      "text/html": [
       "<table class=\"dataframe\">\n",
       "<caption>A matrix: 6 × 4 of type dbl</caption>\n",
       "<thead>\n",
       "\t<tr><th></th><th scope=col>Estimate</th><th scope=col>Std. Error</th><th scope=col>z value</th><th scope=col>Pr(&gt;|z|)</th></tr>\n",
       "</thead>\n",
       "<tbody>\n",
       "\t<tr><th scope=row>2 - 1</th><td>-3.626750</td><td>123.50009</td><td>-0.02936637</td><td>0.9999885</td></tr>\n",
       "\t<tr><th scope=row>3 - 1</th><td> 3.380302</td><td> 24.82414</td><td> 0.13616995</td><td>0.9988654</td></tr>\n",
       "\t<tr><th scope=row>4 - 1</th><td>58.919311</td><td>370.53655</td><td> 0.15901079</td><td>0.9981994</td></tr>\n",
       "\t<tr><th scope=row>3 - 2</th><td> 7.007052</td><td>123.25322</td><td> 0.05685086</td><td>0.9999166</td></tr>\n",
       "\t<tr><th scope=row>4 - 2</th><td>62.546061</td><td>389.70817</td><td> 0.16049461</td><td>0.9981493</td></tr>\n",
       "\t<tr><th scope=row>4 - 3</th><td>55.539009</td><td>370.45434</td><td> 0.14992133</td><td>0.9984883</td></tr>\n",
       "</tbody>\n",
       "</table>\n"
      ],
      "text/latex": [
       "A matrix: 6 × 4 of type dbl\n",
       "\\begin{tabular}{r|llll}\n",
       "  & Estimate & Std. Error & z value & Pr(>\\textbar{}z\\textbar{})\\\\\n",
       "\\hline\n",
       "\t2 - 1 & -3.626750 & 123.50009 & -0.02936637 & 0.9999885\\\\\n",
       "\t3 - 1 &  3.380302 &  24.82414 &  0.13616995 & 0.9988654\\\\\n",
       "\t4 - 1 & 58.919311 & 370.53655 &  0.15901079 & 0.9981994\\\\\n",
       "\t3 - 2 &  7.007052 & 123.25322 &  0.05685086 & 0.9999166\\\\\n",
       "\t4 - 2 & 62.546061 & 389.70817 &  0.16049461 & 0.9981493\\\\\n",
       "\t4 - 3 & 55.539009 & 370.45434 &  0.14992133 & 0.9984883\\\\\n",
       "\\end{tabular}\n"
      ],
      "text/markdown": [
       "\n",
       "A matrix: 6 × 4 of type dbl\n",
       "\n",
       "| <!--/--> | Estimate | Std. Error | z value | Pr(&gt;|z|) |\n",
       "|---|---|---|---|---|\n",
       "| 2 - 1 | -3.626750 | 123.50009 | -0.02936637 | 0.9999885 |\n",
       "| 3 - 1 |  3.380302 |  24.82414 |  0.13616995 | 0.9988654 |\n",
       "| 4 - 1 | 58.919311 | 370.53655 |  0.15901079 | 0.9981994 |\n",
       "| 3 - 2 |  7.007052 | 123.25322 |  0.05685086 | 0.9999166 |\n",
       "| 4 - 2 | 62.546061 | 389.70817 |  0.16049461 | 0.9981493 |\n",
       "| 4 - 3 | 55.539009 | 370.45434 |  0.14992133 | 0.9984883 |\n",
       "\n"
      ],
      "text/plain": [
       "      Estimate  Std. Error z value     Pr(>|z|) \n",
       "2 - 1 -3.626750 123.50009  -0.02936637 0.9999885\n",
       "3 - 1  3.380302  24.82414   0.13616995 0.9988654\n",
       "4 - 1 58.919311 370.53655   0.15901079 0.9981994\n",
       "3 - 2  7.007052 123.25322   0.05685086 0.9999166\n",
       "4 - 2 62.546061 389.70817   0.16049461 0.9981493\n",
       "4 - 3 55.539009 370.45434   0.14992133 0.9984883"
      ]
     },
     "metadata": {},
     "output_type": "display_data"
    },
    {
     "data": {
      "text/plain": [
       "\n",
       "\t Simultaneous Confidence Intervals\n",
       "\n",
       "Fit: NULL\n",
       "\n",
       "Quantile = 2.4908\n",
       "95% family-wise confidence level\n",
       " \n",
       "\n",
       "Linear Hypotheses:\n",
       "                         Estimate  lwr       upr      \n",
       "e:primary_down:50 == 0    334.6886  288.9466  380.4307\n",
       "e:primary_up:50 == 0      360.6290 -206.3465  927.6045\n",
       "e:secondary_down:50 == 0  329.7152  287.2228  372.2076\n",
       "e:secondary_up:50 == 0    317.4525   45.3009  589.6041\n"
      ]
     },
     "metadata": {},
     "output_type": "display_data"
    },
    {
     "data": {
      "text/html": [
       "<table class=\"dataframe\">\n",
       "<caption>A matrix: 6 × 4 of type dbl</caption>\n",
       "<thead>\n",
       "\t<tr><th></th><th scope=col>Estimate</th><th scope=col>Std. Error</th><th scope=col>z value</th><th scope=col>Pr(&gt;|z|)</th></tr>\n",
       "</thead>\n",
       "<tbody>\n",
       "\t<tr><th scope=row>2 - 1</th><td> 25.940393</td><td>228.36347</td><td> 0.1135926</td><td>0.9993552</td></tr>\n",
       "\t<tr><th scope=row>3 - 1</th><td> -4.973452</td><td> 25.06519</td><td>-0.1984207</td><td>0.9966109</td></tr>\n",
       "\t<tr><th scope=row>4 - 1</th><td>-17.236178</td><td>110.79335</td><td>-0.1555705</td><td>0.9983532</td></tr>\n",
       "\t<tr><th scope=row>3 - 2</th><td>-30.913845</td><td>228.26226</td><td>-0.1354313</td><td>0.9989092</td></tr>\n",
       "\t<tr><th scope=row>4 - 2</th><td>-43.176571</td><td>252.48874</td><td>-0.1710039</td><td>0.9978187</td></tr>\n",
       "\t<tr><th scope=row>4 - 3</th><td>-12.262726</td><td>110.58459</td><td>-0.1108900</td><td>0.9994007</td></tr>\n",
       "</tbody>\n",
       "</table>\n"
      ],
      "text/latex": [
       "A matrix: 6 × 4 of type dbl\n",
       "\\begin{tabular}{r|llll}\n",
       "  & Estimate & Std. Error & z value & Pr(>\\textbar{}z\\textbar{})\\\\\n",
       "\\hline\n",
       "\t2 - 1 &  25.940393 & 228.36347 &  0.1135926 & 0.9993552\\\\\n",
       "\t3 - 1 &  -4.973452 &  25.06519 & -0.1984207 & 0.9966109\\\\\n",
       "\t4 - 1 & -17.236178 & 110.79335 & -0.1555705 & 0.9983532\\\\\n",
       "\t3 - 2 & -30.913845 & 228.26226 & -0.1354313 & 0.9989092\\\\\n",
       "\t4 - 2 & -43.176571 & 252.48874 & -0.1710039 & 0.9978187\\\\\n",
       "\t4 - 3 & -12.262726 & 110.58459 & -0.1108900 & 0.9994007\\\\\n",
       "\\end{tabular}\n"
      ],
      "text/markdown": [
       "\n",
       "A matrix: 6 × 4 of type dbl\n",
       "\n",
       "| <!--/--> | Estimate | Std. Error | z value | Pr(&gt;|z|) |\n",
       "|---|---|---|---|---|\n",
       "| 2 - 1 |  25.940393 | 228.36347 |  0.1135926 | 0.9993552 |\n",
       "| 3 - 1 |  -4.973452 |  25.06519 | -0.1984207 | 0.9966109 |\n",
       "| 4 - 1 | -17.236178 | 110.79335 | -0.1555705 | 0.9983532 |\n",
       "| 3 - 2 | -30.913845 | 228.26226 | -0.1354313 | 0.9989092 |\n",
       "| 4 - 2 | -43.176571 | 252.48874 | -0.1710039 | 0.9978187 |\n",
       "| 4 - 3 | -12.262726 | 110.58459 | -0.1108900 | 0.9994007 |\n",
       "\n"
      ],
      "text/plain": [
       "      Estimate   Std. Error z value    Pr(>|z|) \n",
       "2 - 1  25.940393 228.36347   0.1135926 0.9993552\n",
       "3 - 1  -4.973452  25.06519  -0.1984207 0.9966109\n",
       "4 - 1 -17.236178 110.79335  -0.1555705 0.9983532\n",
       "3 - 2 -30.913845 228.26226  -0.1354313 0.9989092\n",
       "4 - 2 -43.176571 252.48874  -0.1710039 0.9978187\n",
       "4 - 3 -12.262726 110.58459  -0.1108900 0.9994007"
      ]
     },
     "metadata": {},
     "output_type": "display_data"
    }
   ],
   "source": [
    "d2 = long %>%\n",
    "filter (., ref_206 == \"yes\") %>%\n",
    "rownames_to_column (\"gene\")\n",
    "\n",
    "mrg2_25D3$cluster =  d2$cluster[match(mrg2_25D3$name, d2$gene)]\n",
    "mrg2_25D3$class =  d2$class[match(mrg2_25D3$name, d2$gene)] \n",
    "\n",
    "\n",
    "figS4_25D3_cluster <- drm(value ~ conc,\n",
    "                   curveid = cluster, \n",
    "                   data = mrg2_25D3,\n",
    "\n",
    "  fct = LL.3(\n",
    "))\n",
    "\n",
    "figS4_25D3_class <- drm(value ~ conc,\n",
    "                   curveid = class, \n",
    "                   data = mrg2_25D3,\n",
    "\n",
    "  fct = LL.3(\n",
    "))\n",
    "\n",
    "V25D3_cluster.EDres <- ED(figS4_25D3_cluster, c(50),\n",
    "interval = \"delta\",\n",
    "multcomp = TRUE, \n",
    "display = F)\n",
    "\n",
    "confint(glht(V25D3_cluster.EDres[[\"EDmultcomp\"]])) #multiplicity adjusted 95% confidence interval\n",
    "\n",
    "test_V25D3_cluster = glht.table(summary(glht(V25D3_cluster.EDres[[\"EDmultcomp\"]], \n",
    "             linfct = contrMat(1:4, \"Tukey\"))))\n",
    "test_V25D3_cluster\n",
    "\n",
    "#############################\n",
    "\n",
    "V25D3_class.EDres <- ED(figS4_25D3_class, c(50),\n",
    "interval = \"delta\",\n",
    "multcomp = TRUE, \n",
    "display = F)\n",
    "\n",
    "confint(glht(V25D3_class.EDres[[\"EDmultcomp\"]])) #multiplicity adjusted 95% confidence interval\n",
    "test_V25D3_class = glht.table(summary(glht(V25D3_class.EDres[[\"EDmultcomp\"]], \n",
    "             linfct = contrMat(1:4, \"Tukey\"))))\n",
    "test_V25D3_class"
   ]
  },
  {
   "cell_type": "code",
   "execution_count": 20,
   "id": "3fa182fe-3fc7-4583-ad28-5c2c9f672697",
   "metadata": {},
   "outputs": [
    {
     "data": {
      "text/html": [
       "<table class=\"dataframe\">\n",
       "<caption>A matrix: 6 × 4 of type dbl</caption>\n",
       "<thead>\n",
       "\t<tr><th></th><th scope=col>Estimate</th><th scope=col>Std. Error</th><th scope=col>z value</th><th scope=col>Pr(&gt;|z|)</th></tr>\n",
       "</thead>\n",
       "<tbody>\n",
       "\t<tr><th scope=row>2 - 1</th><td>-3.626750</td><td>123.50009</td><td>-0.02936637</td><td>0.9999885</td></tr>\n",
       "\t<tr><th scope=row>3 - 1</th><td> 3.380302</td><td> 24.82414</td><td> 0.13616995</td><td>0.9988654</td></tr>\n",
       "\t<tr><th scope=row>4 - 1</th><td>58.919311</td><td>370.53655</td><td> 0.15901079</td><td>0.9981994</td></tr>\n",
       "\t<tr><th scope=row>3 - 2</th><td> 7.007052</td><td>123.25322</td><td> 0.05685086</td><td>0.9999166</td></tr>\n",
       "\t<tr><th scope=row>4 - 2</th><td>62.546061</td><td>389.70817</td><td> 0.16049461</td><td>0.9981493</td></tr>\n",
       "\t<tr><th scope=row>4 - 3</th><td>55.539009</td><td>370.45434</td><td> 0.14992133</td><td>0.9984883</td></tr>\n",
       "</tbody>\n",
       "</table>\n"
      ],
      "text/latex": [
       "A matrix: 6 × 4 of type dbl\n",
       "\\begin{tabular}{r|llll}\n",
       "  & Estimate & Std. Error & z value & Pr(>\\textbar{}z\\textbar{})\\\\\n",
       "\\hline\n",
       "\t2 - 1 & -3.626750 & 123.50009 & -0.02936637 & 0.9999885\\\\\n",
       "\t3 - 1 &  3.380302 &  24.82414 &  0.13616995 & 0.9988654\\\\\n",
       "\t4 - 1 & 58.919311 & 370.53655 &  0.15901079 & 0.9981994\\\\\n",
       "\t3 - 2 &  7.007052 & 123.25322 &  0.05685086 & 0.9999166\\\\\n",
       "\t4 - 2 & 62.546061 & 389.70817 &  0.16049461 & 0.9981493\\\\\n",
       "\t4 - 3 & 55.539009 & 370.45434 &  0.14992133 & 0.9984883\\\\\n",
       "\\end{tabular}\n"
      ],
      "text/markdown": [
       "\n",
       "A matrix: 6 × 4 of type dbl\n",
       "\n",
       "| <!--/--> | Estimate | Std. Error | z value | Pr(&gt;|z|) |\n",
       "|---|---|---|---|---|\n",
       "| 2 - 1 | -3.626750 | 123.50009 | -0.02936637 | 0.9999885 |\n",
       "| 3 - 1 |  3.380302 |  24.82414 |  0.13616995 | 0.9988654 |\n",
       "| 4 - 1 | 58.919311 | 370.53655 |  0.15901079 | 0.9981994 |\n",
       "| 3 - 2 |  7.007052 | 123.25322 |  0.05685086 | 0.9999166 |\n",
       "| 4 - 2 | 62.546061 | 389.70817 |  0.16049461 | 0.9981493 |\n",
       "| 4 - 3 | 55.539009 | 370.45434 |  0.14992133 | 0.9984883 |\n",
       "\n"
      ],
      "text/plain": [
       "      Estimate  Std. Error z value     Pr(>|z|) \n",
       "2 - 1 -3.626750 123.50009  -0.02936637 0.9999885\n",
       "3 - 1  3.380302  24.82414   0.13616995 0.9988654\n",
       "4 - 1 58.919311 370.53655   0.15901079 0.9981994\n",
       "3 - 2  7.007052 123.25322   0.05685086 0.9999166\n",
       "4 - 2 62.546061 389.70817   0.16049461 0.9981493\n",
       "4 - 3 55.539009 370.45434   0.14992133 0.9984883"
      ]
     },
     "metadata": {},
     "output_type": "display_data"
    },
    {
     "data": {
      "text/html": [
       "<table class=\"dataframe\">\n",
       "<caption>A matrix: 6 × 4 of type dbl</caption>\n",
       "<thead>\n",
       "\t<tr><th></th><th scope=col>Estimate</th><th scope=col>Std. Error</th><th scope=col>z value</th><th scope=col>Pr(&gt;|z|)</th></tr>\n",
       "</thead>\n",
       "<tbody>\n",
       "\t<tr><th scope=row>2 - 1</th><td> 25.940393</td><td>228.36347</td><td> 0.1135926</td><td>0.9993552</td></tr>\n",
       "\t<tr><th scope=row>3 - 1</th><td> -4.973452</td><td> 25.06519</td><td>-0.1984207</td><td>0.9966109</td></tr>\n",
       "\t<tr><th scope=row>4 - 1</th><td>-17.236178</td><td>110.79335</td><td>-0.1555705</td><td>0.9983532</td></tr>\n",
       "\t<tr><th scope=row>3 - 2</th><td>-30.913845</td><td>228.26226</td><td>-0.1354313</td><td>0.9989092</td></tr>\n",
       "\t<tr><th scope=row>4 - 2</th><td>-43.176571</td><td>252.48874</td><td>-0.1710039</td><td>0.9978187</td></tr>\n",
       "\t<tr><th scope=row>4 - 3</th><td>-12.262726</td><td>110.58459</td><td>-0.1108900</td><td>0.9994007</td></tr>\n",
       "</tbody>\n",
       "</table>\n"
      ],
      "text/latex": [
       "A matrix: 6 × 4 of type dbl\n",
       "\\begin{tabular}{r|llll}\n",
       "  & Estimate & Std. Error & z value & Pr(>\\textbar{}z\\textbar{})\\\\\n",
       "\\hline\n",
       "\t2 - 1 &  25.940393 & 228.36347 &  0.1135926 & 0.9993552\\\\\n",
       "\t3 - 1 &  -4.973452 &  25.06519 & -0.1984207 & 0.9966109\\\\\n",
       "\t4 - 1 & -17.236178 & 110.79335 & -0.1555705 & 0.9983532\\\\\n",
       "\t3 - 2 & -30.913845 & 228.26226 & -0.1354313 & 0.9989092\\\\\n",
       "\t4 - 2 & -43.176571 & 252.48874 & -0.1710039 & 0.9978187\\\\\n",
       "\t4 - 3 & -12.262726 & 110.58459 & -0.1108900 & 0.9994007\\\\\n",
       "\\end{tabular}\n"
      ],
      "text/markdown": [
       "\n",
       "A matrix: 6 × 4 of type dbl\n",
       "\n",
       "| <!--/--> | Estimate | Std. Error | z value | Pr(&gt;|z|) |\n",
       "|---|---|---|---|---|\n",
       "| 2 - 1 |  25.940393 | 228.36347 |  0.1135926 | 0.9993552 |\n",
       "| 3 - 1 |  -4.973452 |  25.06519 | -0.1984207 | 0.9966109 |\n",
       "| 4 - 1 | -17.236178 | 110.79335 | -0.1555705 | 0.9983532 |\n",
       "| 3 - 2 | -30.913845 | 228.26226 | -0.1354313 | 0.9989092 |\n",
       "| 4 - 2 | -43.176571 | 252.48874 | -0.1710039 | 0.9978187 |\n",
       "| 4 - 3 | -12.262726 | 110.58459 | -0.1108900 | 0.9994007 |\n",
       "\n"
      ],
      "text/plain": [
       "      Estimate   Std. Error z value    Pr(>|z|) \n",
       "2 - 1  25.940393 228.36347   0.1135926 0.9993552\n",
       "3 - 1  -4.973452  25.06519  -0.1984207 0.9966109\n",
       "4 - 1 -17.236178 110.79335  -0.1555705 0.9983532\n",
       "3 - 2 -30.913845 228.26226  -0.1354313 0.9989092\n",
       "4 - 2 -43.176571 252.48874  -0.1710039 0.9978187\n",
       "4 - 3 -12.262726 110.58459  -0.1108900 0.9994007"
      ]
     },
     "metadata": {},
     "output_type": "display_data"
    }
   ],
   "source": [
    "test_V25D3_cluster\n",
    "test_V25D3_class"
   ]
  },
  {
   "cell_type": "markdown",
   "id": "af1ea424-e010-4d98-9827-adda1a86fc12",
   "metadata": {},
   "source": [
    "# 25D2"
   ]
  },
  {
   "cell_type": "code",
   "execution_count": 21,
   "id": "e9562150-7841-492a-a8fb-80017e3a06b9",
   "metadata": {},
   "outputs": [
    {
     "data": {
      "text/html": [
       "<style>\n",
       ".list-inline {list-style: none; margin:0; padding: 0}\n",
       ".list-inline>li {display: inline-block}\n",
       ".list-inline>li:not(:last-child)::after {content: \"\\00b7\"; padding: 0 .5ex}\n",
       "</style>\n",
       "<ol class=list-inline><li>206</li><li>152</li></ol>\n"
      ],
      "text/latex": [
       "\\begin{enumerate*}\n",
       "\\item 206\n",
       "\\item 152\n",
       "\\end{enumerate*}\n"
      ],
      "text/markdown": [
       "1. 206\n",
       "2. 152\n",
       "\n",
       "\n"
      ],
      "text/plain": [
       "[1] 206 152"
      ]
     },
     "metadata": {},
     "output_type": "display_data"
    },
    {
     "data": {
      "text/html": [
       "<table class=\"dataframe\">\n",
       "<caption>A data.frame: 6 × 6</caption>\n",
       "<thead>\n",
       "\t<tr><th></th><th scope=col>abs_logFC_V25D2_100nM_24h</th><th scope=col>abs_logFC_V25D2_250nM_24h</th><th scope=col>abs_logFC_V25D2_500nM_24h</th><th scope=col>abs_logFC_V25D2_750nM_24h</th><th scope=col>abs_logFC_V25D2_1000nM_24h</th><th scope=col>abs_logFC_V25D2_0nM_24h</th></tr>\n",
       "\t<tr><th></th><th scope=col>&lt;dbl&gt;</th><th scope=col>&lt;dbl&gt;</th><th scope=col>&lt;dbl&gt;</th><th scope=col>&lt;dbl&gt;</th><th scope=col>&lt;dbl&gt;</th><th scope=col>&lt;dbl&gt;</th></tr>\n",
       "</thead>\n",
       "<tbody>\n",
       "\t<tr><th scope=row>ABCC3</th><td>0.2183911</td><td>0.1467958</td><td>1.424840</td><td>1.315080</td><td>1.834794</td><td>0</td></tr>\n",
       "\t<tr><th scope=row>ACTB</th><td>0.1822865</td><td>0.5062614</td><td>1.347324</td><td>1.455576</td><td>1.541519</td><td>0</td></tr>\n",
       "\t<tr><th scope=row>ACVRL1</th><td>0.8787046</td><td>0.9713228</td><td>2.213510</td><td>2.109090</td><td>1.791887</td><td>0</td></tr>\n",
       "\t<tr><th scope=row>ADAMTSL4</th><td>0.2484163</td><td>0.7451152</td><td>1.960843</td><td>2.499667</td><td>2.613400</td><td>0</td></tr>\n",
       "\t<tr><th scope=row>ADGRE1</th><td>0.1653137</td><td>0.9471341</td><td>2.652363</td><td>2.500055</td><td>2.985780</td><td>0</td></tr>\n",
       "\t<tr><th scope=row>ADGRE3</th><td>0.1243572</td><td>1.4862416</td><td>2.602792</td><td>3.282920</td><td>3.243971</td><td>0</td></tr>\n",
       "</tbody>\n",
       "</table>\n"
      ],
      "text/latex": [
       "A data.frame: 6 × 6\n",
       "\\begin{tabular}{r|llllll}\n",
       "  & abs\\_logFC\\_V25D2\\_100nM\\_24h & abs\\_logFC\\_V25D2\\_250nM\\_24h & abs\\_logFC\\_V25D2\\_500nM\\_24h & abs\\_logFC\\_V25D2\\_750nM\\_24h & abs\\_logFC\\_V25D2\\_1000nM\\_24h & abs\\_logFC\\_V25D2\\_0nM\\_24h\\\\\n",
       "  & <dbl> & <dbl> & <dbl> & <dbl> & <dbl> & <dbl>\\\\\n",
       "\\hline\n",
       "\tABCC3 & 0.2183911 & 0.1467958 & 1.424840 & 1.315080 & 1.834794 & 0\\\\\n",
       "\tACTB & 0.1822865 & 0.5062614 & 1.347324 & 1.455576 & 1.541519 & 0\\\\\n",
       "\tACVRL1 & 0.8787046 & 0.9713228 & 2.213510 & 2.109090 & 1.791887 & 0\\\\\n",
       "\tADAMTSL4 & 0.2484163 & 0.7451152 & 1.960843 & 2.499667 & 2.613400 & 0\\\\\n",
       "\tADGRE1 & 0.1653137 & 0.9471341 & 2.652363 & 2.500055 & 2.985780 & 0\\\\\n",
       "\tADGRE3 & 0.1243572 & 1.4862416 & 2.602792 & 3.282920 & 3.243971 & 0\\\\\n",
       "\\end{tabular}\n"
      ],
      "text/markdown": [
       "\n",
       "A data.frame: 6 × 6\n",
       "\n",
       "| <!--/--> | abs_logFC_V25D2_100nM_24h &lt;dbl&gt; | abs_logFC_V25D2_250nM_24h &lt;dbl&gt; | abs_logFC_V25D2_500nM_24h &lt;dbl&gt; | abs_logFC_V25D2_750nM_24h &lt;dbl&gt; | abs_logFC_V25D2_1000nM_24h &lt;dbl&gt; | abs_logFC_V25D2_0nM_24h &lt;dbl&gt; |\n",
       "|---|---|---|---|---|---|---|\n",
       "| ABCC3 | 0.2183911 | 0.1467958 | 1.424840 | 1.315080 | 1.834794 | 0 |\n",
       "| ACTB | 0.1822865 | 0.5062614 | 1.347324 | 1.455576 | 1.541519 | 0 |\n",
       "| ACVRL1 | 0.8787046 | 0.9713228 | 2.213510 | 2.109090 | 1.791887 | 0 |\n",
       "| ADAMTSL4 | 0.2484163 | 0.7451152 | 1.960843 | 2.499667 | 2.613400 | 0 |\n",
       "| ADGRE1 | 0.1653137 | 0.9471341 | 2.652363 | 2.500055 | 2.985780 | 0 |\n",
       "| ADGRE3 | 0.1243572 | 1.4862416 | 2.602792 | 3.282920 | 3.243971 | 0 |\n",
       "\n"
      ],
      "text/plain": [
       "         abs_logFC_V25D2_100nM_24h abs_logFC_V25D2_250nM_24h\n",
       "ABCC3    0.2183911                 0.1467958                \n",
       "ACTB     0.1822865                 0.5062614                \n",
       "ACVRL1   0.8787046                 0.9713228                \n",
       "ADAMTSL4 0.2484163                 0.7451152                \n",
       "ADGRE1   0.1653137                 0.9471341                \n",
       "ADGRE3   0.1243572                 1.4862416                \n",
       "         abs_logFC_V25D2_500nM_24h abs_logFC_V25D2_750nM_24h\n",
       "ABCC3    1.424840                  1.315080                 \n",
       "ACTB     1.347324                  1.455576                 \n",
       "ACVRL1   2.213510                  2.109090                 \n",
       "ADAMTSL4 1.960843                  2.499667                 \n",
       "ADGRE1   2.652363                  2.500055                 \n",
       "ADGRE3   2.602792                  3.282920                 \n",
       "         abs_logFC_V25D2_1000nM_24h abs_logFC_V25D2_0nM_24h\n",
       "ABCC3    1.834794                   0                      \n",
       "ACTB     1.541519                   0                      \n",
       "ACVRL1   1.791887                   0                      \n",
       "ADAMTSL4 2.613400                   0                      \n",
       "ADGRE1   2.985780                   0                      \n",
       "ADGRE3   3.243971                   0                      "
      ]
     },
     "metadata": {},
     "output_type": "display_data"
    },
    {
     "data": {
      "text/plain": [
       "\n",
       "Model fitted: Log-logistic (ED50 as parameter) with lower limit at 0 (3 parms)\n",
       "\n",
       "Parameter estimates:\n",
       "\n",
       "                Estimate Std. Error t-value   p-value    \n",
       "b:(Intercept)  -3.948936   0.621336 -6.3556 2.917e-10 ***\n",
       "d:(Intercept)   2.731119   0.064436 42.3851 < 2.2e-16 ***\n",
       "e:(Intercept) 295.431981   8.744052 33.7866 < 2.2e-16 ***\n",
       "---\n",
       "Signif. codes:  0 ‘***’ 0.001 ‘**’ 0.01 ‘*’ 0.05 ‘.’ 0.1 ‘ ’ 1\n",
       "\n",
       "Residual standard error:\n",
       "\n",
       " 0.8725155 (1233 degrees of freedom)"
      ]
     },
     "metadata": {},
     "output_type": "display_data"
    },
    {
     "data": {
      "image/png": "[encoded data removed]",
      "text/plain": [
       "plot without title"
      ]
     },
     "metadata": {
      "image/png": {
       "height": 420,
       "width": 420
      }
     },
     "output_type": "display_data"
    }
   ],
   "source": [
    "d = long %>%\n",
    "filter (., ref_206 == \"yes\") \n",
    "dim (d)\n",
    "\n",
    "d$abs_logFC_V25D2_100nM_24h = abs(d$logFC_V25D2_100nM_24h)\n",
    "d$abs_logFC_V25D2_250nM_24h = abs(d$logFC_V25D2_250nM_24h)\n",
    "d$abs_logFC_V25D2_500nM_24h = abs(d$logFC_V25D2_500nM_24h)\n",
    "d$abs_logFC_V25D2_750nM_24h = abs(d$logFC_V25D2_750nM_24h)\n",
    "d$abs_logFC_V25D2_1000nM_24h = abs(d$logFC_V25D2_1000nM_24h)\n",
    "\n",
    "\n",
    "davg_D2 = d %>%\n",
    "dplyr::select (., abs_logFC_V25D2_100nM_24h:abs_logFC_V25D2_1000nM_24h) %>%\n",
    "mutate (abs_logFC_V25D2_0nM_24h = rep(0,nrow(.)))\n",
    "head (davg_D2)\n",
    "\n",
    "dt = davg_D2\n",
    "\n",
    "newfishes = rownames (dt)\n",
    "\n",
    "df2_Ind = as.vector (colnames (dt))\n",
    "\n",
    "df_y = colsplit(df2_Ind, \"_\", c(\"placeholder\",\"placeholder2\",\"treatment\", \"concentration\", \"time\"))\n",
    "df_y = as.data.frame(unclass(df_y))\n",
    "\n",
    "df_y$sample <- df2_Ind\n",
    "df_y$type <- factor(paste(\"V25D3\"))\n",
    "\n",
    "\n",
    "df_y = df_y %>%\n",
    "  mutate(., conc = concentration)\n",
    "\n",
    "df_y$conc <- gsub(\"nM\",\"\",as.character(df_y$conc))\n",
    "df_y$conc = as.numeric (df_y$conc)\n",
    "\n",
    "\n",
    "small_pwt_T = as.data.frame (t(dt))\n",
    "\n",
    "small_pwt_T = small_pwt_T %>%\n",
    "  rownames_to_column (\"sample\")\n",
    "\n",
    "mrg = merge(x=small_pwt_T,y=df_y,by.x=\"sample\", all.x =T)\n",
    "\n",
    "#head(mrg)\n",
    "\n",
    "mrg2 = mrg %>% \n",
    "  pivot_longer(all_of(newfishes)) %>%  #eighthours\n",
    "  arrange (name)\n",
    "\n",
    "mrg2$name <- as.factor(mrg2$name)\n",
    "\n",
    "\n",
    "mrg2 = mrg2 %>%\n",
    "  dplyr::group_by(name) \n",
    "\n",
    "mrg2_25D2 = mrg2\n",
    "\n",
    "\n",
    "test_LL.3 <- drm(value ~ conc,\n",
    "                   curveid = type, \n",
    "                   data = mrg2_25D2,\n",
    "\n",
    "  fct = LL.3(\n",
    "))\n",
    "\n",
    "plot(test_LL.3, bty=\"l\", type = \"all\", log = \"\")#\n",
    "\n",
    "summary (test_LL.3) #Fig 2 EC50"
   ]
  },
  {
   "cell_type": "markdown",
   "id": "d3ad81c9-52a5-4157-b74e-ba47bf66a5a8",
   "metadata": {},
   "source": [
    "## Fig. 2"
   ]
  },
  {
   "cell_type": "code",
   "execution_count": 22,
   "id": "d01e48c1-babd-43ac-819e-8c8fc3b7bcca",
   "metadata": {},
   "outputs": [
    {
     "data": {
      "text/plain": [
       "\n",
       "\t Simultaneous Confidence Intervals\n",
       "\n",
       "Fit: NULL\n",
       "\n",
       "Quantile = 1.96\n",
       "95% family-wise confidence level\n",
       " \n",
       "\n",
       "Linear Hypotheses:\n",
       "        Estimate lwr      upr     \n",
       "V1 == 0 295.4320 278.2940 312.5700\n"
      ]
     },
     "metadata": {},
     "output_type": "display_data"
    },
    {
     "data": {
      "text/plain": [
       "\n",
       "\t Simultaneous Tests for General Linear Hypotheses\n",
       "\n",
       "Linear Hypotheses:\n",
       "        Estimate Std. Error z value Pr(>|z|)    \n",
       "V1 == 0  295.432      8.744   33.79   <2e-16 ***\n",
       "---\n",
       "Signif. codes:  0 ‘***’ 0.001 ‘**’ 0.01 ‘*’ 0.05 ‘.’ 0.1 ‘ ’ 1\n",
       "(Adjusted p values reported -- single-step method)\n"
      ]
     },
     "metadata": {},
     "output_type": "display_data"
    }
   ],
   "source": [
    "V25D2.EDres <- ED(test_LL.3, c(50),\n",
    "interval = \"delta\",\n",
    "multcomp = TRUE, \n",
    "display = F)\n",
    "\n",
    "confint(glht(V25D2.EDres[[\"EDmultcomp\"]]))\n",
    "summary(glht(V25D2.EDres[[\"EDmultcomp\"]]))"
   ]
  },
  {
   "cell_type": "markdown",
   "id": "ff1b3973-b79e-4de6-91f0-70533182995d",
   "metadata": {},
   "source": [
    "# Fig. S4: 25D2"
   ]
  },
  {
   "cell_type": "code",
   "execution_count": 23,
   "id": "b2fcd47d-2dbe-486e-ab47-432001da1f75",
   "metadata": {},
   "outputs": [
    {
     "data": {
      "text/plain": [
       "\n",
       "\t Simultaneous Confidence Intervals\n",
       "\n",
       "Fit: NULL\n",
       "\n",
       "Quantile = 2.4908\n",
       "95% family-wise confidence level\n",
       " \n",
       "\n",
       "Linear Hypotheses:\n",
       "                    Estimate lwr      upr     \n",
       "e:dirdown:50 == 0   298.2059 262.1209 334.2909\n",
       "e:dirup:50 == 0     205.5257  99.4731 311.5784\n",
       "e:indirdown:50 == 0 312.8702 278.7680 346.9724\n",
       "e:indirup:50 == 0   206.9689  -0.1048 414.0426\n"
      ]
     },
     "metadata": {},
     "output_type": "display_data"
    },
    {
     "data": {
      "text/html": [
       "<table class=\"dataframe\">\n",
       "<caption>A matrix: 6 × 4 of type dbl</caption>\n",
       "<thead>\n",
       "\t<tr><th></th><th scope=col>Estimate</th><th scope=col>Std. Error</th><th scope=col>z value</th><th scope=col>Pr(&gt;|z|)</th></tr>\n",
       "</thead>\n",
       "<tbody>\n",
       "\t<tr><th scope=row>2 - 1</th><td> -92.68016</td><td>44.97417</td><td>-2.06074179</td><td>0.14284091</td></tr>\n",
       "\t<tr><th scope=row>3 - 1</th><td>  14.66431</td><td>19.93286</td><td> 0.73568527</td><td>0.86755249</td></tr>\n",
       "\t<tr><th scope=row>4 - 1</th><td> -91.23695</td><td>84.38680</td><td>-1.08117564</td><td>0.67076977</td></tr>\n",
       "\t<tr><th scope=row>3 - 2</th><td> 107.34447</td><td>44.72410</td><td> 2.40014809</td><td>0.06425032</td></tr>\n",
       "\t<tr><th scope=row>4 - 2</th><td>   1.44321</td><td>93.40267</td><td> 0.01545149</td><td>0.99999847</td></tr>\n",
       "\t<tr><th scope=row>4 - 3</th><td>-105.90126</td><td>84.25379</td><td>-1.25693177</td><td>0.55528719</td></tr>\n",
       "</tbody>\n",
       "</table>\n"
      ],
      "text/latex": [
       "A matrix: 6 × 4 of type dbl\n",
       "\\begin{tabular}{r|llll}\n",
       "  & Estimate & Std. Error & z value & Pr(>\\textbar{}z\\textbar{})\\\\\n",
       "\\hline\n",
       "\t2 - 1 &  -92.68016 & 44.97417 & -2.06074179 & 0.14284091\\\\\n",
       "\t3 - 1 &   14.66431 & 19.93286 &  0.73568527 & 0.86755249\\\\\n",
       "\t4 - 1 &  -91.23695 & 84.38680 & -1.08117564 & 0.67076977\\\\\n",
       "\t3 - 2 &  107.34447 & 44.72410 &  2.40014809 & 0.06425032\\\\\n",
       "\t4 - 2 &    1.44321 & 93.40267 &  0.01545149 & 0.99999847\\\\\n",
       "\t4 - 3 & -105.90126 & 84.25379 & -1.25693177 & 0.55528719\\\\\n",
       "\\end{tabular}\n"
      ],
      "text/markdown": [
       "\n",
       "A matrix: 6 × 4 of type dbl\n",
       "\n",
       "| <!--/--> | Estimate | Std. Error | z value | Pr(&gt;|z|) |\n",
       "|---|---|---|---|---|\n",
       "| 2 - 1 |  -92.68016 | 44.97417 | -2.06074179 | 0.14284091 |\n",
       "| 3 - 1 |   14.66431 | 19.93286 |  0.73568527 | 0.86755249 |\n",
       "| 4 - 1 |  -91.23695 | 84.38680 | -1.08117564 | 0.67076977 |\n",
       "| 3 - 2 |  107.34447 | 44.72410 |  2.40014809 | 0.06425032 |\n",
       "| 4 - 2 |    1.44321 | 93.40267 |  0.01545149 | 0.99999847 |\n",
       "| 4 - 3 | -105.90126 | 84.25379 | -1.25693177 | 0.55528719 |\n",
       "\n"
      ],
      "text/plain": [
       "      Estimate   Std. Error z value     Pr(>|z|)  \n",
       "2 - 1  -92.68016 44.97417   -2.06074179 0.14284091\n",
       "3 - 1   14.66431 19.93286    0.73568527 0.86755249\n",
       "4 - 1  -91.23695 84.38680   -1.08117564 0.67076977\n",
       "3 - 2  107.34447 44.72410    2.40014809 0.06425032\n",
       "4 - 2    1.44321 93.40267    0.01545149 0.99999847\n",
       "4 - 3 -105.90126 84.25379   -1.25693177 0.55528719"
      ]
     },
     "metadata": {},
     "output_type": "display_data"
    },
    {
     "data": {
      "text/plain": [
       "\n",
       "\t Simultaneous Confidence Intervals\n",
       "\n",
       "Fit: NULL\n",
       "\n",
       "Quantile = 2.4908\n",
       "95% family-wise confidence level\n",
       " \n",
       "\n",
       "Linear Hypotheses:\n",
       "                         Estimate lwr      upr     \n",
       "e:primary_down:50 == 0   313.0033 271.6906 354.3159\n",
       "e:primary_up:50 == 0     192.3284  78.2906 306.3663\n",
       "e:secondary_down:50 == 0 302.5850 271.0315 334.1385\n",
       "e:secondary_up:50 == 0   226.5829  63.7196 389.4463\n"
      ]
     },
     "metadata": {},
     "output_type": "display_data"
    },
    {
     "data": {
      "text/html": [
       "<table class=\"dataframe\">\n",
       "<caption>A matrix: 6 × 4 of type dbl</caption>\n",
       "<thead>\n",
       "\t<tr><th></th><th scope=col>Estimate</th><th scope=col>Std. Error</th><th scope=col>z value</th><th scope=col>Pr(&gt;|z|)</th></tr>\n",
       "</thead>\n",
       "<tbody>\n",
       "\t<tr><th scope=row>2 - 1</th><td>-120.67484</td><td>48.69450</td><td>-2.4782024</td><td>0.05406088</td></tr>\n",
       "\t<tr><th scope=row>3 - 1</th><td> -10.41827</td><td>20.87012</td><td>-0.4991954</td><td>0.95413737</td></tr>\n",
       "\t<tr><th scope=row>4 - 1</th><td> -86.42035</td><td>67.45564</td><td>-1.2811434</td><td>0.54376411</td></tr>\n",
       "\t<tr><th scope=row>3 - 2</th><td> 110.25657</td><td>47.50304</td><td> 2.3210425</td><td>0.08053461</td></tr>\n",
       "\t<tr><th scope=row>4 - 2</th><td>  34.25448</td><td>79.82005</td><td> 0.4291464</td><td>0.97008088</td></tr>\n",
       "\t<tr><th scope=row>4 - 3</th><td> -76.00208</td><td>66.60066</td><td>-1.1411612</td><td>0.63569450</td></tr>\n",
       "</tbody>\n",
       "</table>\n"
      ],
      "text/latex": [
       "A matrix: 6 × 4 of type dbl\n",
       "\\begin{tabular}{r|llll}\n",
       "  & Estimate & Std. Error & z value & Pr(>\\textbar{}z\\textbar{})\\\\\n",
       "\\hline\n",
       "\t2 - 1 & -120.67484 & 48.69450 & -2.4782024 & 0.05406088\\\\\n",
       "\t3 - 1 &  -10.41827 & 20.87012 & -0.4991954 & 0.95413737\\\\\n",
       "\t4 - 1 &  -86.42035 & 67.45564 & -1.2811434 & 0.54376411\\\\\n",
       "\t3 - 2 &  110.25657 & 47.50304 &  2.3210425 & 0.08053461\\\\\n",
       "\t4 - 2 &   34.25448 & 79.82005 &  0.4291464 & 0.97008088\\\\\n",
       "\t4 - 3 &  -76.00208 & 66.60066 & -1.1411612 & 0.63569450\\\\\n",
       "\\end{tabular}\n"
      ],
      "text/markdown": [
       "\n",
       "A matrix: 6 × 4 of type dbl\n",
       "\n",
       "| <!--/--> | Estimate | Std. Error | z value | Pr(&gt;|z|) |\n",
       "|---|---|---|---|---|\n",
       "| 2 - 1 | -120.67484 | 48.69450 | -2.4782024 | 0.05406088 |\n",
       "| 3 - 1 |  -10.41827 | 20.87012 | -0.4991954 | 0.95413737 |\n",
       "| 4 - 1 |  -86.42035 | 67.45564 | -1.2811434 | 0.54376411 |\n",
       "| 3 - 2 |  110.25657 | 47.50304 |  2.3210425 | 0.08053461 |\n",
       "| 4 - 2 |   34.25448 | 79.82005 |  0.4291464 | 0.97008088 |\n",
       "| 4 - 3 |  -76.00208 | 66.60066 | -1.1411612 | 0.63569450 |\n",
       "\n"
      ],
      "text/plain": [
       "      Estimate   Std. Error z value    Pr(>|z|)  \n",
       "2 - 1 -120.67484 48.69450   -2.4782024 0.05406088\n",
       "3 - 1  -10.41827 20.87012   -0.4991954 0.95413737\n",
       "4 - 1  -86.42035 67.45564   -1.2811434 0.54376411\n",
       "3 - 2  110.25657 47.50304    2.3210425 0.08053461\n",
       "4 - 2   34.25448 79.82005    0.4291464 0.97008088\n",
       "4 - 3  -76.00208 66.60066   -1.1411612 0.63569450"
      ]
     },
     "metadata": {},
     "output_type": "display_data"
    }
   ],
   "source": [
    "d2 = long %>%\n",
    "filter (., ref_206 == \"yes\") %>%\n",
    "rownames_to_column (\"gene\")\n",
    "\n",
    "mrg2_25D2$cluster =  d2$cluster[match(mrg2_25D2$name, d2$gene)]\n",
    "mrg2_25D2$class =  d2$class[match(mrg2_25D2$name, d2$gene)] \n",
    "\n",
    "\n",
    "figS4_25D2_cluster <- drm(value ~ conc,\n",
    "                   curveid = cluster, \n",
    "                   data = mrg2_25D2,\n",
    "\n",
    "  fct = LL.3(\n",
    "))\n",
    "\n",
    "figS4_25D2_class <- drm(value ~ conc,\n",
    "                   curveid = class, \n",
    "                   data = mrg2_25D2,\n",
    "\n",
    "  fct = LL.3(\n",
    "))\n",
    "\n",
    "V25D2_cluster.EDres <- ED(figS4_25D2_cluster, c(50),\n",
    "interval = \"delta\",\n",
    "multcomp = TRUE, \n",
    "display = F)\n",
    "\n",
    "confint(glht(V25D2_cluster.EDres[[\"EDmultcomp\"]])) #multiplicity adjusted 95% confidence interval\n",
    "\n",
    "test_V25D2_cluster = glht.table(summary(glht(V25D2_cluster.EDres[[\"EDmultcomp\"]], \n",
    "             linfct = contrMat(1:4, \"Tukey\"))))\n",
    "test_V25D2_cluster\n",
    "#############################\n",
    "\n",
    "V25D2_class.EDres <- ED(figS4_25D2_class, c(50),\n",
    "interval = \"delta\",\n",
    "multcomp = TRUE, \n",
    "display = F)\n",
    "\n",
    "confint(glht(V25D2_class.EDres[[\"EDmultcomp\"]])) #multiplicity adjusted 95% confidence interval\n",
    "test_V25D2_class = glht.table(summary(glht(V25D2_class.EDres[[\"EDmultcomp\"]], \n",
    "             linfct = contrMat(1:4, \"Tukey\"))))\n",
    "test_V25D2_class"
   ]
  },
  {
   "cell_type": "code",
   "execution_count": 24,
   "id": "0b47e760-a936-41a6-945a-19a7ea25d727",
   "metadata": {},
   "outputs": [
    {
     "data": {
      "text/html": [
       "<table class=\"dataframe\">\n",
       "<caption>A data.frame: 6 × 4</caption>\n",
       "<thead>\n",
       "\t<tr><th></th><th scope=col>Estimate</th><th scope=col>Std. Error</th><th scope=col>z value</th><th scope=col>Pr(&gt;|z|)</th></tr>\n",
       "\t<tr><th></th><th scope=col>&lt;dbl&gt;</th><th scope=col>&lt;dbl&gt;</th><th scope=col>&lt;dbl&gt;</th><th scope=col>&lt;dbl&gt;</th></tr>\n",
       "</thead>\n",
       "<tbody>\n",
       "\t<tr><th scope=row>2 - 1</th><td> -92.68016</td><td>44.97417</td><td>-2.06074179</td><td>0.14284091</td></tr>\n",
       "\t<tr><th scope=row>3 - 1</th><td>  14.66431</td><td>19.93286</td><td> 0.73568527</td><td>0.86755249</td></tr>\n",
       "\t<tr><th scope=row>4 - 1</th><td> -91.23695</td><td>84.38680</td><td>-1.08117564</td><td>0.67076977</td></tr>\n",
       "\t<tr><th scope=row>3 - 2</th><td> 107.34447</td><td>44.72410</td><td> 2.40014809</td><td>0.06425032</td></tr>\n",
       "\t<tr><th scope=row>4 - 2</th><td>   1.44321</td><td>93.40267</td><td> 0.01545149</td><td>0.99999847</td></tr>\n",
       "\t<tr><th scope=row>4 - 3</th><td>-105.90126</td><td>84.25379</td><td>-1.25693177</td><td>0.55528719</td></tr>\n",
       "</tbody>\n",
       "</table>\n"
      ],
      "text/latex": [
       "A data.frame: 6 × 4\n",
       "\\begin{tabular}{r|llll}\n",
       "  & Estimate & Std. Error & z value & Pr(>\\textbar{}z\\textbar{})\\\\\n",
       "  & <dbl> & <dbl> & <dbl> & <dbl>\\\\\n",
       "\\hline\n",
       "\t2 - 1 &  -92.68016 & 44.97417 & -2.06074179 & 0.14284091\\\\\n",
       "\t3 - 1 &   14.66431 & 19.93286 &  0.73568527 & 0.86755249\\\\\n",
       "\t4 - 1 &  -91.23695 & 84.38680 & -1.08117564 & 0.67076977\\\\\n",
       "\t3 - 2 &  107.34447 & 44.72410 &  2.40014809 & 0.06425032\\\\\n",
       "\t4 - 2 &    1.44321 & 93.40267 &  0.01545149 & 0.99999847\\\\\n",
       "\t4 - 3 & -105.90126 & 84.25379 & -1.25693177 & 0.55528719\\\\\n",
       "\\end{tabular}\n"
      ],
      "text/markdown": [
       "\n",
       "A data.frame: 6 × 4\n",
       "\n",
       "| <!--/--> | Estimate &lt;dbl&gt; | Std. Error &lt;dbl&gt; | z value &lt;dbl&gt; | Pr(&gt;|z|) &lt;dbl&gt; |\n",
       "|---|---|---|---|---|\n",
       "| 2 - 1 |  -92.68016 | 44.97417 | -2.06074179 | 0.14284091 |\n",
       "| 3 - 1 |   14.66431 | 19.93286 |  0.73568527 | 0.86755249 |\n",
       "| 4 - 1 |  -91.23695 | 84.38680 | -1.08117564 | 0.67076977 |\n",
       "| 3 - 2 |  107.34447 | 44.72410 |  2.40014809 | 0.06425032 |\n",
       "| 4 - 2 |    1.44321 | 93.40267 |  0.01545149 | 0.99999847 |\n",
       "| 4 - 3 | -105.90126 | 84.25379 | -1.25693177 | 0.55528719 |\n",
       "\n"
      ],
      "text/plain": [
       "      Estimate   Std. Error z value     Pr(>|z|)  \n",
       "2 - 1  -92.68016 44.97417   -2.06074179 0.14284091\n",
       "3 - 1   14.66431 19.93286    0.73568527 0.86755249\n",
       "4 - 1  -91.23695 84.38680   -1.08117564 0.67076977\n",
       "3 - 2  107.34447 44.72410    2.40014809 0.06425032\n",
       "4 - 2    1.44321 93.40267    0.01545149 0.99999847\n",
       "4 - 3 -105.90126 84.25379   -1.25693177 0.55528719"
      ]
     },
     "metadata": {},
     "output_type": "display_data"
    },
    {
     "data": {
      "text/html": [
       "<table class=\"dataframe\">\n",
       "<caption>A data.frame: 6 × 4</caption>\n",
       "<thead>\n",
       "\t<tr><th></th><th scope=col>Estimate</th><th scope=col>Std. Error</th><th scope=col>z value</th><th scope=col>Pr(&gt;|z|)</th></tr>\n",
       "\t<tr><th></th><th scope=col>&lt;dbl&gt;</th><th scope=col>&lt;dbl&gt;</th><th scope=col>&lt;dbl&gt;</th><th scope=col>&lt;dbl&gt;</th></tr>\n",
       "</thead>\n",
       "<tbody>\n",
       "\t<tr><th scope=row>2 - 1</th><td>-120.67484</td><td>48.69450</td><td>-2.4782024</td><td>0.05406088</td></tr>\n",
       "\t<tr><th scope=row>3 - 1</th><td> -10.41827</td><td>20.87012</td><td>-0.4991954</td><td>0.95413737</td></tr>\n",
       "\t<tr><th scope=row>4 - 1</th><td> -86.42035</td><td>67.45564</td><td>-1.2811434</td><td>0.54376411</td></tr>\n",
       "\t<tr><th scope=row>3 - 2</th><td> 110.25657</td><td>47.50304</td><td> 2.3210425</td><td>0.08053461</td></tr>\n",
       "\t<tr><th scope=row>4 - 2</th><td>  34.25448</td><td>79.82005</td><td> 0.4291464</td><td>0.97008088</td></tr>\n",
       "\t<tr><th scope=row>4 - 3</th><td> -76.00208</td><td>66.60066</td><td>-1.1411612</td><td>0.63569450</td></tr>\n",
       "</tbody>\n",
       "</table>\n"
      ],
      "text/latex": [
       "A data.frame: 6 × 4\n",
       "\\begin{tabular}{r|llll}\n",
       "  & Estimate & Std. Error & z value & Pr(>\\textbar{}z\\textbar{})\\\\\n",
       "  & <dbl> & <dbl> & <dbl> & <dbl>\\\\\n",
       "\\hline\n",
       "\t2 - 1 & -120.67484 & 48.69450 & -2.4782024 & 0.05406088\\\\\n",
       "\t3 - 1 &  -10.41827 & 20.87012 & -0.4991954 & 0.95413737\\\\\n",
       "\t4 - 1 &  -86.42035 & 67.45564 & -1.2811434 & 0.54376411\\\\\n",
       "\t3 - 2 &  110.25657 & 47.50304 &  2.3210425 & 0.08053461\\\\\n",
       "\t4 - 2 &   34.25448 & 79.82005 &  0.4291464 & 0.97008088\\\\\n",
       "\t4 - 3 &  -76.00208 & 66.60066 & -1.1411612 & 0.63569450\\\\\n",
       "\\end{tabular}\n"
      ],
      "text/markdown": [
       "\n",
       "A data.frame: 6 × 4\n",
       "\n",
       "| <!--/--> | Estimate &lt;dbl&gt; | Std. Error &lt;dbl&gt; | z value &lt;dbl&gt; | Pr(&gt;|z|) &lt;dbl&gt; |\n",
       "|---|---|---|---|---|\n",
       "| 2 - 1 | -120.67484 | 48.69450 | -2.4782024 | 0.05406088 |\n",
       "| 3 - 1 |  -10.41827 | 20.87012 | -0.4991954 | 0.95413737 |\n",
       "| 4 - 1 |  -86.42035 | 67.45564 | -1.2811434 | 0.54376411 |\n",
       "| 3 - 2 |  110.25657 | 47.50304 |  2.3210425 | 0.08053461 |\n",
       "| 4 - 2 |   34.25448 | 79.82005 |  0.4291464 | 0.97008088 |\n",
       "| 4 - 3 |  -76.00208 | 66.60066 | -1.1411612 | 0.63569450 |\n",
       "\n"
      ],
      "text/plain": [
       "      Estimate   Std. Error z value    Pr(>|z|)  \n",
       "2 - 1 -120.67484 48.69450   -2.4782024 0.05406088\n",
       "3 - 1  -10.41827 20.87012   -0.4991954 0.95413737\n",
       "4 - 1  -86.42035 67.45564   -1.2811434 0.54376411\n",
       "3 - 2  110.25657 47.50304    2.3210425 0.08053461\n",
       "4 - 2   34.25448 79.82005    0.4291464 0.97008088\n",
       "4 - 3  -76.00208 66.60066   -1.1411612 0.63569450"
      ]
     },
     "metadata": {},
     "output_type": "display_data"
    }
   ],
   "source": [
    "test_V25D2_cluster = as.data.frame (test_V25D2_cluster)\n",
    "test_V25D2_cluster\n",
    "test_V25D2_class = as.data.frame (test_V25D2_class)\n",
    "test_V25D2_class"
   ]
  },
  {
   "cell_type": "code",
   "execution_count": 25,
   "id": "3ae6265f-a52d-4d7a-bcbf-c463831196e2",
   "metadata": {},
   "outputs": [],
   "source": [
    "write.xlsx (test_V25D2_cluster, \"./data/test_V25D2_cluster.xlsx\", rowNames = T)"
   ]
  },
  {
   "cell_type": "code",
   "execution_count": 26,
   "id": "f741ff23-357c-47c0-b06e-93e3bbb55d77",
   "metadata": {},
   "outputs": [
    {
     "data": {
      "text/plain": [
       "R version 4.1.2 (2021-11-01)\n",
       "Platform: x86_64-conda-linux-gnu (64-bit)\n",
       "Running under: Rocky Linux 8.5 (Green Obsidian)\n",
       "\n",
       "Matrix products: default\n",
       "BLAS/LAPACK: /research/users/andreha/miniconda3/envs/Mamba-14/lib/libopenblasp-r0.3.18.so\n",
       "\n",
       "locale:\n",
       " [1] LC_CTYPE=C.UTF-8           LC_NUMERIC=C              \n",
       " [3] LC_TIME=en_US.UTF-8        LC_COLLATE=en_US.UTF-8    \n",
       " [5] LC_MONETARY=en_US.UTF-8    LC_MESSAGES=en_US.UTF-8   \n",
       " [7] LC_PAPER=en_US.UTF-8       LC_NAME=C                 \n",
       " [9] LC_ADDRESS=C               LC_TELEPHONE=C            \n",
       "[11] LC_MEASUREMENT=en_US.UTF-8 LC_IDENTIFICATION=C       \n",
       "\n",
       "attached base packages:\n",
       "[1] stats     graphics  grDevices utils     datasets  methods   base     \n",
       "\n",
       "other attached packages:\n",
       " [1] sandwich_3.0-1  multcomp_1.4-18 TH.data_1.1-0   survival_3.2-13\n",
       " [5] mvtnorm_1.1-3   drc_3.0-1       MASS_7.3-54     reshape2_1.4.4 \n",
       " [9] openxlsx_4.2.5  forcats_0.5.1   stringr_1.4.0   dplyr_1.0.7    \n",
       "[13] purrr_0.3.4     readr_2.1.1     tidyr_1.1.4     tibble_3.1.6   \n",
       "[17] ggplot2_3.3.5   tidyverse_1.3.1\n",
       "\n",
       "loaded via a namespace (and not attached):\n",
       " [1] httr_1.4.2       splines_4.1.2    jsonlite_1.7.2   carData_3.0-5   \n",
       " [5] modelr_0.1.8     gtools_3.9.2     assertthat_0.2.1 cellranger_1.1.0\n",
       " [9] pillar_1.6.4     backports_1.4.1  lattice_0.20-45  glue_1.6.0      \n",
       "[13] uuid_1.0-3       digest_0.6.29    rvest_1.0.2      colorspace_2.0-2\n",
       "[17] Matrix_1.4-0     htmltools_0.5.2  plyr_1.8.6       pkgconfig_2.0.3 \n",
       "[21] broom_0.7.11     haven_2.4.3      scales_1.1.1     tzdb_0.2.0      \n",
       "[25] generics_0.1.1   car_3.0-12       ellipsis_0.3.2   withr_2.4.3     \n",
       "[29] repr_1.1.4       cli_3.1.0        magrittr_2.0.1   crayon_1.4.2    \n",
       "[33] readxl_1.3.1     evaluate_0.14    fs_1.5.2         fansi_0.4.2     \n",
       "[37] xml2_1.3.3       tools_4.1.2      hms_1.1.1        lifecycle_1.0.1 \n",
       "[41] munsell_0.5.0    reprex_2.0.1     plotrix_3.8-2    zip_2.2.0       \n",
       "[45] compiler_4.1.2   rlang_0.4.12     grid_4.1.2       pbdZMQ_0.3-6    \n",
       "[49] IRkernel_1.3     rstudioapi_0.13  base64enc_0.1-3  codetools_0.2-18\n",
       "[53] gtable_0.3.0     abind_1.4-5      DBI_1.1.2        R6_2.5.1        \n",
       "[57] zoo_1.8-9        lubridate_1.8.0  fastmap_1.1.0    utf8_1.2.2      \n",
       "[61] stringi_1.7.6    IRdisplay_1.1    Rcpp_1.0.7       vctrs_0.3.8     \n",
       "[65] dbplyr_2.1.1     tidyselect_1.1.1"
      ]
     },
     "metadata": {},
     "output_type": "display_data"
    }
   ],
   "source": [
    "sessionInfo()"
   ]
  },
  {
   "cell_type": "code",
   "execution_count": null,
   "id": "11262137-8b81-4eec-b4ce-f59959c8f584",
   "metadata": {},
   "outputs": [],
   "source": []
  }
 ],
 "metadata": {
  "kernelspec": {
   "display_name": "R",
   "language": "R",
   "name": "ir"
  },
  "language_info": {
   "codemirror_mode": "r",
   "file_extension": ".r",
   "mimetype": "text/x-r-source",
   "name": "R",
   "pygments_lexer": "r",
   "version": "4.1.2"
  }
 },
 "nbformat": 4,
 "nbformat_minor": 5
}
